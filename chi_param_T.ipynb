{
 "cells": [
  {
   "cell_type": "markdown",
   "metadata": {},
   "source": [
    "# Computing the Temperatures for the $\\chi$ Parameter Calculations\n",
    "\n",
    "July 5, 2021\n",
    "\n",
    "Chris Balzer needs the temperatures that correspond to each Bjerrum length to compute the phase behavior with an enthalpic $\\chi$ parameter of the form $-20/T$. Here, I calculate those temperatures."
   ]
  },
  {
   "cell_type": "code",
   "execution_count": 13,
   "metadata": {},
   "outputs": [],
   "source": [
    "import numpy as np\n",
    "import pandas as pd\n",
    "\n",
    "import pe\n",
    "\n",
    "sigma = 4.3E-10\n",
    "T_range = [273.15, 373.15]\n",
    "\n",
    "lB_arr = np.arange(1.62, 2.2, 0.002)\n",
    "lB_arr = np.round(1000*lB_arr)/1000\n",
    "T_arr = pe.lB_2_T_arr(lB_arr, T_range=T_range, sigma=sigma)"
   ]
  },
  {
   "cell_type": "code",
   "execution_count": 14,
   "metadata": {},
   "outputs": [],
   "source": [
    "df = pd.DataFrame({'BJ' : lB_arr, 'T [K]' : T_arr})\n",
    "df.to_csv('BJ_T_[K]_chi.csv', index=False)"
   ]
  },
  {
   "cell_type": "code",
   "execution_count": null,
   "metadata": {},
   "outputs": [],
   "source": []
  }
 ],
 "metadata": {
  "kernelspec": {
   "display_name": "Python 3",
   "language": "python",
   "name": "python3"
  },
  "language_info": {
   "codemirror_mode": {
    "name": "ipython",
    "version": 3
   },
   "file_extension": ".py",
   "mimetype": "text/x-python",
   "name": "python",
   "nbconvert_exporter": "python",
   "pygments_lexer": "ipython3",
   "version": "3.6.10"
  }
 },
 "nbformat": 4,
 "nbformat_minor": 4
}

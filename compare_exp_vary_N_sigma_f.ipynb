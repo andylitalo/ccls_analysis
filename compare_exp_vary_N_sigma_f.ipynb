{
 "cells": [
  {
   "cell_type": "markdown",
   "metadata": {},
   "source": [
    "# Compare Theory With Experiments: Vary N, $\\sigma$, and $f$\n",
    "\n",
    "While we observed semi-quantitative agreement between theory and experiment (Ali et al. 2019 and Ma et al. 2021, Prabhu group at NIST), this was only when $N = 100$ in the theory, even though the experimentally studied polymers had around 900 to 1300 monomers per chain.\n",
    "\n",
    "In this notebook, we plot the results of varying $N$, as well as $\\sigma$ (the bead diameter) and $f$ (the charge fraction). Spruijt et al. (2010) achieved quantitative agreement between VO theory and data by reducing the electrostatic correlations through a larger $\\sigma$ (about 0.8 nm, whereas we used 0.4 nm). Qin et al. 2014 also achieved quantitative agreement with experiments using VO theory, but by reducing the charge fraction $f$ to 0.24 (which they call $\\sigma$). We consider the ranges of $\\sigma \\in [0.3 nm, 0.9 nm]$ and $f \\in [0.8, 1]$ to see if these modifications might allow us to achieve quantitative agreement at a relevant value of $N$."
   ]
  },
  {
   "cell_type": "code",
   "execution_count": 1,
   "metadata": {},
   "outputs": [
    {
     "data": {
      "text/html": [
       "\n",
       "    <div class=\"bk-root\">\n",
       "        <a href=\"https://bokeh.org\" target=\"_blank\" class=\"bk-logo bk-logo-small bk-logo-notebook\"></a>\n",
       "        <span id=\"1001\">Loading BokehJS ...</span>\n",
       "    </div>"
      ]
     },
     "metadata": {},
     "output_type": "display_data"
    },
    {
     "data": {
      "application/javascript": [
       "\n",
       "(function(root) {\n",
       "  function now() {\n",
       "    return new Date();\n",
       "  }\n",
       "\n",
       "  var force = true;\n",
       "\n",
       "  if (typeof root._bokeh_onload_callbacks === \"undefined\" || force === true) {\n",
       "    root._bokeh_onload_callbacks = [];\n",
       "    root._bokeh_is_loading = undefined;\n",
       "  }\n",
       "\n",
       "  var JS_MIME_TYPE = 'application/javascript';\n",
       "  var HTML_MIME_TYPE = 'text/html';\n",
       "  var EXEC_MIME_TYPE = 'application/vnd.bokehjs_exec.v0+json';\n",
       "  var CLASS_NAME = 'output_bokeh rendered_html';\n",
       "\n",
       "  /**\n",
       "   * Render data to the DOM node\n",
       "   */\n",
       "  function render(props, node) {\n",
       "    var script = document.createElement(\"script\");\n",
       "    node.appendChild(script);\n",
       "  }\n",
       "\n",
       "  /**\n",
       "   * Handle when an output is cleared or removed\n",
       "   */\n",
       "  function handleClearOutput(event, handle) {\n",
       "    var cell = handle.cell;\n",
       "\n",
       "    var id = cell.output_area._bokeh_element_id;\n",
       "    var server_id = cell.output_area._bokeh_server_id;\n",
       "    // Clean up Bokeh references\n",
       "    if (id != null && id in Bokeh.index) {\n",
       "      Bokeh.index[id].model.document.clear();\n",
       "      delete Bokeh.index[id];\n",
       "    }\n",
       "\n",
       "    if (server_id !== undefined) {\n",
       "      // Clean up Bokeh references\n",
       "      var cmd = \"from bokeh.io.state import curstate; print(curstate().uuid_to_server['\" + server_id + \"'].get_sessions()[0].document.roots[0]._id)\";\n",
       "      cell.notebook.kernel.execute(cmd, {\n",
       "        iopub: {\n",
       "          output: function(msg) {\n",
       "            var id = msg.content.text.trim();\n",
       "            if (id in Bokeh.index) {\n",
       "              Bokeh.index[id].model.document.clear();\n",
       "              delete Bokeh.index[id];\n",
       "            }\n",
       "          }\n",
       "        }\n",
       "      });\n",
       "      // Destroy server and session\n",
       "      var cmd = \"import bokeh.io.notebook as ion; ion.destroy_server('\" + server_id + \"')\";\n",
       "      cell.notebook.kernel.execute(cmd);\n",
       "    }\n",
       "  }\n",
       "\n",
       "  /**\n",
       "   * Handle when a new output is added\n",
       "   */\n",
       "  function handleAddOutput(event, handle) {\n",
       "    var output_area = handle.output_area;\n",
       "    var output = handle.output;\n",
       "\n",
       "    // limit handleAddOutput to display_data with EXEC_MIME_TYPE content only\n",
       "    if ((output.output_type != \"display_data\") || (!output.data.hasOwnProperty(EXEC_MIME_TYPE))) {\n",
       "      return\n",
       "    }\n",
       "\n",
       "    var toinsert = output_area.element.find(\".\" + CLASS_NAME.split(' ')[0]);\n",
       "\n",
       "    if (output.metadata[EXEC_MIME_TYPE][\"id\"] !== undefined) {\n",
       "      toinsert[toinsert.length - 1].firstChild.textContent = output.data[JS_MIME_TYPE];\n",
       "      // store reference to embed id on output_area\n",
       "      output_area._bokeh_element_id = output.metadata[EXEC_MIME_TYPE][\"id\"];\n",
       "    }\n",
       "    if (output.metadata[EXEC_MIME_TYPE][\"server_id\"] !== undefined) {\n",
       "      var bk_div = document.createElement(\"div\");\n",
       "      bk_div.innerHTML = output.data[HTML_MIME_TYPE];\n",
       "      var script_attrs = bk_div.children[0].attributes;\n",
       "      for (var i = 0; i < script_attrs.length; i++) {\n",
       "        toinsert[toinsert.length - 1].firstChild.setAttribute(script_attrs[i].name, script_attrs[i].value);\n",
       "        toinsert[toinsert.length - 1].firstChild.textContent = bk_div.children[0].textContent\n",
       "      }\n",
       "      // store reference to server id on output_area\n",
       "      output_area._bokeh_server_id = output.metadata[EXEC_MIME_TYPE][\"server_id\"];\n",
       "    }\n",
       "  }\n",
       "\n",
       "  function register_renderer(events, OutputArea) {\n",
       "\n",
       "    function append_mime(data, metadata, element) {\n",
       "      // create a DOM node to render to\n",
       "      var toinsert = this.create_output_subarea(\n",
       "        metadata,\n",
       "        CLASS_NAME,\n",
       "        EXEC_MIME_TYPE\n",
       "      );\n",
       "      this.keyboard_manager.register_events(toinsert);\n",
       "      // Render to node\n",
       "      var props = {data: data, metadata: metadata[EXEC_MIME_TYPE]};\n",
       "      render(props, toinsert[toinsert.length - 1]);\n",
       "      element.append(toinsert);\n",
       "      return toinsert\n",
       "    }\n",
       "\n",
       "    /* Handle when an output is cleared or removed */\n",
       "    events.on('clear_output.CodeCell', handleClearOutput);\n",
       "    events.on('delete.Cell', handleClearOutput);\n",
       "\n",
       "    /* Handle when a new output is added */\n",
       "    events.on('output_added.OutputArea', handleAddOutput);\n",
       "\n",
       "    /**\n",
       "     * Register the mime type and append_mime function with output_area\n",
       "     */\n",
       "    OutputArea.prototype.register_mime_type(EXEC_MIME_TYPE, append_mime, {\n",
       "      /* Is output safe? */\n",
       "      safe: true,\n",
       "      /* Index of renderer in `output_area.display_order` */\n",
       "      index: 0\n",
       "    });\n",
       "  }\n",
       "\n",
       "  // register the mime type if in Jupyter Notebook environment and previously unregistered\n",
       "  if (root.Jupyter !== undefined) {\n",
       "    var events = require('base/js/events');\n",
       "    var OutputArea = require('notebook/js/outputarea').OutputArea;\n",
       "\n",
       "    if (OutputArea.prototype.mime_types().indexOf(EXEC_MIME_TYPE) == -1) {\n",
       "      register_renderer(events, OutputArea);\n",
       "    }\n",
       "  }\n",
       "\n",
       "  \n",
       "  if (typeof (root._bokeh_timeout) === \"undefined\" || force === true) {\n",
       "    root._bokeh_timeout = Date.now() + 5000;\n",
       "    root._bokeh_failed_load = false;\n",
       "  }\n",
       "\n",
       "  var NB_LOAD_WARNING = {'data': {'text/html':\n",
       "     \"<div style='background-color: #fdd'>\\n\"+\n",
       "     \"<p>\\n\"+\n",
       "     \"BokehJS does not appear to have successfully loaded. If loading BokehJS from CDN, this \\n\"+\n",
       "     \"may be due to a slow or bad network connection. Possible fixes:\\n\"+\n",
       "     \"</p>\\n\"+\n",
       "     \"<ul>\\n\"+\n",
       "     \"<li>re-rerun `output_notebook()` to attempt to load from CDN again, or</li>\\n\"+\n",
       "     \"<li>use INLINE resources instead, as so:</li>\\n\"+\n",
       "     \"</ul>\\n\"+\n",
       "     \"<code>\\n\"+\n",
       "     \"from bokeh.resources import INLINE\\n\"+\n",
       "     \"output_notebook(resources=INLINE)\\n\"+\n",
       "     \"</code>\\n\"+\n",
       "     \"</div>\"}};\n",
       "\n",
       "  function display_loaded() {\n",
       "    var el = document.getElementById(\"1001\");\n",
       "    if (el != null) {\n",
       "      el.textContent = \"BokehJS is loading...\";\n",
       "    }\n",
       "    if (root.Bokeh !== undefined) {\n",
       "      if (el != null) {\n",
       "        el.textContent = \"BokehJS \" + root.Bokeh.version + \" successfully loaded.\";\n",
       "      }\n",
       "    } else if (Date.now() < root._bokeh_timeout) {\n",
       "      setTimeout(display_loaded, 100)\n",
       "    }\n",
       "  }\n",
       "\n",
       "\n",
       "  function run_callbacks() {\n",
       "    try {\n",
       "      root._bokeh_onload_callbacks.forEach(function(callback) {\n",
       "        if (callback != null)\n",
       "          callback();\n",
       "      });\n",
       "    } finally {\n",
       "      delete root._bokeh_onload_callbacks\n",
       "    }\n",
       "    console.debug(\"Bokeh: all callbacks have finished\");\n",
       "  }\n",
       "\n",
       "  function load_libs(css_urls, js_urls, callback) {\n",
       "    if (css_urls == null) css_urls = [];\n",
       "    if (js_urls == null) js_urls = [];\n",
       "\n",
       "    root._bokeh_onload_callbacks.push(callback);\n",
       "    if (root._bokeh_is_loading > 0) {\n",
       "      console.debug(\"Bokeh: BokehJS is being loaded, scheduling callback at\", now());\n",
       "      return null;\n",
       "    }\n",
       "    if (js_urls == null || js_urls.length === 0) {\n",
       "      run_callbacks();\n",
       "      return null;\n",
       "    }\n",
       "    console.debug(\"Bokeh: BokehJS not loaded, scheduling load and callback at\", now());\n",
       "    root._bokeh_is_loading = css_urls.length + js_urls.length;\n",
       "\n",
       "    function on_load() {\n",
       "      root._bokeh_is_loading--;\n",
       "      if (root._bokeh_is_loading === 0) {\n",
       "        console.debug(\"Bokeh: all BokehJS libraries/stylesheets loaded\");\n",
       "        run_callbacks()\n",
       "      }\n",
       "    }\n",
       "\n",
       "    function on_error() {\n",
       "      console.error(\"failed to load \" + url);\n",
       "    }\n",
       "\n",
       "    for (var i = 0; i < css_urls.length; i++) {\n",
       "      var url = css_urls[i];\n",
       "      const element = document.createElement(\"link\");\n",
       "      element.onload = on_load;\n",
       "      element.onerror = on_error;\n",
       "      element.rel = \"stylesheet\";\n",
       "      element.type = \"text/css\";\n",
       "      element.href = url;\n",
       "      console.debug(\"Bokeh: injecting link tag for BokehJS stylesheet: \", url);\n",
       "      document.body.appendChild(element);\n",
       "    }\n",
       "\n",
       "    const hashes = {\"https://cdn.bokeh.org/bokeh/release/bokeh-2.0.1.min.js\": \"JpP8FXbgAZLkfur7LiK3j9AGBhHNIvF742meBJrjO2ShJDhCG2I1uVvW+0DUtrmc\", \"https://cdn.bokeh.org/bokeh/release/bokeh-widgets-2.0.1.min.js\": \"xZlADit0Q04ISQEdKg2k3L4W9AwQBAuDs9nJL9fM/WwzL1tEU9VPNezOFX0nLEAz\", \"https://cdn.bokeh.org/bokeh/release/bokeh-tables-2.0.1.min.js\": \"4BuPRZkdMKSnj3zoxiNrQ86XgNw0rYmBOxe7nshquXwwcauupgBF2DHLVG1WuZlV\", \"https://cdn.bokeh.org/bokeh/release/bokeh-gl-2.0.1.min.js\": \"Dv1SQ87hmDqK6S5OhBf0bCuwAEvL5QYL0PuR/F1SPVhCS/r/abjkbpKDYL2zeM19\"};\n",
       "\n",
       "    for (var i = 0; i < js_urls.length; i++) {\n",
       "      var url = js_urls[i];\n",
       "      var element = document.createElement('script');\n",
       "      element.onload = on_load;\n",
       "      element.onerror = on_error;\n",
       "      element.async = false;\n",
       "      element.src = url;\n",
       "      if (url in hashes) {\n",
       "        element.crossOrigin = \"anonymous\";\n",
       "        element.integrity = \"sha384-\" + hashes[url];\n",
       "      }\n",
       "      console.debug(\"Bokeh: injecting script tag for BokehJS library: \", url);\n",
       "      document.head.appendChild(element);\n",
       "    }\n",
       "  };var element = document.getElementById(\"1001\");\n",
       "  if (element == null) {\n",
       "    console.error(\"Bokeh: ERROR: autoload.js configured with elementid '1001' but no matching script tag was found. \")\n",
       "    return false;\n",
       "  }\n",
       "\n",
       "  function inject_raw_css(css) {\n",
       "    const element = document.createElement(\"style\");\n",
       "    element.appendChild(document.createTextNode(css));\n",
       "    document.body.appendChild(element);\n",
       "  }\n",
       "\n",
       "  \n",
       "  var js_urls = [\"https://cdn.bokeh.org/bokeh/release/bokeh-2.0.1.min.js\", \"https://cdn.bokeh.org/bokeh/release/bokeh-widgets-2.0.1.min.js\", \"https://cdn.bokeh.org/bokeh/release/bokeh-tables-2.0.1.min.js\", \"https://cdn.bokeh.org/bokeh/release/bokeh-gl-2.0.1.min.js\"];\n",
       "  var css_urls = [];\n",
       "  \n",
       "\n",
       "  var inline_js = [\n",
       "    function(Bokeh) {\n",
       "      Bokeh.set_log_level(\"info\");\n",
       "    },\n",
       "    function(Bokeh) {\n",
       "    \n",
       "    \n",
       "    }\n",
       "  ];\n",
       "\n",
       "  function run_inline_js() {\n",
       "    \n",
       "    if (root.Bokeh !== undefined || force === true) {\n",
       "      \n",
       "    for (var i = 0; i < inline_js.length; i++) {\n",
       "      inline_js[i].call(root, root.Bokeh);\n",
       "    }\n",
       "    if (force === true) {\n",
       "        display_loaded();\n",
       "      }} else if (Date.now() < root._bokeh_timeout) {\n",
       "      setTimeout(run_inline_js, 100);\n",
       "    } else if (!root._bokeh_failed_load) {\n",
       "      console.log(\"Bokeh: BokehJS failed to load within specified timeout.\");\n",
       "      root._bokeh_failed_load = true;\n",
       "    } else if (force !== true) {\n",
       "      var cell = $(document.getElementById(\"1001\")).parents('.cell').data().cell;\n",
       "      cell.output_area.append_execute_result(NB_LOAD_WARNING)\n",
       "    }\n",
       "\n",
       "  }\n",
       "\n",
       "  if (root._bokeh_is_loading === 0) {\n",
       "    console.debug(\"Bokeh: BokehJS loaded, going straight to plotting\");\n",
       "    run_inline_js();\n",
       "  } else {\n",
       "    load_libs(css_urls, js_urls, function() {\n",
       "      console.debug(\"Bokeh: BokehJS plotting callback run at\", now());\n",
       "      run_inline_js();\n",
       "    });\n",
       "  }\n",
       "}(window));"
      ],
      "application/vnd.bokehjs_load.v0+json": "\n(function(root) {\n  function now() {\n    return new Date();\n  }\n\n  var force = true;\n\n  if (typeof root._bokeh_onload_callbacks === \"undefined\" || force === true) {\n    root._bokeh_onload_callbacks = [];\n    root._bokeh_is_loading = undefined;\n  }\n\n  \n\n  \n  if (typeof (root._bokeh_timeout) === \"undefined\" || force === true) {\n    root._bokeh_timeout = Date.now() + 5000;\n    root._bokeh_failed_load = false;\n  }\n\n  var NB_LOAD_WARNING = {'data': {'text/html':\n     \"<div style='background-color: #fdd'>\\n\"+\n     \"<p>\\n\"+\n     \"BokehJS does not appear to have successfully loaded. If loading BokehJS from CDN, this \\n\"+\n     \"may be due to a slow or bad network connection. Possible fixes:\\n\"+\n     \"</p>\\n\"+\n     \"<ul>\\n\"+\n     \"<li>re-rerun `output_notebook()` to attempt to load from CDN again, or</li>\\n\"+\n     \"<li>use INLINE resources instead, as so:</li>\\n\"+\n     \"</ul>\\n\"+\n     \"<code>\\n\"+\n     \"from bokeh.resources import INLINE\\n\"+\n     \"output_notebook(resources=INLINE)\\n\"+\n     \"</code>\\n\"+\n     \"</div>\"}};\n\n  function display_loaded() {\n    var el = document.getElementById(\"1001\");\n    if (el != null) {\n      el.textContent = \"BokehJS is loading...\";\n    }\n    if (root.Bokeh !== undefined) {\n      if (el != null) {\n        el.textContent = \"BokehJS \" + root.Bokeh.version + \" successfully loaded.\";\n      }\n    } else if (Date.now() < root._bokeh_timeout) {\n      setTimeout(display_loaded, 100)\n    }\n  }\n\n\n  function run_callbacks() {\n    try {\n      root._bokeh_onload_callbacks.forEach(function(callback) {\n        if (callback != null)\n          callback();\n      });\n    } finally {\n      delete root._bokeh_onload_callbacks\n    }\n    console.debug(\"Bokeh: all callbacks have finished\");\n  }\n\n  function load_libs(css_urls, js_urls, callback) {\n    if (css_urls == null) css_urls = [];\n    if (js_urls == null) js_urls = [];\n\n    root._bokeh_onload_callbacks.push(callback);\n    if (root._bokeh_is_loading > 0) {\n      console.debug(\"Bokeh: BokehJS is being loaded, scheduling callback at\", now());\n      return null;\n    }\n    if (js_urls == null || js_urls.length === 0) {\n      run_callbacks();\n      return null;\n    }\n    console.debug(\"Bokeh: BokehJS not loaded, scheduling load and callback at\", now());\n    root._bokeh_is_loading = css_urls.length + js_urls.length;\n\n    function on_load() {\n      root._bokeh_is_loading--;\n      if (root._bokeh_is_loading === 0) {\n        console.debug(\"Bokeh: all BokehJS libraries/stylesheets loaded\");\n        run_callbacks()\n      }\n    }\n\n    function on_error() {\n      console.error(\"failed to load \" + url);\n    }\n\n    for (var i = 0; i < css_urls.length; i++) {\n      var url = css_urls[i];\n      const element = document.createElement(\"link\");\n      element.onload = on_load;\n      element.onerror = on_error;\n      element.rel = \"stylesheet\";\n      element.type = \"text/css\";\n      element.href = url;\n      console.debug(\"Bokeh: injecting link tag for BokehJS stylesheet: \", url);\n      document.body.appendChild(element);\n    }\n\n    const hashes = {\"https://cdn.bokeh.org/bokeh/release/bokeh-2.0.1.min.js\": \"JpP8FXbgAZLkfur7LiK3j9AGBhHNIvF742meBJrjO2ShJDhCG2I1uVvW+0DUtrmc\", \"https://cdn.bokeh.org/bokeh/release/bokeh-widgets-2.0.1.min.js\": \"xZlADit0Q04ISQEdKg2k3L4W9AwQBAuDs9nJL9fM/WwzL1tEU9VPNezOFX0nLEAz\", \"https://cdn.bokeh.org/bokeh/release/bokeh-tables-2.0.1.min.js\": \"4BuPRZkdMKSnj3zoxiNrQ86XgNw0rYmBOxe7nshquXwwcauupgBF2DHLVG1WuZlV\", \"https://cdn.bokeh.org/bokeh/release/bokeh-gl-2.0.1.min.js\": \"Dv1SQ87hmDqK6S5OhBf0bCuwAEvL5QYL0PuR/F1SPVhCS/r/abjkbpKDYL2zeM19\"};\n\n    for (var i = 0; i < js_urls.length; i++) {\n      var url = js_urls[i];\n      var element = document.createElement('script');\n      element.onload = on_load;\n      element.onerror = on_error;\n      element.async = false;\n      element.src = url;\n      if (url in hashes) {\n        element.crossOrigin = \"anonymous\";\n        element.integrity = \"sha384-\" + hashes[url];\n      }\n      console.debug(\"Bokeh: injecting script tag for BokehJS library: \", url);\n      document.head.appendChild(element);\n    }\n  };var element = document.getElementById(\"1001\");\n  if (element == null) {\n    console.error(\"Bokeh: ERROR: autoload.js configured with elementid '1001' but no matching script tag was found. \")\n    return false;\n  }\n\n  function inject_raw_css(css) {\n    const element = document.createElement(\"style\");\n    element.appendChild(document.createTextNode(css));\n    document.body.appendChild(element);\n  }\n\n  \n  var js_urls = [\"https://cdn.bokeh.org/bokeh/release/bokeh-2.0.1.min.js\", \"https://cdn.bokeh.org/bokeh/release/bokeh-widgets-2.0.1.min.js\", \"https://cdn.bokeh.org/bokeh/release/bokeh-tables-2.0.1.min.js\", \"https://cdn.bokeh.org/bokeh/release/bokeh-gl-2.0.1.min.js\"];\n  var css_urls = [];\n  \n\n  var inline_js = [\n    function(Bokeh) {\n      Bokeh.set_log_level(\"info\");\n    },\n    function(Bokeh) {\n    \n    \n    }\n  ];\n\n  function run_inline_js() {\n    \n    if (root.Bokeh !== undefined || force === true) {\n      \n    for (var i = 0; i < inline_js.length; i++) {\n      inline_js[i].call(root, root.Bokeh);\n    }\n    if (force === true) {\n        display_loaded();\n      }} else if (Date.now() < root._bokeh_timeout) {\n      setTimeout(run_inline_js, 100);\n    } else if (!root._bokeh_failed_load) {\n      console.log(\"Bokeh: BokehJS failed to load within specified timeout.\");\n      root._bokeh_failed_load = true;\n    } else if (force !== true) {\n      var cell = $(document.getElementById(\"1001\")).parents('.cell').data().cell;\n      cell.output_area.append_execute_result(NB_LOAD_WARNING)\n    }\n\n  }\n\n  if (root._bokeh_is_loading === 0) {\n    console.debug(\"Bokeh: BokehJS loaded, going straight to plotting\");\n    run_inline_js();\n  } else {\n    load_libs(css_urls, js_urls, function() {\n      console.debug(\"Bokeh: BokehJS plotting callback run at\", now());\n      run_inline_js();\n    });\n  }\n}(window));"
     },
     "metadata": {},
     "output_type": "display_data"
    }
   ],
   "source": [
    "%load_ext autoreload\n",
    "%autoreload 2\n",
    "\n",
    "import numpy as np\n",
    "import glob\n",
    "import pandas as pd\n",
    "import matplotlib.pyplot as plt\n",
    "\n",
    "import salt\n",
    "import pe\n",
    "import plot\n",
    "\n",
    "import plotly.graph_objects as go\n",
    "import plotly.express as px\n",
    "import plotly.io as pio\n",
    "\n",
    "from bokeh.io import output_notebook\n",
    "from bokeh.plotting import show\n",
    "\n",
    "from importlib import reload\n",
    "reload(salt)\n",
    "reload(pe)\n",
    "\n",
    "output_notebook()\n",
    "\n",
    "\n",
    "# USER PARAMETERS\n",
    "save_folder = '../PAPERS/ccls/figs/'\n",
    "Z = 1 # charge per monomer (same for polyanion and polycation)\n",
    "# range of temperatures considered (liquid water) [K]\n",
    "T_range = [273, 373]\n",
    "# list of salt [KBr] concentrations [mol/L]\n",
    "rho_s_list = [1.75, 2.0, 2.05]\n",
    "# list of polyanion [PSS] concentrations [mol/L]\n",
    "rho_p_list = [0.15, 0.3]\n",
    "# accurate choice for sigma based on Bjerrum length of water (see Zhang et al. 2016)\n",
    "sigma = 4E-10 # [m]\n",
    "# degree of polymerization\n",
    "N = 100\n",
    "# Avogadro's number [molecules/mol]\n",
    "NA = 6.022E23\n",
    "# conversion of meters^3 to L\n",
    "m3_2_L = 1E3\n",
    "# conversion of meters to Angstroms [A]\n",
    "m_2_A = 1E10\n",
    "# conversion from beads/sigma^3 to mol/L (M)\n",
    "beads_2_M = (NA * sigma**3 * m3_2_L)**(-1)\n",
    "# conversion from volume fraction to mol/L (M)\n",
    "phi_2_M = 6/np.pi**beads_2_M"
   ]
  },
  {
   "cell_type": "markdown",
   "metadata": {},
   "source": [
    "## Original Comparison with Experiments (N = 100)\n",
    "\n",
    "Below, we show the results from using $N = 100$, $\\sigma = 0.4$ nm, and $f = 1$."
   ]
  },
  {
   "cell_type": "code",
   "execution_count": 13,
   "metadata": {
    "scrolled": true,
    "tags": []
   },
   "outputs": [
    {
     "name": "stdout",
     "output_type": "stream",
     "text": [
      "Could not walk through files in salt/no_vdw\\NA(100)NB(100)lB(2.073)\n",
      "Loading data for lB = 1.785 failed.\n",
      "Loading data for lB = 1.785 failed.\n",
      "Loading data for lB = 2.073 failed.\n",
      "Loading data for lB = 3.150 failed.\n",
      "Loading data for lB = 3.200 failed.\n",
      "Loading data for lB = 3.250 failed.\n"
     ]
    }
   ],
   "source": [
    "# specifies parameters\n",
    "data_folder = 'salt/no_vdw/'\n",
    "N = 100\n",
    "f = None\n",
    "sigma = 4 # A\n",
    "\n",
    "# loads data\n",
    "naming_structure = pe.get_naming_structure(N, '*', f=f)\n",
    "data = salt.load_data(data_folder, naming_structure=naming_structure)"
   ]
  },
  {
   "cell_type": "code",
   "execution_count": 14,
   "metadata": {
    "scrolled": true
   },
   "outputs": [
    {
     "data": {
      "text/html": [
       "\n",
       "\n",
       "\n",
       "\n",
       "\n",
       "\n",
       "  <div class=\"bk-root\" id=\"ed14659f-b7cd-4fd0-a28a-cf0eecd4f3ac\" data-root-id=\"3912\"></div>\n"
      ]
     },
     "metadata": {},
     "output_type": "display_data"
    },
    {
     "data": {
      "application/javascript": [
       "(function(root) {\n",
       "  function embed_document(root) {\n",
       "    \n",
       "  var docs_json = {\"f4ec50bc-272b-45aa-a86d-8af73ba958dc\":{\"roots\":{\"references\":[{\"attributes\":{\"below\":[{\"id\":\"3921\"}],\"center\":[{\"id\":\"3924\"},{\"id\":\"3928\"},{\"id\":\"3956\"}],\"left\":[{\"id\":\"3925\"}],\"plot_height\":500,\"plot_width\":500,\"renderers\":[{\"id\":\"3947\"},{\"id\":\"3961\"}],\"title\":{\"id\":\"3950\"},\"toolbar\":{\"id\":\"3936\"},\"x_range\":{\"id\":\"3977\"},\"x_scale\":{\"id\":\"3917\"},\"y_range\":{\"id\":\"3978\"},\"y_scale\":{\"id\":\"3919\"}},\"id\":\"3912\",\"subtype\":\"Figure\",\"type\":\"Plot\"},{\"attributes\":{\"end\":1.3,\"start\":-0.05},\"id\":\"3977\",\"type\":\"Range1d\"},{\"attributes\":{},\"id\":\"3919\",\"type\":\"LinearScale\"},{\"attributes\":{\"axis_label\":\"Temperature [$^{\\\\circ}$C]\",\"axis_label_text_font_size\":\"18pt\",\"formatter\":{\"id\":\"3951\"},\"major_label_text_font_size\":\"14pt\",\"ticker\":{\"id\":\"3926\"}},\"id\":\"3925\",\"type\":\"LinearAxis\"},{\"attributes\":{\"callback\":null,\"tooltips\":[[\"Temperature [$^{\\\\circ}$C]\",\"@T\"],[\"polyanion density (I)\",\"@rhoPCI\"],[\"polyanion density (II)\",\"@rhoPCII\"]]},\"id\":\"3975\",\"type\":\"HoverTool\"},{\"attributes\":{},\"id\":\"3922\",\"type\":\"BasicTicker\"},{\"attributes\":{\"label\":{\"value\":\"coacervate\"},\"renderers\":[{\"id\":\"3961\"}]},\"id\":\"3972\",\"type\":\"LegendItem\"},{\"attributes\":{},\"id\":\"3971\",\"type\":\"Selection\"},{\"attributes\":{\"data_source\":{\"id\":\"3943\"},\"glyph\":{\"id\":\"3945\"},\"hover_glyph\":null,\"muted_glyph\":null,\"nonselection_glyph\":{\"id\":\"3946\"},\"selection_glyph\":null,\"view\":{\"id\":\"3948\"}},\"id\":\"3947\",\"type\":\"GlyphRenderer\"},{\"attributes\":{\"end\":60},\"id\":\"3978\",\"type\":\"Range1d\"},{\"attributes\":{\"data_source\":{\"id\":\"3943\"},\"glyph\":{\"id\":\"3959\"},\"hover_glyph\":null,\"muted_glyph\":null,\"nonselection_glyph\":{\"id\":\"3960\"},\"selection_glyph\":null,\"view\":{\"id\":\"3962\"}},\"id\":\"3961\",\"type\":\"GlyphRenderer\"},{\"attributes\":{\"line_alpha\":0.1,\"line_color\":\"blue\",\"line_width\":6,\"x\":{\"field\":\"rhoPCI\"},\"y\":{\"field\":\"T\"}},\"id\":\"3946\",\"type\":\"Line\"},{\"attributes\":{\"line_color\":\"blue\",\"line_width\":6,\"x\":{\"field\":\"rhoPCI\"},\"y\":{\"field\":\"T\"}},\"id\":\"3945\",\"type\":\"Line\"},{\"attributes\":{},\"id\":\"3970\",\"type\":\"UnionRenderers\"},{\"attributes\":{\"bottom_units\":\"screen\",\"fill_alpha\":0.5,\"fill_color\":\"lightgrey\",\"left_units\":\"screen\",\"level\":\"overlay\",\"line_alpha\":1.0,\"line_color\":\"black\",\"line_dash\":[4,4],\"line_width\":2,\"render_mode\":\"css\",\"right_units\":\"screen\",\"top_units\":\"screen\"},\"id\":\"3935\",\"type\":\"BoxAnnotation\"},{\"attributes\":{\"axis_label\":\"polyanion density [mol/L]\",\"axis_label_text_font_size\":\"18pt\",\"formatter\":{\"id\":\"3953\"},\"major_label_text_font_size\":\"14pt\",\"ticker\":{\"id\":\"3922\"}},\"id\":\"3921\",\"type\":\"LinearAxis\"},{\"attributes\":{\"line_color\":\"red\",\"line_width\":6,\"x\":{\"field\":\"rhoPCII\"},\"y\":{\"field\":\"T\"}},\"id\":\"3959\",\"type\":\"Line\"},{\"attributes\":{\"axis\":{\"id\":\"3921\"},\"ticker\":null},\"id\":\"3924\",\"type\":\"Grid\"},{\"attributes\":{},\"id\":\"3926\",\"type\":\"BasicTicker\"},{\"attributes\":{},\"id\":\"3930\",\"type\":\"WheelZoomTool\"},{\"attributes\":{\"line_alpha\":0.1,\"line_color\":\"red\",\"line_width\":6,\"x\":{\"field\":\"rhoPCII\"},\"y\":{\"field\":\"T\"}},\"id\":\"3960\",\"type\":\"Line\"},{\"attributes\":{\"source\":{\"id\":\"3943\"}},\"id\":\"3962\",\"type\":\"CDSView\"},{\"attributes\":{\"overlay\":{\"id\":\"3935\"}},\"id\":\"3931\",\"type\":\"BoxZoomTool\"},{\"attributes\":{},\"id\":\"3917\",\"type\":\"LinearScale\"},{\"attributes\":{\"data\":{\"BJ\":{\"__ndarray__\":\"AAAAAAAA/D8/NV66SQz8P39qvHSTGPw/KVyPwvUo/D9oke18PzX8P6jGSzeJQfw/UrgehetR/D+R7Xw/NV78P9Ei2/l+avw/exSuR+F6/D+6SQwCK4f8P4/C9Shcj/w/+n5qvHST/D+kcD0K16P8P+Olm8QgsPw/I9v5fmq8/D/NzMzMzMz8PwwCK4cW2fw/TDeJQWDl/D/2KFyPwvX8PzVeukkMAv0/dZMYBFYO/T8fhetRuB79P166SQwCK/0/nu+nxks3/T9I4XoUrkf9P4cW2c73U/0/x0s3iUFg/T9xPQrXo3D9P7ByaJHtfP0/8KfGSzeJ/T+amZmZmZn9P9nO91Pjpf0/GQRWDi2y/T/D9Shcj8L9PwIrhxbZzv0/QmDl0CLb/T/sUbgehev9PyuHFtnO9/0/arx0kxgE/j8UrkfhehT+P1TjpZvEIP4/kxgEVg4t/j89CtejcD3+P30/NV66Sf4/vHSTGARW/j9mZmZmZmb+P6abxCCwcv4/5dAi2/l+/j+PwvUoXI/+P8/3U+Olm/4/Di2yne+n/j+4HoXrUbj+P/hT46WbxP4/N4lBYOXQ/j/hehSuR+H+PyGwcmiR7f4/YOXQItv5/j8K16NwPQr/P0oMAiuHFv8/iUFg5dAi/z8zMzMzMzP/P3Noke18P/8/sp3vp8ZL/z9cj8L1KFz/P5zEILByaP8/2/l+arx0/z8=\",\"dtype\":\"float64\",\"shape\":[67]},\"T\":{\"__ndarray__\":\"ALAElp3ACkDAS18KFwgUQEAc1d8iVRpA4MNUcOAhIUDgER6xcPQjQMCdGC/QqSZAIF16OhMeKkDgHAewS5osQIDVFCCwAS9AsFoQ0mUMMUCwY6OU/SoyQCBCPlSd5TJAMIJS2KhBM0AwQ3wr2Kk0QPCIE3cUsDVAgNX1OwSwNkDw24VVHvw3QFBIXZrF7jhAgDwqpkHcOUCgfFLLVBE7QAAITSbH8ztA0Js1OeHRPEBwKX6xm/M9QLDRBCVXyD5A4Bw70lmZP0C4gH+yQVVAQKAL/5y3uUBAeMv6N48cQUBYv7xb8J1BQCgDA6g9/UFA+KbNHB5bQkBYIn8QKNZCQEhhliPmMENAcJg7kl+KQ0BoXHxoxf9DQFhl8J9xVkRA+G6IaPqrRECgnvkDUBxFQGC6mHJSb0VAaKQ2RU3BRUDoh1qEDi1GQFhtt7q+fEZASNzY7X7LRkBQ8gbYFDNHQCi9i1+9f0dAwLacHYrLR0Dgk+60Ti9IQKg1SqYveUhAMF33TUbCSEAQH1JvhyJJQIjvMWjYaUlAkNqHW26wSUAoUDDybw1KQIhij5dhUkpAGEwyoqWWSkBoqPJdo/BKQPBH7IlgM0tA6P4b+nt1S0CIFo6oqsxLQCC5R1lZDUxAsL8h33BNTEBgcSJ//6FMQJhQJpbB4ExAIM8N9/UeTUAIpOiWDnFNQPAzDHQCrk1ASANUHHHqTUA=\",\"dtype\":\"float64\",\"shape\":[67]},\"index\":[0,1,2,3,4,5,6,7,8,9,10,11,12,13,14,15,16,17,18,19,20,21,22,23,24,25,26,27,28,29,30,31,32,33,34,35,36,37,38,39,40,41,42,43,44,45,46,47,48,49,50,51,52,53,54,55,56,57,58,59,60,61,62,63,64,65,66],\"rhoPCI\":{\"__ndarray__\":\"wBi0rDockj+mBt5fTsKRP0X/dYUMapE/Pnzs0+j2kD9ogibzaqKQP95eoU59T5A/cy3eipnGjz9mGuSatDaPP+XK4maamo4/p8VIbfLOjT8zKjD+fjmNPw00BYBm14w/b1Jg786mjD8fNf9ob+eLP6hy0LL/Wos/8Gn/nj3eij+/fn1lHiqKPyclGcLwpYk/TiOpbzUkiT/R2KRO9nqIP8cf8JKnCog/9LWiJI+Qhz+BzU52R/GGP93MNt1mfIY/v0BfYL4Uhj9NIpwR236FP7gs5dvfEIU/AGPaAWOvhD+xJaccWiKEPw9uoCPfuoM/6K0jrjJfgz+B7FWpgtqCP40Oy+soeYI/4aaYLfcigj8b+IhNJqaBP2BJckePU4E/7SUl8Yz5gD8fDVq3KISAP4iD9feGNoA/YaDddcPDfz+j+C26Tfd+P4oMQJ8SVX4/57nZzOa1fT9kujEqwPV8P1NnqlQ9XXw/2vfiQ4TWez8q7OqOpiF7P7grKZcNkno/W+rNGi8Fej/bgd8hSFt5P0N43kDk4Xg/xr3BLUtdeD/JJyuqcL13P8jX3n1zPnc/LxD3TnjOdj8EPau+zit2P1HDYxafwHU/intus29LdT+1i6C1S750P7pEHoiFWXQ/5C/ioEzrcz+Ha0hkm2ZzP5smTufiB3M/5EbltD2gcj94rs93hiNyP+cK0TxXwHE/gAH47BVpcT8=\",\"dtype\":\"float64\",\"shape\":[67]},\"rhoPCII\":{\"__ndarray__\":\"BuO//TrJ7j/fP4JoKezuP+AEpMUBD+8/pMoOrlU97z+mKrp3+1/vP5UUjPKLgu8/HdkRJYGw7z9RbOEEI9DvP6NfjvJu8u8//BwJ5QQQ8D+hnp4wEyHwP9/3mYBsLPA/jyj9gBcy8D8M71mPuEjwP6PyafOlWfA/58xSQi5p8D/0zIvmpH/wP8wkhdJykPA/CQ1QXDeh8D9KUm1LhLfwP6Byai7axvA/hNHkcYDX8D+xjpttpe3wPz+u1r02/vA//iCOyWcN8T+tHJrxZSPxP1vDX23aM/E/3lZvGvBC8T+yguN/yFjxP3O5R/AgafE/zliP+Bt48T996euez43xP49KGsMMnvE/I71t1+2s8T8rspu1fcLxP5ufTRtN0fE/1D1ZDGjh8T8Pbo4N1fbxPxLrDpiLBfI/s5iO0IwV8j99xlxvhinyP3o96h92OfI/iR4mQ15J8j8+04G4N13yP7ZD3sAObfI/B4Qhk4578j/hLIv/SI/yPyMYL0AIn/I/LxKATsCu8j+avL4MXMLyP0EKL3y10PI/D/GVeFbg8j/KK5CS1PPyP1MZcZxlA/M/bXL6l6IR8z/2RoOPUCbzP7A75ol+NPM/qnY6qPJD8z9AWhIUN1fzPy6xyiRQZfM/WGscsK508z+z1M5Y14fzPw5ZX+/blfM/WRy0XCWl8z/WeXLVMrjzPzofCqZtx/M/pioWHVjV8z8=\",\"dtype\":\"float64\",\"shape\":[67]}},\"selected\":{\"id\":\"3971\"},\"selection_policy\":{\"id\":\"3970\"}},\"id\":\"3943\",\"type\":\"ColumnDataSource\"},{\"attributes\":{\"label\":{\"value\":\"supernatant\"},\"renderers\":[{\"id\":\"3947\"}]},\"id\":\"3957\",\"type\":\"LegendItem\"},{\"attributes\":{\"click_policy\":\"hide\",\"items\":[{\"id\":\"3957\"},{\"id\":\"3972\"}],\"label_text_font_size\":\"14pt\",\"location\":\"bottom_right\"},\"id\":\"3956\",\"type\":\"Legend\"},{\"attributes\":{\"active_drag\":\"auto\",\"active_inspect\":\"auto\",\"active_multi\":null,\"active_scroll\":\"auto\",\"active_tap\":\"auto\",\"tools\":[{\"id\":\"3929\"},{\"id\":\"3930\"},{\"id\":\"3931\"},{\"id\":\"3932\"},{\"id\":\"3933\"},{\"id\":\"3934\"},{\"id\":\"3975\"}]},\"id\":\"3936\",\"type\":\"Toolbar\"},{\"attributes\":{},\"id\":\"3953\",\"type\":\"BasicTickFormatter\"},{\"attributes\":{\"axis\":{\"id\":\"3925\"},\"dimension\":1,\"ticker\":null},\"id\":\"3928\",\"type\":\"Grid\"},{\"attributes\":{},\"id\":\"3934\",\"type\":\"HelpTool\"},{\"attributes\":{},\"id\":\"3951\",\"type\":\"BasicTickFormatter\"},{\"attributes\":{},\"id\":\"3933\",\"type\":\"ResetTool\"},{\"attributes\":{},\"id\":\"3929\",\"type\":\"PanTool\"},{\"attributes\":{\"text\":\"1.60 M Salt, 0.30 M Polymer, N = 100, f = 1.00, sig = 4.00 A\",\"text_font_size\":{\"value\":\"12pt\"}},\"id\":\"3950\",\"type\":\"Title\"},{\"attributes\":{},\"id\":\"3932\",\"type\":\"SaveTool\"},{\"attributes\":{\"source\":{\"id\":\"3943\"}},\"id\":\"3948\",\"type\":\"CDSView\"}],\"root_ids\":[\"3912\"]},\"title\":\"Bokeh Application\",\"version\":\"2.0.1\"}};\n",
       "  var render_items = [{\"docid\":\"f4ec50bc-272b-45aa-a86d-8af73ba958dc\",\"root_ids\":[\"3912\"],\"roots\":{\"3912\":\"ed14659f-b7cd-4fd0-a28a-cf0eecd4f3ac\"}}];\n",
       "  root.Bokeh.embed.embed_items_notebook(docs_json, render_items);\n",
       "\n",
       "  }\n",
       "  if (root.Bokeh !== undefined) {\n",
       "    embed_document(root);\n",
       "  } else {\n",
       "    var attempts = 0;\n",
       "    var timer = setInterval(function(root) {\n",
       "      if (root.Bokeh !== undefined) {\n",
       "        clearInterval(timer);\n",
       "        embed_document(root);\n",
       "      } else {\n",
       "        attempts++;\n",
       "        if (attempts > 100) {\n",
       "          clearInterval(timer);\n",
       "          console.log(\"Bokeh: ERROR: Unable to run BokehJS code because BokehJS library is missing\");\n",
       "        }\n",
       "      }\n",
       "    }, 10, root)\n",
       "  }\n",
       "})(window);"
      ],
      "application/vnd.bokehjs_exec.v0+json": ""
     },
     "metadata": {
      "application/vnd.bokehjs_exec.v0+json": {
       "id": "3912"
      }
     },
     "output_type": "display_data"
    },
    {
     "data": {
      "text/html": [
       "\n",
       "\n",
       "\n",
       "\n",
       "\n",
       "\n",
       "  <div class=\"bk-root\" id=\"716983e9-a801-4e35-b84b-ce4dce22024b\" data-root-id=\"4178\"></div>\n"
      ]
     },
     "metadata": {},
     "output_type": "display_data"
    },
    {
     "data": {
      "application/javascript": [
       "(function(root) {\n",
       "  function embed_document(root) {\n",
       "    \n",
       "  var docs_json = {\"13d696d3-2ebc-4b23-88b6-b2a0447080aa\":{\"roots\":{\"references\":[{\"attributes\":{\"below\":[{\"id\":\"4187\"}],\"center\":[{\"id\":\"4190\"},{\"id\":\"4194\"},{\"id\":\"4222\"}],\"left\":[{\"id\":\"4191\"}],\"plot_height\":500,\"plot_width\":500,\"renderers\":[{\"id\":\"4213\"},{\"id\":\"4227\"}],\"title\":{\"id\":\"4216\"},\"toolbar\":{\"id\":\"4202\"},\"x_range\":{\"id\":\"4243\"},\"x_scale\":{\"id\":\"4183\"},\"y_range\":{\"id\":\"4244\"},\"y_scale\":{\"id\":\"4185\"}},\"id\":\"4178\",\"subtype\":\"Figure\",\"type\":\"Plot\"},{\"attributes\":{},\"id\":\"4195\",\"type\":\"PanTool\"},{\"attributes\":{},\"id\":\"4236\",\"type\":\"UnionRenderers\"},{\"attributes\":{\"data\":{\"BJ\":{\"__ndarray__\":\"PzVeukkM/D9/arx0kxj8Pylcj8L1KPw/aJHtfD81/D+oxks3iUH8P1K4HoXrUfw/ke18PzVe/D/RItv5fmr8P3sUrkfhevw/ukkMAiuH/D+PwvUoXI/8P/p+arx0k/w/pHA9Ctej/D/jpZvEILD8PyPb+X5qvPw/zczMzMzM/D8MAiuHFtn8P0w3iUFg5fw/9ihcj8L1/D81XrpJDAL9P3WTGARWDv0/H4XrUbge/T9eukkMAiv9P57vp8ZLN/0/SOF6FK5H/T+HFtnO91P9P8dLN4lBYP0/cT0K16Nw/T+wcmiR7Xz9P/Cnxks3if0/mpmZmZmZ/T/ZzvdT46X9PxkEVg4tsv0/w/UoXI/C/T8CK4cW2c79P0Jg5dAi2/0/7FG4HoXr/T8rhxbZzvf9P2q8dJMYBP4/FK5H4XoU/j9U46WbxCD+P5MYBFYOLf4/PQrXo3A9/j99PzVeukn+P7x0kxgEVv4/ZmZmZmZm/j+mm8QgsHL+P+XQItv5fv4/j8L1KFyP/j/P91PjpZv+Pw4tsp3vp/4/uB6F61G4/j/4U+Olm8T+PzeJQWDl0P4/4XoUrkfh/j8hsHJoke3+P2Dl0CLb+f4/CtejcD0K/z9KDAIrhxb/P4lBYOXQIv8/MzMzMzMz/z9zaJHtfD//P7Kd76fGS/8/XI/C9Shc/z+cxCCwcmj/P9v5fmq8dP8/\",\"dtype\":\"float64\",\"shape\":[66]},\"T\":{\"__ndarray__\":\"wEtfChcIFEBAHNXfIlUaQODDVHDgISFA4BEesXD0I0DAnRgv0KkmQCBdejoTHipA4BwHsEuaLECA1RQgsAEvQLBaENJlDDFAsGOjlP0qMkAgQj5UneUyQDCCUtioQTNAMEN8K9ipNEDwiBN3FLA1QIDV9TsEsDZA8NuFVR78N0BQSF2axe44QIA8KqZB3DlAoHxSy1QRO0AACE0mx/M7QNCbNTnh0TxAcCl+sZvzPUCw0QQlV8g+QOAcO9JZmT9AuIB/skFVQECgC/+ct7lAQHjL+jePHEFAWL+8W/CdQUAoAwOoPf1BQPimzRweW0JAWCJ/ECjWQkBIYZYj5jBDQHCYO5JfikNAaFx8aMX/Q0BYZfCfcVZEQPhuiGj6q0RAoJ75A1AcRUBguphyUm9FQGikNkVNwUVA6IdahA4tRkBYbbe6vnxGQEjc2O1+y0ZAUPIG2BQzR0AovYtfvX9HQMC2nB2Ky0dA4JPutE4vSECoNUqmL3lIQDBd901GwkhAEB9Sb4ciSUCI7zFo2GlJQJDah1tusElAKFAw8m8NSkCIYo+XYVJKQBhMMqKllkpAaKjyXaPwSkDwR+yJYDNLQOj+G/p7dUtAiBaOqKrMS0AguUdZWQ1MQLC/Id9wTUxAYHEif/+hTECYUCaWweBMQCDPDff1Hk1ACKTolg5xTUDwMwx0Aq5NQEgDVBxx6k1A\",\"dtype\":\"float64\",\"shape\":[66]},\"index\":[0,1,2,3,4,5,6,7,8,9,10,11,12,13,14,15,16,17,18,19,20,21,22,23,24,25,26,27,28,29,30,31,32,33,34,35,36,37,38,39,40,41,42,43,44,45,46,47,48,49,50,51,52,53,54,55,56,57,58,59,60,61,62,63,64,65],\"rhoPCI\":{\"__ndarray__\":\"pkrp5eMlwz8lh9q1WZrCP/lh6Flo7ME/OadzZCF2wT8d6QOIWgTBPyA8xY/fa8A/521Vhb4DwD+r+cMuD0y/P8IX2Df4Sb4/DnCNTdaPvT8JuVC5fyO9Pwq4kjz557w/iiId5RgAvD8cBvoj6mO7P03gGycrzLo/5LzVr80Euj8dhC6YwXa5P6/AMK+I7Lg/vZOspJw2uD+MgFQSzbS3PySZNGhTNrc/Om8gl8OYtj9ogv7EciG2P04IoKwTrbU/Zu1+BPgbtT/w8AQc8a20P0IjE4inSrQ/ln6G/WTEsz9TMDqzel6zP6//G+97ArM/6vmHHPWFsj/YW0+Mji6yP9RZh4Xo0bE/Jc+ItA5lsT/v7h9RpxOxP9fK33NHvbA/aFB9wMpXsD/vAAMC2AuwP2idD31fdq8/J5AHEdW4rj+xcnoS5yquP3O1xeDAn60/vzygGD3urD/hXI4DPmmsP7sfswLO5qs/uuEJNpQ1qz8shYm1lsOqP8n9kfUuSao/ot9vNfKsqT8eCwv3xzepP0evRDXNxKg/4j/HIwMyqD8mxhot48OnPwjneyjKV6c/KgLOJ8PNpj+HjwysG2+mPx9bNp5ACaY/kMqBXy2HpT/ipS2khSWlP+1xicjyzaQ/4zi69ElTpD9yIrcbLPejP/EWpIqWpKM//dX/Edswoz/ZW1vGheGiPyhkwQT/i6I/\",\"dtype\":\"float64\",\"shape\":[66]},\"rhoPCII\":{\"__ndarray__\":\"kd2k5Lii3T8eg3DKAi7eP2LYGIpf4d4/4Yh4KWtf3z+yki5vstvfP6PzEvNUQ+A/kdFtwpF/4D/AHYwWRLfgPwqFRiqhBeE/QjB3eag/4T8uh0uzS2LhP8m4FWJideE/Ov3fKxzB4T+0NXJBpfXhP6G5RlW5KeI/mvjbjatv4j9tYg1PvqLiP2BZrb1q1eI/JQHcmosZ4z9k1kegVUvjP1QMFRXFfOM/uct6p+G74z/li2nGjOzjP6/aKL/mHOQ/yXYM0Kla5D8cYX0UU4rkP4yoODZjtuQ/+CCNfvPy5D/HDIRHtyHlP71URLT1TOU/MnWoKW6I5T8yRj0nJrPlPxOUX4be4OU/OwYCDSQY5j9R2/fEKULmPxGW9SMpb+Y/pu+SWZCl5j84bu/68M7mPwSA2uNE++Y/L01Cld0w5z9QoKiopFnnP3on1jtAguc/KwOFqBu35z+iMVjYVd/nP1Qr9kBnB+g/+AF6iJ4+6D8XqwwvR2PoP7B+gsvWiug/9kut2lm+6D/U2Z1Uk+XoP+uIXaOoDOk/dZCIPo4/6T+pPjkyUmbpP94Ku/HzjOk/RUaJn0S/6T/yyz/vouLpP8PFNhnZCOo/HrJP+Z466j8z+4Dwi2DqP8QWOmFrg+o/C+95Ma206j9F+D5lN9rqP5X76Qa7/Oo/xUqC8X4t6z8beJBixU/rP3/2qOfWdOs/\",\"dtype\":\"float64\",\"shape\":[66]}},\"selected\":{\"id\":\"4237\"},\"selection_policy\":{\"id\":\"4236\"}},\"id\":\"4209\",\"type\":\"ColumnDataSource\"},{\"attributes\":{},\"id\":\"4217\",\"type\":\"BasicTickFormatter\"},{\"attributes\":{\"axis\":{\"id\":\"4191\"},\"dimension\":1,\"ticker\":null},\"id\":\"4194\",\"type\":\"Grid\"},{\"attributes\":{\"callback\":null,\"tooltips\":[[\"Temperature [$^{\\\\circ}$C]\",\"@T\"],[\"polyanion density (I)\",\"@rhoPCI\"],[\"polyanion density (II)\",\"@rhoPCII\"]]},\"id\":\"4241\",\"type\":\"HoverTool\"},{\"attributes\":{\"data_source\":{\"id\":\"4209\"},\"glyph\":{\"id\":\"4211\"},\"hover_glyph\":null,\"muted_glyph\":null,\"nonselection_glyph\":{\"id\":\"4212\"},\"selection_glyph\":null,\"view\":{\"id\":\"4214\"}},\"id\":\"4213\",\"type\":\"GlyphRenderer\"},{\"attributes\":{\"data_source\":{\"id\":\"4209\"},\"glyph\":{\"id\":\"4225\"},\"hover_glyph\":null,\"muted_glyph\":null,\"nonselection_glyph\":{\"id\":\"4226\"},\"selection_glyph\":null,\"view\":{\"id\":\"4228\"}},\"id\":\"4227\",\"type\":\"GlyphRenderer\"},{\"attributes\":{\"click_policy\":\"hide\",\"items\":[{\"id\":\"4223\"},{\"id\":\"4238\"}],\"label_text_font_size\":\"14pt\",\"location\":\"bottom_right\"},\"id\":\"4222\",\"type\":\"Legend\"},{\"attributes\":{\"line_color\":\"blue\",\"line_width\":6,\"x\":{\"field\":\"rhoPCI\"},\"y\":{\"field\":\"T\"}},\"id\":\"4211\",\"type\":\"Line\"},{\"attributes\":{\"text\":\"1.85 M Salt, 0.30 M Polymer, N = 100, f = 1.00, sig = 4.00 A\",\"text_font_size\":{\"value\":\"12pt\"}},\"id\":\"4216\",\"type\":\"Title\"},{\"attributes\":{},\"id\":\"4192\",\"type\":\"BasicTicker\"},{\"attributes\":{\"bottom_units\":\"screen\",\"fill_alpha\":0.5,\"fill_color\":\"lightgrey\",\"left_units\":\"screen\",\"level\":\"overlay\",\"line_alpha\":1.0,\"line_color\":\"black\",\"line_dash\":[4,4],\"line_width\":2,\"render_mode\":\"css\",\"right_units\":\"screen\",\"top_units\":\"screen\"},\"id\":\"4201\",\"type\":\"BoxAnnotation\"},{\"attributes\":{\"axis_label\":\"Temperature [$^{\\\\circ}$C]\",\"axis_label_text_font_size\":\"18pt\",\"formatter\":{\"id\":\"4217\"},\"major_label_text_font_size\":\"14pt\",\"ticker\":{\"id\":\"4192\"}},\"id\":\"4191\",\"type\":\"LinearAxis\"},{\"attributes\":{},\"id\":\"4188\",\"type\":\"BasicTicker\"},{\"attributes\":{\"label\":{\"value\":\"coacervate\"},\"renderers\":[{\"id\":\"4227\"}]},\"id\":\"4238\",\"type\":\"LegendItem\"},{\"attributes\":{\"axis\":{\"id\":\"4187\"},\"ticker\":null},\"id\":\"4190\",\"type\":\"Grid\"},{\"attributes\":{\"end\":1.3,\"start\":-0.05},\"id\":\"4243\",\"type\":\"Range1d\"},{\"attributes\":{},\"id\":\"4237\",\"type\":\"Selection\"},{\"attributes\":{\"axis_label\":\"polyanion density [mol/L]\",\"axis_label_text_font_size\":\"18pt\",\"formatter\":{\"id\":\"4219\"},\"major_label_text_font_size\":\"14pt\",\"ticker\":{\"id\":\"4188\"}},\"id\":\"4187\",\"type\":\"LinearAxis\"},{\"attributes\":{\"active_drag\":\"auto\",\"active_inspect\":\"auto\",\"active_multi\":null,\"active_scroll\":\"auto\",\"active_tap\":\"auto\",\"tools\":[{\"id\":\"4195\"},{\"id\":\"4196\"},{\"id\":\"4197\"},{\"id\":\"4198\"},{\"id\":\"4199\"},{\"id\":\"4200\"},{\"id\":\"4241\"}]},\"id\":\"4202\",\"type\":\"Toolbar\"},{\"attributes\":{},\"id\":\"4185\",\"type\":\"LinearScale\"},{\"attributes\":{\"line_alpha\":0.1,\"line_color\":\"blue\",\"line_width\":6,\"x\":{\"field\":\"rhoPCI\"},\"y\":{\"field\":\"T\"}},\"id\":\"4212\",\"type\":\"Line\"},{\"attributes\":{\"source\":{\"id\":\"4209\"}},\"id\":\"4228\",\"type\":\"CDSView\"},{\"attributes\":{},\"id\":\"4200\",\"type\":\"HelpTool\"},{\"attributes\":{\"line_color\":\"red\",\"line_width\":6,\"x\":{\"field\":\"rhoPCII\"},\"y\":{\"field\":\"T\"}},\"id\":\"4225\",\"type\":\"Line\"},{\"attributes\":{\"label\":{\"value\":\"supernatant\"},\"renderers\":[{\"id\":\"4213\"}]},\"id\":\"4223\",\"type\":\"LegendItem\"},{\"attributes\":{},\"id\":\"4199\",\"type\":\"ResetTool\"},{\"attributes\":{\"source\":{\"id\":\"4209\"}},\"id\":\"4214\",\"type\":\"CDSView\"},{\"attributes\":{\"line_alpha\":0.1,\"line_color\":\"red\",\"line_width\":6,\"x\":{\"field\":\"rhoPCII\"},\"y\":{\"field\":\"T\"}},\"id\":\"4226\",\"type\":\"Line\"},{\"attributes\":{},\"id\":\"4198\",\"type\":\"SaveTool\"},{\"attributes\":{},\"id\":\"4183\",\"type\":\"LinearScale\"},{\"attributes\":{\"end\":60},\"id\":\"4244\",\"type\":\"Range1d\"},{\"attributes\":{\"overlay\":{\"id\":\"4201\"}},\"id\":\"4197\",\"type\":\"BoxZoomTool\"},{\"attributes\":{},\"id\":\"4219\",\"type\":\"BasicTickFormatter\"},{\"attributes\":{},\"id\":\"4196\",\"type\":\"WheelZoomTool\"}],\"root_ids\":[\"4178\"]},\"title\":\"Bokeh Application\",\"version\":\"2.0.1\"}};\n",
       "  var render_items = [{\"docid\":\"13d696d3-2ebc-4b23-88b6-b2a0447080aa\",\"root_ids\":[\"4178\"],\"roots\":{\"4178\":\"716983e9-a801-4e35-b84b-ce4dce22024b\"}}];\n",
       "  root.Bokeh.embed.embed_items_notebook(docs_json, render_items);\n",
       "\n",
       "  }\n",
       "  if (root.Bokeh !== undefined) {\n",
       "    embed_document(root);\n",
       "  } else {\n",
       "    var attempts = 0;\n",
       "    var timer = setInterval(function(root) {\n",
       "      if (root.Bokeh !== undefined) {\n",
       "        clearInterval(timer);\n",
       "        embed_document(root);\n",
       "      } else {\n",
       "        attempts++;\n",
       "        if (attempts > 100) {\n",
       "          clearInterval(timer);\n",
       "          console.log(\"Bokeh: ERROR: Unable to run BokehJS code because BokehJS library is missing\");\n",
       "        }\n",
       "      }\n",
       "    }, 10, root)\n",
       "  }\n",
       "})(window);"
      ],
      "application/vnd.bokehjs_exec.v0+json": ""
     },
     "metadata": {
      "application/vnd.bokehjs_exec.v0+json": {
       "id": "4178"
      }
     },
     "output_type": "display_data"
    },
    {
     "data": {
      "text/html": [
       "\n",
       "\n",
       "\n",
       "\n",
       "\n",
       "\n",
       "  <div class=\"bk-root\" id=\"9d332ae1-8f56-4238-85d4-a70b516b980d\" data-root-id=\"4453\"></div>\n"
      ]
     },
     "metadata": {},
     "output_type": "display_data"
    },
    {
     "data": {
      "application/javascript": [
       "(function(root) {\n",
       "  function embed_document(root) {\n",
       "    \n",
       "  var docs_json = {\"79d3cac1-5032-47dd-a99e-5bdefeb11d74\":{\"roots\":{\"references\":[{\"attributes\":{\"below\":[{\"id\":\"4462\"}],\"center\":[{\"id\":\"4465\"},{\"id\":\"4469\"},{\"id\":\"4497\"}],\"left\":[{\"id\":\"4466\"}],\"plot_height\":500,\"plot_width\":500,\"renderers\":[{\"id\":\"4488\"},{\"id\":\"4502\"}],\"title\":{\"id\":\"4491\"},\"toolbar\":{\"id\":\"4477\"},\"x_range\":{\"id\":\"4518\"},\"x_scale\":{\"id\":\"4458\"},\"y_range\":{\"id\":\"4519\"},\"y_scale\":{\"id\":\"4460\"}},\"id\":\"4453\",\"subtype\":\"Figure\",\"type\":\"Plot\"},{\"attributes\":{\"data\":{\"BJ\":{\"__ndarray__\":\"dZMYBFYO/T8fhetRuB79P166SQwCK/0/nu+nxks3/T9I4XoUrkf9P4cW2c73U/0/x0s3iUFg/T9xPQrXo3D9P7ByaJHtfP0/8KfGSzeJ/T+amZmZmZn9P9nO91Pjpf0/GQRWDi2y/T/D9Shcj8L9PwIrhxbZzv0/QmDl0CLb/T/sUbgehev9PyuHFtnO9/0/arx0kxgE/j8UrkfhehT+P1TjpZvEIP4/kxgEVg4t/j89CtejcD3+P30/NV66Sf4/vHSTGARW/j9mZmZmZmb+P6abxCCwcv4/5dAi2/l+/j+PwvUoXI/+P8/3U+Olm/4/Di2yne+n/j+4HoXrUbj+P/hT46WbxP4/N4lBYOXQ/j/hehSuR+H+PyGwcmiR7f4/YOXQItv5/j8K16NwPQr/P0oMAiuHFv8/iUFg5dAi/z8zMzMzMzP/P3Noke18P/8/sp3vp8ZL/z9cj8L1KFz/P5zEILByaP8/2/l+arx0/z8=\",\"dtype\":\"float64\",\"shape\":[46]},\"T\":{\"__ndarray__\":\"0Js1OeHRPEBwKX6xm/M9QLDRBCVXyD5A4Bw70lmZP0C4gH+yQVVAQKAL/5y3uUBAeMv6N48cQUBYv7xb8J1BQCgDA6g9/UFA+KbNHB5bQkBYIn8QKNZCQEhhliPmMENAcJg7kl+KQ0BoXHxoxf9DQFhl8J9xVkRA+G6IaPqrRECgnvkDUBxFQGC6mHJSb0VAaKQ2RU3BRUDoh1qEDi1GQFhtt7q+fEZASNzY7X7LRkBQ8gbYFDNHQCi9i1+9f0dAwLacHYrLR0Dgk+60Ti9IQKg1SqYveUhAMF33TUbCSEAQH1JvhyJJQIjvMWjYaUlAkNqHW26wSUAoUDDybw1KQIhij5dhUkpAGEwyoqWWSkBoqPJdo/BKQPBH7IlgM0tA6P4b+nt1S0CIFo6oqsxLQCC5R1lZDUxAsL8h33BNTEBgcSJ//6FMQJhQJpbB4ExAIM8N9/UeTUAIpOiWDnFNQPAzDHQCrk1ASANUHHHqTUA=\",\"dtype\":\"float64\",\"shape\":[46]},\"index\":[0,1,2,3,4,5,6,7,8,9,10,11,12,13,14,15,16,17,18,19,20,21,22,23,24,25,26,27,28,29,30,31,32,33,34,35,36,37,38,39,40,41,42,43,44,45],\"rhoPCI\":{\"__ndarray__\":\"WZnzBvIHwz86FEiAplrCPzjlme7F3ME/2bwTF41rwT9vMeBQjNPAPyvApQm2a8A/8/hvAmUHwD+/KR6mwBq/P52sps6oYL4/WWWlVG2svT9xi7z3stC8P5FSDaquKLw/BfNr7PiQuz/IDgc/csm6P1ojodo2O7o/su/ae7mwuT9hLYkoRfq4P90ebHsFeLg/Z01YQwv5tz/v4H+C1lq3Pz4UvjXj4rY/O+w1sNRttj9i4kDb2tu1P6b3Za8JbbU/N8vly8wAtT+ItNnEuHm0P7unw9z2GrQ/lW87dHS2sz/INWQt8jizPxO3KMja4LI/wCBy6pCKsj8f4qEIhRWyP2ppxEVnvLE/Jq124vtrsT/JInqpcAWxP1vV8m4fsrA/4HMdY+5msD8auW8EBAewP0L9VMJCfq8/OFV1PDTlrj9gP101hzGuP2PJyGvLqq0/3obc1JYmrT/rTZpg132sP/8i2749/6s/fMizTfqCqz8=\",\"dtype\":\"float64\",\"shape\":[46]},\"rhoPCII\":{\"__ndarray__\":\"2jFBo4NM3j+xENWPDf3eP7DdlgUegd8/XDiQnVL73z9TE7AzzlHgP+uY6gETjeA/8mbGZabH4D9fC/G09xDhP4GKI/IZSuE/eVWW0KaC4T8EfHxPicnhP98aCUjcAOI/5dfUYBY04j86W+yx63jiP+u/NeEsq+I/vPJeAAvd4j85H4ygHSDjP22n8lEgUeM/XROSLsuB4z+qOCVe5b/jP6bFBb7R7+M/jJbSTW8f5D+DfFc2OlzkP3ujgRssi+Q/hY3itNa55D/fnpk6cvXkP286VPQ5IOU/LavRrgtO5T/q1oSnl4jlP90OgvmfsuU/TvPXnHPc5T8ZPq2iChbmPxOIEJOVQuY/btwrAr1r5j9P1AjYRKHmP+bTS0glzeY/sASZ/6/15j/gTNgpbyrnP1GdYr2UUuc/jt4Uo6l95z8z2vWArbHnPyvu15NH2ec/5VsSB7oA6D+jhoyLETToP6uNBSArW+g/FSuSax+C6D8=\",\"dtype\":\"float64\",\"shape\":[46]}},\"selected\":{\"id\":\"4512\"},\"selection_policy\":{\"id\":\"4511\"}},\"id\":\"4484\",\"type\":\"ColumnDataSource\"},{\"attributes\":{\"source\":{\"id\":\"4484\"}},\"id\":\"4489\",\"type\":\"CDSView\"},{\"attributes\":{\"line_alpha\":0.1,\"line_color\":\"red\",\"line_width\":6,\"x\":{\"field\":\"rhoPCII\"},\"y\":{\"field\":\"T\"}},\"id\":\"4501\",\"type\":\"Line\"},{\"attributes\":{\"active_drag\":\"auto\",\"active_inspect\":\"auto\",\"active_multi\":null,\"active_scroll\":\"auto\",\"active_tap\":\"auto\",\"tools\":[{\"id\":\"4470\"},{\"id\":\"4471\"},{\"id\":\"4472\"},{\"id\":\"4473\"},{\"id\":\"4474\"},{\"id\":\"4475\"},{\"id\":\"4516\"}]},\"id\":\"4477\",\"type\":\"Toolbar\"},{\"attributes\":{\"text\":\"1.90 M Salt, 0.30 M Polymer, N = 100, f = 1.00, sig = 4.00 A\",\"text_font_size\":{\"value\":\"12pt\"}},\"id\":\"4491\",\"type\":\"Title\"},{\"attributes\":{\"source\":{\"id\":\"4484\"}},\"id\":\"4503\",\"type\":\"CDSView\"},{\"attributes\":{},\"id\":\"4463\",\"type\":\"BasicTicker\"},{\"attributes\":{},\"id\":\"4460\",\"type\":\"LinearScale\"},{\"attributes\":{},\"id\":\"4474\",\"type\":\"ResetTool\"},{\"attributes\":{},\"id\":\"4470\",\"type\":\"PanTool\"},{\"attributes\":{},\"id\":\"4467\",\"type\":\"BasicTicker\"},{\"attributes\":{\"axis_label\":\"Temperature [$^{\\\\circ}$C]\",\"axis_label_text_font_size\":\"18pt\",\"formatter\":{\"id\":\"4492\"},\"major_label_text_font_size\":\"14pt\",\"ticker\":{\"id\":\"4467\"}},\"id\":\"4466\",\"type\":\"LinearAxis\"},{\"attributes\":{\"label\":{\"value\":\"supernatant\"},\"renderers\":[{\"id\":\"4488\"}]},\"id\":\"4498\",\"type\":\"LegendItem\"},{\"attributes\":{},\"id\":\"4511\",\"type\":\"UnionRenderers\"},{\"attributes\":{\"end\":1.3,\"start\":-0.05},\"id\":\"4518\",\"type\":\"Range1d\"},{\"attributes\":{\"line_color\":\"red\",\"line_width\":6,\"x\":{\"field\":\"rhoPCII\"},\"y\":{\"field\":\"T\"}},\"id\":\"4500\",\"type\":\"Line\"},{\"attributes\":{\"data_source\":{\"id\":\"4484\"},\"glyph\":{\"id\":\"4486\"},\"hover_glyph\":null,\"muted_glyph\":null,\"nonselection_glyph\":{\"id\":\"4487\"},\"selection_glyph\":null,\"view\":{\"id\":\"4489\"}},\"id\":\"4488\",\"type\":\"GlyphRenderer\"},{\"attributes\":{},\"id\":\"4475\",\"type\":\"HelpTool\"},{\"attributes\":{},\"id\":\"4458\",\"type\":\"LinearScale\"},{\"attributes\":{},\"id\":\"4473\",\"type\":\"SaveTool\"},{\"attributes\":{\"end\":60},\"id\":\"4519\",\"type\":\"Range1d\"},{\"attributes\":{\"line_color\":\"blue\",\"line_width\":6,\"x\":{\"field\":\"rhoPCI\"},\"y\":{\"field\":\"T\"}},\"id\":\"4486\",\"type\":\"Line\"},{\"attributes\":{\"axis_label\":\"polyanion density [mol/L]\",\"axis_label_text_font_size\":\"18pt\",\"formatter\":{\"id\":\"4494\"},\"major_label_text_font_size\":\"14pt\",\"ticker\":{\"id\":\"4463\"}},\"id\":\"4462\",\"type\":\"LinearAxis\"},{\"attributes\":{\"axis\":{\"id\":\"4466\"},\"dimension\":1,\"ticker\":null},\"id\":\"4469\",\"type\":\"Grid\"},{\"attributes\":{\"overlay\":{\"id\":\"4476\"}},\"id\":\"4472\",\"type\":\"BoxZoomTool\"},{\"attributes\":{\"callback\":null,\"tooltips\":[[\"Temperature [$^{\\\\circ}$C]\",\"@T\"],[\"polyanion density (I)\",\"@rhoPCI\"],[\"polyanion density (II)\",\"@rhoPCII\"]]},\"id\":\"4516\",\"type\":\"HoverTool\"},{\"attributes\":{\"data_source\":{\"id\":\"4484\"},\"glyph\":{\"id\":\"4500\"},\"hover_glyph\":null,\"muted_glyph\":null,\"nonselection_glyph\":{\"id\":\"4501\"},\"selection_glyph\":null,\"view\":{\"id\":\"4503\"}},\"id\":\"4502\",\"type\":\"GlyphRenderer\"},{\"attributes\":{\"click_policy\":\"hide\",\"items\":[{\"id\":\"4498\"},{\"id\":\"4513\"}],\"label_text_font_size\":\"14pt\",\"location\":\"bottom_right\"},\"id\":\"4497\",\"type\":\"Legend\"},{\"attributes\":{\"label\":{\"value\":\"coacervate\"},\"renderers\":[{\"id\":\"4502\"}]},\"id\":\"4513\",\"type\":\"LegendItem\"},{\"attributes\":{},\"id\":\"4471\",\"type\":\"WheelZoomTool\"},{\"attributes\":{\"axis\":{\"id\":\"4462\"},\"ticker\":null},\"id\":\"4465\",\"type\":\"Grid\"},{\"attributes\":{\"bottom_units\":\"screen\",\"fill_alpha\":0.5,\"fill_color\":\"lightgrey\",\"left_units\":\"screen\",\"level\":\"overlay\",\"line_alpha\":1.0,\"line_color\":\"black\",\"line_dash\":[4,4],\"line_width\":2,\"render_mode\":\"css\",\"right_units\":\"screen\",\"top_units\":\"screen\"},\"id\":\"4476\",\"type\":\"BoxAnnotation\"},{\"attributes\":{},\"id\":\"4494\",\"type\":\"BasicTickFormatter\"},{\"attributes\":{},\"id\":\"4512\",\"type\":\"Selection\"},{\"attributes\":{\"line_alpha\":0.1,\"line_color\":\"blue\",\"line_width\":6,\"x\":{\"field\":\"rhoPCI\"},\"y\":{\"field\":\"T\"}},\"id\":\"4487\",\"type\":\"Line\"},{\"attributes\":{},\"id\":\"4492\",\"type\":\"BasicTickFormatter\"}],\"root_ids\":[\"4453\"]},\"title\":\"Bokeh Application\",\"version\":\"2.0.1\"}};\n",
       "  var render_items = [{\"docid\":\"79d3cac1-5032-47dd-a99e-5bdefeb11d74\",\"root_ids\":[\"4453\"],\"roots\":{\"4453\":\"9d332ae1-8f56-4238-85d4-a70b516b980d\"}}];\n",
       "  root.Bokeh.embed.embed_items_notebook(docs_json, render_items);\n",
       "\n",
       "  }\n",
       "  if (root.Bokeh !== undefined) {\n",
       "    embed_document(root);\n",
       "  } else {\n",
       "    var attempts = 0;\n",
       "    var timer = setInterval(function(root) {\n",
       "      if (root.Bokeh !== undefined) {\n",
       "        clearInterval(timer);\n",
       "        embed_document(root);\n",
       "      } else {\n",
       "        attempts++;\n",
       "        if (attempts > 100) {\n",
       "          clearInterval(timer);\n",
       "          console.log(\"Bokeh: ERROR: Unable to run BokehJS code because BokehJS library is missing\");\n",
       "        }\n",
       "      }\n",
       "    }, 10, root)\n",
       "  }\n",
       "})(window);"
      ],
      "application/vnd.bokehjs_exec.v0+json": ""
     },
     "metadata": {
      "application/vnd.bokehjs_exec.v0+json": {
       "id": "4453"
      }
     },
     "output_type": "display_data"
    }
   ],
   "source": [
    "plot.compare_to_exp(data, beads_2_M, N=N, sigma=sigma)"
   ]
  },
  {
   "cell_type": "code",
   "execution_count": 15,
   "metadata": {},
   "outputs": [],
   "source": [
    "# specifies parameters\n",
    "data_folder = 'vary_N/'\n",
    "N = 100\n",
    "f = 1\n",
    "sigma = 4 # A\n",
    "\n",
    "# loads data\n",
    "naming_structure = pe.get_naming_structure(N, '*', f=f)\n",
    "data = salt.load_data(data_folder, naming_structure=naming_structure, ext='output.dat')"
   ]
  },
  {
   "cell_type": "code",
   "execution_count": 16,
   "metadata": {
    "scrolled": true
   },
   "outputs": [
    {
     "data": {
      "text/html": [
       "\n",
       "\n",
       "\n",
       "\n",
       "\n",
       "\n",
       "  <div class=\"bk-root\" id=\"9df1f792-1391-488e-8474-3b7a7112d31e\" data-root-id=\"4737\"></div>\n"
      ]
     },
     "metadata": {},
     "output_type": "display_data"
    },
    {
     "data": {
      "application/javascript": [
       "(function(root) {\n",
       "  function embed_document(root) {\n",
       "    \n",
       "  var docs_json = {\"e6c8b741-0097-458a-b79d-3ac54f8ade9d\":{\"roots\":{\"references\":[{\"attributes\":{\"below\":[{\"id\":\"4746\"}],\"center\":[{\"id\":\"4749\"},{\"id\":\"4753\"},{\"id\":\"4781\"}],\"left\":[{\"id\":\"4750\"}],\"plot_height\":500,\"plot_width\":500,\"renderers\":[{\"id\":\"4772\"},{\"id\":\"4786\"}],\"title\":{\"id\":\"4775\"},\"toolbar\":{\"id\":\"4761\"},\"x_range\":{\"id\":\"4802\"},\"x_scale\":{\"id\":\"4742\"},\"y_range\":{\"id\":\"4803\"},\"y_scale\":{\"id\":\"4744\"}},\"id\":\"4737\",\"subtype\":\"Figure\",\"type\":\"Plot\"},{\"attributes\":{\"bottom_units\":\"screen\",\"fill_alpha\":0.5,\"fill_color\":\"lightgrey\",\"left_units\":\"screen\",\"level\":\"overlay\",\"line_alpha\":1.0,\"line_color\":\"black\",\"line_dash\":[4,4],\"line_width\":2,\"render_mode\":\"css\",\"right_units\":\"screen\",\"top_units\":\"screen\"},\"id\":\"4760\",\"type\":\"BoxAnnotation\"},{\"attributes\":{\"axis\":{\"id\":\"4750\"},\"dimension\":1,\"ticker\":null},\"id\":\"4753\",\"type\":\"Grid\"},{\"attributes\":{\"data\":{\"BJ\":{\"__ndarray__\":\"AAAAAAAA/D/NzMzMzMz8P5qZmZmZmf0/ZmZmZmZm/j8zMzMzMzP/Pw==\",\"dtype\":\"float64\",\"shape\":[5]},\"T\":{\"__ndarray__\":\"ALAElp3ACkDw24VVHvw3QFgifxAo1kJA4JPutE4vSEBgcSJ//6FMQA==\",\"dtype\":\"float64\",\"shape\":[5]},\"index\":[0,1,2,3,4],\"rhoPCI\":{\"__ndarray__\":\"1Ms/deIckj9xduIntiSKP74Y4rpB24I/tfwoIXwbez8M0JVVdGdzPw==\",\"dtype\":\"float64\",\"shape\":[5]},\"rhoPCII\":{\"__ndarray__\":\"/F/jQgTJ7j9BZkCRN4DwP7TbK1m1jfE/hbv33NaP8j8BbCTMvYfzPw==\",\"dtype\":\"float64\",\"shape\":[5]}},\"selected\":{\"id\":\"4796\"},\"selection_policy\":{\"id\":\"4795\"}},\"id\":\"4768\",\"type\":\"ColumnDataSource\"},{\"attributes\":{\"label\":{\"value\":\"supernatant\"},\"renderers\":[{\"id\":\"4772\"}]},\"id\":\"4782\",\"type\":\"LegendItem\"},{\"attributes\":{\"axis_label\":\"polyanion density [mol/L]\",\"axis_label_text_font_size\":\"18pt\",\"formatter\":{\"id\":\"4778\"},\"major_label_text_font_size\":\"14pt\",\"ticker\":{\"id\":\"4747\"}},\"id\":\"4746\",\"type\":\"LinearAxis\"},{\"attributes\":{\"source\":{\"id\":\"4768\"}},\"id\":\"4773\",\"type\":\"CDSView\"},{\"attributes\":{},\"id\":\"4751\",\"type\":\"BasicTicker\"},{\"attributes\":{\"text\":\"1.60 M Salt, 0.30 M Polymer, N = 100, f = 1.00, sig = 4.00 A\",\"text_font_size\":{\"value\":\"12pt\"}},\"id\":\"4775\",\"type\":\"Title\"},{\"attributes\":{},\"id\":\"4759\",\"type\":\"HelpTool\"},{\"attributes\":{},\"id\":\"4778\",\"type\":\"BasicTickFormatter\"},{\"attributes\":{},\"id\":\"4744\",\"type\":\"LinearScale\"},{\"attributes\":{},\"id\":\"4755\",\"type\":\"WheelZoomTool\"},{\"attributes\":{\"axis_label\":\"Temperature [$^{\\\\circ}$C]\",\"axis_label_text_font_size\":\"18pt\",\"formatter\":{\"id\":\"4776\"},\"major_label_text_font_size\":\"14pt\",\"ticker\":{\"id\":\"4751\"}},\"id\":\"4750\",\"type\":\"LinearAxis\"},{\"attributes\":{},\"id\":\"4742\",\"type\":\"LinearScale\"},{\"attributes\":{},\"id\":\"4754\",\"type\":\"PanTool\"},{\"attributes\":{\"click_policy\":\"hide\",\"items\":[{\"id\":\"4782\"},{\"id\":\"4797\"}],\"label_text_font_size\":\"14pt\",\"location\":\"bottom_right\"},\"id\":\"4781\",\"type\":\"Legend\"},{\"attributes\":{\"line_alpha\":0.1,\"line_color\":\"red\",\"line_width\":6,\"x\":{\"field\":\"rhoPCII\"},\"y\":{\"field\":\"T\"}},\"id\":\"4785\",\"type\":\"Line\"},{\"attributes\":{\"end\":1.3,\"start\":-0.05},\"id\":\"4802\",\"type\":\"Range1d\"},{\"attributes\":{\"source\":{\"id\":\"4768\"}},\"id\":\"4787\",\"type\":\"CDSView\"},{\"attributes\":{\"callback\":null,\"tooltips\":[[\"Temperature [$^{\\\\circ}$C]\",\"@T\"],[\"polyanion density (I)\",\"@rhoPCI\"],[\"polyanion density (II)\",\"@rhoPCII\"]]},\"id\":\"4800\",\"type\":\"HoverTool\"},{\"attributes\":{\"overlay\":{\"id\":\"4760\"}},\"id\":\"4756\",\"type\":\"BoxZoomTool\"},{\"attributes\":{\"line_color\":\"red\",\"line_width\":6,\"x\":{\"field\":\"rhoPCII\"},\"y\":{\"field\":\"T\"}},\"id\":\"4784\",\"type\":\"Line\"},{\"attributes\":{\"axis\":{\"id\":\"4746\"},\"ticker\":null},\"id\":\"4749\",\"type\":\"Grid\"},{\"attributes\":{},\"id\":\"4757\",\"type\":\"SaveTool\"},{\"attributes\":{\"label\":{\"value\":\"coacervate\"},\"renderers\":[{\"id\":\"4786\"}]},\"id\":\"4797\",\"type\":\"LegendItem\"},{\"attributes\":{\"active_drag\":\"auto\",\"active_inspect\":\"auto\",\"active_multi\":null,\"active_scroll\":\"auto\",\"active_tap\":\"auto\",\"tools\":[{\"id\":\"4754\"},{\"id\":\"4755\"},{\"id\":\"4756\"},{\"id\":\"4757\"},{\"id\":\"4758\"},{\"id\":\"4759\"},{\"id\":\"4800\"}]},\"id\":\"4761\",\"type\":\"Toolbar\"},{\"attributes\":{},\"id\":\"4747\",\"type\":\"BasicTicker\"},{\"attributes\":{},\"id\":\"4758\",\"type\":\"ResetTool\"},{\"attributes\":{\"line_alpha\":0.1,\"line_color\":\"blue\",\"line_width\":6,\"x\":{\"field\":\"rhoPCI\"},\"y\":{\"field\":\"T\"}},\"id\":\"4771\",\"type\":\"Line\"},{\"attributes\":{},\"id\":\"4795\",\"type\":\"UnionRenderers\"},{\"attributes\":{\"data_source\":{\"id\":\"4768\"},\"glyph\":{\"id\":\"4784\"},\"hover_glyph\":null,\"muted_glyph\":null,\"nonselection_glyph\":{\"id\":\"4785\"},\"selection_glyph\":null,\"view\":{\"id\":\"4787\"}},\"id\":\"4786\",\"type\":\"GlyphRenderer\"},{\"attributes\":{\"line_color\":\"blue\",\"line_width\":6,\"x\":{\"field\":\"rhoPCI\"},\"y\":{\"field\":\"T\"}},\"id\":\"4770\",\"type\":\"Line\"},{\"attributes\":{},\"id\":\"4776\",\"type\":\"BasicTickFormatter\"},{\"attributes\":{},\"id\":\"4796\",\"type\":\"Selection\"},{\"attributes\":{\"data_source\":{\"id\":\"4768\"},\"glyph\":{\"id\":\"4770\"},\"hover_glyph\":null,\"muted_glyph\":null,\"nonselection_glyph\":{\"id\":\"4771\"},\"selection_glyph\":null,\"view\":{\"id\":\"4773\"}},\"id\":\"4772\",\"type\":\"GlyphRenderer\"},{\"attributes\":{\"end\":60},\"id\":\"4803\",\"type\":\"Range1d\"}],\"root_ids\":[\"4737\"]},\"title\":\"Bokeh Application\",\"version\":\"2.0.1\"}};\n",
       "  var render_items = [{\"docid\":\"e6c8b741-0097-458a-b79d-3ac54f8ade9d\",\"root_ids\":[\"4737\"],\"roots\":{\"4737\":\"9df1f792-1391-488e-8474-3b7a7112d31e\"}}];\n",
       "  root.Bokeh.embed.embed_items_notebook(docs_json, render_items);\n",
       "\n",
       "  }\n",
       "  if (root.Bokeh !== undefined) {\n",
       "    embed_document(root);\n",
       "  } else {\n",
       "    var attempts = 0;\n",
       "    var timer = setInterval(function(root) {\n",
       "      if (root.Bokeh !== undefined) {\n",
       "        clearInterval(timer);\n",
       "        embed_document(root);\n",
       "      } else {\n",
       "        attempts++;\n",
       "        if (attempts > 100) {\n",
       "          clearInterval(timer);\n",
       "          console.log(\"Bokeh: ERROR: Unable to run BokehJS code because BokehJS library is missing\");\n",
       "        }\n",
       "      }\n",
       "    }, 10, root)\n",
       "  }\n",
       "})(window);"
      ],
      "application/vnd.bokehjs_exec.v0+json": ""
     },
     "metadata": {
      "application/vnd.bokehjs_exec.v0+json": {
       "id": "4737"
      }
     },
     "output_type": "display_data"
    },
    {
     "data": {
      "text/html": [
       "\n",
       "\n",
       "\n",
       "\n",
       "\n",
       "\n",
       "  <div class=\"bk-root\" id=\"213affb7-4d64-48bc-a73b-d1a217f2f82f\" data-root-id=\"5030\"></div>\n"
      ]
     },
     "metadata": {},
     "output_type": "display_data"
    },
    {
     "data": {
      "application/javascript": [
       "(function(root) {\n",
       "  function embed_document(root) {\n",
       "    \n",
       "  var docs_json = {\"b2ff15d2-132b-46b8-b64c-941448719e12\":{\"roots\":{\"references\":[{\"attributes\":{\"below\":[{\"id\":\"5039\"}],\"center\":[{\"id\":\"5042\"},{\"id\":\"5046\"},{\"id\":\"5074\"}],\"left\":[{\"id\":\"5043\"}],\"plot_height\":500,\"plot_width\":500,\"renderers\":[{\"id\":\"5065\"},{\"id\":\"5079\"}],\"title\":{\"id\":\"5068\"},\"toolbar\":{\"id\":\"5054\"},\"x_range\":{\"id\":\"5095\"},\"x_scale\":{\"id\":\"5035\"},\"y_range\":{\"id\":\"5096\"},\"y_scale\":{\"id\":\"5037\"}},\"id\":\"5030\",\"subtype\":\"Figure\",\"type\":\"Plot\"},{\"attributes\":{},\"id\":\"5048\",\"type\":\"WheelZoomTool\"},{\"attributes\":{\"bottom_units\":\"screen\",\"fill_alpha\":0.5,\"fill_color\":\"lightgrey\",\"left_units\":\"screen\",\"level\":\"overlay\",\"line_alpha\":1.0,\"line_color\":\"black\",\"line_dash\":[4,4],\"line_width\":2,\"render_mode\":\"css\",\"right_units\":\"screen\",\"top_units\":\"screen\"},\"id\":\"5053\",\"type\":\"BoxAnnotation\"},{\"attributes\":{},\"id\":\"5051\",\"type\":\"ResetTool\"},{\"attributes\":{},\"id\":\"5088\",\"type\":\"UnionRenderers\"},{\"attributes\":{},\"id\":\"5047\",\"type\":\"PanTool\"},{\"attributes\":{\"data_source\":{\"id\":\"5061\"},\"glyph\":{\"id\":\"5077\"},\"hover_glyph\":null,\"muted_glyph\":null,\"nonselection_glyph\":{\"id\":\"5078\"},\"selection_glyph\":null,\"view\":{\"id\":\"5080\"}},\"id\":\"5079\",\"type\":\"GlyphRenderer\"},{\"attributes\":{},\"id\":\"5037\",\"type\":\"LinearScale\"},{\"attributes\":{},\"id\":\"5071\",\"type\":\"BasicTickFormatter\"},{\"attributes\":{\"axis_label\":\"Temperature [$^{\\\\circ}$C]\",\"axis_label_text_font_size\":\"18pt\",\"formatter\":{\"id\":\"5069\"},\"major_label_text_font_size\":\"14pt\",\"ticker\":{\"id\":\"5044\"}},\"id\":\"5043\",\"type\":\"LinearAxis\"},{\"attributes\":{\"line_alpha\":0.1,\"line_color\":\"red\",\"line_width\":6,\"x\":{\"field\":\"rhoPCII\"},\"y\":{\"field\":\"T\"}},\"id\":\"5078\",\"type\":\"Line\"},{\"attributes\":{\"source\":{\"id\":\"5061\"}},\"id\":\"5066\",\"type\":\"CDSView\"},{\"attributes\":{\"click_policy\":\"hide\",\"items\":[{\"id\":\"5075\"},{\"id\":\"5090\"}],\"label_text_font_size\":\"14pt\",\"location\":\"bottom_right\"},\"id\":\"5074\",\"type\":\"Legend\"},{\"attributes\":{},\"id\":\"5050\",\"type\":\"SaveTool\"},{\"attributes\":{\"label\":{\"value\":\"supernatant\"},\"renderers\":[{\"id\":\"5065\"}]},\"id\":\"5075\",\"type\":\"LegendItem\"},{\"attributes\":{},\"id\":\"5035\",\"type\":\"LinearScale\"},{\"attributes\":{\"end\":1.3,\"start\":-0.05},\"id\":\"5095\",\"type\":\"Range1d\"},{\"attributes\":{},\"id\":\"5069\",\"type\":\"BasicTickFormatter\"},{\"attributes\":{\"axis_label\":\"polyanion density [mol/L]\",\"axis_label_text_font_size\":\"18pt\",\"formatter\":{\"id\":\"5071\"},\"major_label_text_font_size\":\"14pt\",\"ticker\":{\"id\":\"5040\"}},\"id\":\"5039\",\"type\":\"LinearAxis\"},{\"attributes\":{},\"id\":\"5040\",\"type\":\"BasicTicker\"},{\"attributes\":{\"callback\":null,\"tooltips\":[[\"Temperature [$^{\\\\circ}$C]\",\"@T\"],[\"polyanion density (I)\",\"@rhoPCI\"],[\"polyanion density (II)\",\"@rhoPCII\"]]},\"id\":\"5093\",\"type\":\"HoverTool\"},{\"attributes\":{\"line_color\":\"blue\",\"line_width\":6,\"x\":{\"field\":\"rhoPCI\"},\"y\":{\"field\":\"T\"}},\"id\":\"5063\",\"type\":\"Line\"},{\"attributes\":{},\"id\":\"5044\",\"type\":\"BasicTicker\"},{\"attributes\":{\"label\":{\"value\":\"coacervate\"},\"renderers\":[{\"id\":\"5079\"}]},\"id\":\"5090\",\"type\":\"LegendItem\"},{\"attributes\":{\"axis\":{\"id\":\"5043\"},\"dimension\":1,\"ticker\":null},\"id\":\"5046\",\"type\":\"Grid\"},{\"attributes\":{\"overlay\":{\"id\":\"5053\"}},\"id\":\"5049\",\"type\":\"BoxZoomTool\"},{\"attributes\":{\"axis\":{\"id\":\"5039\"},\"ticker\":null},\"id\":\"5042\",\"type\":\"Grid\"},{\"attributes\":{\"line_alpha\":0.1,\"line_color\":\"blue\",\"line_width\":6,\"x\":{\"field\":\"rhoPCI\"},\"y\":{\"field\":\"T\"}},\"id\":\"5064\",\"type\":\"Line\"},{\"attributes\":{\"source\":{\"id\":\"5061\"}},\"id\":\"5080\",\"type\":\"CDSView\"},{\"attributes\":{},\"id\":\"5089\",\"type\":\"Selection\"},{\"attributes\":{\"data_source\":{\"id\":\"5061\"},\"glyph\":{\"id\":\"5063\"},\"hover_glyph\":null,\"muted_glyph\":null,\"nonselection_glyph\":{\"id\":\"5064\"},\"selection_glyph\":null,\"view\":{\"id\":\"5066\"}},\"id\":\"5065\",\"type\":\"GlyphRenderer\"},{\"attributes\":{\"text\":\"1.85 M Salt, 0.30 M Polymer, N = 100, f = 1.00, sig = 4.00 A\",\"text_font_size\":{\"value\":\"12pt\"}},\"id\":\"5068\",\"type\":\"Title\"},{\"attributes\":{\"active_drag\":\"auto\",\"active_inspect\":\"auto\",\"active_multi\":null,\"active_scroll\":\"auto\",\"active_tap\":\"auto\",\"tools\":[{\"id\":\"5047\"},{\"id\":\"5048\"},{\"id\":\"5049\"},{\"id\":\"5050\"},{\"id\":\"5051\"},{\"id\":\"5052\"},{\"id\":\"5093\"}]},\"id\":\"5054\",\"type\":\"Toolbar\"},{\"attributes\":{\"line_color\":\"red\",\"line_width\":6,\"x\":{\"field\":\"rhoPCII\"},\"y\":{\"field\":\"T\"}},\"id\":\"5077\",\"type\":\"Line\"},{\"attributes\":{\"end\":60},\"id\":\"5096\",\"type\":\"Range1d\"},{\"attributes\":{\"data\":{\"BJ\":{\"__ndarray__\":\"zczMzMzM/D+amZmZmZn9P2ZmZmZmZv4/MzMzMzMz/z8=\",\"dtype\":\"float64\",\"shape\":[4]},\"T\":{\"__ndarray__\":\"8NuFVR78N0BYIn8QKNZCQOCT7rROL0hAYHEif/+hTEA=\",\"dtype\":\"float64\",\"shape\":[4]},\"index\":[0,1,2,3],\"rhoPCI\":{\"__ndarray__\":\"GKhE7D0Auj/TvfTNhoayP1XFWDXMO6s/0CQLG+tTpD8=\",\"dtype\":\"float64\",\"shape\":[4]},\"rhoPCII\":{\"__ndarray__\":\"GRSFFi1x4j9pv/olLojlP7EytaDbPOg/SJI8dXO06j8=\",\"dtype\":\"float64\",\"shape\":[4]}},\"selected\":{\"id\":\"5089\"},\"selection_policy\":{\"id\":\"5088\"}},\"id\":\"5061\",\"type\":\"ColumnDataSource\"},{\"attributes\":{},\"id\":\"5052\",\"type\":\"HelpTool\"}],\"root_ids\":[\"5030\"]},\"title\":\"Bokeh Application\",\"version\":\"2.0.1\"}};\n",
       "  var render_items = [{\"docid\":\"b2ff15d2-132b-46b8-b64c-941448719e12\",\"root_ids\":[\"5030\"],\"roots\":{\"5030\":\"213affb7-4d64-48bc-a73b-d1a217f2f82f\"}}];\n",
       "  root.Bokeh.embed.embed_items_notebook(docs_json, render_items);\n",
       "\n",
       "  }\n",
       "  if (root.Bokeh !== undefined) {\n",
       "    embed_document(root);\n",
       "  } else {\n",
       "    var attempts = 0;\n",
       "    var timer = setInterval(function(root) {\n",
       "      if (root.Bokeh !== undefined) {\n",
       "        clearInterval(timer);\n",
       "        embed_document(root);\n",
       "      } else {\n",
       "        attempts++;\n",
       "        if (attempts > 100) {\n",
       "          clearInterval(timer);\n",
       "          console.log(\"Bokeh: ERROR: Unable to run BokehJS code because BokehJS library is missing\");\n",
       "        }\n",
       "      }\n",
       "    }, 10, root)\n",
       "  }\n",
       "})(window);"
      ],
      "application/vnd.bokehjs_exec.v0+json": ""
     },
     "metadata": {
      "application/vnd.bokehjs_exec.v0+json": {
       "id": "5030"
      }
     },
     "output_type": "display_data"
    },
    {
     "data": {
      "text/html": [
       "\n",
       "\n",
       "\n",
       "\n",
       "\n",
       "\n",
       "  <div class=\"bk-root\" id=\"8ea69d43-be58-4e94-8391-279935b580dd\" data-root-id=\"5332\"></div>\n"
      ]
     },
     "metadata": {},
     "output_type": "display_data"
    },
    {
     "data": {
      "application/javascript": [
       "(function(root) {\n",
       "  function embed_document(root) {\n",
       "    \n",
       "  var docs_json = {\"b807b34f-ca3d-4b90-b49b-1222feee0ad2\":{\"roots\":{\"references\":[{\"attributes\":{\"below\":[{\"id\":\"5341\"}],\"center\":[{\"id\":\"5344\"},{\"id\":\"5348\"},{\"id\":\"5376\"}],\"left\":[{\"id\":\"5345\"}],\"plot_height\":500,\"plot_width\":500,\"renderers\":[{\"id\":\"5367\"},{\"id\":\"5381\"}],\"title\":{\"id\":\"5370\"},\"toolbar\":{\"id\":\"5356\"},\"x_range\":{\"id\":\"5397\"},\"x_scale\":{\"id\":\"5337\"},\"y_range\":{\"id\":\"5398\"},\"y_scale\":{\"id\":\"5339\"}},\"id\":\"5332\",\"subtype\":\"Figure\",\"type\":\"Plot\"},{\"attributes\":{\"data_source\":{\"id\":\"5363\"},\"glyph\":{\"id\":\"5365\"},\"hover_glyph\":null,\"muted_glyph\":null,\"nonselection_glyph\":{\"id\":\"5366\"},\"selection_glyph\":null,\"view\":{\"id\":\"5368\"}},\"id\":\"5367\",\"type\":\"GlyphRenderer\"},{\"attributes\":{\"bottom_units\":\"screen\",\"fill_alpha\":0.5,\"fill_color\":\"lightgrey\",\"left_units\":\"screen\",\"level\":\"overlay\",\"line_alpha\":1.0,\"line_color\":\"black\",\"line_dash\":[4,4],\"line_width\":2,\"render_mode\":\"css\",\"right_units\":\"screen\",\"top_units\":\"screen\"},\"id\":\"5355\",\"type\":\"BoxAnnotation\"},{\"attributes\":{\"label\":{\"value\":\"supernatant\"},\"renderers\":[{\"id\":\"5367\"}]},\"id\":\"5377\",\"type\":\"LegendItem\"},{\"attributes\":{\"line_color\":\"blue\",\"line_width\":6,\"x\":{\"field\":\"rhoPCI\"},\"y\":{\"field\":\"T\"}},\"id\":\"5365\",\"type\":\"Line\"},{\"attributes\":{\"label\":{\"value\":\"coacervate\"},\"renderers\":[{\"id\":\"5381\"}]},\"id\":\"5392\",\"type\":\"LegendItem\"},{\"attributes\":{},\"id\":\"5337\",\"type\":\"LinearScale\"},{\"attributes\":{\"callback\":null,\"tooltips\":[[\"Temperature [$^{\\\\circ}$C]\",\"@T\"],[\"polyanion density (I)\",\"@rhoPCI\"],[\"polyanion density (II)\",\"@rhoPCII\"]]},\"id\":\"5395\",\"type\":\"HoverTool\"},{\"attributes\":{\"line_alpha\":0.1,\"line_color\":\"red\",\"line_width\":6,\"x\":{\"field\":\"rhoPCII\"},\"y\":{\"field\":\"T\"}},\"id\":\"5380\",\"type\":\"Line\"},{\"attributes\":{\"click_policy\":\"hide\",\"items\":[{\"id\":\"5377\"},{\"id\":\"5392\"}],\"label_text_font_size\":\"14pt\",\"location\":\"bottom_right\"},\"id\":\"5376\",\"type\":\"Legend\"},{\"attributes\":{},\"id\":\"5391\",\"type\":\"Selection\"},{\"attributes\":{\"data\":{\"BJ\":{\"__ndarray__\":\"mpmZmZmZ/T9mZmZmZmb+PzMzMzMzM/8/\",\"dtype\":\"float64\",\"shape\":[3]},\"T\":{\"__ndarray__\":\"WCJ/ECjWQkDgk+60Ti9IQGBxIn//oUxA\",\"dtype\":\"float64\",\"shape\":[3]},\"index\":[0,1,2],\"rhoPCI\":{\"__ndarray__\":\"GNFA/Z/RvD8UU380WHq0PywuYIlvMq4/\",\"dtype\":\"float64\",\"shape\":[3]},\"rhoPCII\":{\"__ndarray__\":\"uIrFFUHJ4T+6M+0yMfXkP98I24xwsec/\",\"dtype\":\"float64\",\"shape\":[3]}},\"selected\":{\"id\":\"5391\"},\"selection_policy\":{\"id\":\"5390\"}},\"id\":\"5363\",\"type\":\"ColumnDataSource\"},{\"attributes\":{},\"id\":\"5339\",\"type\":\"LinearScale\"},{\"attributes\":{\"data_source\":{\"id\":\"5363\"},\"glyph\":{\"id\":\"5379\"},\"hover_glyph\":null,\"muted_glyph\":null,\"nonselection_glyph\":{\"id\":\"5380\"},\"selection_glyph\":null,\"view\":{\"id\":\"5382\"}},\"id\":\"5381\",\"type\":\"GlyphRenderer\"},{\"attributes\":{},\"id\":\"5353\",\"type\":\"ResetTool\"},{\"attributes\":{\"axis\":{\"id\":\"5341\"},\"ticker\":null},\"id\":\"5344\",\"type\":\"Grid\"},{\"attributes\":{\"line_alpha\":0.1,\"line_color\":\"blue\",\"line_width\":6,\"x\":{\"field\":\"rhoPCI\"},\"y\":{\"field\":\"T\"}},\"id\":\"5366\",\"type\":\"Line\"},{\"attributes\":{\"source\":{\"id\":\"5363\"}},\"id\":\"5368\",\"type\":\"CDSView\"},{\"attributes\":{\"text\":\"1.90 M Salt, 0.30 M Polymer, N = 100, f = 1.00, sig = 4.00 A\",\"text_font_size\":{\"value\":\"12pt\"}},\"id\":\"5370\",\"type\":\"Title\"},{\"attributes\":{\"line_color\":\"red\",\"line_width\":6,\"x\":{\"field\":\"rhoPCII\"},\"y\":{\"field\":\"T\"}},\"id\":\"5379\",\"type\":\"Line\"},{\"attributes\":{\"active_drag\":\"auto\",\"active_inspect\":\"auto\",\"active_multi\":null,\"active_scroll\":\"auto\",\"active_tap\":\"auto\",\"tools\":[{\"id\":\"5349\"},{\"id\":\"5350\"},{\"id\":\"5351\"},{\"id\":\"5352\"},{\"id\":\"5353\"},{\"id\":\"5354\"},{\"id\":\"5395\"}]},\"id\":\"5356\",\"type\":\"Toolbar\"},{\"attributes\":{\"end\":60},\"id\":\"5398\",\"type\":\"Range1d\"},{\"attributes\":{\"axis_label\":\"polyanion density [mol/L]\",\"axis_label_text_font_size\":\"18pt\",\"formatter\":{\"id\":\"5373\"},\"major_label_text_font_size\":\"14pt\",\"ticker\":{\"id\":\"5342\"}},\"id\":\"5341\",\"type\":\"LinearAxis\"},{\"attributes\":{},\"id\":\"5346\",\"type\":\"BasicTicker\"},{\"attributes\":{},\"id\":\"5354\",\"type\":\"HelpTool\"},{\"attributes\":{},\"id\":\"5342\",\"type\":\"BasicTicker\"},{\"attributes\":{\"overlay\":{\"id\":\"5355\"}},\"id\":\"5351\",\"type\":\"BoxZoomTool\"},{\"attributes\":{\"source\":{\"id\":\"5363\"}},\"id\":\"5382\",\"type\":\"CDSView\"},{\"attributes\":{},\"id\":\"5352\",\"type\":\"SaveTool\"},{\"attributes\":{\"axis_label\":\"Temperature [$^{\\\\circ}$C]\",\"axis_label_text_font_size\":\"18pt\",\"formatter\":{\"id\":\"5371\"},\"major_label_text_font_size\":\"14pt\",\"ticker\":{\"id\":\"5346\"}},\"id\":\"5345\",\"type\":\"LinearAxis\"},{\"attributes\":{},\"id\":\"5373\",\"type\":\"BasicTickFormatter\"},{\"attributes\":{},\"id\":\"5349\",\"type\":\"PanTool\"},{\"attributes\":{},\"id\":\"5350\",\"type\":\"WheelZoomTool\"},{\"attributes\":{},\"id\":\"5371\",\"type\":\"BasicTickFormatter\"},{\"attributes\":{},\"id\":\"5390\",\"type\":\"UnionRenderers\"},{\"attributes\":{\"axis\":{\"id\":\"5345\"},\"dimension\":1,\"ticker\":null},\"id\":\"5348\",\"type\":\"Grid\"},{\"attributes\":{\"end\":1.3,\"start\":-0.05},\"id\":\"5397\",\"type\":\"Range1d\"}],\"root_ids\":[\"5332\"]},\"title\":\"Bokeh Application\",\"version\":\"2.0.1\"}};\n",
       "  var render_items = [{\"docid\":\"b807b34f-ca3d-4b90-b49b-1222feee0ad2\",\"root_ids\":[\"5332\"],\"roots\":{\"5332\":\"8ea69d43-be58-4e94-8391-279935b580dd\"}}];\n",
       "  root.Bokeh.embed.embed_items_notebook(docs_json, render_items);\n",
       "\n",
       "  }\n",
       "  if (root.Bokeh !== undefined) {\n",
       "    embed_document(root);\n",
       "  } else {\n",
       "    var attempts = 0;\n",
       "    var timer = setInterval(function(root) {\n",
       "      if (root.Bokeh !== undefined) {\n",
       "        clearInterval(timer);\n",
       "        embed_document(root);\n",
       "      } else {\n",
       "        attempts++;\n",
       "        if (attempts > 100) {\n",
       "          clearInterval(timer);\n",
       "          console.log(\"Bokeh: ERROR: Unable to run BokehJS code because BokehJS library is missing\");\n",
       "        }\n",
       "      }\n",
       "    }, 10, root)\n",
       "  }\n",
       "})(window);"
      ],
      "application/vnd.bokehjs_exec.v0+json": ""
     },
     "metadata": {
      "application/vnd.bokehjs_exec.v0+json": {
       "id": "5332"
      }
     },
     "output_type": "display_data"
    }
   ],
   "source": [
    "plot.compare_to_exp(data, beads_2_M, N=N, sigma=sigma, f=f)"
   ]
  },
  {
   "cell_type": "markdown",
   "metadata": {},
   "source": [
    "## Vary N\n",
    "\n",
    "### N = 200"
   ]
  },
  {
   "cell_type": "code",
   "execution_count": 47,
   "metadata": {},
   "outputs": [],
   "source": [
    "# specifies parameters\n",
    "data_folder = 'vary_N/'\n",
    "N = 200\n",
    "f = 1\n",
    "sigma = 4 # A\n",
    "\n",
    "# loads data\n",
    "naming_structure = pe.get_naming_structure(N, '*', f=f)\n",
    "data = salt.load_data(data_folder, naming_structure=naming_structure, ext='output.dat')"
   ]
  },
  {
   "cell_type": "code",
   "execution_count": 48,
   "metadata": {},
   "outputs": [
    {
     "data": {
      "text/html": [
       "\n",
       "\n",
       "\n",
       "\n",
       "\n",
       "\n",
       "  <div class=\"bk-root\" id=\"5c1ebf13-53b2-42b3-ac53-ae5266fb802b\" data-root-id=\"23457\"></div>\n"
      ]
     },
     "metadata": {},
     "output_type": "display_data"
    },
    {
     "data": {
      "application/javascript": [
       "(function(root) {\n",
       "  function embed_document(root) {\n",
       "    \n",
       "  var docs_json = {\"93fcc1f0-13f1-473b-81d6-0f1d193caf57\":{\"roots\":{\"references\":[{\"attributes\":{\"below\":[{\"id\":\"23466\"}],\"center\":[{\"id\":\"23469\"},{\"id\":\"23473\"},{\"id\":\"23501\"}],\"left\":[{\"id\":\"23470\"}],\"plot_height\":500,\"plot_width\":500,\"renderers\":[{\"id\":\"23492\"},{\"id\":\"23506\"}],\"title\":{\"id\":\"23495\"},\"toolbar\":{\"id\":\"23481\"},\"x_range\":{\"id\":\"23522\"},\"x_scale\":{\"id\":\"23462\"},\"y_range\":{\"id\":\"23523\"},\"y_scale\":{\"id\":\"23464\"}},\"id\":\"23457\",\"subtype\":\"Figure\",\"type\":\"Plot\"},{\"attributes\":{\"end\":1.3,\"start\":-0.05},\"id\":\"23522\",\"type\":\"Range1d\"},{\"attributes\":{},\"id\":\"23462\",\"type\":\"LinearScale\"},{\"attributes\":{},\"id\":\"23467\",\"type\":\"BasicTicker\"},{\"attributes\":{\"data\":{\"BJ\":{\"__ndarray__\":\"AAAAAAAA/D/NzMzMzMz8P5qZmZmZmf0/ZmZmZmZm/j8zMzMzMzP/Pw==\",\"dtype\":\"float64\",\"shape\":[5]},\"T\":{\"__ndarray__\":\"ALAElp3ACkDw24VVHvw3QFgifxAo1kJA4JPutE4vSEBgcSJ//6FMQA==\",\"dtype\":\"float64\",\"shape\":[5]},\"index\":[0,1,2,3,4],\"rhoPCI\":{\"__ndarray__\":\"Qqwbbcv0PD/hbXa8zTcvPxwbJQWBgyA/DmxynFUhET89UbrnqnEBPw==\",\"dtype\":\"float64\",\"shape\":[5]},\"rhoPCII\":{\"__ndarray__\":\"L8pTDTop8j/us4p7+R3zP0RCl7duCvQ/Hwe2RLzv9D+3dmwhVM71Pw==\",\"dtype\":\"float64\",\"shape\":[5]}},\"selected\":{\"id\":\"23516\"},\"selection_policy\":{\"id\":\"23515\"}},\"id\":\"23488\",\"type\":\"ColumnDataSource\"},{\"attributes\":{},\"id\":\"23516\",\"type\":\"Selection\"},{\"attributes\":{\"axis\":{\"id\":\"23466\"},\"ticker\":null},\"id\":\"23469\",\"type\":\"Grid\"},{\"attributes\":{\"line_color\":\"red\",\"line_width\":6,\"x\":{\"field\":\"rhoPCII\"},\"y\":{\"field\":\"T\"}},\"id\":\"23504\",\"type\":\"Line\"},{\"attributes\":{\"data_source\":{\"id\":\"23488\"},\"glyph\":{\"id\":\"23504\"},\"hover_glyph\":null,\"muted_glyph\":null,\"nonselection_glyph\":{\"id\":\"23505\"},\"selection_glyph\":null,\"view\":{\"id\":\"23507\"}},\"id\":\"23506\",\"type\":\"GlyphRenderer\"},{\"attributes\":{},\"id\":\"23515\",\"type\":\"UnionRenderers\"},{\"attributes\":{\"line_alpha\":0.1,\"line_color\":\"red\",\"line_width\":6,\"x\":{\"field\":\"rhoPCII\"},\"y\":{\"field\":\"T\"}},\"id\":\"23505\",\"type\":\"Line\"},{\"attributes\":{},\"id\":\"23475\",\"type\":\"WheelZoomTool\"},{\"attributes\":{\"end\":60},\"id\":\"23523\",\"type\":\"Range1d\"},{\"attributes\":{\"source\":{\"id\":\"23488\"}},\"id\":\"23507\",\"type\":\"CDSView\"},{\"attributes\":{},\"id\":\"23474\",\"type\":\"PanTool\"},{\"attributes\":{\"active_drag\":\"auto\",\"active_inspect\":\"auto\",\"active_multi\":null,\"active_scroll\":\"auto\",\"active_tap\":\"auto\",\"tools\":[{\"id\":\"23474\"},{\"id\":\"23475\"},{\"id\":\"23476\"},{\"id\":\"23477\"},{\"id\":\"23478\"},{\"id\":\"23479\"},{\"id\":\"23520\"}]},\"id\":\"23481\",\"type\":\"Toolbar\"},{\"attributes\":{\"callback\":null,\"tooltips\":[[\"Temperature [C]\",\"@T\"],[\"polyanion density (I)\",\"@rhoPCI\"],[\"polyanion density (II)\",\"@rhoPCII\"]]},\"id\":\"23520\",\"type\":\"HoverTool\"},{\"attributes\":{},\"id\":\"23464\",\"type\":\"LinearScale\"},{\"attributes\":{},\"id\":\"23479\",\"type\":\"HelpTool\"},{\"attributes\":{\"label\":{\"value\":\"coacervate\"},\"renderers\":[{\"id\":\"23506\"}]},\"id\":\"23517\",\"type\":\"LegendItem\"},{\"attributes\":{},\"id\":\"23478\",\"type\":\"ResetTool\"},{\"attributes\":{},\"id\":\"23477\",\"type\":\"SaveTool\"},{\"attributes\":{\"label\":{\"value\":\"supernatant\"},\"renderers\":[{\"id\":\"23492\"}]},\"id\":\"23502\",\"type\":\"LegendItem\"},{\"attributes\":{\"source\":{\"id\":\"23488\"}},\"id\":\"23493\",\"type\":\"CDSView\"},{\"attributes\":{\"line_color\":\"blue\",\"line_width\":6,\"x\":{\"field\":\"rhoPCI\"},\"y\":{\"field\":\"T\"}},\"id\":\"23490\",\"type\":\"Line\"},{\"attributes\":{\"axis_label\":\"polyanion density [mol/L]\",\"axis_label_text_font_size\":\"18pt\",\"formatter\":{\"id\":\"23499\"},\"major_label_text_font_size\":\"14pt\",\"ticker\":{\"id\":\"23467\"}},\"id\":\"23466\",\"type\":\"LinearAxis\"},{\"attributes\":{\"text\":\"1.60 M Salt, 0.30 M Polymer, N = 200, f = 1.00, sig = 4 A\",\"text_font_size\":{\"value\":\"12pt\"}},\"id\":\"23495\",\"type\":\"Title\"},{\"attributes\":{\"overlay\":{\"id\":\"23480\"}},\"id\":\"23476\",\"type\":\"BoxZoomTool\"},{\"attributes\":{\"click_policy\":\"hide\",\"items\":[{\"id\":\"23502\"},{\"id\":\"23517\"}],\"label_text_font_size\":\"14pt\",\"location\":\"bottom_right\"},\"id\":\"23501\",\"type\":\"Legend\"},{\"attributes\":{\"bottom_units\":\"screen\",\"fill_alpha\":0.5,\"fill_color\":\"lightgrey\",\"left_units\":\"screen\",\"level\":\"overlay\",\"line_alpha\":1.0,\"line_color\":\"black\",\"line_dash\":[4,4],\"line_width\":2,\"render_mode\":\"css\",\"right_units\":\"screen\",\"top_units\":\"screen\"},\"id\":\"23480\",\"type\":\"BoxAnnotation\"},{\"attributes\":{},\"id\":\"23471\",\"type\":\"BasicTicker\"},{\"attributes\":{},\"id\":\"23499\",\"type\":\"BasicTickFormatter\"},{\"attributes\":{\"data_source\":{\"id\":\"23488\"},\"glyph\":{\"id\":\"23490\"},\"hover_glyph\":null,\"muted_glyph\":null,\"nonselection_glyph\":{\"id\":\"23491\"},\"selection_glyph\":null,\"view\":{\"id\":\"23493\"}},\"id\":\"23492\",\"type\":\"GlyphRenderer\"},{\"attributes\":{},\"id\":\"23497\",\"type\":\"BasicTickFormatter\"},{\"attributes\":{\"axis_label\":\"Temperature [C]\",\"axis_label_text_font_size\":\"18pt\",\"formatter\":{\"id\":\"23497\"},\"major_label_text_font_size\":\"14pt\",\"ticker\":{\"id\":\"23471\"}},\"id\":\"23470\",\"type\":\"LinearAxis\"},{\"attributes\":{\"line_alpha\":0.1,\"line_color\":\"blue\",\"line_width\":6,\"x\":{\"field\":\"rhoPCI\"},\"y\":{\"field\":\"T\"}},\"id\":\"23491\",\"type\":\"Line\"},{\"attributes\":{\"axis\":{\"id\":\"23470\"},\"dimension\":1,\"ticker\":null},\"id\":\"23473\",\"type\":\"Grid\"}],\"root_ids\":[\"23457\"]},\"title\":\"Bokeh Application\",\"version\":\"2.0.1\"}};\n",
       "  var render_items = [{\"docid\":\"93fcc1f0-13f1-473b-81d6-0f1d193caf57\",\"root_ids\":[\"23457\"],\"roots\":{\"23457\":\"5c1ebf13-53b2-42b3-ac53-ae5266fb802b\"}}];\n",
       "  root.Bokeh.embed.embed_items_notebook(docs_json, render_items);\n",
       "\n",
       "  }\n",
       "  if (root.Bokeh !== undefined) {\n",
       "    embed_document(root);\n",
       "  } else {\n",
       "    var attempts = 0;\n",
       "    var timer = setInterval(function(root) {\n",
       "      if (root.Bokeh !== undefined) {\n",
       "        clearInterval(timer);\n",
       "        embed_document(root);\n",
       "      } else {\n",
       "        attempts++;\n",
       "        if (attempts > 100) {\n",
       "          clearInterval(timer);\n",
       "          console.log(\"Bokeh: ERROR: Unable to run BokehJS code because BokehJS library is missing\");\n",
       "        }\n",
       "      }\n",
       "    }, 10, root)\n",
       "  }\n",
       "})(window);"
      ],
      "application/vnd.bokehjs_exec.v0+json": ""
     },
     "metadata": {
      "application/vnd.bokehjs_exec.v0+json": {
       "id": "23457"
      }
     },
     "output_type": "display_data"
    },
    {
     "data": {
      "text/html": [
       "\n",
       "\n",
       "\n",
       "\n",
       "\n",
       "\n",
       "  <div class=\"bk-root\" id=\"a8862bb8-f824-4777-a350-f27fd0a6d2ac\" data-root-id=\"24110\"></div>\n"
      ]
     },
     "metadata": {},
     "output_type": "display_data"
    },
    {
     "data": {
      "application/javascript": [
       "(function(root) {\n",
       "  function embed_document(root) {\n",
       "    \n",
       "  var docs_json = {\"ff7a309b-e250-4fab-a3a0-80cbb30207cf\":{\"roots\":{\"references\":[{\"attributes\":{\"below\":[{\"id\":\"24119\"}],\"center\":[{\"id\":\"24122\"},{\"id\":\"24126\"},{\"id\":\"24154\"}],\"left\":[{\"id\":\"24123\"}],\"plot_height\":500,\"plot_width\":500,\"renderers\":[{\"id\":\"24145\"},{\"id\":\"24159\"}],\"title\":{\"id\":\"24148\"},\"toolbar\":{\"id\":\"24134\"},\"x_range\":{\"id\":\"24175\"},\"x_scale\":{\"id\":\"24115\"},\"y_range\":{\"id\":\"24176\"},\"y_scale\":{\"id\":\"24117\"}},\"id\":\"24110\",\"subtype\":\"Figure\",\"type\":\"Plot\"},{\"attributes\":{\"axis_label\":\"polyanion density [mol/L]\",\"axis_label_text_font_size\":\"18pt\",\"formatter\":{\"id\":\"24152\"},\"major_label_text_font_size\":\"14pt\",\"ticker\":{\"id\":\"24120\"}},\"id\":\"24119\",\"type\":\"LinearAxis\"},{\"attributes\":{\"data_source\":{\"id\":\"24141\"},\"glyph\":{\"id\":\"24143\"},\"hover_glyph\":null,\"muted_glyph\":null,\"nonselection_glyph\":{\"id\":\"24144\"},\"selection_glyph\":null,\"view\":{\"id\":\"24146\"}},\"id\":\"24145\",\"type\":\"GlyphRenderer\"},{\"attributes\":{\"axis\":{\"id\":\"24119\"},\"ticker\":null},\"id\":\"24122\",\"type\":\"Grid\"},{\"attributes\":{},\"id\":\"24168\",\"type\":\"UnionRenderers\"},{\"attributes\":{},\"id\":\"24132\",\"type\":\"HelpTool\"},{\"attributes\":{\"line_alpha\":0.1,\"line_color\":\"red\",\"line_width\":6,\"x\":{\"field\":\"rhoPCII\"},\"y\":{\"field\":\"T\"}},\"id\":\"24158\",\"type\":\"Line\"},{\"attributes\":{},\"id\":\"24131\",\"type\":\"ResetTool\"},{\"attributes\":{\"text\":\"1.85 M Salt, 0.30 M Polymer, N = 200, f = 1.00, sig = 4 A\",\"text_font_size\":{\"value\":\"12pt\"}},\"id\":\"24148\",\"type\":\"Title\"},{\"attributes\":{\"callback\":null,\"tooltips\":[[\"Temperature [C]\",\"@T\"],[\"polyanion density (I)\",\"@rhoPCI\"],[\"polyanion density (II)\",\"@rhoPCII\"]]},\"id\":\"24173\",\"type\":\"HoverTool\"},{\"attributes\":{},\"id\":\"24130\",\"type\":\"SaveTool\"},{\"attributes\":{},\"id\":\"24169\",\"type\":\"Selection\"},{\"attributes\":{\"label\":{\"value\":\"coacervate\"},\"renderers\":[{\"id\":\"24159\"}]},\"id\":\"24170\",\"type\":\"LegendItem\"},{\"attributes\":{\"overlay\":{\"id\":\"24133\"}},\"id\":\"24129\",\"type\":\"BoxZoomTool\"},{\"attributes\":{},\"id\":\"24124\",\"type\":\"BasicTicker\"},{\"attributes\":{\"click_policy\":\"hide\",\"items\":[{\"id\":\"24155\"},{\"id\":\"24170\"}],\"label_text_font_size\":\"14pt\",\"location\":\"bottom_right\"},\"id\":\"24154\",\"type\":\"Legend\"},{\"attributes\":{\"source\":{\"id\":\"24141\"}},\"id\":\"24160\",\"type\":\"CDSView\"},{\"attributes\":{\"data\":{\"BJ\":{\"__ndarray__\":\"AAAAAAAA/D/NzMzMzMz8P5qZmZmZmf0/ZmZmZmZm/j8zMzMzMzP/Pw==\",\"dtype\":\"float64\",\"shape\":[5]},\"T\":{\"__ndarray__\":\"ALAElp3ACkDw24VVHvw3QFgifxAo1kJA4JPutE4vSEBgcSJ//6FMQA==\",\"dtype\":\"float64\",\"shape\":[5]},\"index\":[0,1,2,3,4],\"rhoPCI\":{\"__ndarray__\":\"Qbdn0q9fhj86hKmTctF8P9kWxTgGa3I/kCGNPthNZz+JeLOTlBZdPw==\",\"dtype\":\"float64\",\"shape\":[5]},\"rhoPCII\":{\"__ndarray__\":\"XCAK6Lw16T8uo306mm3rP6CXpDIYiO0/DsdhOvqJ7z/thCgUHbzwPw==\",\"dtype\":\"float64\",\"shape\":[5]}},\"selected\":{\"id\":\"24169\"},\"selection_policy\":{\"id\":\"24168\"}},\"id\":\"24141\",\"type\":\"ColumnDataSource\"},{\"attributes\":{\"bottom_units\":\"screen\",\"fill_alpha\":0.5,\"fill_color\":\"lightgrey\",\"left_units\":\"screen\",\"level\":\"overlay\",\"line_alpha\":1.0,\"line_color\":\"black\",\"line_dash\":[4,4],\"line_width\":2,\"render_mode\":\"css\",\"right_units\":\"screen\",\"top_units\":\"screen\"},\"id\":\"24133\",\"type\":\"BoxAnnotation\"},{\"attributes\":{\"axis\":{\"id\":\"24123\"},\"dimension\":1,\"ticker\":null},\"id\":\"24126\",\"type\":\"Grid\"},{\"attributes\":{\"source\":{\"id\":\"24141\"}},\"id\":\"24146\",\"type\":\"CDSView\"},{\"attributes\":{\"end\":60},\"id\":\"24176\",\"type\":\"Range1d\"},{\"attributes\":{\"line_color\":\"red\",\"line_width\":6,\"x\":{\"field\":\"rhoPCII\"},\"y\":{\"field\":\"T\"}},\"id\":\"24157\",\"type\":\"Line\"},{\"attributes\":{\"end\":1.3,\"start\":-0.05},\"id\":\"24175\",\"type\":\"Range1d\"},{\"attributes\":{},\"id\":\"24115\",\"type\":\"LinearScale\"},{\"attributes\":{},\"id\":\"24120\",\"type\":\"BasicTicker\"},{\"attributes\":{\"axis_label\":\"Temperature [C]\",\"axis_label_text_font_size\":\"18pt\",\"formatter\":{\"id\":\"24150\"},\"major_label_text_font_size\":\"14pt\",\"ticker\":{\"id\":\"24124\"}},\"id\":\"24123\",\"type\":\"LinearAxis\"},{\"attributes\":{},\"id\":\"24117\",\"type\":\"LinearScale\"},{\"attributes\":{\"line_alpha\":0.1,\"line_color\":\"blue\",\"line_width\":6,\"x\":{\"field\":\"rhoPCI\"},\"y\":{\"field\":\"T\"}},\"id\":\"24144\",\"type\":\"Line\"},{\"attributes\":{\"active_drag\":\"auto\",\"active_inspect\":\"auto\",\"active_multi\":null,\"active_scroll\":\"auto\",\"active_tap\":\"auto\",\"tools\":[{\"id\":\"24127\"},{\"id\":\"24128\"},{\"id\":\"24129\"},{\"id\":\"24130\"},{\"id\":\"24131\"},{\"id\":\"24132\"},{\"id\":\"24173\"}]},\"id\":\"24134\",\"type\":\"Toolbar\"},{\"attributes\":{},\"id\":\"24128\",\"type\":\"WheelZoomTool\"},{\"attributes\":{},\"id\":\"24152\",\"type\":\"BasicTickFormatter\"},{\"attributes\":{\"line_color\":\"blue\",\"line_width\":6,\"x\":{\"field\":\"rhoPCI\"},\"y\":{\"field\":\"T\"}},\"id\":\"24143\",\"type\":\"Line\"},{\"attributes\":{\"label\":{\"value\":\"supernatant\"},\"renderers\":[{\"id\":\"24145\"}]},\"id\":\"24155\",\"type\":\"LegendItem\"},{\"attributes\":{},\"id\":\"24127\",\"type\":\"PanTool\"},{\"attributes\":{},\"id\":\"24150\",\"type\":\"BasicTickFormatter\"},{\"attributes\":{\"data_source\":{\"id\":\"24141\"},\"glyph\":{\"id\":\"24157\"},\"hover_glyph\":null,\"muted_glyph\":null,\"nonselection_glyph\":{\"id\":\"24158\"},\"selection_glyph\":null,\"view\":{\"id\":\"24160\"}},\"id\":\"24159\",\"type\":\"GlyphRenderer\"}],\"root_ids\":[\"24110\"]},\"title\":\"Bokeh Application\",\"version\":\"2.0.1\"}};\n",
       "  var render_items = [{\"docid\":\"ff7a309b-e250-4fab-a3a0-80cbb30207cf\",\"root_ids\":[\"24110\"],\"roots\":{\"24110\":\"a8862bb8-f824-4777-a350-f27fd0a6d2ac\"}}];\n",
       "  root.Bokeh.embed.embed_items_notebook(docs_json, render_items);\n",
       "\n",
       "  }\n",
       "  if (root.Bokeh !== undefined) {\n",
       "    embed_document(root);\n",
       "  } else {\n",
       "    var attempts = 0;\n",
       "    var timer = setInterval(function(root) {\n",
       "      if (root.Bokeh !== undefined) {\n",
       "        clearInterval(timer);\n",
       "        embed_document(root);\n",
       "      } else {\n",
       "        attempts++;\n",
       "        if (attempts > 100) {\n",
       "          clearInterval(timer);\n",
       "          console.log(\"Bokeh: ERROR: Unable to run BokehJS code because BokehJS library is missing\");\n",
       "        }\n",
       "      }\n",
       "    }, 10, root)\n",
       "  }\n",
       "})(window);"
      ],
      "application/vnd.bokehjs_exec.v0+json": ""
     },
     "metadata": {
      "application/vnd.bokehjs_exec.v0+json": {
       "id": "24110"
      }
     },
     "output_type": "display_data"
    },
    {
     "data": {
      "text/html": [
       "\n",
       "\n",
       "\n",
       "\n",
       "\n",
       "\n",
       "  <div class=\"bk-root\" id=\"4a097cdb-0163-452d-84f0-10f57435ab9f\" data-root-id=\"24772\"></div>\n"
      ]
     },
     "metadata": {},
     "output_type": "display_data"
    },
    {
     "data": {
      "application/javascript": [
       "(function(root) {\n",
       "  function embed_document(root) {\n",
       "    \n",
       "  var docs_json = {\"6103c027-3bd0-4c2e-b4f1-cdab2619fb7d\":{\"roots\":{\"references\":[{\"attributes\":{\"below\":[{\"id\":\"24781\"}],\"center\":[{\"id\":\"24784\"},{\"id\":\"24788\"},{\"id\":\"24816\"}],\"left\":[{\"id\":\"24785\"}],\"plot_height\":500,\"plot_width\":500,\"renderers\":[{\"id\":\"24807\"},{\"id\":\"24821\"}],\"title\":{\"id\":\"24810\"},\"toolbar\":{\"id\":\"24796\"},\"x_range\":{\"id\":\"24837\"},\"x_scale\":{\"id\":\"24777\"},\"y_range\":{\"id\":\"24838\"},\"y_scale\":{\"id\":\"24779\"}},\"id\":\"24772\",\"subtype\":\"Figure\",\"type\":\"Plot\"},{\"attributes\":{\"axis_label\":\"Temperature [C]\",\"axis_label_text_font_size\":\"18pt\",\"formatter\":{\"id\":\"24812\"},\"major_label_text_font_size\":\"14pt\",\"ticker\":{\"id\":\"24786\"}},\"id\":\"24785\",\"type\":\"LinearAxis\"},{\"attributes\":{\"label\":{\"value\":\"coacervate\"},\"renderers\":[{\"id\":\"24821\"}]},\"id\":\"24832\",\"type\":\"LegendItem\"},{\"attributes\":{},\"id\":\"24794\",\"type\":\"HelpTool\"},{\"attributes\":{},\"id\":\"24831\",\"type\":\"Selection\"},{\"attributes\":{\"axis\":{\"id\":\"24785\"},\"dimension\":1,\"ticker\":null},\"id\":\"24788\",\"type\":\"Grid\"},{\"attributes\":{\"data\":{\"BJ\":{\"__ndarray__\":\"AAAAAAAA/D/NzMzMzMz8P5qZmZmZmf0/ZmZmZmZm/j8zMzMzMzP/Pw==\",\"dtype\":\"float64\",\"shape\":[5]},\"T\":{\"__ndarray__\":\"ALAElp3ACkDw24VVHvw3QFgifxAo1kJA4JPutE4vSEBgcSJ//6FMQA==\",\"dtype\":\"float64\",\"shape\":[5]},\"index\":[0,1,2,3,4],\"rhoPCI\":{\"__ndarray__\":\"o1Tnkz3xkj/pvZIve92IP5T+/7PeQIA/RUN8nB8cdT/aMCS/QCtrPw==\",\"dtype\":\"float64\",\"shape\":[5]},\"rhoPCII\":{\"__ndarray__\":\"/tbqqZ+k5j9qPKO42fnoP8hKPxXWLOs/7hpaqqZC7T/c8EDND0DvPw==\",\"dtype\":\"float64\",\"shape\":[5]}},\"selected\":{\"id\":\"24831\"},\"selection_policy\":{\"id\":\"24830\"}},\"id\":\"24803\",\"type\":\"ColumnDataSource\"},{\"attributes\":{},\"id\":\"24779\",\"type\":\"LinearScale\"},{\"attributes\":{},\"id\":\"24814\",\"type\":\"BasicTickFormatter\"},{\"attributes\":{},\"id\":\"24777\",\"type\":\"LinearScale\"},{\"attributes\":{},\"id\":\"24790\",\"type\":\"WheelZoomTool\"},{\"attributes\":{},\"id\":\"24782\",\"type\":\"BasicTicker\"},{\"attributes\":{\"line_color\":\"red\",\"line_width\":6,\"x\":{\"field\":\"rhoPCII\"},\"y\":{\"field\":\"T\"}},\"id\":\"24819\",\"type\":\"Line\"},{\"attributes\":{\"overlay\":{\"id\":\"24795\"}},\"id\":\"24791\",\"type\":\"BoxZoomTool\"},{\"attributes\":{\"data_source\":{\"id\":\"24803\"},\"glyph\":{\"id\":\"24819\"},\"hover_glyph\":null,\"muted_glyph\":null,\"nonselection_glyph\":{\"id\":\"24820\"},\"selection_glyph\":null,\"view\":{\"id\":\"24822\"}},\"id\":\"24821\",\"type\":\"GlyphRenderer\"},{\"attributes\":{},\"id\":\"24789\",\"type\":\"PanTool\"},{\"attributes\":{\"line_alpha\":0.1,\"line_color\":\"red\",\"line_width\":6,\"x\":{\"field\":\"rhoPCII\"},\"y\":{\"field\":\"T\"}},\"id\":\"24820\",\"type\":\"Line\"},{\"attributes\":{},\"id\":\"24830\",\"type\":\"UnionRenderers\"},{\"attributes\":{\"source\":{\"id\":\"24803\"}},\"id\":\"24822\",\"type\":\"CDSView\"},{\"attributes\":{\"callback\":null,\"tooltips\":[[\"Temperature [C]\",\"@T\"],[\"polyanion density (I)\",\"@rhoPCI\"],[\"polyanion density (II)\",\"@rhoPCII\"]]},\"id\":\"24835\",\"type\":\"HoverTool\"},{\"attributes\":{\"click_policy\":\"hide\",\"items\":[{\"id\":\"24817\"},{\"id\":\"24832\"}],\"label_text_font_size\":\"14pt\",\"location\":\"bottom_right\"},\"id\":\"24816\",\"type\":\"Legend\"},{\"attributes\":{\"text\":\"1.90 M Salt, 0.30 M Polymer, N = 200, f = 1.00, sig = 4 A\",\"text_font_size\":{\"value\":\"12pt\"}},\"id\":\"24810\",\"type\":\"Title\"},{\"attributes\":{\"line_alpha\":0.1,\"line_color\":\"blue\",\"line_width\":6,\"x\":{\"field\":\"rhoPCI\"},\"y\":{\"field\":\"T\"}},\"id\":\"24806\",\"type\":\"Line\"},{\"attributes\":{\"axis\":{\"id\":\"24781\"},\"ticker\":null},\"id\":\"24784\",\"type\":\"Grid\"},{\"attributes\":{\"end\":1.3,\"start\":-0.05},\"id\":\"24837\",\"type\":\"Range1d\"},{\"attributes\":{\"axis_label\":\"polyanion density [mol/L]\",\"axis_label_text_font_size\":\"18pt\",\"formatter\":{\"id\":\"24814\"},\"major_label_text_font_size\":\"14pt\",\"ticker\":{\"id\":\"24782\"}},\"id\":\"24781\",\"type\":\"LinearAxis\"},{\"attributes\":{\"source\":{\"id\":\"24803\"}},\"id\":\"24808\",\"type\":\"CDSView\"},{\"attributes\":{},\"id\":\"24792\",\"type\":\"SaveTool\"},{\"attributes\":{\"line_color\":\"blue\",\"line_width\":6,\"x\":{\"field\":\"rhoPCI\"},\"y\":{\"field\":\"T\"}},\"id\":\"24805\",\"type\":\"Line\"},{\"attributes\":{\"data_source\":{\"id\":\"24803\"},\"glyph\":{\"id\":\"24805\"},\"hover_glyph\":null,\"muted_glyph\":null,\"nonselection_glyph\":{\"id\":\"24806\"},\"selection_glyph\":null,\"view\":{\"id\":\"24808\"}},\"id\":\"24807\",\"type\":\"GlyphRenderer\"},{\"attributes\":{},\"id\":\"24812\",\"type\":\"BasicTickFormatter\"},{\"attributes\":{\"label\":{\"value\":\"supernatant\"},\"renderers\":[{\"id\":\"24807\"}]},\"id\":\"24817\",\"type\":\"LegendItem\"},{\"attributes\":{\"bottom_units\":\"screen\",\"fill_alpha\":0.5,\"fill_color\":\"lightgrey\",\"left_units\":\"screen\",\"level\":\"overlay\",\"line_alpha\":1.0,\"line_color\":\"black\",\"line_dash\":[4,4],\"line_width\":2,\"render_mode\":\"css\",\"right_units\":\"screen\",\"top_units\":\"screen\"},\"id\":\"24795\",\"type\":\"BoxAnnotation\"},{\"attributes\":{\"active_drag\":\"auto\",\"active_inspect\":\"auto\",\"active_multi\":null,\"active_scroll\":\"auto\",\"active_tap\":\"auto\",\"tools\":[{\"id\":\"24789\"},{\"id\":\"24790\"},{\"id\":\"24791\"},{\"id\":\"24792\"},{\"id\":\"24793\"},{\"id\":\"24794\"},{\"id\":\"24835\"}]},\"id\":\"24796\",\"type\":\"Toolbar\"},{\"attributes\":{\"end\":60},\"id\":\"24838\",\"type\":\"Range1d\"},{\"attributes\":{},\"id\":\"24793\",\"type\":\"ResetTool\"},{\"attributes\":{},\"id\":\"24786\",\"type\":\"BasicTicker\"}],\"root_ids\":[\"24772\"]},\"title\":\"Bokeh Application\",\"version\":\"2.0.1\"}};\n",
       "  var render_items = [{\"docid\":\"6103c027-3bd0-4c2e-b4f1-cdab2619fb7d\",\"root_ids\":[\"24772\"],\"roots\":{\"24772\":\"4a097cdb-0163-452d-84f0-10f57435ab9f\"}}];\n",
       "  root.Bokeh.embed.embed_items_notebook(docs_json, render_items);\n",
       "\n",
       "  }\n",
       "  if (root.Bokeh !== undefined) {\n",
       "    embed_document(root);\n",
       "  } else {\n",
       "    var attempts = 0;\n",
       "    var timer = setInterval(function(root) {\n",
       "      if (root.Bokeh !== undefined) {\n",
       "        clearInterval(timer);\n",
       "        embed_document(root);\n",
       "      } else {\n",
       "        attempts++;\n",
       "        if (attempts > 100) {\n",
       "          clearInterval(timer);\n",
       "          console.log(\"Bokeh: ERROR: Unable to run BokehJS code because BokehJS library is missing\");\n",
       "        }\n",
       "      }\n",
       "    }, 10, root)\n",
       "  }\n",
       "})(window);"
      ],
      "application/vnd.bokehjs_exec.v0+json": ""
     },
     "metadata": {
      "application/vnd.bokehjs_exec.v0+json": {
       "id": "24772"
      }
     },
     "output_type": "display_data"
    }
   ],
   "source": [
    "plot.compare_to_exp(data, beads_2_M, N=N, sigma=sigma, f=f)"
   ]
  },
  {
   "cell_type": "markdown",
   "metadata": {},
   "source": [
    "### N = 400"
   ]
  },
  {
   "cell_type": "code",
   "execution_count": 49,
   "metadata": {},
   "outputs": [],
   "source": [
    "# specifies parameters\n",
    "data_folder = 'vary_N/'\n",
    "N = 400\n",
    "f = 1\n",
    "sigma = 4 # A\n",
    "\n",
    "# loads data\n",
    "naming_structure = pe.get_naming_structure(N, '*', f=f)\n",
    "data = salt.load_data(data_folder, naming_structure=naming_structure, ext='output.dat')"
   ]
  },
  {
   "cell_type": "code",
   "execution_count": 50,
   "metadata": {},
   "outputs": [
    {
     "data": {
      "text/html": [
       "\n",
       "\n",
       "\n",
       "\n",
       "\n",
       "\n",
       "  <div class=\"bk-root\" id=\"15bb3091-b148-4864-a51a-1087604a7c8d\" data-root-id=\"25443\"></div>\n"
      ]
     },
     "metadata": {},
     "output_type": "display_data"
    },
    {
     "data": {
      "application/javascript": [
       "(function(root) {\n",
       "  function embed_document(root) {\n",
       "    \n",
       "  var docs_json = {\"26274664-15cd-4307-870b-a840700713ea\":{\"roots\":{\"references\":[{\"attributes\":{\"below\":[{\"id\":\"25452\"}],\"center\":[{\"id\":\"25455\"},{\"id\":\"25459\"},{\"id\":\"25487\"}],\"left\":[{\"id\":\"25456\"}],\"plot_height\":500,\"plot_width\":500,\"renderers\":[{\"id\":\"25478\"},{\"id\":\"25492\"}],\"title\":{\"id\":\"25481\"},\"toolbar\":{\"id\":\"25467\"},\"x_range\":{\"id\":\"25508\"},\"x_scale\":{\"id\":\"25448\"},\"y_range\":{\"id\":\"25509\"},\"y_scale\":{\"id\":\"25450\"}},\"id\":\"25443\",\"subtype\":\"Figure\",\"type\":\"Plot\"},{\"attributes\":{},\"id\":\"25464\",\"type\":\"ResetTool\"},{\"attributes\":{},\"id\":\"25485\",\"type\":\"BasicTickFormatter\"},{\"attributes\":{},\"id\":\"25501\",\"type\":\"UnionRenderers\"},{\"attributes\":{\"callback\":null,\"tooltips\":[[\"Temperature [C]\",\"@T\"],[\"polyanion density (I)\",\"@rhoPCI\"],[\"polyanion density (II)\",\"@rhoPCII\"]]},\"id\":\"25506\",\"type\":\"HoverTool\"},{\"attributes\":{\"end\":1.3,\"start\":-0.05},\"id\":\"25508\",\"type\":\"Range1d\"},{\"attributes\":{\"source\":{\"id\":\"25474\"}},\"id\":\"25479\",\"type\":\"CDSView\"},{\"attributes\":{\"line_color\":\"red\",\"line_width\":6,\"x\":{\"field\":\"rhoPCII\"},\"y\":{\"field\":\"T\"}},\"id\":\"25490\",\"type\":\"Line\"},{\"attributes\":{\"line_alpha\":0.1,\"line_color\":\"red\",\"line_width\":6,\"x\":{\"field\":\"rhoPCII\"},\"y\":{\"field\":\"T\"}},\"id\":\"25491\",\"type\":\"Line\"},{\"attributes\":{},\"id\":\"25461\",\"type\":\"WheelZoomTool\"},{\"attributes\":{\"data_source\":{\"id\":\"25474\"},\"glyph\":{\"id\":\"25490\"},\"hover_glyph\":null,\"muted_glyph\":null,\"nonselection_glyph\":{\"id\":\"25491\"},\"selection_glyph\":null,\"view\":{\"id\":\"25493\"}},\"id\":\"25492\",\"type\":\"GlyphRenderer\"},{\"attributes\":{\"line_alpha\":0.1,\"line_color\":\"blue\",\"line_width\":6,\"x\":{\"field\":\"rhoPCI\"},\"y\":{\"field\":\"T\"}},\"id\":\"25477\",\"type\":\"Line\"},{\"attributes\":{\"click_policy\":\"hide\",\"items\":[{\"id\":\"25488\"},{\"id\":\"25503\"}],\"label_text_font_size\":\"14pt\",\"location\":\"bottom_right\"},\"id\":\"25487\",\"type\":\"Legend\"},{\"attributes\":{},\"id\":\"25465\",\"type\":\"HelpTool\"},{\"attributes\":{},\"id\":\"25457\",\"type\":\"BasicTicker\"},{\"attributes\":{\"bottom_units\":\"screen\",\"fill_alpha\":0.5,\"fill_color\":\"lightgrey\",\"left_units\":\"screen\",\"level\":\"overlay\",\"line_alpha\":1.0,\"line_color\":\"black\",\"line_dash\":[4,4],\"line_width\":2,\"render_mode\":\"css\",\"right_units\":\"screen\",\"top_units\":\"screen\"},\"id\":\"25466\",\"type\":\"BoxAnnotation\"},{\"attributes\":{},\"id\":\"25460\",\"type\":\"PanTool\"},{\"attributes\":{},\"id\":\"25448\",\"type\":\"LinearScale\"},{\"attributes\":{\"label\":{\"value\":\"coacervate\"},\"renderers\":[{\"id\":\"25492\"}]},\"id\":\"25503\",\"type\":\"LegendItem\"},{\"attributes\":{\"text\":\"1.60 M Salt, 0.30 M Polymer, N = 400, f = 1.00, sig = 4 A\",\"text_font_size\":{\"value\":\"12pt\"}},\"id\":\"25481\",\"type\":\"Title\"},{\"attributes\":{\"data\":{\"BJ\":{\"__ndarray__\":\"AAAAAAAA/D/NzMzMzMz8P5qZmZmZmf0/ZmZmZmZm/j8zMzMzMzP/Pw==\",\"dtype\":\"float64\",\"shape\":[5]},\"T\":{\"__ndarray__\":\"ALAElp3ACkDw24VVHvw3QFgifxAo1kJA4JPutE4vSEBgcSJ//6FMQA==\",\"dtype\":\"float64\",\"shape\":[5]},\"index\":[0,1,2,3,4],\"rhoPCI\":{\"__ndarray__\":\"5SCZEu/rmD4J+RvheIx7PtG7aIjhY10+wIEthVQaPj7Co04OSKsdPg==\",\"dtype\":\"float64\",\"shape\":[5]},\"rhoPCII\":{\"__ndarray__\":\"jdvSRs5f8z/O7XHsIUf0P3XjZfaCJ/U/LS43L2EC9j/RRrcQANj2Pw==\",\"dtype\":\"float64\",\"shape\":[5]}},\"selected\":{\"id\":\"25502\"},\"selection_policy\":{\"id\":\"25501\"}},\"id\":\"25474\",\"type\":\"ColumnDataSource\"},{\"attributes\":{\"active_drag\":\"auto\",\"active_inspect\":\"auto\",\"active_multi\":null,\"active_scroll\":\"auto\",\"active_tap\":\"auto\",\"tools\":[{\"id\":\"25460\"},{\"id\":\"25461\"},{\"id\":\"25462\"},{\"id\":\"25463\"},{\"id\":\"25464\"},{\"id\":\"25465\"},{\"id\":\"25506\"}]},\"id\":\"25467\",\"type\":\"Toolbar\"},{\"attributes\":{\"axis_label\":\"polyanion density [mol/L]\",\"axis_label_text_font_size\":\"18pt\",\"formatter\":{\"id\":\"25485\"},\"major_label_text_font_size\":\"14pt\",\"ticker\":{\"id\":\"25453\"}},\"id\":\"25452\",\"type\":\"LinearAxis\"},{\"attributes\":{\"end\":60},\"id\":\"25509\",\"type\":\"Range1d\"},{\"attributes\":{},\"id\":\"25502\",\"type\":\"Selection\"},{\"attributes\":{\"line_color\":\"blue\",\"line_width\":6,\"x\":{\"field\":\"rhoPCI\"},\"y\":{\"field\":\"T\"}},\"id\":\"25476\",\"type\":\"Line\"},{\"attributes\":{\"data_source\":{\"id\":\"25474\"},\"glyph\":{\"id\":\"25476\"},\"hover_glyph\":null,\"muted_glyph\":null,\"nonselection_glyph\":{\"id\":\"25477\"},\"selection_glyph\":null,\"view\":{\"id\":\"25479\"}},\"id\":\"25478\",\"type\":\"GlyphRenderer\"},{\"attributes\":{},\"id\":\"25483\",\"type\":\"BasicTickFormatter\"},{\"attributes\":{\"label\":{\"value\":\"supernatant\"},\"renderers\":[{\"id\":\"25478\"}]},\"id\":\"25488\",\"type\":\"LegendItem\"},{\"attributes\":{},\"id\":\"25463\",\"type\":\"SaveTool\"},{\"attributes\":{\"overlay\":{\"id\":\"25466\"}},\"id\":\"25462\",\"type\":\"BoxZoomTool\"},{\"attributes\":{},\"id\":\"25453\",\"type\":\"BasicTicker\"},{\"attributes\":{\"source\":{\"id\":\"25474\"}},\"id\":\"25493\",\"type\":\"CDSView\"},{\"attributes\":{},\"id\":\"25450\",\"type\":\"LinearScale\"},{\"attributes\":{\"axis_label\":\"Temperature [C]\",\"axis_label_text_font_size\":\"18pt\",\"formatter\":{\"id\":\"25483\"},\"major_label_text_font_size\":\"14pt\",\"ticker\":{\"id\":\"25457\"}},\"id\":\"25456\",\"type\":\"LinearAxis\"},{\"attributes\":{\"axis\":{\"id\":\"25452\"},\"ticker\":null},\"id\":\"25455\",\"type\":\"Grid\"},{\"attributes\":{\"axis\":{\"id\":\"25456\"},\"dimension\":1,\"ticker\":null},\"id\":\"25459\",\"type\":\"Grid\"}],\"root_ids\":[\"25443\"]},\"title\":\"Bokeh Application\",\"version\":\"2.0.1\"}};\n",
       "  var render_items = [{\"docid\":\"26274664-15cd-4307-870b-a840700713ea\",\"root_ids\":[\"25443\"],\"roots\":{\"25443\":\"15bb3091-b148-4864-a51a-1087604a7c8d\"}}];\n",
       "  root.Bokeh.embed.embed_items_notebook(docs_json, render_items);\n",
       "\n",
       "  }\n",
       "  if (root.Bokeh !== undefined) {\n",
       "    embed_document(root);\n",
       "  } else {\n",
       "    var attempts = 0;\n",
       "    var timer = setInterval(function(root) {\n",
       "      if (root.Bokeh !== undefined) {\n",
       "        clearInterval(timer);\n",
       "        embed_document(root);\n",
       "      } else {\n",
       "        attempts++;\n",
       "        if (attempts > 100) {\n",
       "          clearInterval(timer);\n",
       "          console.log(\"Bokeh: ERROR: Unable to run BokehJS code because BokehJS library is missing\");\n",
       "        }\n",
       "      }\n",
       "    }, 10, root)\n",
       "  }\n",
       "})(window);"
      ],
      "application/vnd.bokehjs_exec.v0+json": ""
     },
     "metadata": {
      "application/vnd.bokehjs_exec.v0+json": {
       "id": "25443"
      }
     },
     "output_type": "display_data"
    },
    {
     "data": {
      "text/html": [
       "\n",
       "\n",
       "\n",
       "\n",
       "\n",
       "\n",
       "  <div class=\"bk-root\" id=\"c5b29890-4328-42af-8ec1-56ad7255f30f\" data-root-id=\"26123\"></div>\n"
      ]
     },
     "metadata": {},
     "output_type": "display_data"
    },
    {
     "data": {
      "application/javascript": [
       "(function(root) {\n",
       "  function embed_document(root) {\n",
       "    \n",
       "  var docs_json = {\"69f1d8dc-a201-4903-a4c4-234c0d2d74c4\":{\"roots\":{\"references\":[{\"attributes\":{\"below\":[{\"id\":\"26132\"}],\"center\":[{\"id\":\"26135\"},{\"id\":\"26139\"},{\"id\":\"26167\"}],\"left\":[{\"id\":\"26136\"}],\"plot_height\":500,\"plot_width\":500,\"renderers\":[{\"id\":\"26158\"},{\"id\":\"26172\"}],\"title\":{\"id\":\"26161\"},\"toolbar\":{\"id\":\"26147\"},\"x_range\":{\"id\":\"26188\"},\"x_scale\":{\"id\":\"26128\"},\"y_range\":{\"id\":\"26189\"},\"y_scale\":{\"id\":\"26130\"}},\"id\":\"26123\",\"subtype\":\"Figure\",\"type\":\"Plot\"},{\"attributes\":{},\"id\":\"26140\",\"type\":\"PanTool\"},{\"attributes\":{\"data_source\":{\"id\":\"26154\"},\"glyph\":{\"id\":\"26156\"},\"hover_glyph\":null,\"muted_glyph\":null,\"nonselection_glyph\":{\"id\":\"26157\"},\"selection_glyph\":null,\"view\":{\"id\":\"26159\"}},\"id\":\"26158\",\"type\":\"GlyphRenderer\"},{\"attributes\":{},\"id\":\"26144\",\"type\":\"ResetTool\"},{\"attributes\":{\"source\":{\"id\":\"26154\"}},\"id\":\"26159\",\"type\":\"CDSView\"},{\"attributes\":{},\"id\":\"26141\",\"type\":\"WheelZoomTool\"},{\"attributes\":{},\"id\":\"26143\",\"type\":\"SaveTool\"},{\"attributes\":{\"callback\":null,\"tooltips\":[[\"Temperature [C]\",\"@T\"],[\"polyanion density (I)\",\"@rhoPCI\"],[\"polyanion density (II)\",\"@rhoPCII\"]]},\"id\":\"26186\",\"type\":\"HoverTool\"},{\"attributes\":{\"end\":60},\"id\":\"26189\",\"type\":\"Range1d\"},{\"attributes\":{\"line_color\":\"blue\",\"line_width\":6,\"x\":{\"field\":\"rhoPCI\"},\"y\":{\"field\":\"T\"}},\"id\":\"26156\",\"type\":\"Line\"},{\"attributes\":{},\"id\":\"26133\",\"type\":\"BasicTicker\"},{\"attributes\":{},\"id\":\"26182\",\"type\":\"Selection\"},{\"attributes\":{},\"id\":\"26181\",\"type\":\"UnionRenderers\"},{\"attributes\":{\"bottom_units\":\"screen\",\"fill_alpha\":0.5,\"fill_color\":\"lightgrey\",\"left_units\":\"screen\",\"level\":\"overlay\",\"line_alpha\":1.0,\"line_color\":\"black\",\"line_dash\":[4,4],\"line_width\":2,\"render_mode\":\"css\",\"right_units\":\"screen\",\"top_units\":\"screen\"},\"id\":\"26146\",\"type\":\"BoxAnnotation\"},{\"attributes\":{\"overlay\":{\"id\":\"26146\"}},\"id\":\"26142\",\"type\":\"BoxZoomTool\"},{\"attributes\":{},\"id\":\"26145\",\"type\":\"HelpTool\"},{\"attributes\":{},\"id\":\"26165\",\"type\":\"BasicTickFormatter\"},{\"attributes\":{\"label\":{\"value\":\"supernatant\"},\"renderers\":[{\"id\":\"26158\"}]},\"id\":\"26168\",\"type\":\"LegendItem\"},{\"attributes\":{\"line_alpha\":0.1,\"line_color\":\"blue\",\"line_width\":6,\"x\":{\"field\":\"rhoPCI\"},\"y\":{\"field\":\"T\"}},\"id\":\"26157\",\"type\":\"Line\"},{\"attributes\":{\"data_source\":{\"id\":\"26154\"},\"glyph\":{\"id\":\"26170\"},\"hover_glyph\":null,\"muted_glyph\":null,\"nonselection_glyph\":{\"id\":\"26171\"},\"selection_glyph\":null,\"view\":{\"id\":\"26173\"}},\"id\":\"26172\",\"type\":\"GlyphRenderer\"},{\"attributes\":{},\"id\":\"26128\",\"type\":\"LinearScale\"},{\"attributes\":{\"axis\":{\"id\":\"26132\"},\"ticker\":null},\"id\":\"26135\",\"type\":\"Grid\"},{\"attributes\":{},\"id\":\"26137\",\"type\":\"BasicTicker\"},{\"attributes\":{\"click_policy\":\"hide\",\"items\":[{\"id\":\"26168\"},{\"id\":\"26183\"}],\"label_text_font_size\":\"14pt\",\"location\":\"bottom_right\"},\"id\":\"26167\",\"type\":\"Legend\"},{\"attributes\":{},\"id\":\"26163\",\"type\":\"BasicTickFormatter\"},{\"attributes\":{\"line_color\":\"red\",\"line_width\":6,\"x\":{\"field\":\"rhoPCII\"},\"y\":{\"field\":\"T\"}},\"id\":\"26170\",\"type\":\"Line\"},{\"attributes\":{\"label\":{\"value\":\"coacervate\"},\"renderers\":[{\"id\":\"26172\"}]},\"id\":\"26183\",\"type\":\"LegendItem\"},{\"attributes\":{},\"id\":\"26130\",\"type\":\"LinearScale\"},{\"attributes\":{\"end\":1.3,\"start\":-0.05},\"id\":\"26188\",\"type\":\"Range1d\"},{\"attributes\":{\"axis_label\":\"polyanion density [mol/L]\",\"axis_label_text_font_size\":\"18pt\",\"formatter\":{\"id\":\"26165\"},\"major_label_text_font_size\":\"14pt\",\"ticker\":{\"id\":\"26133\"}},\"id\":\"26132\",\"type\":\"LinearAxis\"},{\"attributes\":{\"axis_label\":\"Temperature [C]\",\"axis_label_text_font_size\":\"18pt\",\"formatter\":{\"id\":\"26163\"},\"major_label_text_font_size\":\"14pt\",\"ticker\":{\"id\":\"26137\"}},\"id\":\"26136\",\"type\":\"LinearAxis\"},{\"attributes\":{\"active_drag\":\"auto\",\"active_inspect\":\"auto\",\"active_multi\":null,\"active_scroll\":\"auto\",\"active_tap\":\"auto\",\"tools\":[{\"id\":\"26140\"},{\"id\":\"26141\"},{\"id\":\"26142\"},{\"id\":\"26143\"},{\"id\":\"26144\"},{\"id\":\"26145\"},{\"id\":\"26186\"}]},\"id\":\"26147\",\"type\":\"Toolbar\"},{\"attributes\":{\"source\":{\"id\":\"26154\"}},\"id\":\"26173\",\"type\":\"CDSView\"},{\"attributes\":{\"data\":{\"BJ\":{\"__ndarray__\":\"AAAAAAAA/D/NzMzMzMz8P5qZmZmZmf0/ZmZmZmZm/j8zMzMzMzP/Pw==\",\"dtype\":\"float64\",\"shape\":[5]},\"T\":{\"__ndarray__\":\"ALAElp3ACkDw24VVHvw3QFgifxAo1kJA4JPutE4vSEBgcSJ//6FMQA==\",\"dtype\":\"float64\",\"shape\":[5]},\"index\":[0,1,2,3,4],\"rhoPCI\":{\"__ndarray__\":\"KPhSdVZCLz8DyquE16gaPz1IyIHL1AU/C3EmhtM08T7ZmLSCXBnaPg==\",\"dtype\":\"float64\",\"shape\":[5]},\"rhoPCII\":{\"__ndarray__\":\"rqyNhDLg7D/y2kTwZ9TuP/MFRa/0W/A/PixY2f9F8T9iW149aSnyPw==\",\"dtype\":\"float64\",\"shape\":[5]}},\"selected\":{\"id\":\"26182\"},\"selection_policy\":{\"id\":\"26181\"}},\"id\":\"26154\",\"type\":\"ColumnDataSource\"},{\"attributes\":{\"line_alpha\":0.1,\"line_color\":\"red\",\"line_width\":6,\"x\":{\"field\":\"rhoPCII\"},\"y\":{\"field\":\"T\"}},\"id\":\"26171\",\"type\":\"Line\"},{\"attributes\":{\"text\":\"1.85 M Salt, 0.30 M Polymer, N = 400, f = 1.00, sig = 4 A\",\"text_font_size\":{\"value\":\"12pt\"}},\"id\":\"26161\",\"type\":\"Title\"},{\"attributes\":{\"axis\":{\"id\":\"26136\"},\"dimension\":1,\"ticker\":null},\"id\":\"26139\",\"type\":\"Grid\"}],\"root_ids\":[\"26123\"]},\"title\":\"Bokeh Application\",\"version\":\"2.0.1\"}};\n",
       "  var render_items = [{\"docid\":\"69f1d8dc-a201-4903-a4c4-234c0d2d74c4\",\"root_ids\":[\"26123\"],\"roots\":{\"26123\":\"c5b29890-4328-42af-8ec1-56ad7255f30f\"}}];\n",
       "  root.Bokeh.embed.embed_items_notebook(docs_json, render_items);\n",
       "\n",
       "  }\n",
       "  if (root.Bokeh !== undefined) {\n",
       "    embed_document(root);\n",
       "  } else {\n",
       "    var attempts = 0;\n",
       "    var timer = setInterval(function(root) {\n",
       "      if (root.Bokeh !== undefined) {\n",
       "        clearInterval(timer);\n",
       "        embed_document(root);\n",
       "      } else {\n",
       "        attempts++;\n",
       "        if (attempts > 100) {\n",
       "          clearInterval(timer);\n",
       "          console.log(\"Bokeh: ERROR: Unable to run BokehJS code because BokehJS library is missing\");\n",
       "        }\n",
       "      }\n",
       "    }, 10, root)\n",
       "  }\n",
       "})(window);"
      ],
      "application/vnd.bokehjs_exec.v0+json": ""
     },
     "metadata": {
      "application/vnd.bokehjs_exec.v0+json": {
       "id": "26123"
      }
     },
     "output_type": "display_data"
    },
    {
     "data": {
      "text/html": [
       "\n",
       "\n",
       "\n",
       "\n",
       "\n",
       "\n",
       "  <div class=\"bk-root\" id=\"9d04dd05-6474-43c4-8715-c86284ce46ed\" data-root-id=\"26812\"></div>\n"
      ]
     },
     "metadata": {},
     "output_type": "display_data"
    },
    {
     "data": {
      "application/javascript": [
       "(function(root) {\n",
       "  function embed_document(root) {\n",
       "    \n",
       "  var docs_json = {\"17c7dd15-4e3f-4bf3-a75b-3d09e57a020c\":{\"roots\":{\"references\":[{\"attributes\":{\"below\":[{\"id\":\"26821\"}],\"center\":[{\"id\":\"26824\"},{\"id\":\"26828\"},{\"id\":\"26856\"}],\"left\":[{\"id\":\"26825\"}],\"plot_height\":500,\"plot_width\":500,\"renderers\":[{\"id\":\"26847\"},{\"id\":\"26861\"}],\"title\":{\"id\":\"26850\"},\"toolbar\":{\"id\":\"26836\"},\"x_range\":{\"id\":\"26877\"},\"x_scale\":{\"id\":\"26817\"},\"y_range\":{\"id\":\"26878\"},\"y_scale\":{\"id\":\"26819\"}},\"id\":\"26812\",\"subtype\":\"Figure\",\"type\":\"Plot\"},{\"attributes\":{\"axis_label\":\"Temperature [C]\",\"axis_label_text_font_size\":\"18pt\",\"formatter\":{\"id\":\"26852\"},\"major_label_text_font_size\":\"14pt\",\"ticker\":{\"id\":\"26826\"}},\"id\":\"26825\",\"type\":\"LinearAxis\"},{\"attributes\":{},\"id\":\"26854\",\"type\":\"BasicTickFormatter\"},{\"attributes\":{\"callback\":null,\"tooltips\":[[\"Temperature [C]\",\"@T\"],[\"polyanion density (I)\",\"@rhoPCI\"],[\"polyanion density (II)\",\"@rhoPCII\"]]},\"id\":\"26875\",\"type\":\"HoverTool\"},{\"attributes\":{\"bottom_units\":\"screen\",\"fill_alpha\":0.5,\"fill_color\":\"lightgrey\",\"left_units\":\"screen\",\"level\":\"overlay\",\"line_alpha\":1.0,\"line_color\":\"black\",\"line_dash\":[4,4],\"line_width\":2,\"render_mode\":\"css\",\"right_units\":\"screen\",\"top_units\":\"screen\"},\"id\":\"26835\",\"type\":\"BoxAnnotation\"},{\"attributes\":{},\"id\":\"26819\",\"type\":\"LinearScale\"},{\"attributes\":{},\"id\":\"26829\",\"type\":\"PanTool\"},{\"attributes\":{\"axis\":{\"id\":\"26825\"},\"dimension\":1,\"ticker\":null},\"id\":\"26828\",\"type\":\"Grid\"},{\"attributes\":{\"click_policy\":\"hide\",\"items\":[{\"id\":\"26857\"},{\"id\":\"26872\"}],\"label_text_font_size\":\"14pt\",\"location\":\"bottom_right\"},\"id\":\"26856\",\"type\":\"Legend\"},{\"attributes\":{\"end\":1.3,\"start\":-0.05},\"id\":\"26877\",\"type\":\"Range1d\"},{\"attributes\":{\"data_source\":{\"id\":\"26843\"},\"glyph\":{\"id\":\"26845\"},\"hover_glyph\":null,\"muted_glyph\":null,\"nonselection_glyph\":{\"id\":\"26846\"},\"selection_glyph\":null,\"view\":{\"id\":\"26848\"}},\"id\":\"26847\",\"type\":\"GlyphRenderer\"},{\"attributes\":{\"line_color\":\"red\",\"line_width\":6,\"x\":{\"field\":\"rhoPCII\"},\"y\":{\"field\":\"T\"}},\"id\":\"26859\",\"type\":\"Line\"},{\"attributes\":{\"label\":{\"value\":\"supernatant\"},\"renderers\":[{\"id\":\"26847\"}]},\"id\":\"26857\",\"type\":\"LegendItem\"},{\"attributes\":{},\"id\":\"26871\",\"type\":\"Selection\"},{\"attributes\":{\"line_alpha\":0.1,\"line_color\":\"blue\",\"line_width\":6,\"x\":{\"field\":\"rhoPCI\"},\"y\":{\"field\":\"T\"}},\"id\":\"26846\",\"type\":\"Line\"},{\"attributes\":{},\"id\":\"26834\",\"type\":\"HelpTool\"},{\"attributes\":{\"axis_label\":\"polyanion density [mol/L]\",\"axis_label_text_font_size\":\"18pt\",\"formatter\":{\"id\":\"26854\"},\"major_label_text_font_size\":\"14pt\",\"ticker\":{\"id\":\"26822\"}},\"id\":\"26821\",\"type\":\"LinearAxis\"},{\"attributes\":{\"source\":{\"id\":\"26843\"}},\"id\":\"26848\",\"type\":\"CDSView\"},{\"attributes\":{},\"id\":\"26826\",\"type\":\"BasicTicker\"},{\"attributes\":{\"source\":{\"id\":\"26843\"}},\"id\":\"26862\",\"type\":\"CDSView\"},{\"attributes\":{},\"id\":\"26822\",\"type\":\"BasicTicker\"},{\"attributes\":{\"overlay\":{\"id\":\"26835\"}},\"id\":\"26831\",\"type\":\"BoxZoomTool\"},{\"attributes\":{\"line_color\":\"blue\",\"line_width\":6,\"x\":{\"field\":\"rhoPCI\"},\"y\":{\"field\":\"T\"}},\"id\":\"26845\",\"type\":\"Line\"},{\"attributes\":{\"text\":\"1.90 M Salt, 0.30 M Polymer, N = 400, f = 1.00, sig = 4 A\",\"text_font_size\":{\"value\":\"12pt\"}},\"id\":\"26850\",\"type\":\"Title\"},{\"attributes\":{\"axis\":{\"id\":\"26821\"},\"ticker\":null},\"id\":\"26824\",\"type\":\"Grid\"},{\"attributes\":{},\"id\":\"26832\",\"type\":\"SaveTool\"},{\"attributes\":{\"end\":60},\"id\":\"26878\",\"type\":\"Range1d\"},{\"attributes\":{},\"id\":\"26852\",\"type\":\"BasicTickFormatter\"},{\"attributes\":{},\"id\":\"26817\",\"type\":\"LinearScale\"},{\"attributes\":{},\"id\":\"26870\",\"type\":\"UnionRenderers\"},{\"attributes\":{},\"id\":\"26830\",\"type\":\"WheelZoomTool\"},{\"attributes\":{\"line_alpha\":0.1,\"line_color\":\"red\",\"line_width\":6,\"x\":{\"field\":\"rhoPCII\"},\"y\":{\"field\":\"T\"}},\"id\":\"26860\",\"type\":\"Line\"},{\"attributes\":{\"data\":{\"BJ\":{\"__ndarray__\":\"AAAAAAAA/D/NzMzMzMz8P5qZmZmZmf0/ZmZmZmZm/j8zMzMzMzP/Pw==\",\"dtype\":\"float64\",\"shape\":[5]},\"T\":{\"__ndarray__\":\"ALAElp3ACkDw24VVHvw3QFgifxAo1kJA4JPutE4vSEBgcSJ//6FMQA==\",\"dtype\":\"float64\",\"shape\":[5]},\"index\":[0,1,2,3,4],\"rhoPCI\":{\"__ndarray__\":\"bkUDeFeRRD8SawbacuEyPwKOAQlrsCA/2byBltlkDD/36qzrY0v3Pg==\",\"dtype\":\"float64\",\"shape\":[5]},\"rhoPCII\":{\"__ndarray__\":\"hlJUJIS96j+3AJmbyr3sP2JvxeDuqu4/tD7D7NxD8D+NoQ8dtirxPw==\",\"dtype\":\"float64\",\"shape\":[5]}},\"selected\":{\"id\":\"26871\"},\"selection_policy\":{\"id\":\"26870\"}},\"id\":\"26843\",\"type\":\"ColumnDataSource\"},{\"attributes\":{\"label\":{\"value\":\"coacervate\"},\"renderers\":[{\"id\":\"26861\"}]},\"id\":\"26872\",\"type\":\"LegendItem\"},{\"attributes\":{\"data_source\":{\"id\":\"26843\"},\"glyph\":{\"id\":\"26859\"},\"hover_glyph\":null,\"muted_glyph\":null,\"nonselection_glyph\":{\"id\":\"26860\"},\"selection_glyph\":null,\"view\":{\"id\":\"26862\"}},\"id\":\"26861\",\"type\":\"GlyphRenderer\"},{\"attributes\":{\"active_drag\":\"auto\",\"active_inspect\":\"auto\",\"active_multi\":null,\"active_scroll\":\"auto\",\"active_tap\":\"auto\",\"tools\":[{\"id\":\"26829\"},{\"id\":\"26830\"},{\"id\":\"26831\"},{\"id\":\"26832\"},{\"id\":\"26833\"},{\"id\":\"26834\"},{\"id\":\"26875\"}]},\"id\":\"26836\",\"type\":\"Toolbar\"},{\"attributes\":{},\"id\":\"26833\",\"type\":\"ResetTool\"}],\"root_ids\":[\"26812\"]},\"title\":\"Bokeh Application\",\"version\":\"2.0.1\"}};\n",
       "  var render_items = [{\"docid\":\"17c7dd15-4e3f-4bf3-a75b-3d09e57a020c\",\"root_ids\":[\"26812\"],\"roots\":{\"26812\":\"9d04dd05-6474-43c4-8715-c86284ce46ed\"}}];\n",
       "  root.Bokeh.embed.embed_items_notebook(docs_json, render_items);\n",
       "\n",
       "  }\n",
       "  if (root.Bokeh !== undefined) {\n",
       "    embed_document(root);\n",
       "  } else {\n",
       "    var attempts = 0;\n",
       "    var timer = setInterval(function(root) {\n",
       "      if (root.Bokeh !== undefined) {\n",
       "        clearInterval(timer);\n",
       "        embed_document(root);\n",
       "      } else {\n",
       "        attempts++;\n",
       "        if (attempts > 100) {\n",
       "          clearInterval(timer);\n",
       "          console.log(\"Bokeh: ERROR: Unable to run BokehJS code because BokehJS library is missing\");\n",
       "        }\n",
       "      }\n",
       "    }, 10, root)\n",
       "  }\n",
       "})(window);"
      ],
      "application/vnd.bokehjs_exec.v0+json": ""
     },
     "metadata": {
      "application/vnd.bokehjs_exec.v0+json": {
       "id": "26812"
      }
     },
     "output_type": "display_data"
    }
   ],
   "source": [
    "plot.compare_to_exp(data, beads_2_M, N=N, sigma=sigma, f=f)"
   ]
  },
  {
   "cell_type": "markdown",
   "metadata": {},
   "source": [
    "### N = 1000"
   ]
  },
  {
   "cell_type": "code",
   "execution_count": 51,
   "metadata": {},
   "outputs": [],
   "source": [
    "# specifies parameters\n",
    "data_folder = 'vary_N/'\n",
    "N = 1000\n",
    "f = 1\n",
    "sigma = 4 # A\n",
    "\n",
    "# loads data\n",
    "naming_structure = pe.get_naming_structure(N, '*', f=f)\n",
    "data = salt.load_data(data_folder, naming_structure=naming_structure, ext='output.dat')"
   ]
  },
  {
   "cell_type": "code",
   "execution_count": 52,
   "metadata": {
    "scrolled": true
   },
   "outputs": [
    {
     "data": {
      "text/html": [
       "\n",
       "\n",
       "\n",
       "\n",
       "\n",
       "\n",
       "  <div class=\"bk-root\" id=\"06a27b74-b055-4f36-a41a-170b5fb50c2d\" data-root-id=\"27510\"></div>\n"
      ]
     },
     "metadata": {},
     "output_type": "display_data"
    },
    {
     "data": {
      "application/javascript": [
       "(function(root) {\n",
       "  function embed_document(root) {\n",
       "    \n",
       "  var docs_json = {\"a4dcb0ad-20d6-4a4d-a164-b4dc2a89f21a\":{\"roots\":{\"references\":[{\"attributes\":{\"below\":[{\"id\":\"27519\"}],\"center\":[{\"id\":\"27522\"},{\"id\":\"27526\"},{\"id\":\"27554\"}],\"left\":[{\"id\":\"27523\"}],\"plot_height\":500,\"plot_width\":500,\"renderers\":[{\"id\":\"27545\"},{\"id\":\"27559\"}],\"title\":{\"id\":\"27548\"},\"toolbar\":{\"id\":\"27534\"},\"x_range\":{\"id\":\"27575\"},\"x_scale\":{\"id\":\"27515\"},\"y_range\":{\"id\":\"27576\"},\"y_scale\":{\"id\":\"27517\"}},\"id\":\"27510\",\"subtype\":\"Figure\",\"type\":\"Plot\"},{\"attributes\":{\"data_source\":{\"id\":\"27541\"},\"glyph\":{\"id\":\"27557\"},\"hover_glyph\":null,\"muted_glyph\":null,\"nonselection_glyph\":{\"id\":\"27558\"},\"selection_glyph\":null,\"view\":{\"id\":\"27560\"}},\"id\":\"27559\",\"type\":\"GlyphRenderer\"},{\"attributes\":{\"source\":{\"id\":\"27541\"}},\"id\":\"27546\",\"type\":\"CDSView\"},{\"attributes\":{\"source\":{\"id\":\"27541\"}},\"id\":\"27560\",\"type\":\"CDSView\"},{\"attributes\":{},\"id\":\"27531\",\"type\":\"ResetTool\"},{\"attributes\":{\"data\":{\"BJ\":{\"__ndarray__\":\"AAAAAAAA/D/NzMzMzMz8P5qZmZmZmf0/ZmZmZmZm/j8zMzMzMzP/Pw==\",\"dtype\":\"float64\",\"shape\":[5]},\"T\":{\"__ndarray__\":\"ALAElp3ACkDw24VVHvw3QFgifxAo1kJA4JPutE4vSEBgcSJ//6FMQA==\",\"dtype\":\"float64\",\"shape\":[5]},\"index\":[0,1,2,3,4],\"rhoPCI\":{\"__ndarray__\":\"ec/TL9vkrTzgwuCypPBhPKWjqZYnPhM8tdZkdAP0wjvZMRLuzURxOw==\",\"dtype\":\"float64\",\"shape\":[5]},\"rhoPCII\":{\"__ndarray__\":\"ZQ8oCeYO9D/5EVwr5O70P88OkLQqyvU//MQI9dWf9j8z5WWwF3D3Pw==\",\"dtype\":\"float64\",\"shape\":[5]}},\"selected\":{\"id\":\"27569\"},\"selection_policy\":{\"id\":\"27568\"}},\"id\":\"27541\",\"type\":\"ColumnDataSource\"},{\"attributes\":{},\"id\":\"27530\",\"type\":\"SaveTool\"},{\"attributes\":{\"label\":{\"value\":\"coacervate\"},\"renderers\":[{\"id\":\"27559\"}]},\"id\":\"27570\",\"type\":\"LegendItem\"},{\"attributes\":{},\"id\":\"27528\",\"type\":\"WheelZoomTool\"},{\"attributes\":{},\"id\":\"27520\",\"type\":\"BasicTicker\"},{\"attributes\":{\"axis_label\":\"Temperature [C]\",\"axis_label_text_font_size\":\"18pt\",\"formatter\":{\"id\":\"27550\"},\"major_label_text_font_size\":\"14pt\",\"ticker\":{\"id\":\"27524\"}},\"id\":\"27523\",\"type\":\"LinearAxis\"},{\"attributes\":{\"callback\":null,\"tooltips\":[[\"Temperature [C]\",\"@T\"],[\"polyanion density (I)\",\"@rhoPCI\"],[\"polyanion density (II)\",\"@rhoPCII\"]]},\"id\":\"27573\",\"type\":\"HoverTool\"},{\"attributes\":{\"axis_label\":\"polyanion density [mol/L]\",\"axis_label_text_font_size\":\"18pt\",\"formatter\":{\"id\":\"27552\"},\"major_label_text_font_size\":\"14pt\",\"ticker\":{\"id\":\"27520\"}},\"id\":\"27519\",\"type\":\"LinearAxis\"},{\"attributes\":{\"bottom_units\":\"screen\",\"fill_alpha\":0.5,\"fill_color\":\"lightgrey\",\"left_units\":\"screen\",\"level\":\"overlay\",\"line_alpha\":1.0,\"line_color\":\"black\",\"line_dash\":[4,4],\"line_width\":2,\"render_mode\":\"css\",\"right_units\":\"screen\",\"top_units\":\"screen\"},\"id\":\"27533\",\"type\":\"BoxAnnotation\"},{\"attributes\":{\"data_source\":{\"id\":\"27541\"},\"glyph\":{\"id\":\"27543\"},\"hover_glyph\":null,\"muted_glyph\":null,\"nonselection_glyph\":{\"id\":\"27544\"},\"selection_glyph\":null,\"view\":{\"id\":\"27546\"}},\"id\":\"27545\",\"type\":\"GlyphRenderer\"},{\"attributes\":{},\"id\":\"27569\",\"type\":\"Selection\"},{\"attributes\":{},\"id\":\"27550\",\"type\":\"BasicTickFormatter\"},{\"attributes\":{\"axis\":{\"id\":\"27519\"},\"ticker\":null},\"id\":\"27522\",\"type\":\"Grid\"},{\"attributes\":{\"active_drag\":\"auto\",\"active_inspect\":\"auto\",\"active_multi\":null,\"active_scroll\":\"auto\",\"active_tap\":\"auto\",\"tools\":[{\"id\":\"27527\"},{\"id\":\"27528\"},{\"id\":\"27529\"},{\"id\":\"27530\"},{\"id\":\"27531\"},{\"id\":\"27532\"},{\"id\":\"27573\"}]},\"id\":\"27534\",\"type\":\"Toolbar\"},{\"attributes\":{\"click_policy\":\"hide\",\"items\":[{\"id\":\"27555\"},{\"id\":\"27570\"}],\"label_text_font_size\":\"14pt\",\"location\":\"bottom_right\"},\"id\":\"27554\",\"type\":\"Legend\"},{\"attributes\":{\"line_alpha\":0.1,\"line_color\":\"blue\",\"line_width\":6,\"x\":{\"field\":\"rhoPCI\"},\"y\":{\"field\":\"T\"}},\"id\":\"27544\",\"type\":\"Line\"},{\"attributes\":{\"line_alpha\":0.1,\"line_color\":\"red\",\"line_width\":6,\"x\":{\"field\":\"rhoPCII\"},\"y\":{\"field\":\"T\"}},\"id\":\"27558\",\"type\":\"Line\"},{\"attributes\":{\"end\":1.3,\"start\":-0.05},\"id\":\"27575\",\"type\":\"Range1d\"},{\"attributes\":{},\"id\":\"27552\",\"type\":\"BasicTickFormatter\"},{\"attributes\":{\"line_color\":\"blue\",\"line_width\":6,\"x\":{\"field\":\"rhoPCI\"},\"y\":{\"field\":\"T\"}},\"id\":\"27543\",\"type\":\"Line\"},{\"attributes\":{},\"id\":\"27527\",\"type\":\"PanTool\"},{\"attributes\":{\"axis\":{\"id\":\"27523\"},\"dimension\":1,\"ticker\":null},\"id\":\"27526\",\"type\":\"Grid\"},{\"attributes\":{\"label\":{\"value\":\"supernatant\"},\"renderers\":[{\"id\":\"27545\"}]},\"id\":\"27555\",\"type\":\"LegendItem\"},{\"attributes\":{\"line_color\":\"red\",\"line_width\":6,\"x\":{\"field\":\"rhoPCII\"},\"y\":{\"field\":\"T\"}},\"id\":\"27557\",\"type\":\"Line\"},{\"attributes\":{},\"id\":\"27517\",\"type\":\"LinearScale\"},{\"attributes\":{},\"id\":\"27568\",\"type\":\"UnionRenderers\"},{\"attributes\":{},\"id\":\"27532\",\"type\":\"HelpTool\"},{\"attributes\":{\"text\":\"1.60 M Salt, 0.30 M Polymer, N = 1000, f = 1.00, sig = 4 A\",\"text_font_size\":{\"value\":\"12pt\"}},\"id\":\"27548\",\"type\":\"Title\"},{\"attributes\":{},\"id\":\"27515\",\"type\":\"LinearScale\"},{\"attributes\":{\"overlay\":{\"id\":\"27533\"}},\"id\":\"27529\",\"type\":\"BoxZoomTool\"},{\"attributes\":{},\"id\":\"27524\",\"type\":\"BasicTicker\"},{\"attributes\":{\"end\":60},\"id\":\"27576\",\"type\":\"Range1d\"}],\"root_ids\":[\"27510\"]},\"title\":\"Bokeh Application\",\"version\":\"2.0.1\"}};\n",
       "  var render_items = [{\"docid\":\"a4dcb0ad-20d6-4a4d-a164-b4dc2a89f21a\",\"root_ids\":[\"27510\"],\"roots\":{\"27510\":\"06a27b74-b055-4f36-a41a-170b5fb50c2d\"}}];\n",
       "  root.Bokeh.embed.embed_items_notebook(docs_json, render_items);\n",
       "\n",
       "  }\n",
       "  if (root.Bokeh !== undefined) {\n",
       "    embed_document(root);\n",
       "  } else {\n",
       "    var attempts = 0;\n",
       "    var timer = setInterval(function(root) {\n",
       "      if (root.Bokeh !== undefined) {\n",
       "        clearInterval(timer);\n",
       "        embed_document(root);\n",
       "      } else {\n",
       "        attempts++;\n",
       "        if (attempts > 100) {\n",
       "          clearInterval(timer);\n",
       "          console.log(\"Bokeh: ERROR: Unable to run BokehJS code because BokehJS library is missing\");\n",
       "        }\n",
       "      }\n",
       "    }, 10, root)\n",
       "  }\n",
       "})(window);"
      ],
      "application/vnd.bokehjs_exec.v0+json": ""
     },
     "metadata": {
      "application/vnd.bokehjs_exec.v0+json": {
       "id": "27510"
      }
     },
     "output_type": "display_data"
    },
    {
     "data": {
      "text/html": [
       "\n",
       "\n",
       "\n",
       "\n",
       "\n",
       "\n",
       "  <div class=\"bk-root\" id=\"5b49ceee-74c4-4e22-af07-3e73cf3e3538\" data-root-id=\"28217\"></div>\n"
      ]
     },
     "metadata": {},
     "output_type": "display_data"
    },
    {
     "data": {
      "application/javascript": [
       "(function(root) {\n",
       "  function embed_document(root) {\n",
       "    \n",
       "  var docs_json = {\"551c6772-9232-4744-b6ae-a5929d2a14c5\":{\"roots\":{\"references\":[{\"attributes\":{\"below\":[{\"id\":\"28226\"}],\"center\":[{\"id\":\"28229\"},{\"id\":\"28233\"},{\"id\":\"28261\"}],\"left\":[{\"id\":\"28230\"}],\"plot_height\":500,\"plot_width\":500,\"renderers\":[{\"id\":\"28252\"},{\"id\":\"28266\"}],\"title\":{\"id\":\"28255\"},\"toolbar\":{\"id\":\"28241\"},\"x_range\":{\"id\":\"28282\"},\"x_scale\":{\"id\":\"28222\"},\"y_range\":{\"id\":\"28283\"},\"y_scale\":{\"id\":\"28224\"}},\"id\":\"28217\",\"subtype\":\"Figure\",\"type\":\"Plot\"},{\"attributes\":{\"data_source\":{\"id\":\"28248\"},\"glyph\":{\"id\":\"28264\"},\"hover_glyph\":null,\"muted_glyph\":null,\"nonselection_glyph\":{\"id\":\"28265\"},\"selection_glyph\":null,\"view\":{\"id\":\"28267\"}},\"id\":\"28266\",\"type\":\"GlyphRenderer\"},{\"attributes\":{},\"id\":\"28234\",\"type\":\"PanTool\"},{\"attributes\":{\"axis_label\":\"polyanion density [mol/L]\",\"axis_label_text_font_size\":\"18pt\",\"formatter\":{\"id\":\"28259\"},\"major_label_text_font_size\":\"14pt\",\"ticker\":{\"id\":\"28227\"}},\"id\":\"28226\",\"type\":\"LinearAxis\"},{\"attributes\":{},\"id\":\"28227\",\"type\":\"BasicTicker\"},{\"attributes\":{},\"id\":\"28259\",\"type\":\"BasicTickFormatter\"},{\"attributes\":{\"line_alpha\":0.1,\"line_color\":\"red\",\"line_width\":6,\"x\":{\"field\":\"rhoPCII\"},\"y\":{\"field\":\"T\"}},\"id\":\"28265\",\"type\":\"Line\"},{\"attributes\":{},\"id\":\"28257\",\"type\":\"BasicTickFormatter\"},{\"attributes\":{\"source\":{\"id\":\"28248\"}},\"id\":\"28253\",\"type\":\"CDSView\"},{\"attributes\":{},\"id\":\"28239\",\"type\":\"HelpTool\"},{\"attributes\":{},\"id\":\"28235\",\"type\":\"WheelZoomTool\"},{\"attributes\":{\"text\":\"1.85 M Salt, 0.30 M Polymer, N = 1000, f = 1.00, sig = 4 A\",\"text_font_size\":{\"value\":\"12pt\"}},\"id\":\"28255\",\"type\":\"Title\"},{\"attributes\":{\"callback\":null,\"tooltips\":[[\"Temperature [C]\",\"@T\"],[\"polyanion density (I)\",\"@rhoPCI\"],[\"polyanion density (II)\",\"@rhoPCII\"]]},\"id\":\"28280\",\"type\":\"HoverTool\"},{\"attributes\":{},\"id\":\"28224\",\"type\":\"LinearScale\"},{\"attributes\":{\"axis_label\":\"Temperature [C]\",\"axis_label_text_font_size\":\"18pt\",\"formatter\":{\"id\":\"28257\"},\"major_label_text_font_size\":\"14pt\",\"ticker\":{\"id\":\"28231\"}},\"id\":\"28230\",\"type\":\"LinearAxis\"},{\"attributes\":{},\"id\":\"28275\",\"type\":\"UnionRenderers\"},{\"attributes\":{\"line_color\":\"red\",\"line_width\":6,\"x\":{\"field\":\"rhoPCII\"},\"y\":{\"field\":\"T\"}},\"id\":\"28264\",\"type\":\"Line\"},{\"attributes\":{\"label\":{\"value\":\"coacervate\"},\"renderers\":[{\"id\":\"28266\"}]},\"id\":\"28277\",\"type\":\"LegendItem\"},{\"attributes\":{\"line_alpha\":0.1,\"line_color\":\"blue\",\"line_width\":6,\"x\":{\"field\":\"rhoPCI\"},\"y\":{\"field\":\"T\"}},\"id\":\"28251\",\"type\":\"Line\"},{\"attributes\":{\"label\":{\"value\":\"supernatant\"},\"renderers\":[{\"id\":\"28252\"}]},\"id\":\"28262\",\"type\":\"LegendItem\"},{\"attributes\":{\"source\":{\"id\":\"28248\"}},\"id\":\"28267\",\"type\":\"CDSView\"},{\"attributes\":{\"axis\":{\"id\":\"28230\"},\"dimension\":1,\"ticker\":null},\"id\":\"28233\",\"type\":\"Grid\"},{\"attributes\":{},\"id\":\"28276\",\"type\":\"Selection\"},{\"attributes\":{\"click_policy\":\"hide\",\"items\":[{\"id\":\"28262\"},{\"id\":\"28277\"}],\"label_text_font_size\":\"14pt\",\"location\":\"bottom_right\"},\"id\":\"28261\",\"type\":\"Legend\"},{\"attributes\":{\"end\":60},\"id\":\"28283\",\"type\":\"Range1d\"},{\"attributes\":{\"bottom_units\":\"screen\",\"fill_alpha\":0.5,\"fill_color\":\"lightgrey\",\"left_units\":\"screen\",\"level\":\"overlay\",\"line_alpha\":1.0,\"line_color\":\"black\",\"line_dash\":[4,4],\"line_width\":2,\"render_mode\":\"css\",\"right_units\":\"screen\",\"top_units\":\"screen\"},\"id\":\"28240\",\"type\":\"BoxAnnotation\"},{\"attributes\":{},\"id\":\"28222\",\"type\":\"LinearScale\"},{\"attributes\":{},\"id\":\"28238\",\"type\":\"ResetTool\"},{\"attributes\":{\"data_source\":{\"id\":\"28248\"},\"glyph\":{\"id\":\"28250\"},\"hover_glyph\":null,\"muted_glyph\":null,\"nonselection_glyph\":{\"id\":\"28251\"},\"selection_glyph\":null,\"view\":{\"id\":\"28253\"}},\"id\":\"28252\",\"type\":\"GlyphRenderer\"},{\"attributes\":{},\"id\":\"28237\",\"type\":\"SaveTool\"},{\"attributes\":{\"axis\":{\"id\":\"28226\"},\"ticker\":null},\"id\":\"28229\",\"type\":\"Grid\"},{\"attributes\":{\"active_drag\":\"auto\",\"active_inspect\":\"auto\",\"active_multi\":null,\"active_scroll\":\"auto\",\"active_tap\":\"auto\",\"tools\":[{\"id\":\"28234\"},{\"id\":\"28235\"},{\"id\":\"28236\"},{\"id\":\"28237\"},{\"id\":\"28238\"},{\"id\":\"28239\"},{\"id\":\"28280\"}]},\"id\":\"28241\",\"type\":\"Toolbar\"},{\"attributes\":{\"overlay\":{\"id\":\"28240\"}},\"id\":\"28236\",\"type\":\"BoxZoomTool\"},{\"attributes\":{\"line_color\":\"blue\",\"line_width\":6,\"x\":{\"field\":\"rhoPCI\"},\"y\":{\"field\":\"T\"}},\"id\":\"28250\",\"type\":\"Line\"},{\"attributes\":{\"end\":1.3,\"start\":-0.05},\"id\":\"28282\",\"type\":\"Range1d\"},{\"attributes\":{},\"id\":\"28231\",\"type\":\"BasicTicker\"},{\"attributes\":{\"data\":{\"BJ\":{\"__ndarray__\":\"AAAAAAAA/D/NzMzMzMz8P5qZmZmZmf0/ZmZmZmZm/j8zMzMzMzP/Pw==\",\"dtype\":\"float64\",\"shape\":[5]},\"T\":{\"__ndarray__\":\"ALAElp3ACkDw24VVHvw3QFgifxAo1kJA4JPutE4vSEBgcSJ//6FMQA==\",\"dtype\":\"float64\",\"shape\":[5]},\"index\":[0,1,2,3,4],\"rhoPCI\":{\"__ndarray__\":\"SD837DFTLj4nRQT2oUb6PScnAUcLesQ9KqETr35EjT0Mn3GPCwdTPQ==\",\"dtype\":\"float64\",\"shape\":[5]},\"rhoPCII\":{\"__ndarray__\":\"xxs6+HvO7j9fiZpyzFLwP6HreFu0OPE/DPsrbSoY8j8j/MirifLyPw==\",\"dtype\":\"float64\",\"shape\":[5]}},\"selected\":{\"id\":\"28276\"},\"selection_policy\":{\"id\":\"28275\"}},\"id\":\"28248\",\"type\":\"ColumnDataSource\"}],\"root_ids\":[\"28217\"]},\"title\":\"Bokeh Application\",\"version\":\"2.0.1\"}};\n",
       "  var render_items = [{\"docid\":\"551c6772-9232-4744-b6ae-a5929d2a14c5\",\"root_ids\":[\"28217\"],\"roots\":{\"28217\":\"5b49ceee-74c4-4e22-af07-3e73cf3e3538\"}}];\n",
       "  root.Bokeh.embed.embed_items_notebook(docs_json, render_items);\n",
       "\n",
       "  }\n",
       "  if (root.Bokeh !== undefined) {\n",
       "    embed_document(root);\n",
       "  } else {\n",
       "    var attempts = 0;\n",
       "    var timer = setInterval(function(root) {\n",
       "      if (root.Bokeh !== undefined) {\n",
       "        clearInterval(timer);\n",
       "        embed_document(root);\n",
       "      } else {\n",
       "        attempts++;\n",
       "        if (attempts > 100) {\n",
       "          clearInterval(timer);\n",
       "          console.log(\"Bokeh: ERROR: Unable to run BokehJS code because BokehJS library is missing\");\n",
       "        }\n",
       "      }\n",
       "    }, 10, root)\n",
       "  }\n",
       "})(window);"
      ],
      "application/vnd.bokehjs_exec.v0+json": ""
     },
     "metadata": {
      "application/vnd.bokehjs_exec.v0+json": {
       "id": "28217"
      }
     },
     "output_type": "display_data"
    },
    {
     "data": {
      "text/html": [
       "\n",
       "\n",
       "\n",
       "\n",
       "\n",
       "\n",
       "  <div class=\"bk-root\" id=\"562c3cce-4cf0-42b1-9c54-1e9faf39d735\" data-root-id=\"28933\"></div>\n"
      ]
     },
     "metadata": {},
     "output_type": "display_data"
    },
    {
     "data": {
      "application/javascript": [
       "(function(root) {\n",
       "  function embed_document(root) {\n",
       "    \n",
       "  var docs_json = {\"e7460444-b66c-4de1-bb04-08f35d7eaef1\":{\"roots\":{\"references\":[{\"attributes\":{\"below\":[{\"id\":\"28942\"}],\"center\":[{\"id\":\"28945\"},{\"id\":\"28949\"},{\"id\":\"28977\"}],\"left\":[{\"id\":\"28946\"}],\"plot_height\":500,\"plot_width\":500,\"renderers\":[{\"id\":\"28968\"},{\"id\":\"28982\"}],\"title\":{\"id\":\"28971\"},\"toolbar\":{\"id\":\"28957\"},\"x_range\":{\"id\":\"28998\"},\"x_scale\":{\"id\":\"28938\"},\"y_range\":{\"id\":\"28999\"},\"y_scale\":{\"id\":\"28940\"}},\"id\":\"28933\",\"subtype\":\"Figure\",\"type\":\"Plot\"},{\"attributes\":{\"end\":60},\"id\":\"28999\",\"type\":\"Range1d\"},{\"attributes\":{\"axis\":{\"id\":\"28946\"},\"dimension\":1,\"ticker\":null},\"id\":\"28949\",\"type\":\"Grid\"},{\"attributes\":{\"data_source\":{\"id\":\"28964\"},\"glyph\":{\"id\":\"28966\"},\"hover_glyph\":null,\"muted_glyph\":null,\"nonselection_glyph\":{\"id\":\"28967\"},\"selection_glyph\":null,\"view\":{\"id\":\"28969\"}},\"id\":\"28968\",\"type\":\"GlyphRenderer\"},{\"attributes\":{\"text\":\"1.90 M Salt, 0.30 M Polymer, N = 1000, f = 1.00, sig = 4 A\",\"text_font_size\":{\"value\":\"12pt\"}},\"id\":\"28971\",\"type\":\"Title\"},{\"attributes\":{\"data\":{\"BJ\":{\"__ndarray__\":\"AAAAAAAA/D/NzMzMzMz8P5qZmZmZmf0/ZmZmZmZm/j8zMzMzMzP/Pw==\",\"dtype\":\"float64\",\"shape\":[5]},\"T\":{\"__ndarray__\":\"ALAElp3ACkDw24VVHvw3QFgifxAo1kJA4JPutE4vSEBgcSJ//6FMQA==\",\"dtype\":\"float64\",\"shape\":[5]},\"index\":[0,1,2,3,4],\"rhoPCI\":{\"__ndarray__\":\"Cqt8Ca+KZz4AQCG345Q4PnULOu7xMAc+XIK35hrk0z3QTb1qFm2fPQ==\",\"dtype\":\"float64\",\"shape\":[5]},\"rhoPCII\":{\"__ndarray__\":\"gUDwlhjY7D9dMw4evLXuP+4jmEdTQ/A/8PNwqcMl8T91OGpP7QHyPw==\",\"dtype\":\"float64\",\"shape\":[5]}},\"selected\":{\"id\":\"28992\"},\"selection_policy\":{\"id\":\"28991\"}},\"id\":\"28964\",\"type\":\"ColumnDataSource\"},{\"attributes\":{},\"id\":\"28938\",\"type\":\"LinearScale\"},{\"attributes\":{},\"id\":\"28973\",\"type\":\"BasicTickFormatter\"},{\"attributes\":{},\"id\":\"28975\",\"type\":\"BasicTickFormatter\"},{\"attributes\":{\"label\":{\"value\":\"coacervate\"},\"renderers\":[{\"id\":\"28982\"}]},\"id\":\"28993\",\"type\":\"LegendItem\"},{\"attributes\":{\"bottom_units\":\"screen\",\"fill_alpha\":0.5,\"fill_color\":\"lightgrey\",\"left_units\":\"screen\",\"level\":\"overlay\",\"line_alpha\":1.0,\"line_color\":\"black\",\"line_dash\":[4,4],\"line_width\":2,\"render_mode\":\"css\",\"right_units\":\"screen\",\"top_units\":\"screen\"},\"id\":\"28956\",\"type\":\"BoxAnnotation\"},{\"attributes\":{\"line_color\":\"blue\",\"line_width\":6,\"x\":{\"field\":\"rhoPCI\"},\"y\":{\"field\":\"T\"}},\"id\":\"28966\",\"type\":\"Line\"},{\"attributes\":{},\"id\":\"28992\",\"type\":\"Selection\"},{\"attributes\":{},\"id\":\"28953\",\"type\":\"SaveTool\"},{\"attributes\":{\"line_alpha\":0.1,\"line_color\":\"red\",\"line_width\":6,\"x\":{\"field\":\"rhoPCII\"},\"y\":{\"field\":\"T\"}},\"id\":\"28981\",\"type\":\"Line\"},{\"attributes\":{\"source\":{\"id\":\"28964\"}},\"id\":\"28983\",\"type\":\"CDSView\"},{\"attributes\":{},\"id\":\"28954\",\"type\":\"ResetTool\"},{\"attributes\":{\"overlay\":{\"id\":\"28956\"}},\"id\":\"28952\",\"type\":\"BoxZoomTool\"},{\"attributes\":{\"line_color\":\"red\",\"line_width\":6,\"x\":{\"field\":\"rhoPCII\"},\"y\":{\"field\":\"T\"}},\"id\":\"28980\",\"type\":\"Line\"},{\"attributes\":{\"axis_label\":\"polyanion density [mol/L]\",\"axis_label_text_font_size\":\"18pt\",\"formatter\":{\"id\":\"28975\"},\"major_label_text_font_size\":\"14pt\",\"ticker\":{\"id\":\"28943\"}},\"id\":\"28942\",\"type\":\"LinearAxis\"},{\"attributes\":{},\"id\":\"28951\",\"type\":\"WheelZoomTool\"},{\"attributes\":{\"label\":{\"value\":\"supernatant\"},\"renderers\":[{\"id\":\"28968\"}]},\"id\":\"28978\",\"type\":\"LegendItem\"},{\"attributes\":{\"end\":1.3,\"start\":-0.05},\"id\":\"28998\",\"type\":\"Range1d\"},{\"attributes\":{},\"id\":\"28940\",\"type\":\"LinearScale\"},{\"attributes\":{\"axis_label\":\"Temperature [C]\",\"axis_label_text_font_size\":\"18pt\",\"formatter\":{\"id\":\"28973\"},\"major_label_text_font_size\":\"14pt\",\"ticker\":{\"id\":\"28947\"}},\"id\":\"28946\",\"type\":\"LinearAxis\"},{\"attributes\":{},\"id\":\"28950\",\"type\":\"PanTool\"},{\"attributes\":{\"source\":{\"id\":\"28964\"}},\"id\":\"28969\",\"type\":\"CDSView\"},{\"attributes\":{},\"id\":\"28991\",\"type\":\"UnionRenderers\"},{\"attributes\":{},\"id\":\"28943\",\"type\":\"BasicTicker\"},{\"attributes\":{},\"id\":\"28947\",\"type\":\"BasicTicker\"},{\"attributes\":{\"click_policy\":\"hide\",\"items\":[{\"id\":\"28978\"},{\"id\":\"28993\"}],\"label_text_font_size\":\"14pt\",\"location\":\"bottom_right\"},\"id\":\"28977\",\"type\":\"Legend\"},{\"attributes\":{\"callback\":null,\"tooltips\":[[\"Temperature [C]\",\"@T\"],[\"polyanion density (I)\",\"@rhoPCI\"],[\"polyanion density (II)\",\"@rhoPCII\"]]},\"id\":\"28996\",\"type\":\"HoverTool\"},{\"attributes\":{\"active_drag\":\"auto\",\"active_inspect\":\"auto\",\"active_multi\":null,\"active_scroll\":\"auto\",\"active_tap\":\"auto\",\"tools\":[{\"id\":\"28950\"},{\"id\":\"28951\"},{\"id\":\"28952\"},{\"id\":\"28953\"},{\"id\":\"28954\"},{\"id\":\"28955\"},{\"id\":\"28996\"}]},\"id\":\"28957\",\"type\":\"Toolbar\"},{\"attributes\":{\"axis\":{\"id\":\"28942\"},\"ticker\":null},\"id\":\"28945\",\"type\":\"Grid\"},{\"attributes\":{\"data_source\":{\"id\":\"28964\"},\"glyph\":{\"id\":\"28980\"},\"hover_glyph\":null,\"muted_glyph\":null,\"nonselection_glyph\":{\"id\":\"28981\"},\"selection_glyph\":null,\"view\":{\"id\":\"28983\"}},\"id\":\"28982\",\"type\":\"GlyphRenderer\"},{\"attributes\":{},\"id\":\"28955\",\"type\":\"HelpTool\"},{\"attributes\":{\"line_alpha\":0.1,\"line_color\":\"blue\",\"line_width\":6,\"x\":{\"field\":\"rhoPCI\"},\"y\":{\"field\":\"T\"}},\"id\":\"28967\",\"type\":\"Line\"}],\"root_ids\":[\"28933\"]},\"title\":\"Bokeh Application\",\"version\":\"2.0.1\"}};\n",
       "  var render_items = [{\"docid\":\"e7460444-b66c-4de1-bb04-08f35d7eaef1\",\"root_ids\":[\"28933\"],\"roots\":{\"28933\":\"562c3cce-4cf0-42b1-9c54-1e9faf39d735\"}}];\n",
       "  root.Bokeh.embed.embed_items_notebook(docs_json, render_items);\n",
       "\n",
       "  }\n",
       "  if (root.Bokeh !== undefined) {\n",
       "    embed_document(root);\n",
       "  } else {\n",
       "    var attempts = 0;\n",
       "    var timer = setInterval(function(root) {\n",
       "      if (root.Bokeh !== undefined) {\n",
       "        clearInterval(timer);\n",
       "        embed_document(root);\n",
       "      } else {\n",
       "        attempts++;\n",
       "        if (attempts > 100) {\n",
       "          clearInterval(timer);\n",
       "          console.log(\"Bokeh: ERROR: Unable to run BokehJS code because BokehJS library is missing\");\n",
       "        }\n",
       "      }\n",
       "    }, 10, root)\n",
       "  }\n",
       "})(window);"
      ],
      "application/vnd.bokehjs_exec.v0+json": ""
     },
     "metadata": {
      "application/vnd.bokehjs_exec.v0+json": {
       "id": "28933"
      }
     },
     "output_type": "display_data"
    }
   ],
   "source": [
    "plot.compare_to_exp(data, beads_2_M, N=N, sigma=sigma, f=f)"
   ]
  },
  {
   "cell_type": "markdown",
   "metadata": {},
   "source": [
    "## Vary f\n",
    "\n",
    "### f = 1"
   ]
  },
  {
   "cell_type": "code",
   "execution_count": 17,
   "metadata": {},
   "outputs": [
    {
     "name": "stdout",
     "output_type": "stream",
     "text": [
      "NA(1000)NB(1000)lB(*)f(1.000)\n"
     ]
    }
   ],
   "source": [
    "# specifies parameters\n",
    "data_folder = 'vary_N/'\n",
    "N = 1000\n",
    "f = 1\n",
    "sigma = 4 # A\n",
    "\n",
    "# loads data\n",
    "naming_structure = pe.get_naming_structure(N, '*', f=f)\n",
    "print(naming_structure)\n",
    "data = salt.load_data(data_folder, naming_structure=naming_structure, ext='output.dat')"
   ]
  },
  {
   "cell_type": "code",
   "execution_count": 18,
   "metadata": {},
   "outputs": [
    {
     "data": {
      "text/html": [
       "\n",
       "\n",
       "\n",
       "\n",
       "\n",
       "\n",
       "  <div class=\"bk-root\" id=\"b0216edb-f5b8-4d0c-8a27-4f39e5130e10\" data-root-id=\"5643\"></div>\n"
      ]
     },
     "metadata": {},
     "output_type": "display_data"
    },
    {
     "data": {
      "application/javascript": [
       "(function(root) {\n",
       "  function embed_document(root) {\n",
       "    \n",
       "  var docs_json = {\"7f71e211-2c6e-4299-afef-6b8bfabb361c\":{\"roots\":{\"references\":[{\"attributes\":{\"below\":[{\"id\":\"5652\"}],\"center\":[{\"id\":\"5655\"},{\"id\":\"5659\"},{\"id\":\"5687\"}],\"left\":[{\"id\":\"5656\"}],\"plot_height\":500,\"plot_width\":500,\"renderers\":[{\"id\":\"5678\"},{\"id\":\"5692\"}],\"title\":{\"id\":\"5681\"},\"toolbar\":{\"id\":\"5667\"},\"x_range\":{\"id\":\"5708\"},\"x_scale\":{\"id\":\"5648\"},\"y_range\":{\"id\":\"5709\"},\"y_scale\":{\"id\":\"5650\"}},\"id\":\"5643\",\"subtype\":\"Figure\",\"type\":\"Plot\"},{\"attributes\":{},\"id\":\"5660\",\"type\":\"PanTool\"},{\"attributes\":{\"label\":{\"value\":\"coacervate\"},\"renderers\":[{\"id\":\"5692\"}]},\"id\":\"5703\",\"type\":\"LegendItem\"},{\"attributes\":{\"axis\":{\"id\":\"5652\"},\"ticker\":null},\"id\":\"5655\",\"type\":\"Grid\"},{\"attributes\":{\"overlay\":{\"id\":\"5666\"}},\"id\":\"5662\",\"type\":\"BoxZoomTool\"},{\"attributes\":{},\"id\":\"5702\",\"type\":\"Selection\"},{\"attributes\":{},\"id\":\"5701\",\"type\":\"UnionRenderers\"},{\"attributes\":{\"end\":1.3,\"start\":-0.05},\"id\":\"5708\",\"type\":\"Range1d\"},{\"attributes\":{},\"id\":\"5663\",\"type\":\"SaveTool\"},{\"attributes\":{},\"id\":\"5653\",\"type\":\"BasicTicker\"},{\"attributes\":{},\"id\":\"5661\",\"type\":\"WheelZoomTool\"},{\"attributes\":{\"source\":{\"id\":\"5674\"}},\"id\":\"5693\",\"type\":\"CDSView\"},{\"attributes\":{},\"id\":\"5648\",\"type\":\"LinearScale\"},{\"attributes\":{\"line_color\":\"blue\",\"line_width\":6,\"x\":{\"field\":\"rhoPCI\"},\"y\":{\"field\":\"T\"}},\"id\":\"5676\",\"type\":\"Line\"},{\"attributes\":{},\"id\":\"5684\",\"type\":\"BasicTickFormatter\"},{\"attributes\":{},\"id\":\"5665\",\"type\":\"HelpTool\"},{\"attributes\":{\"line_alpha\":0.1,\"line_color\":\"blue\",\"line_width\":6,\"x\":{\"field\":\"rhoPCI\"},\"y\":{\"field\":\"T\"}},\"id\":\"5677\",\"type\":\"Line\"},{\"attributes\":{\"data_source\":{\"id\":\"5674\"},\"glyph\":{\"id\":\"5676\"},\"hover_glyph\":null,\"muted_glyph\":null,\"nonselection_glyph\":{\"id\":\"5677\"},\"selection_glyph\":null,\"view\":{\"id\":\"5679\"}},\"id\":\"5678\",\"type\":\"GlyphRenderer\"},{\"attributes\":{\"data\":{\"BJ\":{\"__ndarray__\":\"AAAAAAAA/D/NzMzMzMz8P5qZmZmZmf0/ZmZmZmZm/j8zMzMzMzP/Pw==\",\"dtype\":\"float64\",\"shape\":[5]},\"T\":{\"__ndarray__\":\"ALAElp3ACkDw24VVHvw3QFgifxAo1kJA4JPutE4vSEBgcSJ//6FMQA==\",\"dtype\":\"float64\",\"shape\":[5]},\"index\":[0,1,2,3,4],\"rhoPCI\":{\"__ndarray__\":\"ec/TL9vkrTzgwuCypPBhPKWjqZYnPhM8tdZkdAP0wjvZMRLuzURxOw==\",\"dtype\":\"float64\",\"shape\":[5]},\"rhoPCII\":{\"__ndarray__\":\"ZQ8oCeYO9D/5EVwr5O70P88OkLQqyvU//MQI9dWf9j8z5WWwF3D3Pw==\",\"dtype\":\"float64\",\"shape\":[5]}},\"selected\":{\"id\":\"5702\"},\"selection_policy\":{\"id\":\"5701\"}},\"id\":\"5674\",\"type\":\"ColumnDataSource\"},{\"attributes\":{\"callback\":null,\"tooltips\":[[\"Temperature [$^{\\\\circ}$C]\",\"@T\"],[\"polyanion density (I)\",\"@rhoPCI\"],[\"polyanion density (II)\",\"@rhoPCII\"]]},\"id\":\"5706\",\"type\":\"HoverTool\"},{\"attributes\":{\"axis_label\":\"Temperature [$^{\\\\circ}$C]\",\"axis_label_text_font_size\":\"18pt\",\"formatter\":{\"id\":\"5682\"},\"major_label_text_font_size\":\"14pt\",\"ticker\":{\"id\":\"5657\"}},\"id\":\"5656\",\"type\":\"LinearAxis\"},{\"attributes\":{\"line_alpha\":0.1,\"line_color\":\"red\",\"line_width\":6,\"x\":{\"field\":\"rhoPCII\"},\"y\":{\"field\":\"T\"}},\"id\":\"5691\",\"type\":\"Line\"},{\"attributes\":{},\"id\":\"5657\",\"type\":\"BasicTicker\"},{\"attributes\":{\"label\":{\"value\":\"supernatant\"},\"renderers\":[{\"id\":\"5678\"}]},\"id\":\"5688\",\"type\":\"LegendItem\"},{\"attributes\":{\"end\":60},\"id\":\"5709\",\"type\":\"Range1d\"},{\"attributes\":{},\"id\":\"5650\",\"type\":\"LinearScale\"},{\"attributes\":{\"text\":\"1.60 M Salt, 0.30 M Polymer, N = 1000, f = 1.00, sig = 4.00 A\",\"text_font_size\":{\"value\":\"12pt\"}},\"id\":\"5681\",\"type\":\"Title\"},{\"attributes\":{\"click_policy\":\"hide\",\"items\":[{\"id\":\"5688\"},{\"id\":\"5703\"}],\"label_text_font_size\":\"14pt\",\"location\":\"bottom_right\"},\"id\":\"5687\",\"type\":\"Legend\"},{\"attributes\":{\"active_drag\":\"auto\",\"active_inspect\":\"auto\",\"active_multi\":null,\"active_scroll\":\"auto\",\"active_tap\":\"auto\",\"tools\":[{\"id\":\"5660\"},{\"id\":\"5661\"},{\"id\":\"5662\"},{\"id\":\"5663\"},{\"id\":\"5664\"},{\"id\":\"5665\"},{\"id\":\"5706\"}]},\"id\":\"5667\",\"type\":\"Toolbar\"},{\"attributes\":{\"data_source\":{\"id\":\"5674\"},\"glyph\":{\"id\":\"5690\"},\"hover_glyph\":null,\"muted_glyph\":null,\"nonselection_glyph\":{\"id\":\"5691\"},\"selection_glyph\":null,\"view\":{\"id\":\"5693\"}},\"id\":\"5692\",\"type\":\"GlyphRenderer\"},{\"attributes\":{\"bottom_units\":\"screen\",\"fill_alpha\":0.5,\"fill_color\":\"lightgrey\",\"left_units\":\"screen\",\"level\":\"overlay\",\"line_alpha\":1.0,\"line_color\":\"black\",\"line_dash\":[4,4],\"line_width\":2,\"render_mode\":\"css\",\"right_units\":\"screen\",\"top_units\":\"screen\"},\"id\":\"5666\",\"type\":\"BoxAnnotation\"},{\"attributes\":{\"source\":{\"id\":\"5674\"}},\"id\":\"5679\",\"type\":\"CDSView\"},{\"attributes\":{\"axis\":{\"id\":\"5656\"},\"dimension\":1,\"ticker\":null},\"id\":\"5659\",\"type\":\"Grid\"},{\"attributes\":{},\"id\":\"5664\",\"type\":\"ResetTool\"},{\"attributes\":{\"axis_label\":\"polyanion density [mol/L]\",\"axis_label_text_font_size\":\"18pt\",\"formatter\":{\"id\":\"5684\"},\"major_label_text_font_size\":\"14pt\",\"ticker\":{\"id\":\"5653\"}},\"id\":\"5652\",\"type\":\"LinearAxis\"},{\"attributes\":{\"line_color\":\"red\",\"line_width\":6,\"x\":{\"field\":\"rhoPCII\"},\"y\":{\"field\":\"T\"}},\"id\":\"5690\",\"type\":\"Line\"},{\"attributes\":{},\"id\":\"5682\",\"type\":\"BasicTickFormatter\"}],\"root_ids\":[\"5643\"]},\"title\":\"Bokeh Application\",\"version\":\"2.0.1\"}};\n",
       "  var render_items = [{\"docid\":\"7f71e211-2c6e-4299-afef-6b8bfabb361c\",\"root_ids\":[\"5643\"],\"roots\":{\"5643\":\"b0216edb-f5b8-4d0c-8a27-4f39e5130e10\"}}];\n",
       "  root.Bokeh.embed.embed_items_notebook(docs_json, render_items);\n",
       "\n",
       "  }\n",
       "  if (root.Bokeh !== undefined) {\n",
       "    embed_document(root);\n",
       "  } else {\n",
       "    var attempts = 0;\n",
       "    var timer = setInterval(function(root) {\n",
       "      if (root.Bokeh !== undefined) {\n",
       "        clearInterval(timer);\n",
       "        embed_document(root);\n",
       "      } else {\n",
       "        attempts++;\n",
       "        if (attempts > 100) {\n",
       "          clearInterval(timer);\n",
       "          console.log(\"Bokeh: ERROR: Unable to run BokehJS code because BokehJS library is missing\");\n",
       "        }\n",
       "      }\n",
       "    }, 10, root)\n",
       "  }\n",
       "})(window);"
      ],
      "application/vnd.bokehjs_exec.v0+json": ""
     },
     "metadata": {
      "application/vnd.bokehjs_exec.v0+json": {
       "id": "5643"
      }
     },
     "output_type": "display_data"
    },
    {
     "data": {
      "text/html": [
       "\n",
       "\n",
       "\n",
       "\n",
       "\n",
       "\n",
       "  <div class=\"bk-root\" id=\"51027540-98cd-4888-b31b-74b54f7d4d7d\" data-root-id=\"5963\"></div>\n"
      ]
     },
     "metadata": {},
     "output_type": "display_data"
    },
    {
     "data": {
      "application/javascript": [
       "(function(root) {\n",
       "  function embed_document(root) {\n",
       "    \n",
       "  var docs_json = {\"19e7af63-11c3-4aa8-979f-7a51185973d1\":{\"roots\":{\"references\":[{\"attributes\":{\"below\":[{\"id\":\"5972\"}],\"center\":[{\"id\":\"5975\"},{\"id\":\"5979\"},{\"id\":\"6007\"}],\"left\":[{\"id\":\"5976\"}],\"plot_height\":500,\"plot_width\":500,\"renderers\":[{\"id\":\"5998\"},{\"id\":\"6012\"}],\"title\":{\"id\":\"6001\"},\"toolbar\":{\"id\":\"5987\"},\"x_range\":{\"id\":\"6028\"},\"x_scale\":{\"id\":\"5968\"},\"y_range\":{\"id\":\"6029\"},\"y_scale\":{\"id\":\"5970\"}},\"id\":\"5963\",\"subtype\":\"Figure\",\"type\":\"Plot\"},{\"attributes\":{\"end\":1.3,\"start\":-0.05},\"id\":\"6028\",\"type\":\"Range1d\"},{\"attributes\":{},\"id\":\"5973\",\"type\":\"BasicTicker\"},{\"attributes\":{\"axis_label\":\"polyanion density [mol/L]\",\"axis_label_text_font_size\":\"18pt\",\"formatter\":{\"id\":\"6004\"},\"major_label_text_font_size\":\"14pt\",\"ticker\":{\"id\":\"5973\"}},\"id\":\"5972\",\"type\":\"LinearAxis\"},{\"attributes\":{\"line_alpha\":0.1,\"line_color\":\"blue\",\"line_width\":6,\"x\":{\"field\":\"rhoPCI\"},\"y\":{\"field\":\"T\"}},\"id\":\"5997\",\"type\":\"Line\"},{\"attributes\":{\"bottom_units\":\"screen\",\"fill_alpha\":0.5,\"fill_color\":\"lightgrey\",\"left_units\":\"screen\",\"level\":\"overlay\",\"line_alpha\":1.0,\"line_color\":\"black\",\"line_dash\":[4,4],\"line_width\":2,\"render_mode\":\"css\",\"right_units\":\"screen\",\"top_units\":\"screen\"},\"id\":\"5986\",\"type\":\"BoxAnnotation\"},{\"attributes\":{\"source\":{\"id\":\"5994\"}},\"id\":\"6013\",\"type\":\"CDSView\"},{\"attributes\":{\"data_source\":{\"id\":\"5994\"},\"glyph\":{\"id\":\"6010\"},\"hover_glyph\":null,\"muted_glyph\":null,\"nonselection_glyph\":{\"id\":\"6011\"},\"selection_glyph\":null,\"view\":{\"id\":\"6013\"}},\"id\":\"6012\",\"type\":\"GlyphRenderer\"},{\"attributes\":{},\"id\":\"5970\",\"type\":\"LinearScale\"},{\"attributes\":{},\"id\":\"5968\",\"type\":\"LinearScale\"},{\"attributes\":{\"active_drag\":\"auto\",\"active_inspect\":\"auto\",\"active_multi\":null,\"active_scroll\":\"auto\",\"active_tap\":\"auto\",\"tools\":[{\"id\":\"5980\"},{\"id\":\"5981\"},{\"id\":\"5982\"},{\"id\":\"5983\"},{\"id\":\"5984\"},{\"id\":\"5985\"},{\"id\":\"6026\"}]},\"id\":\"5987\",\"type\":\"Toolbar\"},{\"attributes\":{},\"id\":\"6021\",\"type\":\"UnionRenderers\"},{\"attributes\":{\"line_color\":\"red\",\"line_width\":6,\"x\":{\"field\":\"rhoPCII\"},\"y\":{\"field\":\"T\"}},\"id\":\"6010\",\"type\":\"Line\"},{\"attributes\":{\"line_color\":\"blue\",\"line_width\":6,\"x\":{\"field\":\"rhoPCI\"},\"y\":{\"field\":\"T\"}},\"id\":\"5996\",\"type\":\"Line\"},{\"attributes\":{},\"id\":\"6004\",\"type\":\"BasicTickFormatter\"},{\"attributes\":{},\"id\":\"5977\",\"type\":\"BasicTicker\"},{\"attributes\":{\"callback\":null,\"tooltips\":[[\"Temperature [$^{\\\\circ}$C]\",\"@T\"],[\"polyanion density (I)\",\"@rhoPCI\"],[\"polyanion density (II)\",\"@rhoPCII\"]]},\"id\":\"6026\",\"type\":\"HoverTool\"},{\"attributes\":{},\"id\":\"5985\",\"type\":\"HelpTool\"},{\"attributes\":{},\"id\":\"5983\",\"type\":\"SaveTool\"},{\"attributes\":{\"source\":{\"id\":\"5994\"}},\"id\":\"5999\",\"type\":\"CDSView\"},{\"attributes\":{},\"id\":\"5981\",\"type\":\"WheelZoomTool\"},{\"attributes\":{\"overlay\":{\"id\":\"5986\"}},\"id\":\"5982\",\"type\":\"BoxZoomTool\"},{\"attributes\":{\"text\":\"1.85 M Salt, 0.30 M Polymer, N = 1000, f = 1.00, sig = 4.00 A\",\"text_font_size\":{\"value\":\"12pt\"}},\"id\":\"6001\",\"type\":\"Title\"},{\"attributes\":{\"data_source\":{\"id\":\"5994\"},\"glyph\":{\"id\":\"5996\"},\"hover_glyph\":null,\"muted_glyph\":null,\"nonselection_glyph\":{\"id\":\"5997\"},\"selection_glyph\":null,\"view\":{\"id\":\"5999\"}},\"id\":\"5998\",\"type\":\"GlyphRenderer\"},{\"attributes\":{\"data\":{\"BJ\":{\"__ndarray__\":\"AAAAAAAA/D/NzMzMzMz8P5qZmZmZmf0/ZmZmZmZm/j8zMzMzMzP/Pw==\",\"dtype\":\"float64\",\"shape\":[5]},\"T\":{\"__ndarray__\":\"ALAElp3ACkDw24VVHvw3QFgifxAo1kJA4JPutE4vSEBgcSJ//6FMQA==\",\"dtype\":\"float64\",\"shape\":[5]},\"index\":[0,1,2,3,4],\"rhoPCI\":{\"__ndarray__\":\"SD837DFTLj4nRQT2oUb6PScnAUcLesQ9KqETr35EjT0Mn3GPCwdTPQ==\",\"dtype\":\"float64\",\"shape\":[5]},\"rhoPCII\":{\"__ndarray__\":\"xxs6+HvO7j9fiZpyzFLwP6HreFu0OPE/DPsrbSoY8j8j/MirifLyPw==\",\"dtype\":\"float64\",\"shape\":[5]}},\"selected\":{\"id\":\"6022\"},\"selection_policy\":{\"id\":\"6021\"}},\"id\":\"5994\",\"type\":\"ColumnDataSource\"},{\"attributes\":{},\"id\":\"5980\",\"type\":\"PanTool\"},{\"attributes\":{\"click_policy\":\"hide\",\"items\":[{\"id\":\"6008\"},{\"id\":\"6023\"}],\"label_text_font_size\":\"14pt\",\"location\":\"bottom_right\"},\"id\":\"6007\",\"type\":\"Legend\"},{\"attributes\":{\"axis\":{\"id\":\"5972\"},\"ticker\":null},\"id\":\"5975\",\"type\":\"Grid\"},{\"attributes\":{},\"id\":\"6022\",\"type\":\"Selection\"},{\"attributes\":{\"label\":{\"value\":\"supernatant\"},\"renderers\":[{\"id\":\"5998\"}]},\"id\":\"6008\",\"type\":\"LegendItem\"},{\"attributes\":{\"line_alpha\":0.1,\"line_color\":\"red\",\"line_width\":6,\"x\":{\"field\":\"rhoPCII\"},\"y\":{\"field\":\"T\"}},\"id\":\"6011\",\"type\":\"Line\"},{\"attributes\":{\"label\":{\"value\":\"coacervate\"},\"renderers\":[{\"id\":\"6012\"}]},\"id\":\"6023\",\"type\":\"LegendItem\"},{\"attributes\":{\"axis\":{\"id\":\"5976\"},\"dimension\":1,\"ticker\":null},\"id\":\"5979\",\"type\":\"Grid\"},{\"attributes\":{\"axis_label\":\"Temperature [$^{\\\\circ}$C]\",\"axis_label_text_font_size\":\"18pt\",\"formatter\":{\"id\":\"6002\"},\"major_label_text_font_size\":\"14pt\",\"ticker\":{\"id\":\"5977\"}},\"id\":\"5976\",\"type\":\"LinearAxis\"},{\"attributes\":{\"end\":60},\"id\":\"6029\",\"type\":\"Range1d\"},{\"attributes\":{},\"id\":\"6002\",\"type\":\"BasicTickFormatter\"},{\"attributes\":{},\"id\":\"5984\",\"type\":\"ResetTool\"}],\"root_ids\":[\"5963\"]},\"title\":\"Bokeh Application\",\"version\":\"2.0.1\"}};\n",
       "  var render_items = [{\"docid\":\"19e7af63-11c3-4aa8-979f-7a51185973d1\",\"root_ids\":[\"5963\"],\"roots\":{\"5963\":\"51027540-98cd-4888-b31b-74b54f7d4d7d\"}}];\n",
       "  root.Bokeh.embed.embed_items_notebook(docs_json, render_items);\n",
       "\n",
       "  }\n",
       "  if (root.Bokeh !== undefined) {\n",
       "    embed_document(root);\n",
       "  } else {\n",
       "    var attempts = 0;\n",
       "    var timer = setInterval(function(root) {\n",
       "      if (root.Bokeh !== undefined) {\n",
       "        clearInterval(timer);\n",
       "        embed_document(root);\n",
       "      } else {\n",
       "        attempts++;\n",
       "        if (attempts > 100) {\n",
       "          clearInterval(timer);\n",
       "          console.log(\"Bokeh: ERROR: Unable to run BokehJS code because BokehJS library is missing\");\n",
       "        }\n",
       "      }\n",
       "    }, 10, root)\n",
       "  }\n",
       "})(window);"
      ],
      "application/vnd.bokehjs_exec.v0+json": ""
     },
     "metadata": {
      "application/vnd.bokehjs_exec.v0+json": {
       "id": "5963"
      }
     },
     "output_type": "display_data"
    },
    {
     "data": {
      "text/html": [
       "\n",
       "\n",
       "\n",
       "\n",
       "\n",
       "\n",
       "  <div class=\"bk-root\" id=\"87981ba4-57b3-4414-ae9b-df3320934f3b\" data-root-id=\"6292\"></div>\n"
      ]
     },
     "metadata": {},
     "output_type": "display_data"
    },
    {
     "data": {
      "application/javascript": [
       "(function(root) {\n",
       "  function embed_document(root) {\n",
       "    \n",
       "  var docs_json = {\"d8446f67-cb1b-4dcb-a169-344400886b49\":{\"roots\":{\"references\":[{\"attributes\":{\"below\":[{\"id\":\"6301\"}],\"center\":[{\"id\":\"6304\"},{\"id\":\"6308\"},{\"id\":\"6336\"}],\"left\":[{\"id\":\"6305\"}],\"plot_height\":500,\"plot_width\":500,\"renderers\":[{\"id\":\"6327\"},{\"id\":\"6341\"}],\"title\":{\"id\":\"6330\"},\"toolbar\":{\"id\":\"6316\"},\"x_range\":{\"id\":\"6357\"},\"x_scale\":{\"id\":\"6297\"},\"y_range\":{\"id\":\"6358\"},\"y_scale\":{\"id\":\"6299\"}},\"id\":\"6292\",\"subtype\":\"Figure\",\"type\":\"Plot\"},{\"attributes\":{\"axis\":{\"id\":\"6305\"},\"dimension\":1,\"ticker\":null},\"id\":\"6308\",\"type\":\"Grid\"},{\"attributes\":{\"data_source\":{\"id\":\"6323\"},\"glyph\":{\"id\":\"6339\"},\"hover_glyph\":null,\"muted_glyph\":null,\"nonselection_glyph\":{\"id\":\"6340\"},\"selection_glyph\":null,\"view\":{\"id\":\"6342\"}},\"id\":\"6341\",\"type\":\"GlyphRenderer\"},{\"attributes\":{\"line_color\":\"blue\",\"line_width\":6,\"x\":{\"field\":\"rhoPCI\"},\"y\":{\"field\":\"T\"}},\"id\":\"6325\",\"type\":\"Line\"},{\"attributes\":{\"line_alpha\":0.1,\"line_color\":\"red\",\"line_width\":6,\"x\":{\"field\":\"rhoPCII\"},\"y\":{\"field\":\"T\"}},\"id\":\"6340\",\"type\":\"Line\"},{\"attributes\":{\"axis_label\":\"polyanion density [mol/L]\",\"axis_label_text_font_size\":\"18pt\",\"formatter\":{\"id\":\"6333\"},\"major_label_text_font_size\":\"14pt\",\"ticker\":{\"id\":\"6302\"}},\"id\":\"6301\",\"type\":\"LinearAxis\"},{\"attributes\":{\"text\":\"1.90 M Salt, 0.30 M Polymer, N = 1000, f = 1.00, sig = 4.00 A\",\"text_font_size\":{\"value\":\"12pt\"}},\"id\":\"6330\",\"type\":\"Title\"},{\"attributes\":{\"data\":{\"BJ\":{\"__ndarray__\":\"AAAAAAAA/D/NzMzMzMz8P5qZmZmZmf0/ZmZmZmZm/j8zMzMzMzP/Pw==\",\"dtype\":\"float64\",\"shape\":[5]},\"T\":{\"__ndarray__\":\"ALAElp3ACkDw24VVHvw3QFgifxAo1kJA4JPutE4vSEBgcSJ//6FMQA==\",\"dtype\":\"float64\",\"shape\":[5]},\"index\":[0,1,2,3,4],\"rhoPCI\":{\"__ndarray__\":\"Cqt8Ca+KZz4AQCG345Q4PnULOu7xMAc+XIK35hrk0z3QTb1qFm2fPQ==\",\"dtype\":\"float64\",\"shape\":[5]},\"rhoPCII\":{\"__ndarray__\":\"gUDwlhjY7D9dMw4evLXuP+4jmEdTQ/A/8PNwqcMl8T91OGpP7QHyPw==\",\"dtype\":\"float64\",\"shape\":[5]}},\"selected\":{\"id\":\"6351\"},\"selection_policy\":{\"id\":\"6350\"}},\"id\":\"6323\",\"type\":\"ColumnDataSource\"},{\"attributes\":{\"data_source\":{\"id\":\"6323\"},\"glyph\":{\"id\":\"6325\"},\"hover_glyph\":null,\"muted_glyph\":null,\"nonselection_glyph\":{\"id\":\"6326\"},\"selection_glyph\":null,\"view\":{\"id\":\"6328\"}},\"id\":\"6327\",\"type\":\"GlyphRenderer\"},{\"attributes\":{},\"id\":\"6309\",\"type\":\"PanTool\"},{\"attributes\":{\"line_alpha\":0.1,\"line_color\":\"blue\",\"line_width\":6,\"x\":{\"field\":\"rhoPCI\"},\"y\":{\"field\":\"T\"}},\"id\":\"6326\",\"type\":\"Line\"},{\"attributes\":{\"click_policy\":\"hide\",\"items\":[{\"id\":\"6337\"},{\"id\":\"6352\"}],\"label_text_font_size\":\"14pt\",\"location\":\"bottom_right\"},\"id\":\"6336\",\"type\":\"Legend\"},{\"attributes\":{\"label\":{\"value\":\"coacervate\"},\"renderers\":[{\"id\":\"6341\"}]},\"id\":\"6352\",\"type\":\"LegendItem\"},{\"attributes\":{},\"id\":\"6331\",\"type\":\"BasicTickFormatter\"},{\"attributes\":{\"label\":{\"value\":\"supernatant\"},\"renderers\":[{\"id\":\"6327\"}]},\"id\":\"6337\",\"type\":\"LegendItem\"},{\"attributes\":{\"axis\":{\"id\":\"6301\"},\"ticker\":null},\"id\":\"6304\",\"type\":\"Grid\"},{\"attributes\":{\"active_drag\":\"auto\",\"active_inspect\":\"auto\",\"active_multi\":null,\"active_scroll\":\"auto\",\"active_tap\":\"auto\",\"tools\":[{\"id\":\"6309\"},{\"id\":\"6310\"},{\"id\":\"6311\"},{\"id\":\"6312\"},{\"id\":\"6313\"},{\"id\":\"6314\"},{\"id\":\"6355\"}]},\"id\":\"6316\",\"type\":\"Toolbar\"},{\"attributes\":{\"line_color\":\"red\",\"line_width\":6,\"x\":{\"field\":\"rhoPCII\"},\"y\":{\"field\":\"T\"}},\"id\":\"6339\",\"type\":\"Line\"},{\"attributes\":{},\"id\":\"6314\",\"type\":\"HelpTool\"},{\"attributes\":{\"source\":{\"id\":\"6323\"}},\"id\":\"6342\",\"type\":\"CDSView\"},{\"attributes\":{\"axis_label\":\"Temperature [$^{\\\\circ}$C]\",\"axis_label_text_font_size\":\"18pt\",\"formatter\":{\"id\":\"6331\"},\"major_label_text_font_size\":\"14pt\",\"ticker\":{\"id\":\"6306\"}},\"id\":\"6305\",\"type\":\"LinearAxis\"},{\"attributes\":{\"bottom_units\":\"screen\",\"fill_alpha\":0.5,\"fill_color\":\"lightgrey\",\"left_units\":\"screen\",\"level\":\"overlay\",\"line_alpha\":1.0,\"line_color\":\"black\",\"line_dash\":[4,4],\"line_width\":2,\"render_mode\":\"css\",\"right_units\":\"screen\",\"top_units\":\"screen\"},\"id\":\"6315\",\"type\":\"BoxAnnotation\"},{\"attributes\":{\"source\":{\"id\":\"6323\"}},\"id\":\"6328\",\"type\":\"CDSView\"},{\"attributes\":{},\"id\":\"6297\",\"type\":\"LinearScale\"},{\"attributes\":{},\"id\":\"6312\",\"type\":\"SaveTool\"},{\"attributes\":{\"end\":60},\"id\":\"6358\",\"type\":\"Range1d\"},{\"attributes\":{},\"id\":\"6306\",\"type\":\"BasicTicker\"},{\"attributes\":{},\"id\":\"6313\",\"type\":\"ResetTool\"},{\"attributes\":{},\"id\":\"6350\",\"type\":\"UnionRenderers\"},{\"attributes\":{},\"id\":\"6351\",\"type\":\"Selection\"},{\"attributes\":{\"overlay\":{\"id\":\"6315\"}},\"id\":\"6311\",\"type\":\"BoxZoomTool\"},{\"attributes\":{},\"id\":\"6302\",\"type\":\"BasicTicker\"},{\"attributes\":{\"end\":1.3,\"start\":-0.05},\"id\":\"6357\",\"type\":\"Range1d\"},{\"attributes\":{\"callback\":null,\"tooltips\":[[\"Temperature [$^{\\\\circ}$C]\",\"@T\"],[\"polyanion density (I)\",\"@rhoPCI\"],[\"polyanion density (II)\",\"@rhoPCII\"]]},\"id\":\"6355\",\"type\":\"HoverTool\"},{\"attributes\":{},\"id\":\"6299\",\"type\":\"LinearScale\"},{\"attributes\":{},\"id\":\"6310\",\"type\":\"WheelZoomTool\"},{\"attributes\":{},\"id\":\"6333\",\"type\":\"BasicTickFormatter\"}],\"root_ids\":[\"6292\"]},\"title\":\"Bokeh Application\",\"version\":\"2.0.1\"}};\n",
       "  var render_items = [{\"docid\":\"d8446f67-cb1b-4dcb-a169-344400886b49\",\"root_ids\":[\"6292\"],\"roots\":{\"6292\":\"87981ba4-57b3-4414-ae9b-df3320934f3b\"}}];\n",
       "  root.Bokeh.embed.embed_items_notebook(docs_json, render_items);\n",
       "\n",
       "  }\n",
       "  if (root.Bokeh !== undefined) {\n",
       "    embed_document(root);\n",
       "  } else {\n",
       "    var attempts = 0;\n",
       "    var timer = setInterval(function(root) {\n",
       "      if (root.Bokeh !== undefined) {\n",
       "        clearInterval(timer);\n",
       "        embed_document(root);\n",
       "      } else {\n",
       "        attempts++;\n",
       "        if (attempts > 100) {\n",
       "          clearInterval(timer);\n",
       "          console.log(\"Bokeh: ERROR: Unable to run BokehJS code because BokehJS library is missing\");\n",
       "        }\n",
       "      }\n",
       "    }, 10, root)\n",
       "  }\n",
       "})(window);"
      ],
      "application/vnd.bokehjs_exec.v0+json": ""
     },
     "metadata": {
      "application/vnd.bokehjs_exec.v0+json": {
       "id": "6292"
      }
     },
     "output_type": "display_data"
    }
   ],
   "source": [
    "plot.compare_to_exp(data, beads_2_M, N=N, sigma=sigma, f=f)"
   ]
  },
  {
   "cell_type": "markdown",
   "metadata": {},
   "source": [
    "### f = 0.95"
   ]
  },
  {
   "cell_type": "code",
   "execution_count": 19,
   "metadata": {},
   "outputs": [
    {
     "name": "stdout",
     "output_type": "stream",
     "text": [
      "NA(1000)NB(1000)lB(*)f(0.950)\n"
     ]
    }
   ],
   "source": [
    "# specifies parameters\n",
    "data_folder = 'vary_N/'\n",
    "N = 1000\n",
    "f = 0.95\n",
    "sigma = 4 # A\n",
    "\n",
    "# loads data\n",
    "naming_structure = pe.get_naming_structure(N, '*', f=f)\n",
    "print(naming_structure)\n",
    "data = salt.load_data(data_folder, naming_structure=naming_structure, ext='output.dat')"
   ]
  },
  {
   "cell_type": "code",
   "execution_count": 20,
   "metadata": {},
   "outputs": [
    {
     "data": {
      "text/html": [
       "\n",
       "\n",
       "\n",
       "\n",
       "\n",
       "\n",
       "  <div class=\"bk-root\" id=\"b9b13d3d-b509-4b14-b708-1ec9bac6d4a3\" data-root-id=\"6630\"></div>\n"
      ]
     },
     "metadata": {},
     "output_type": "display_data"
    },
    {
     "data": {
      "application/javascript": [
       "(function(root) {\n",
       "  function embed_document(root) {\n",
       "    \n",
       "  var docs_json = {\"05d96fcb-7332-44ce-93a1-27492a284dba\":{\"roots\":{\"references\":[{\"attributes\":{\"below\":[{\"id\":\"6639\"}],\"center\":[{\"id\":\"6642\"},{\"id\":\"6646\"},{\"id\":\"6674\"}],\"left\":[{\"id\":\"6643\"}],\"plot_height\":500,\"plot_width\":500,\"renderers\":[{\"id\":\"6665\"},{\"id\":\"6679\"}],\"title\":{\"id\":\"6668\"},\"toolbar\":{\"id\":\"6654\"},\"x_range\":{\"id\":\"6695\"},\"x_scale\":{\"id\":\"6635\"},\"y_range\":{\"id\":\"6696\"},\"y_scale\":{\"id\":\"6637\"}},\"id\":\"6630\",\"subtype\":\"Figure\",\"type\":\"Plot\"},{\"attributes\":{\"data\":{\"BJ\":{\"__ndarray__\":\"zczMzMzM/D+amZmZmZn9P2ZmZmZmZv4/MzMzMzMz/z8=\",\"dtype\":\"float64\",\"shape\":[4]},\"T\":{\"__ndarray__\":\"8NuFVR78N0BYIn8QKNZCQOCT7rROL0hAYHEif/+hTEA=\",\"dtype\":\"float64\",\"shape\":[4]},\"index\":[0,1,2,3],\"rhoPCI\":{\"__ndarray__\":\"mZwhlwuqVD55/iXm97klPorNxN9Gu/Q9nvbiVkowwj0=\",\"dtype\":\"float64\",\"shape\":[4]},\"rhoPCII\":{\"__ndarray__\":\"LrzOgRUU7D9Cjg7YQsvtPzcmI3Vxd+8/vOhDef6L8D8=\",\"dtype\":\"float64\",\"shape\":[4]}},\"selected\":{\"id\":\"6689\"},\"selection_policy\":{\"id\":\"6688\"}},\"id\":\"6661\",\"type\":\"ColumnDataSource\"},{\"attributes\":{\"axis\":{\"id\":\"6643\"},\"dimension\":1,\"ticker\":null},\"id\":\"6646\",\"type\":\"Grid\"},{\"attributes\":{},\"id\":\"6637\",\"type\":\"LinearScale\"},{\"attributes\":{\"text\":\"1.60 M Salt, 0.30 M Polymer, N = 1000, f = 0.95, sig = 4.00 A\",\"text_font_size\":{\"value\":\"12pt\"}},\"id\":\"6668\",\"type\":\"Title\"},{\"attributes\":{\"label\":{\"value\":\"coacervate\"},\"renderers\":[{\"id\":\"6679\"}]},\"id\":\"6690\",\"type\":\"LegendItem\"},{\"attributes\":{},\"id\":\"6635\",\"type\":\"LinearScale\"},{\"attributes\":{\"active_drag\":\"auto\",\"active_inspect\":\"auto\",\"active_multi\":null,\"active_scroll\":\"auto\",\"active_tap\":\"auto\",\"tools\":[{\"id\":\"6647\"},{\"id\":\"6648\"},{\"id\":\"6649\"},{\"id\":\"6650\"},{\"id\":\"6651\"},{\"id\":\"6652\"},{\"id\":\"6693\"}]},\"id\":\"6654\",\"type\":\"Toolbar\"},{\"attributes\":{\"overlay\":{\"id\":\"6653\"}},\"id\":\"6649\",\"type\":\"BoxZoomTool\"},{\"attributes\":{},\"id\":\"6648\",\"type\":\"WheelZoomTool\"},{\"attributes\":{\"axis\":{\"id\":\"6639\"},\"ticker\":null},\"id\":\"6642\",\"type\":\"Grid\"},{\"attributes\":{\"end\":60},\"id\":\"6696\",\"type\":\"Range1d\"},{\"attributes\":{},\"id\":\"6650\",\"type\":\"SaveTool\"},{\"attributes\":{},\"id\":\"6647\",\"type\":\"PanTool\"},{\"attributes\":{\"callback\":null,\"tooltips\":[[\"Temperature [$^{\\\\circ}$C]\",\"@T\"],[\"polyanion density (I)\",\"@rhoPCI\"],[\"polyanion density (II)\",\"@rhoPCII\"]]},\"id\":\"6693\",\"type\":\"HoverTool\"},{\"attributes\":{\"click_policy\":\"hide\",\"items\":[{\"id\":\"6675\"},{\"id\":\"6690\"}],\"label_text_font_size\":\"14pt\",\"location\":\"bottom_right\"},\"id\":\"6674\",\"type\":\"Legend\"},{\"attributes\":{},\"id\":\"6640\",\"type\":\"BasicTicker\"},{\"attributes\":{\"axis_label\":\"Temperature [$^{\\\\circ}$C]\",\"axis_label_text_font_size\":\"18pt\",\"formatter\":{\"id\":\"6669\"},\"major_label_text_font_size\":\"14pt\",\"ticker\":{\"id\":\"6644\"}},\"id\":\"6643\",\"type\":\"LinearAxis\"},{\"attributes\":{\"axis_label\":\"polyanion density [mol/L]\",\"axis_label_text_font_size\":\"18pt\",\"formatter\":{\"id\":\"6671\"},\"major_label_text_font_size\":\"14pt\",\"ticker\":{\"id\":\"6640\"}},\"id\":\"6639\",\"type\":\"LinearAxis\"},{\"attributes\":{},\"id\":\"6644\",\"type\":\"BasicTicker\"},{\"attributes\":{\"line_alpha\":0.1,\"line_color\":\"blue\",\"line_width\":6,\"x\":{\"field\":\"rhoPCI\"},\"y\":{\"field\":\"T\"}},\"id\":\"6664\",\"type\":\"Line\"},{\"attributes\":{\"source\":{\"id\":\"6661\"}},\"id\":\"6680\",\"type\":\"CDSView\"},{\"attributes\":{},\"id\":\"6688\",\"type\":\"UnionRenderers\"},{\"attributes\":{},\"id\":\"6651\",\"type\":\"ResetTool\"},{\"attributes\":{\"source\":{\"id\":\"6661\"}},\"id\":\"6666\",\"type\":\"CDSView\"},{\"attributes\":{},\"id\":\"6652\",\"type\":\"HelpTool\"},{\"attributes\":{\"line_alpha\":0.1,\"line_color\":\"red\",\"line_width\":6,\"x\":{\"field\":\"rhoPCII\"},\"y\":{\"field\":\"T\"}},\"id\":\"6678\",\"type\":\"Line\"},{\"attributes\":{\"bottom_units\":\"screen\",\"fill_alpha\":0.5,\"fill_color\":\"lightgrey\",\"left_units\":\"screen\",\"level\":\"overlay\",\"line_alpha\":1.0,\"line_color\":\"black\",\"line_dash\":[4,4],\"line_width\":2,\"render_mode\":\"css\",\"right_units\":\"screen\",\"top_units\":\"screen\"},\"id\":\"6653\",\"type\":\"BoxAnnotation\"},{\"attributes\":{\"line_color\":\"blue\",\"line_width\":6,\"x\":{\"field\":\"rhoPCI\"},\"y\":{\"field\":\"T\"}},\"id\":\"6663\",\"type\":\"Line\"},{\"attributes\":{\"end\":1.3,\"start\":-0.05},\"id\":\"6695\",\"type\":\"Range1d\"},{\"attributes\":{\"label\":{\"value\":\"supernatant\"},\"renderers\":[{\"id\":\"6665\"}]},\"id\":\"6675\",\"type\":\"LegendItem\"},{\"attributes\":{\"data_source\":{\"id\":\"6661\"},\"glyph\":{\"id\":\"6677\"},\"hover_glyph\":null,\"muted_glyph\":null,\"nonselection_glyph\":{\"id\":\"6678\"},\"selection_glyph\":null,\"view\":{\"id\":\"6680\"}},\"id\":\"6679\",\"type\":\"GlyphRenderer\"},{\"attributes\":{\"data_source\":{\"id\":\"6661\"},\"glyph\":{\"id\":\"6663\"},\"hover_glyph\":null,\"muted_glyph\":null,\"nonselection_glyph\":{\"id\":\"6664\"},\"selection_glyph\":null,\"view\":{\"id\":\"6666\"}},\"id\":\"6665\",\"type\":\"GlyphRenderer\"},{\"attributes\":{},\"id\":\"6669\",\"type\":\"BasicTickFormatter\"},{\"attributes\":{},\"id\":\"6689\",\"type\":\"Selection\"},{\"attributes\":{\"line_color\":\"red\",\"line_width\":6,\"x\":{\"field\":\"rhoPCII\"},\"y\":{\"field\":\"T\"}},\"id\":\"6677\",\"type\":\"Line\"},{\"attributes\":{},\"id\":\"6671\",\"type\":\"BasicTickFormatter\"}],\"root_ids\":[\"6630\"]},\"title\":\"Bokeh Application\",\"version\":\"2.0.1\"}};\n",
       "  var render_items = [{\"docid\":\"05d96fcb-7332-44ce-93a1-27492a284dba\",\"root_ids\":[\"6630\"],\"roots\":{\"6630\":\"b9b13d3d-b509-4b14-b708-1ec9bac6d4a3\"}}];\n",
       "  root.Bokeh.embed.embed_items_notebook(docs_json, render_items);\n",
       "\n",
       "  }\n",
       "  if (root.Bokeh !== undefined) {\n",
       "    embed_document(root);\n",
       "  } else {\n",
       "    var attempts = 0;\n",
       "    var timer = setInterval(function(root) {\n",
       "      if (root.Bokeh !== undefined) {\n",
       "        clearInterval(timer);\n",
       "        embed_document(root);\n",
       "      } else {\n",
       "        attempts++;\n",
       "        if (attempts > 100) {\n",
       "          clearInterval(timer);\n",
       "          console.log(\"Bokeh: ERROR: Unable to run BokehJS code because BokehJS library is missing\");\n",
       "        }\n",
       "      }\n",
       "    }, 10, root)\n",
       "  }\n",
       "})(window);"
      ],
      "application/vnd.bokehjs_exec.v0+json": ""
     },
     "metadata": {
      "application/vnd.bokehjs_exec.v0+json": {
       "id": "6630"
      }
     },
     "output_type": "display_data"
    },
    {
     "data": {
      "text/html": [
       "\n",
       "\n",
       "\n",
       "\n",
       "\n",
       "\n",
       "  <div class=\"bk-root\" id=\"e2159213-ce61-48c1-a64d-5477bc120db6\" data-root-id=\"6977\"></div>\n"
      ]
     },
     "metadata": {},
     "output_type": "display_data"
    },
    {
     "data": {
      "application/javascript": [
       "(function(root) {\n",
       "  function embed_document(root) {\n",
       "    \n",
       "  var docs_json = {\"a50b9b6f-beec-4731-9acb-6856a375f5df\":{\"roots\":{\"references\":[{\"attributes\":{\"below\":[{\"id\":\"6986\"}],\"center\":[{\"id\":\"6989\"},{\"id\":\"6993\"},{\"id\":\"7021\"}],\"left\":[{\"id\":\"6990\"}],\"plot_height\":500,\"plot_width\":500,\"renderers\":[{\"id\":\"7012\"},{\"id\":\"7026\"}],\"title\":{\"id\":\"7015\"},\"toolbar\":{\"id\":\"7001\"},\"x_range\":{\"id\":\"7042\"},\"x_scale\":{\"id\":\"6982\"},\"y_range\":{\"id\":\"7043\"},\"y_scale\":{\"id\":\"6984\"}},\"id\":\"6977\",\"subtype\":\"Figure\",\"type\":\"Plot\"},{\"attributes\":{},\"id\":\"7018\",\"type\":\"BasicTickFormatter\"},{\"attributes\":{\"line_alpha\":0.1,\"line_color\":\"red\",\"line_width\":6,\"x\":{\"field\":\"rhoPCII\"},\"y\":{\"field\":\"T\"}},\"id\":\"7025\",\"type\":\"Line\"},{\"attributes\":{\"axis\":{\"id\":\"6986\"},\"ticker\":null},\"id\":\"6989\",\"type\":\"Grid\"},{\"attributes\":{\"end\":60},\"id\":\"7043\",\"type\":\"Range1d\"},{\"attributes\":{\"axis\":{\"id\":\"6990\"},\"dimension\":1,\"ticker\":null},\"id\":\"6993\",\"type\":\"Grid\"},{\"attributes\":{\"overlay\":{\"id\":\"7000\"}},\"id\":\"6996\",\"type\":\"BoxZoomTool\"},{\"attributes\":{\"text\":\"1.85 M Salt, 0.30 M Polymer, N = 1000, f = 0.95, sig = 4.00 A\",\"text_font_size\":{\"value\":\"12pt\"}},\"id\":\"7015\",\"type\":\"Title\"},{\"attributes\":{},\"id\":\"6994\",\"type\":\"PanTool\"},{\"attributes\":{},\"id\":\"7016\",\"type\":\"BasicTickFormatter\"},{\"attributes\":{},\"id\":\"6991\",\"type\":\"BasicTicker\"},{\"attributes\":{},\"id\":\"6995\",\"type\":\"WheelZoomTool\"},{\"attributes\":{},\"id\":\"6999\",\"type\":\"HelpTool\"},{\"attributes\":{},\"id\":\"6998\",\"type\":\"ResetTool\"},{\"attributes\":{\"click_policy\":\"hide\",\"items\":[{\"id\":\"7022\"},{\"id\":\"7037\"}],\"label_text_font_size\":\"14pt\",\"location\":\"bottom_right\"},\"id\":\"7021\",\"type\":\"Legend\"},{\"attributes\":{},\"id\":\"7035\",\"type\":\"UnionRenderers\"},{\"attributes\":{\"label\":{\"value\":\"coacervate\"},\"renderers\":[{\"id\":\"7026\"}]},\"id\":\"7037\",\"type\":\"LegendItem\"},{\"attributes\":{\"source\":{\"id\":\"7008\"}},\"id\":\"7013\",\"type\":\"CDSView\"},{\"attributes\":{},\"id\":\"6984\",\"type\":\"LinearScale\"},{\"attributes\":{\"line_alpha\":0.1,\"line_color\":\"blue\",\"line_width\":6,\"x\":{\"field\":\"rhoPCI\"},\"y\":{\"field\":\"T\"}},\"id\":\"7011\",\"type\":\"Line\"},{\"attributes\":{\"data\":{\"BJ\":{\"__ndarray__\":\"zczMzMzM/D+amZmZmZn9P2ZmZmZmZv4/MzMzMzMz/z8=\",\"dtype\":\"float64\",\"shape\":[4]},\"T\":{\"__ndarray__\":\"8NuFVR78N0BYIn8QKNZCQOCT7rROL0hAYHEif/+hTEA=\",\"dtype\":\"float64\",\"shape\":[4]},\"index\":[0,1,2,3],\"rhoPCI\":{\"__ndarray__\":\"1d69Df+HRT9mPZhHYPAsPwixrJlAwBE/wPIjaCL/8z4=\",\"dtype\":\"float64\",\"shape\":[4]},\"rhoPCII\":{\"__ndarray__\":\"atFMU72V4D9SB7puqIDiP/wRq8bNV+Q/haG80Igc5j8=\",\"dtype\":\"float64\",\"shape\":[4]}},\"selected\":{\"id\":\"7036\"},\"selection_policy\":{\"id\":\"7035\"}},\"id\":\"7008\",\"type\":\"ColumnDataSource\"},{\"attributes\":{\"line_color\":\"red\",\"line_width\":6,\"x\":{\"field\":\"rhoPCII\"},\"y\":{\"field\":\"T\"}},\"id\":\"7024\",\"type\":\"Line\"},{\"attributes\":{},\"id\":\"6982\",\"type\":\"LinearScale\"},{\"attributes\":{\"bottom_units\":\"screen\",\"fill_alpha\":0.5,\"fill_color\":\"lightgrey\",\"left_units\":\"screen\",\"level\":\"overlay\",\"line_alpha\":1.0,\"line_color\":\"black\",\"line_dash\":[4,4],\"line_width\":2,\"render_mode\":\"css\",\"right_units\":\"screen\",\"top_units\":\"screen\"},\"id\":\"7000\",\"type\":\"BoxAnnotation\"},{\"attributes\":{\"axis_label\":\"Temperature [$^{\\\\circ}$C]\",\"axis_label_text_font_size\":\"18pt\",\"formatter\":{\"id\":\"7016\"},\"major_label_text_font_size\":\"14pt\",\"ticker\":{\"id\":\"6991\"}},\"id\":\"6990\",\"type\":\"LinearAxis\"},{\"attributes\":{\"active_drag\":\"auto\",\"active_inspect\":\"auto\",\"active_multi\":null,\"active_scroll\":\"auto\",\"active_tap\":\"auto\",\"tools\":[{\"id\":\"6994\"},{\"id\":\"6995\"},{\"id\":\"6996\"},{\"id\":\"6997\"},{\"id\":\"6998\"},{\"id\":\"6999\"},{\"id\":\"7040\"}]},\"id\":\"7001\",\"type\":\"Toolbar\"},{\"attributes\":{\"axis_label\":\"polyanion density [mol/L]\",\"axis_label_text_font_size\":\"18pt\",\"formatter\":{\"id\":\"7018\"},\"major_label_text_font_size\":\"14pt\",\"ticker\":{\"id\":\"6987\"}},\"id\":\"6986\",\"type\":\"LinearAxis\"},{\"attributes\":{\"callback\":null,\"tooltips\":[[\"Temperature [$^{\\\\circ}$C]\",\"@T\"],[\"polyanion density (I)\",\"@rhoPCI\"],[\"polyanion density (II)\",\"@rhoPCII\"]]},\"id\":\"7040\",\"type\":\"HoverTool\"},{\"attributes\":{},\"id\":\"6997\",\"type\":\"SaveTool\"},{\"attributes\":{\"line_color\":\"blue\",\"line_width\":6,\"x\":{\"field\":\"rhoPCI\"},\"y\":{\"field\":\"T\"}},\"id\":\"7010\",\"type\":\"Line\"},{\"attributes\":{\"source\":{\"id\":\"7008\"}},\"id\":\"7027\",\"type\":\"CDSView\"},{\"attributes\":{\"data_source\":{\"id\":\"7008\"},\"glyph\":{\"id\":\"7010\"},\"hover_glyph\":null,\"muted_glyph\":null,\"nonselection_glyph\":{\"id\":\"7011\"},\"selection_glyph\":null,\"view\":{\"id\":\"7013\"}},\"id\":\"7012\",\"type\":\"GlyphRenderer\"},{\"attributes\":{},\"id\":\"7036\",\"type\":\"Selection\"},{\"attributes\":{\"label\":{\"value\":\"supernatant\"},\"renderers\":[{\"id\":\"7012\"}]},\"id\":\"7022\",\"type\":\"LegendItem\"},{\"attributes\":{\"data_source\":{\"id\":\"7008\"},\"glyph\":{\"id\":\"7024\"},\"hover_glyph\":null,\"muted_glyph\":null,\"nonselection_glyph\":{\"id\":\"7025\"},\"selection_glyph\":null,\"view\":{\"id\":\"7027\"}},\"id\":\"7026\",\"type\":\"GlyphRenderer\"},{\"attributes\":{\"end\":1.3,\"start\":-0.05},\"id\":\"7042\",\"type\":\"Range1d\"},{\"attributes\":{},\"id\":\"6987\",\"type\":\"BasicTicker\"}],\"root_ids\":[\"6977\"]},\"title\":\"Bokeh Application\",\"version\":\"2.0.1\"}};\n",
       "  var render_items = [{\"docid\":\"a50b9b6f-beec-4731-9acb-6856a375f5df\",\"root_ids\":[\"6977\"],\"roots\":{\"6977\":\"e2159213-ce61-48c1-a64d-5477bc120db6\"}}];\n",
       "  root.Bokeh.embed.embed_items_notebook(docs_json, render_items);\n",
       "\n",
       "  }\n",
       "  if (root.Bokeh !== undefined) {\n",
       "    embed_document(root);\n",
       "  } else {\n",
       "    var attempts = 0;\n",
       "    var timer = setInterval(function(root) {\n",
       "      if (root.Bokeh !== undefined) {\n",
       "        clearInterval(timer);\n",
       "        embed_document(root);\n",
       "      } else {\n",
       "        attempts++;\n",
       "        if (attempts > 100) {\n",
       "          clearInterval(timer);\n",
       "          console.log(\"Bokeh: ERROR: Unable to run BokehJS code because BokehJS library is missing\");\n",
       "        }\n",
       "      }\n",
       "    }, 10, root)\n",
       "  }\n",
       "})(window);"
      ],
      "application/vnd.bokehjs_exec.v0+json": ""
     },
     "metadata": {
      "application/vnd.bokehjs_exec.v0+json": {
       "id": "6977"
      }
     },
     "output_type": "display_data"
    },
    {
     "data": {
      "text/html": [
       "\n",
       "\n",
       "\n",
       "\n",
       "\n",
       "\n",
       "  <div class=\"bk-root\" id=\"bcf0a810-9c99-4f24-bb8c-bc1804bc6ac8\" data-root-id=\"7333\"></div>\n"
      ]
     },
     "metadata": {},
     "output_type": "display_data"
    },
    {
     "data": {
      "application/javascript": [
       "(function(root) {\n",
       "  function embed_document(root) {\n",
       "    \n",
       "  var docs_json = {\"ce27f649-b80d-4128-9302-4f2a9c2ad6e6\":{\"roots\":{\"references\":[{\"attributes\":{\"below\":[{\"id\":\"7342\"}],\"center\":[{\"id\":\"7345\"},{\"id\":\"7349\"},{\"id\":\"7377\"}],\"left\":[{\"id\":\"7346\"}],\"plot_height\":500,\"plot_width\":500,\"renderers\":[{\"id\":\"7368\"},{\"id\":\"7382\"}],\"title\":{\"id\":\"7371\"},\"toolbar\":{\"id\":\"7357\"},\"x_range\":{\"id\":\"7398\"},\"x_scale\":{\"id\":\"7338\"},\"y_range\":{\"id\":\"7399\"},\"y_scale\":{\"id\":\"7340\"}},\"id\":\"7333\",\"subtype\":\"Figure\",\"type\":\"Plot\"},{\"attributes\":{\"axis_label\":\"Temperature [$^{\\\\circ}$C]\",\"axis_label_text_font_size\":\"18pt\",\"formatter\":{\"id\":\"7372\"},\"major_label_text_font_size\":\"14pt\",\"ticker\":{\"id\":\"7347\"}},\"id\":\"7346\",\"type\":\"LinearAxis\"},{\"attributes\":{\"end\":1.3,\"start\":-0.05},\"id\":\"7398\",\"type\":\"Range1d\"},{\"attributes\":{\"axis\":{\"id\":\"7346\"},\"dimension\":1,\"ticker\":null},\"id\":\"7349\",\"type\":\"Grid\"},{\"attributes\":{},\"id\":\"7347\",\"type\":\"BasicTicker\"},{\"attributes\":{},\"id\":\"7338\",\"type\":\"LinearScale\"},{\"attributes\":{\"source\":{\"id\":\"7364\"}},\"id\":\"7369\",\"type\":\"CDSView\"},{\"attributes\":{},\"id\":\"7353\",\"type\":\"SaveTool\"},{\"attributes\":{\"line_alpha\":0.1,\"line_color\":\"red\",\"line_width\":6,\"x\":{\"field\":\"rhoPCII\"},\"y\":{\"field\":\"T\"}},\"id\":\"7381\",\"type\":\"Line\"},{\"attributes\":{\"line_color\":\"blue\",\"line_width\":6,\"x\":{\"field\":\"rhoPCI\"},\"y\":{\"field\":\"T\"}},\"id\":\"7366\",\"type\":\"Line\"},{\"attributes\":{},\"id\":\"7392\",\"type\":\"Selection\"},{\"attributes\":{},\"id\":\"7340\",\"type\":\"LinearScale\"},{\"attributes\":{\"label\":{\"value\":\"supernatant\"},\"renderers\":[{\"id\":\"7368\"}]},\"id\":\"7378\",\"type\":\"LegendItem\"},{\"attributes\":{},\"id\":\"7372\",\"type\":\"BasicTickFormatter\"},{\"attributes\":{\"data\":{\"BJ\":{\"__ndarray__\":\"zczMzMzM/D+amZmZmZn9P2ZmZmZmZv4/MzMzMzMz/z8=\",\"dtype\":\"float64\",\"shape\":[4]},\"T\":{\"__ndarray__\":\"8NuFVR78N0BYIn8QKNZCQOCT7rROL0hAYHEif/+hTEA=\",\"dtype\":\"float64\",\"shape\":[4]},\"index\":[0,1,2,3],\"rhoPCI\":{\"__ndarray__\":\"MD35AummZD+9fYkp/fdPP5VVKVo+Ajc/0rGkqACHHj8=\",\"dtype\":\"float64\",\"shape\":[4]},\"rhoPCII\":{\"__ndarray__\":\"aXn6I6D52z+MXof+pAHgPzkXYArm6eE/pRQQira84z8=\",\"dtype\":\"float64\",\"shape\":[4]}},\"selected\":{\"id\":\"7392\"},\"selection_policy\":{\"id\":\"7391\"}},\"id\":\"7364\",\"type\":\"ColumnDataSource\"},{\"attributes\":{\"data_source\":{\"id\":\"7364\"},\"glyph\":{\"id\":\"7366\"},\"hover_glyph\":null,\"muted_glyph\":null,\"nonselection_glyph\":{\"id\":\"7367\"},\"selection_glyph\":null,\"view\":{\"id\":\"7369\"}},\"id\":\"7368\",\"type\":\"GlyphRenderer\"},{\"attributes\":{\"label\":{\"value\":\"coacervate\"},\"renderers\":[{\"id\":\"7382\"}]},\"id\":\"7393\",\"type\":\"LegendItem\"},{\"attributes\":{\"overlay\":{\"id\":\"7356\"}},\"id\":\"7352\",\"type\":\"BoxZoomTool\"},{\"attributes\":{\"line_color\":\"red\",\"line_width\":6,\"x\":{\"field\":\"rhoPCII\"},\"y\":{\"field\":\"T\"}},\"id\":\"7380\",\"type\":\"Line\"},{\"attributes\":{},\"id\":\"7355\",\"type\":\"HelpTool\"},{\"attributes\":{\"active_drag\":\"auto\",\"active_inspect\":\"auto\",\"active_multi\":null,\"active_scroll\":\"auto\",\"active_tap\":\"auto\",\"tools\":[{\"id\":\"7350\"},{\"id\":\"7351\"},{\"id\":\"7352\"},{\"id\":\"7353\"},{\"id\":\"7354\"},{\"id\":\"7355\"},{\"id\":\"7396\"}]},\"id\":\"7357\",\"type\":\"Toolbar\"},{\"attributes\":{\"bottom_units\":\"screen\",\"fill_alpha\":0.5,\"fill_color\":\"lightgrey\",\"left_units\":\"screen\",\"level\":\"overlay\",\"line_alpha\":1.0,\"line_color\":\"black\",\"line_dash\":[4,4],\"line_width\":2,\"render_mode\":\"css\",\"right_units\":\"screen\",\"top_units\":\"screen\"},\"id\":\"7356\",\"type\":\"BoxAnnotation\"},{\"attributes\":{\"source\":{\"id\":\"7364\"}},\"id\":\"7383\",\"type\":\"CDSView\"},{\"attributes\":{},\"id\":\"7343\",\"type\":\"BasicTicker\"},{\"attributes\":{\"callback\":null,\"tooltips\":[[\"Temperature [$^{\\\\circ}$C]\",\"@T\"],[\"polyanion density (I)\",\"@rhoPCI\"],[\"polyanion density (II)\",\"@rhoPCII\"]]},\"id\":\"7396\",\"type\":\"HoverTool\"},{\"attributes\":{\"click_policy\":\"hide\",\"items\":[{\"id\":\"7378\"},{\"id\":\"7393\"}],\"label_text_font_size\":\"14pt\",\"location\":\"bottom_right\"},\"id\":\"7377\",\"type\":\"Legend\"},{\"attributes\":{},\"id\":\"7374\",\"type\":\"BasicTickFormatter\"},{\"attributes\":{\"axis\":{\"id\":\"7342\"},\"ticker\":null},\"id\":\"7345\",\"type\":\"Grid\"},{\"attributes\":{},\"id\":\"7354\",\"type\":\"ResetTool\"},{\"attributes\":{\"line_alpha\":0.1,\"line_color\":\"blue\",\"line_width\":6,\"x\":{\"field\":\"rhoPCI\"},\"y\":{\"field\":\"T\"}},\"id\":\"7367\",\"type\":\"Line\"},{\"attributes\":{},\"id\":\"7391\",\"type\":\"UnionRenderers\"},{\"attributes\":{\"end\":60},\"id\":\"7399\",\"type\":\"Range1d\"},{\"attributes\":{\"text\":\"1.90 M Salt, 0.30 M Polymer, N = 1000, f = 0.95, sig = 4.00 A\",\"text_font_size\":{\"value\":\"12pt\"}},\"id\":\"7371\",\"type\":\"Title\"},{\"attributes\":{},\"id\":\"7351\",\"type\":\"WheelZoomTool\"},{\"attributes\":{\"data_source\":{\"id\":\"7364\"},\"glyph\":{\"id\":\"7380\"},\"hover_glyph\":null,\"muted_glyph\":null,\"nonselection_glyph\":{\"id\":\"7381\"},\"selection_glyph\":null,\"view\":{\"id\":\"7383\"}},\"id\":\"7382\",\"type\":\"GlyphRenderer\"},{\"attributes\":{},\"id\":\"7350\",\"type\":\"PanTool\"},{\"attributes\":{\"axis_label\":\"polyanion density [mol/L]\",\"axis_label_text_font_size\":\"18pt\",\"formatter\":{\"id\":\"7374\"},\"major_label_text_font_size\":\"14pt\",\"ticker\":{\"id\":\"7343\"}},\"id\":\"7342\",\"type\":\"LinearAxis\"}],\"root_ids\":[\"7333\"]},\"title\":\"Bokeh Application\",\"version\":\"2.0.1\"}};\n",
       "  var render_items = [{\"docid\":\"ce27f649-b80d-4128-9302-4f2a9c2ad6e6\",\"root_ids\":[\"7333\"],\"roots\":{\"7333\":\"bcf0a810-9c99-4f24-bb8c-bc1804bc6ac8\"}}];\n",
       "  root.Bokeh.embed.embed_items_notebook(docs_json, render_items);\n",
       "\n",
       "  }\n",
       "  if (root.Bokeh !== undefined) {\n",
       "    embed_document(root);\n",
       "  } else {\n",
       "    var attempts = 0;\n",
       "    var timer = setInterval(function(root) {\n",
       "      if (root.Bokeh !== undefined) {\n",
       "        clearInterval(timer);\n",
       "        embed_document(root);\n",
       "      } else {\n",
       "        attempts++;\n",
       "        if (attempts > 100) {\n",
       "          clearInterval(timer);\n",
       "          console.log(\"Bokeh: ERROR: Unable to run BokehJS code because BokehJS library is missing\");\n",
       "        }\n",
       "      }\n",
       "    }, 10, root)\n",
       "  }\n",
       "})(window);"
      ],
      "application/vnd.bokehjs_exec.v0+json": ""
     },
     "metadata": {
      "application/vnd.bokehjs_exec.v0+json": {
       "id": "7333"
      }
     },
     "output_type": "display_data"
    }
   ],
   "source": [
    "plot.compare_to_exp(data, beads_2_M, N=N, sigma=sigma, f=f)"
   ]
  },
  {
   "cell_type": "markdown",
   "metadata": {},
   "source": [
    "### f = 0.9"
   ]
  },
  {
   "cell_type": "code",
   "execution_count": 35,
   "metadata": {},
   "outputs": [
    {
     "name": "stdout",
     "output_type": "stream",
     "text": [
      "NA(1000)NB(1000)lB(*)f(0.900)\n"
     ]
    }
   ],
   "source": [
    "# specifies parameters\n",
    "data_folder = 'vary_N/'\n",
    "N = 1000\n",
    "f = 0.9\n",
    "sigma = 4 # A\n",
    "\n",
    "# loads data\n",
    "naming_structure = pe.get_naming_structure(N, '*', f=f)\n",
    "print(naming_structure)\n",
    "data = salt.load_data(data_folder, naming_structure=naming_structure, ext='output.dat')"
   ]
  },
  {
   "cell_type": "code",
   "execution_count": 36,
   "metadata": {},
   "outputs": [
    {
     "data": {
      "text/html": [
       "\n",
       "\n",
       "\n",
       "\n",
       "\n",
       "\n",
       "  <div class=\"bk-root\" id=\"b71adf6a-c3bd-433f-9bb8-02e3e204d1ea\" data-root-id=\"16343\"></div>\n"
      ]
     },
     "metadata": {},
     "output_type": "display_data"
    },
    {
     "data": {
      "application/javascript": [
       "(function(root) {\n",
       "  function embed_document(root) {\n",
       "    \n",
       "  var docs_json = {\"daca1486-c66c-438d-8c44-3116f31ebb64\":{\"roots\":{\"references\":[{\"attributes\":{\"below\":[{\"id\":\"16352\"}],\"center\":[{\"id\":\"16355\"},{\"id\":\"16359\"},{\"id\":\"16387\"}],\"left\":[{\"id\":\"16356\"}],\"plot_height\":500,\"plot_width\":500,\"renderers\":[{\"id\":\"16378\"},{\"id\":\"16392\"}],\"title\":{\"id\":\"16381\"},\"toolbar\":{\"id\":\"16367\"},\"x_range\":{\"id\":\"16408\"},\"x_scale\":{\"id\":\"16348\"},\"y_range\":{\"id\":\"16409\"},\"y_scale\":{\"id\":\"16350\"}},\"id\":\"16343\",\"subtype\":\"Figure\",\"type\":\"Plot\"},{\"attributes\":{\"overlay\":{\"id\":\"16366\"}},\"id\":\"16362\",\"type\":\"BoxZoomTool\"},{\"attributes\":{\"active_drag\":\"auto\",\"active_inspect\":\"auto\",\"active_multi\":null,\"active_scroll\":\"auto\",\"active_tap\":\"auto\",\"tools\":[{\"id\":\"16360\"},{\"id\":\"16361\"},{\"id\":\"16362\"},{\"id\":\"16363\"},{\"id\":\"16364\"},{\"id\":\"16365\"},{\"id\":\"16406\"}]},\"id\":\"16367\",\"type\":\"Toolbar\"},{\"attributes\":{\"text\":\"1.60 M Salt, 0.30 M Polymer, N = 1000, f = 0.90, sig = 4.00 A\",\"text_font_size\":{\"value\":\"12pt\"}},\"id\":\"16381\",\"type\":\"Title\"},{\"attributes\":{\"data_source\":{\"id\":\"16374\"},\"glyph\":{\"id\":\"16376\"},\"hover_glyph\":null,\"muted_glyph\":null,\"nonselection_glyph\":{\"id\":\"16377\"},\"selection_glyph\":null,\"view\":{\"id\":\"16379\"}},\"id\":\"16378\",\"type\":\"GlyphRenderer\"},{\"attributes\":{\"axis\":{\"id\":\"16356\"},\"dimension\":1,\"ticker\":null},\"id\":\"16359\",\"type\":\"Grid\"},{\"attributes\":{\"label\":{\"value\":\"supernatant\"},\"renderers\":[{\"id\":\"16378\"}]},\"id\":\"16388\",\"type\":\"LegendItem\"},{\"attributes\":{},\"id\":\"16353\",\"type\":\"BasicTicker\"},{\"attributes\":{\"label\":{\"value\":\"coacervate\"},\"renderers\":[{\"id\":\"16392\"}]},\"id\":\"16403\",\"type\":\"LegendItem\"},{\"attributes\":{},\"id\":\"16361\",\"type\":\"WheelZoomTool\"},{\"attributes\":{\"bottom_units\":\"screen\",\"fill_alpha\":0.5,\"fill_color\":\"lightgrey\",\"left_units\":\"screen\",\"level\":\"overlay\",\"line_alpha\":1.0,\"line_color\":\"black\",\"line_dash\":[4,4],\"line_width\":2,\"render_mode\":\"css\",\"right_units\":\"screen\",\"top_units\":\"screen\"},\"id\":\"16366\",\"type\":\"BoxAnnotation\"},{\"attributes\":{\"axis_label\":\"Temperature [$^{\\\\circ}$C]\",\"axis_label_text_font_size\":\"18pt\",\"formatter\":{\"id\":\"16382\"},\"major_label_text_font_size\":\"14pt\",\"ticker\":{\"id\":\"16357\"}},\"id\":\"16356\",\"type\":\"LinearAxis\"},{\"attributes\":{\"axis_label\":\"polyanion density [mol/L]\",\"axis_label_text_font_size\":\"18pt\",\"formatter\":{\"id\":\"16384\"},\"major_label_text_font_size\":\"14pt\",\"ticker\":{\"id\":\"16353\"}},\"id\":\"16352\",\"type\":\"LinearAxis\"},{\"attributes\":{},\"id\":\"16363\",\"type\":\"SaveTool\"},{\"attributes\":{},\"id\":\"16360\",\"type\":\"PanTool\"},{\"attributes\":{},\"id\":\"16402\",\"type\":\"Selection\"},{\"attributes\":{\"data\":{\"BJ\":{\"__ndarray__\":\"AAAAAAAA/D/NzMzMzMz8P5qZmZmZmf0/ZmZmZmZm/j8zMzMzMzP/Pw==\",\"dtype\":\"float64\",\"shape\":[5]},\"T\":{\"__ndarray__\":\"ALAElp3ACkDw24VVHvw3QFgifxAo1kJA4JPutE4vSEBgcSJ//6FMQA==\",\"dtype\":\"float64\",\"shape\":[5]},\"index\":[0,1,2,3,4],\"rhoPCI\":{\"__ndarray__\":\"bZHbYi+AhD/HBGTfeJ5xP3HTYfp1FF0/h87Sv3WWRj8iDIjpLFgwPw==\",\"dtype\":\"float64\",\"shape\":[5]},\"rhoPCII\":{\"__ndarray__\":\"uuuIH8OR0z87xyn3P9PXPyav0r/9uts/yAZw529j3z/tAkLD523hPw==\",\"dtype\":\"float64\",\"shape\":[5]}},\"selected\":{\"id\":\"16402\"},\"selection_policy\":{\"id\":\"16401\"}},\"id\":\"16374\",\"type\":\"ColumnDataSource\"},{\"attributes\":{\"click_policy\":\"hide\",\"items\":[{\"id\":\"16388\"},{\"id\":\"16403\"}],\"label_text_font_size\":\"14pt\",\"location\":\"bottom_right\"},\"id\":\"16387\",\"type\":\"Legend\"},{\"attributes\":{\"source\":{\"id\":\"16374\"}},\"id\":\"16379\",\"type\":\"CDSView\"},{\"attributes\":{\"line_color\":\"red\",\"line_width\":6,\"x\":{\"field\":\"rhoPCII\"},\"y\":{\"field\":\"T\"}},\"id\":\"16390\",\"type\":\"Line\"},{\"attributes\":{\"data_source\":{\"id\":\"16374\"},\"glyph\":{\"id\":\"16390\"},\"hover_glyph\":null,\"muted_glyph\":null,\"nonselection_glyph\":{\"id\":\"16391\"},\"selection_glyph\":null,\"view\":{\"id\":\"16393\"}},\"id\":\"16392\",\"type\":\"GlyphRenderer\"},{\"attributes\":{\"axis\":{\"id\":\"16352\"},\"ticker\":null},\"id\":\"16355\",\"type\":\"Grid\"},{\"attributes\":{},\"id\":\"16384\",\"type\":\"BasicTickFormatter\"},{\"attributes\":{\"end\":60},\"id\":\"16409\",\"type\":\"Range1d\"},{\"attributes\":{},\"id\":\"16350\",\"type\":\"LinearScale\"},{\"attributes\":{\"line_color\":\"blue\",\"line_width\":6,\"x\":{\"field\":\"rhoPCI\"},\"y\":{\"field\":\"T\"}},\"id\":\"16376\",\"type\":\"Line\"},{\"attributes\":{},\"id\":\"16401\",\"type\":\"UnionRenderers\"},{\"attributes\":{},\"id\":\"16382\",\"type\":\"BasicTickFormatter\"},{\"attributes\":{},\"id\":\"16364\",\"type\":\"ResetTool\"},{\"attributes\":{\"line_alpha\":0.1,\"line_color\":\"blue\",\"line_width\":6,\"x\":{\"field\":\"rhoPCI\"},\"y\":{\"field\":\"T\"}},\"id\":\"16377\",\"type\":\"Line\"},{\"attributes\":{},\"id\":\"16365\",\"type\":\"HelpTool\"},{\"attributes\":{\"line_alpha\":0.1,\"line_color\":\"red\",\"line_width\":6,\"x\":{\"field\":\"rhoPCII\"},\"y\":{\"field\":\"T\"}},\"id\":\"16391\",\"type\":\"Line\"},{\"attributes\":{\"callback\":null,\"tooltips\":[[\"Temperature [$^{\\\\circ}$C]\",\"@T\"],[\"polyanion density (I)\",\"@rhoPCI\"],[\"polyanion density (II)\",\"@rhoPCII\"]]},\"id\":\"16406\",\"type\":\"HoverTool\"},{\"attributes\":{\"source\":{\"id\":\"16374\"}},\"id\":\"16393\",\"type\":\"CDSView\"},{\"attributes\":{},\"id\":\"16357\",\"type\":\"BasicTicker\"},{\"attributes\":{\"end\":1.3,\"start\":-0.05},\"id\":\"16408\",\"type\":\"Range1d\"},{\"attributes\":{},\"id\":\"16348\",\"type\":\"LinearScale\"}],\"root_ids\":[\"16343\"]},\"title\":\"Bokeh Application\",\"version\":\"2.0.1\"}};\n",
       "  var render_items = [{\"docid\":\"daca1486-c66c-438d-8c44-3116f31ebb64\",\"root_ids\":[\"16343\"],\"roots\":{\"16343\":\"b71adf6a-c3bd-433f-9bb8-02e3e204d1ea\"}}];\n",
       "  root.Bokeh.embed.embed_items_notebook(docs_json, render_items);\n",
       "\n",
       "  }\n",
       "  if (root.Bokeh !== undefined) {\n",
       "    embed_document(root);\n",
       "  } else {\n",
       "    var attempts = 0;\n",
       "    var timer = setInterval(function(root) {\n",
       "      if (root.Bokeh !== undefined) {\n",
       "        clearInterval(timer);\n",
       "        embed_document(root);\n",
       "      } else {\n",
       "        attempts++;\n",
       "        if (attempts > 100) {\n",
       "          clearInterval(timer);\n",
       "          console.log(\"Bokeh: ERROR: Unable to run BokehJS code because BokehJS library is missing\");\n",
       "        }\n",
       "      }\n",
       "    }, 10, root)\n",
       "  }\n",
       "})(window);"
      ],
      "application/vnd.bokehjs_exec.v0+json": ""
     },
     "metadata": {
      "application/vnd.bokehjs_exec.v0+json": {
       "id": "16343"
      }
     },
     "output_type": "display_data"
    },
    {
     "name": "stdout",
     "output_type": "stream",
     "text": [
      "No data to plot in plot.binodal()--error likely.\n"
     ]
    },
    {
     "ename": "ZeroDivisionError",
     "evalue": "division by zero",
     "output_type": "error",
     "traceback": [
      "\u001b[1;31m---------------------------------------------------------------------------\u001b[0m",
      "\u001b[1;31mZeroDivisionError\u001b[0m                         Traceback (most recent call last)",
      "\u001b[1;32m<ipython-input-36-996ab78e90f4>\u001b[0m in \u001b[0;36m<module>\u001b[1;34m\u001b[0m\n\u001b[1;32m----> 1\u001b[1;33m \u001b[0mplot\u001b[0m\u001b[1;33m.\u001b[0m\u001b[0mcompare_to_exp\u001b[0m\u001b[1;33m(\u001b[0m\u001b[0mdata\u001b[0m\u001b[1;33m,\u001b[0m \u001b[0mbeads_2_M\u001b[0m\u001b[1;33m,\u001b[0m \u001b[0mN\u001b[0m\u001b[1;33m=\u001b[0m\u001b[0mN\u001b[0m\u001b[1;33m,\u001b[0m \u001b[0msigma\u001b[0m\u001b[1;33m=\u001b[0m\u001b[0msigma\u001b[0m\u001b[1;33m,\u001b[0m \u001b[0mf\u001b[0m\u001b[1;33m=\u001b[0m\u001b[0mf\u001b[0m\u001b[1;33m)\u001b[0m\u001b[1;33m\u001b[0m\u001b[1;33m\u001b[0m\u001b[0m\n\u001b[0m",
      "\u001b[1;32m~\\OneDrive - California Institute of Technology\\Documents\\Research\\Wang\\complex_coacervate\\plot.py\u001b[0m in \u001b[0;36mcompare_to_exp\u001b[1;34m(data, beads_2_M, rho_p_list, rho_s_list, N, f, sigma, t_fs)\u001b[0m\n\u001b[0;32m    693\u001b[0m             p = binodal(lB_arr, rho_PCI_list, rho_PCII_list, title=title,\n\u001b[0;32m    694\u001b[0m                         \u001b[0mbeads_2_M\u001b[0m\u001b[1;33m=\u001b[0m\u001b[1;36m1\u001b[0m\u001b[1;33m,\u001b[0m \u001b[0mn_tie_lines\u001b[0m\u001b[1;33m=\u001b[0m\u001b[1;36m0\u001b[0m\u001b[1;33m,\u001b[0m \u001b[0mdeg_C\u001b[0m\u001b[1;33m=\u001b[0m\u001b[1;32mTrue\u001b[0m\u001b[1;33m,\u001b[0m \u001b[0mT_range\u001b[0m\u001b[1;33m=\u001b[0m\u001b[0mT_range\u001b[0m\u001b[1;33m,\u001b[0m\u001b[1;33m\u001b[0m\u001b[1;33m\u001b[0m\u001b[0m\n\u001b[1;32m--> 695\u001b[1;33m                         x_lim=x_lim, y_lim=y_lim, marker=False, line=True)\n\u001b[0m\u001b[0;32m    696\u001b[0m             \u001b[0mp\u001b[0m\u001b[1;33m.\u001b[0m\u001b[0mtitle\u001b[0m\u001b[1;33m.\u001b[0m\u001b[0mtext_font_size\u001b[0m \u001b[1;33m=\u001b[0m \u001b[1;34m'{0:d}pt'\u001b[0m\u001b[1;33m.\u001b[0m\u001b[0mformat\u001b[0m\u001b[1;33m(\u001b[0m\u001b[0mt_fs\u001b[0m\u001b[1;33m)\u001b[0m\u001b[1;33m\u001b[0m\u001b[1;33m\u001b[0m\u001b[0m\n\u001b[0;32m    697\u001b[0m             \u001b[0mshow\u001b[0m\u001b[1;33m(\u001b[0m\u001b[0mp\u001b[0m\u001b[1;33m)\u001b[0m\u001b[1;33m\u001b[0m\u001b[1;33m\u001b[0m\u001b[0m\n",
      "\u001b[1;32m~\\OneDrive - California Institute of Technology\\Documents\\Research\\Wang\\complex_coacervate\\plot.py\u001b[0m in \u001b[0;36mbinodal\u001b[1;34m(lB_arr, left_list, right_list, left, right, x_label, n_tie_lines, plot_T, T_range, beads_2_M, title, fix_eps, deg_C, x_lim, y_lim, marker, line, c1, c2)\u001b[0m\n\u001b[0;32m    162\u001b[0m     p = no_salt(df_mu, n_plot, left=left, right=right, x_label=x_label,\n\u001b[0;32m    163\u001b[0m                 \u001b[0mn_tie_lines\u001b[0m\u001b[1;33m=\u001b[0m\u001b[0mn_tie_lines\u001b[0m\u001b[1;33m,\u001b[0m \u001b[0mplot_T\u001b[0m\u001b[1;33m=\u001b[0m\u001b[0mplot_T\u001b[0m\u001b[1;33m,\u001b[0m \u001b[0mmarker\u001b[0m\u001b[1;33m=\u001b[0m\u001b[0mmarker\u001b[0m\u001b[1;33m,\u001b[0m \u001b[0mline\u001b[0m\u001b[1;33m=\u001b[0m\u001b[0mline\u001b[0m\u001b[1;33m,\u001b[0m\u001b[1;33m\u001b[0m\u001b[1;33m\u001b[0m\u001b[0m\n\u001b[1;32m--> 164\u001b[1;33m                 title=title, units_rho=units_rho, deg_C=deg_C, c1=c1, c2=c2)\n\u001b[0m\u001b[0;32m    165\u001b[0m \u001b[1;33m\u001b[0m\u001b[0m\n\u001b[0;32m    166\u001b[0m     \u001b[1;31m# sets axis limits if requested\u001b[0m\u001b[1;33m\u001b[0m\u001b[1;33m\u001b[0m\u001b[1;33m\u001b[0m\u001b[0m\n",
      "\u001b[1;32m~\\OneDrive - California Institute of Technology\\Documents\\Research\\Wang\\complex_coacervate\\plot.py\u001b[0m in \u001b[0;36mno_salt\u001b[1;34m(df, n_plot, left, right, x_label, p, n_tie_lines, plot_T, title, line, marker, w, h, units_rho, deg_C, leg1, c1, leg2, c2)\u001b[0m\n\u001b[0;32m    844\u001b[0m     \u001b[1;31m# samples a uniform subset of the data\u001b[0m\u001b[1;33m\u001b[0m\u001b[1;33m\u001b[0m\u001b[1;33m\u001b[0m\u001b[0m\n\u001b[0;32m    845\u001b[0m     \u001b[0mn\u001b[0m \u001b[1;33m=\u001b[0m \u001b[0mlen\u001b[0m\u001b[1;33m(\u001b[0m\u001b[0mdf\u001b[0m\u001b[1;33m)\u001b[0m\u001b[1;33m\u001b[0m\u001b[1;33m\u001b[0m\u001b[0m\n\u001b[1;32m--> 846\u001b[1;33m     \u001b[0mskip\u001b[0m \u001b[1;33m=\u001b[0m \u001b[0mint\u001b[0m\u001b[1;33m(\u001b[0m\u001b[0mn\u001b[0m \u001b[1;33m/\u001b[0m \u001b[0mn_plot\u001b[0m\u001b[1;33m)\u001b[0m\u001b[1;33m\u001b[0m\u001b[1;33m\u001b[0m\u001b[0m\n\u001b[0m\u001b[0;32m    847\u001b[0m     \u001b[0msample\u001b[0m \u001b[1;33m=\u001b[0m \u001b[0mdf\u001b[0m\u001b[1;33m.\u001b[0m\u001b[0miloc\u001b[0m\u001b[1;33m[\u001b[0m\u001b[1;33m:\u001b[0m\u001b[1;33m:\u001b[0m\u001b[0mskip\u001b[0m\u001b[1;33m]\u001b[0m\u001b[1;33m\u001b[0m\u001b[1;33m\u001b[0m\u001b[0m\n\u001b[0;32m    848\u001b[0m \u001b[1;33m\u001b[0m\u001b[0m\n",
      "\u001b[1;31mZeroDivisionError\u001b[0m: division by zero"
     ]
    }
   ],
   "source": [
    "plot.compare_to_exp(data, beads_2_M, N=N, sigma=sigma, f=f)"
   ]
  },
  {
   "cell_type": "markdown",
   "metadata": {},
   "source": [
    "### f = 0.85\n",
    "\n",
    "Binodal is too narrow to support the specified concentrations."
   ]
  },
  {
   "cell_type": "markdown",
   "metadata": {},
   "source": [
    "## Vary $\\sigma$\n",
    "\n",
    "### $\\sigma = 4~\\dot{A}$"
   ]
  },
  {
   "cell_type": "code",
   "execution_count": 37,
   "metadata": {},
   "outputs": [
    {
     "name": "stdout",
     "output_type": "stream",
     "text": [
      "NA(1000)NB(1000)lB(*)f(1.000)\n"
     ]
    }
   ],
   "source": [
    "# specifies parameters\n",
    "data_folder = 'vary_N/'\n",
    "N = 1000\n",
    "f = 1\n",
    "sigma = 4.208 # [A]\n",
    "\n",
    "# loads data\n",
    "naming_structure = pe.get_naming_structure(N, '*', f=f)\n",
    "print(naming_structure)\n",
    "data = salt.load_data(data_folder, naming_structure=naming_structure, ext='output.dat')"
   ]
  },
  {
   "cell_type": "code",
   "execution_count": 38,
   "metadata": {},
   "outputs": [
    {
     "data": {
      "text/html": [
       "\n",
       "\n",
       "\n",
       "\n",
       "\n",
       "\n",
       "  <div class=\"bk-root\" id=\"567b3075-3e1a-4a9d-ab14-ebc3bbd2f850\" data-root-id=\"16888\"></div>\n"
      ]
     },
     "metadata": {},
     "output_type": "display_data"
    },
    {
     "data": {
      "application/javascript": [
       "(function(root) {\n",
       "  function embed_document(root) {\n",
       "    \n",
       "  var docs_json = {\"340dea32-cfb0-4a1b-95cd-3aa8909fae89\":{\"roots\":{\"references\":[{\"attributes\":{\"below\":[{\"id\":\"16897\"}],\"center\":[{\"id\":\"16900\"},{\"id\":\"16904\"},{\"id\":\"16932\"}],\"left\":[{\"id\":\"16901\"}],\"plot_height\":500,\"plot_width\":500,\"renderers\":[{\"id\":\"16923\"},{\"id\":\"16937\"}],\"title\":{\"id\":\"16926\"},\"toolbar\":{\"id\":\"16912\"},\"x_range\":{\"id\":\"16953\"},\"x_scale\":{\"id\":\"16893\"},\"y_range\":{\"id\":\"16954\"},\"y_scale\":{\"id\":\"16895\"}},\"id\":\"16888\",\"subtype\":\"Figure\",\"type\":\"Plot\"},{\"attributes\":{\"click_policy\":\"hide\",\"items\":[{\"id\":\"16933\"},{\"id\":\"16948\"}],\"label_text_font_size\":\"14pt\",\"location\":\"bottom_right\"},\"id\":\"16932\",\"type\":\"Legend\"},{\"attributes\":{\"end\":60},\"id\":\"16954\",\"type\":\"Range1d\"},{\"attributes\":{},\"id\":\"16898\",\"type\":\"BasicTicker\"},{\"attributes\":{\"callback\":null,\"tooltips\":[[\"Temperature [$^{\\\\circ}$C]\",\"@T\"],[\"polyanion density (I)\",\"@rhoPCI\"],[\"polyanion density (II)\",\"@rhoPCII\"]]},\"id\":\"16951\",\"type\":\"HoverTool\"},{\"attributes\":{},\"id\":\"16929\",\"type\":\"BasicTickFormatter\"},{\"attributes\":{\"axis\":{\"id\":\"16897\"},\"ticker\":null},\"id\":\"16900\",\"type\":\"Grid\"},{\"attributes\":{\"line_color\":\"red\",\"line_width\":6,\"x\":{\"field\":\"rhoPCII\"},\"y\":{\"field\":\"T\"}},\"id\":\"16935\",\"type\":\"Line\"},{\"attributes\":{\"data\":{\"BJ\":{\"__ndarray__\":\"AAAAAAAA/D/NzMzMzMz8P5qZmZmZmf0/ZmZmZmZm/j8zMzMzMzP/Pw==\",\"dtype\":\"float64\",\"shape\":[5]},\"T\":{\"__ndarray__\":\"ALAElp3ACkDw24VVHvw3QFgifxAo1kJA4JPutE4vSEBgcSJ//6FMQA==\",\"dtype\":\"float64\",\"shape\":[5]},\"index\":[0,1,2,3,4],\"rhoPCI\":{\"__ndarray__\":\"U3wGJ19AET6zKz1bSnfbPdh1F3MTzKM9OWRa8Yk0aj0pAAjFMJQvPQ==\",\"dtype\":\"float64\",\"shape\":[5]},\"rhoPCII\":{\"__ndarray__\":\"zItpKGok6z+CX+Jh2bfsP55HAAa6QO4/Vy+EiJq+7z9BisB65ZnwPw==\",\"dtype\":\"float64\",\"shape\":[5]}},\"selected\":{\"id\":\"16947\"},\"selection_policy\":{\"id\":\"16946\"}},\"id\":\"16919\",\"type\":\"ColumnDataSource\"},{\"attributes\":{\"data_source\":{\"id\":\"16919\"},\"glyph\":{\"id\":\"16921\"},\"hover_glyph\":null,\"muted_glyph\":null,\"nonselection_glyph\":{\"id\":\"16922\"},\"selection_glyph\":null,\"view\":{\"id\":\"16924\"}},\"id\":\"16923\",\"type\":\"GlyphRenderer\"},{\"attributes\":{\"axis_label\":\"polyanion density [mol/L]\",\"axis_label_text_font_size\":\"18pt\",\"formatter\":{\"id\":\"16929\"},\"major_label_text_font_size\":\"14pt\",\"ticker\":{\"id\":\"16898\"}},\"id\":\"16897\",\"type\":\"LinearAxis\"},{\"attributes\":{\"label\":{\"value\":\"coacervate\"},\"renderers\":[{\"id\":\"16937\"}]},\"id\":\"16948\",\"type\":\"LegendItem\"},{\"attributes\":{\"data_source\":{\"id\":\"16919\"},\"glyph\":{\"id\":\"16935\"},\"hover_glyph\":null,\"muted_glyph\":null,\"nonselection_glyph\":{\"id\":\"16936\"},\"selection_glyph\":null,\"view\":{\"id\":\"16938\"}},\"id\":\"16937\",\"type\":\"GlyphRenderer\"},{\"attributes\":{\"line_alpha\":0.1,\"line_color\":\"blue\",\"line_width\":6,\"x\":{\"field\":\"rhoPCI\"},\"y\":{\"field\":\"T\"}},\"id\":\"16922\",\"type\":\"Line\"},{\"attributes\":{},\"id\":\"16927\",\"type\":\"BasicTickFormatter\"},{\"attributes\":{\"bottom_units\":\"screen\",\"fill_alpha\":0.5,\"fill_color\":\"lightgrey\",\"left_units\":\"screen\",\"level\":\"overlay\",\"line_alpha\":1.0,\"line_color\":\"black\",\"line_dash\":[4,4],\"line_width\":2,\"render_mode\":\"css\",\"right_units\":\"screen\",\"top_units\":\"screen\"},\"id\":\"16911\",\"type\":\"BoxAnnotation\"},{\"attributes\":{},\"id\":\"16946\",\"type\":\"UnionRenderers\"},{\"attributes\":{\"line_color\":\"blue\",\"line_width\":6,\"x\":{\"field\":\"rhoPCI\"},\"y\":{\"field\":\"T\"}},\"id\":\"16921\",\"type\":\"Line\"},{\"attributes\":{\"line_alpha\":0.1,\"line_color\":\"red\",\"line_width\":6,\"x\":{\"field\":\"rhoPCII\"},\"y\":{\"field\":\"T\"}},\"id\":\"16936\",\"type\":\"Line\"},{\"attributes\":{},\"id\":\"16893\",\"type\":\"LinearScale\"},{\"attributes\":{\"text\":\"1.57 M Salt, 0.27 M Polymer, N = 1000, f = 1.00, sig = 4.21 A\",\"text_font_size\":{\"value\":\"12pt\"}},\"id\":\"16926\",\"type\":\"Title\"},{\"attributes\":{\"label\":{\"value\":\"supernatant\"},\"renderers\":[{\"id\":\"16923\"}]},\"id\":\"16933\",\"type\":\"LegendItem\"},{\"attributes\":{\"active_drag\":\"auto\",\"active_inspect\":\"auto\",\"active_multi\":null,\"active_scroll\":\"auto\",\"active_tap\":\"auto\",\"tools\":[{\"id\":\"16905\"},{\"id\":\"16906\"},{\"id\":\"16907\"},{\"id\":\"16908\"},{\"id\":\"16909\"},{\"id\":\"16910\"},{\"id\":\"16951\"}]},\"id\":\"16912\",\"type\":\"Toolbar\"},{\"attributes\":{},\"id\":\"16902\",\"type\":\"BasicTicker\"},{\"attributes\":{},\"id\":\"16947\",\"type\":\"Selection\"},{\"attributes\":{\"axis_label\":\"Temperature [$^{\\\\circ}$C]\",\"axis_label_text_font_size\":\"18pt\",\"formatter\":{\"id\":\"16927\"},\"major_label_text_font_size\":\"14pt\",\"ticker\":{\"id\":\"16902\"}},\"id\":\"16901\",\"type\":\"LinearAxis\"},{\"attributes\":{\"axis\":{\"id\":\"16901\"},\"dimension\":1,\"ticker\":null},\"id\":\"16904\",\"type\":\"Grid\"},{\"attributes\":{\"end\":1.3,\"start\":-0.05},\"id\":\"16953\",\"type\":\"Range1d\"},{\"attributes\":{},\"id\":\"16906\",\"type\":\"WheelZoomTool\"},{\"attributes\":{},\"id\":\"16908\",\"type\":\"SaveTool\"},{\"attributes\":{\"source\":{\"id\":\"16919\"}},\"id\":\"16938\",\"type\":\"CDSView\"},{\"attributes\":{},\"id\":\"16910\",\"type\":\"HelpTool\"},{\"attributes\":{},\"id\":\"16895\",\"type\":\"LinearScale\"},{\"attributes\":{\"source\":{\"id\":\"16919\"}},\"id\":\"16924\",\"type\":\"CDSView\"},{\"attributes\":{},\"id\":\"16905\",\"type\":\"PanTool\"},{\"attributes\":{\"overlay\":{\"id\":\"16911\"}},\"id\":\"16907\",\"type\":\"BoxZoomTool\"},{\"attributes\":{},\"id\":\"16909\",\"type\":\"ResetTool\"}],\"root_ids\":[\"16888\"]},\"title\":\"Bokeh Application\",\"version\":\"2.0.1\"}};\n",
       "  var render_items = [{\"docid\":\"340dea32-cfb0-4a1b-95cd-3aa8909fae89\",\"root_ids\":[\"16888\"],\"roots\":{\"16888\":\"567b3075-3e1a-4a9d-ab14-ebc3bbd2f850\"}}];\n",
       "  root.Bokeh.embed.embed_items_notebook(docs_json, render_items);\n",
       "\n",
       "  }\n",
       "  if (root.Bokeh !== undefined) {\n",
       "    embed_document(root);\n",
       "  } else {\n",
       "    var attempts = 0;\n",
       "    var timer = setInterval(function(root) {\n",
       "      if (root.Bokeh !== undefined) {\n",
       "        clearInterval(timer);\n",
       "        embed_document(root);\n",
       "      } else {\n",
       "        attempts++;\n",
       "        if (attempts > 100) {\n",
       "          clearInterval(timer);\n",
       "          console.log(\"Bokeh: ERROR: Unable to run BokehJS code because BokehJS library is missing\");\n",
       "        }\n",
       "      }\n",
       "    }, 10, root)\n",
       "  }\n",
       "})(window);"
      ],
      "application/vnd.bokehjs_exec.v0+json": ""
     },
     "metadata": {
      "application/vnd.bokehjs_exec.v0+json": {
       "id": "16888"
      }
     },
     "output_type": "display_data"
    },
    {
     "data": {
      "text/html": [
       "\n",
       "\n",
       "\n",
       "\n",
       "\n",
       "\n",
       "  <div class=\"bk-root\" id=\"f2c12d2c-ad8b-4d2e-a9de-83a21c187960\" data-root-id=\"17442\"></div>\n"
      ]
     },
     "metadata": {},
     "output_type": "display_data"
    },
    {
     "data": {
      "application/javascript": [
       "(function(root) {\n",
       "  function embed_document(root) {\n",
       "    \n",
       "  var docs_json = {\"d20f3ae2-9393-420a-a90b-a2c3d27ddb7b\":{\"roots\":{\"references\":[{\"attributes\":{\"below\":[{\"id\":\"17451\"}],\"center\":[{\"id\":\"17454\"},{\"id\":\"17458\"},{\"id\":\"17486\"}],\"left\":[{\"id\":\"17455\"}],\"plot_height\":500,\"plot_width\":500,\"renderers\":[{\"id\":\"17477\"},{\"id\":\"17491\"}],\"title\":{\"id\":\"17480\"},\"toolbar\":{\"id\":\"17466\"},\"x_range\":{\"id\":\"17507\"},\"x_scale\":{\"id\":\"17447\"},\"y_range\":{\"id\":\"17508\"},\"y_scale\":{\"id\":\"17449\"}},\"id\":\"17442\",\"subtype\":\"Figure\",\"type\":\"Plot\"},{\"attributes\":{\"axis\":{\"id\":\"17451\"},\"ticker\":null},\"id\":\"17454\",\"type\":\"Grid\"},{\"attributes\":{\"end\":1.3,\"start\":-0.05},\"id\":\"17507\",\"type\":\"Range1d\"},{\"attributes\":{\"data_source\":{\"id\":\"17473\"},\"glyph\":{\"id\":\"17489\"},\"hover_glyph\":null,\"muted_glyph\":null,\"nonselection_glyph\":{\"id\":\"17490\"},\"selection_glyph\":null,\"view\":{\"id\":\"17492\"}},\"id\":\"17491\",\"type\":\"GlyphRenderer\"},{\"attributes\":{},\"id\":\"17447\",\"type\":\"LinearScale\"},{\"attributes\":{\"text\":\"1.78 M Salt, 0.27 M Polymer, N = 1000, f = 1.00, sig = 4.21 A\",\"text_font_size\":{\"value\":\"12pt\"}},\"id\":\"17480\",\"type\":\"Title\"},{\"attributes\":{\"label\":{\"value\":\"supernatant\"},\"renderers\":[{\"id\":\"17477\"}]},\"id\":\"17487\",\"type\":\"LegendItem\"},{\"attributes\":{},\"id\":\"17464\",\"type\":\"HelpTool\"},{\"attributes\":{\"line_alpha\":0.1,\"line_color\":\"blue\",\"line_width\":6,\"x\":{\"field\":\"rhoPCI\"},\"y\":{\"field\":\"T\"}},\"id\":\"17476\",\"type\":\"Line\"},{\"attributes\":{\"click_policy\":\"hide\",\"items\":[{\"id\":\"17487\"},{\"id\":\"17502\"}],\"label_text_font_size\":\"14pt\",\"location\":\"bottom_right\"},\"id\":\"17486\",\"type\":\"Legend\"},{\"attributes\":{\"active_drag\":\"auto\",\"active_inspect\":\"auto\",\"active_multi\":null,\"active_scroll\":\"auto\",\"active_tap\":\"auto\",\"tools\":[{\"id\":\"17459\"},{\"id\":\"17460\"},{\"id\":\"17461\"},{\"id\":\"17462\"},{\"id\":\"17463\"},{\"id\":\"17464\"},{\"id\":\"17505\"}]},\"id\":\"17466\",\"type\":\"Toolbar\"},{\"attributes\":{},\"id\":\"17463\",\"type\":\"ResetTool\"},{\"attributes\":{\"line_color\":\"red\",\"line_width\":6,\"x\":{\"field\":\"rhoPCII\"},\"y\":{\"field\":\"T\"}},\"id\":\"17489\",\"type\":\"Line\"},{\"attributes\":{},\"id\":\"17483\",\"type\":\"BasicTickFormatter\"},{\"attributes\":{\"label\":{\"value\":\"coacervate\"},\"renderers\":[{\"id\":\"17491\"}]},\"id\":\"17502\",\"type\":\"LegendItem\"},{\"attributes\":{},\"id\":\"17452\",\"type\":\"BasicTicker\"},{\"attributes\":{\"callback\":null,\"tooltips\":[[\"Temperature [$^{\\\\circ}$C]\",\"@T\"],[\"polyanion density (I)\",\"@rhoPCI\"],[\"polyanion density (II)\",\"@rhoPCII\"]]},\"id\":\"17505\",\"type\":\"HoverTool\"},{\"attributes\":{},\"id\":\"17460\",\"type\":\"WheelZoomTool\"},{\"attributes\":{},\"id\":\"17459\",\"type\":\"PanTool\"},{\"attributes\":{\"bottom_units\":\"screen\",\"fill_alpha\":0.5,\"fill_color\":\"lightgrey\",\"left_units\":\"screen\",\"level\":\"overlay\",\"line_alpha\":1.0,\"line_color\":\"black\",\"line_dash\":[4,4],\"line_width\":2,\"render_mode\":\"css\",\"right_units\":\"screen\",\"top_units\":\"screen\"},\"id\":\"17465\",\"type\":\"BoxAnnotation\"},{\"attributes\":{\"overlay\":{\"id\":\"17465\"}},\"id\":\"17461\",\"type\":\"BoxZoomTool\"},{\"attributes\":{},\"id\":\"17481\",\"type\":\"BasicTickFormatter\"},{\"attributes\":{\"source\":{\"id\":\"17473\"}},\"id\":\"17492\",\"type\":\"CDSView\"},{\"attributes\":{\"line_color\":\"blue\",\"line_width\":6,\"x\":{\"field\":\"rhoPCI\"},\"y\":{\"field\":\"T\"}},\"id\":\"17475\",\"type\":\"Line\"},{\"attributes\":{},\"id\":\"17501\",\"type\":\"Selection\"},{\"attributes\":{\"data_source\":{\"id\":\"17473\"},\"glyph\":{\"id\":\"17475\"},\"hover_glyph\":null,\"muted_glyph\":null,\"nonselection_glyph\":{\"id\":\"17476\"},\"selection_glyph\":null,\"view\":{\"id\":\"17478\"}},\"id\":\"17477\",\"type\":\"GlyphRenderer\"},{\"attributes\":{\"axis_label\":\"polyanion density [mol/L]\",\"axis_label_text_font_size\":\"18pt\",\"formatter\":{\"id\":\"17483\"},\"major_label_text_font_size\":\"14pt\",\"ticker\":{\"id\":\"17452\"}},\"id\":\"17451\",\"type\":\"LinearAxis\"},{\"attributes\":{\"line_alpha\":0.1,\"line_color\":\"red\",\"line_width\":6,\"x\":{\"field\":\"rhoPCII\"},\"y\":{\"field\":\"T\"}},\"id\":\"17490\",\"type\":\"Line\"},{\"attributes\":{\"source\":{\"id\":\"17473\"}},\"id\":\"17478\",\"type\":\"CDSView\"},{\"attributes\":{\"axis_label\":\"Temperature [$^{\\\\circ}$C]\",\"axis_label_text_font_size\":\"18pt\",\"formatter\":{\"id\":\"17481\"},\"major_label_text_font_size\":\"14pt\",\"ticker\":{\"id\":\"17456\"}},\"id\":\"17455\",\"type\":\"LinearAxis\"},{\"attributes\":{\"axis\":{\"id\":\"17455\"},\"dimension\":1,\"ticker\":null},\"id\":\"17458\",\"type\":\"Grid\"},{\"attributes\":{},\"id\":\"17462\",\"type\":\"SaveTool\"},{\"attributes\":{},\"id\":\"17456\",\"type\":\"BasicTicker\"},{\"attributes\":{\"data\":{\"BJ\":{\"__ndarray__\":\"AAAAAAAA/D/NzMzMzMz8P5qZmZmZmf0/ZmZmZmZm/j8zMzMzMzP/Pw==\",\"dtype\":\"float64\",\"shape\":[5]},\"T\":{\"__ndarray__\":\"ALAElp3ACkDw24VVHvw3QFgifxAo1kJA4JPutE4vSEBgcSJ//6FMQA==\",\"dtype\":\"float64\",\"shape\":[5]},\"index\":[0,1,2,3,4],\"rhoPCI\":{\"__ndarray__\":\"KXgwNk7MBD92md5CrA7kPr3BFWj1b8E+bKVfYe6hmz7hif40rAN0Pg==\",\"dtype\":\"float64\",\"shape\":[5]},\"rhoPCII\":{\"__ndarray__\":\"a1mvzAWc4j+pLzw2/E7kP3Lx5k7b8+U/WdDK8+6K5z9ZUEXYFxbpPw==\",\"dtype\":\"float64\",\"shape\":[5]}},\"selected\":{\"id\":\"17501\"},\"selection_policy\":{\"id\":\"17500\"}},\"id\":\"17473\",\"type\":\"ColumnDataSource\"},{\"attributes\":{},\"id\":\"17500\",\"type\":\"UnionRenderers\"},{\"attributes\":{\"end\":60},\"id\":\"17508\",\"type\":\"Range1d\"},{\"attributes\":{},\"id\":\"17449\",\"type\":\"LinearScale\"}],\"root_ids\":[\"17442\"]},\"title\":\"Bokeh Application\",\"version\":\"2.0.1\"}};\n",
       "  var render_items = [{\"docid\":\"d20f3ae2-9393-420a-a90b-a2c3d27ddb7b\",\"root_ids\":[\"17442\"],\"roots\":{\"17442\":\"f2c12d2c-ad8b-4d2e-a9de-83a21c187960\"}}];\n",
       "  root.Bokeh.embed.embed_items_notebook(docs_json, render_items);\n",
       "\n",
       "  }\n",
       "  if (root.Bokeh !== undefined) {\n",
       "    embed_document(root);\n",
       "  } else {\n",
       "    var attempts = 0;\n",
       "    var timer = setInterval(function(root) {\n",
       "      if (root.Bokeh !== undefined) {\n",
       "        clearInterval(timer);\n",
       "        embed_document(root);\n",
       "      } else {\n",
       "        attempts++;\n",
       "        if (attempts > 100) {\n",
       "          clearInterval(timer);\n",
       "          console.log(\"Bokeh: ERROR: Unable to run BokehJS code because BokehJS library is missing\");\n",
       "        }\n",
       "      }\n",
       "    }, 10, root)\n",
       "  }\n",
       "})(window);"
      ],
      "application/vnd.bokehjs_exec.v0+json": ""
     },
     "metadata": {
      "application/vnd.bokehjs_exec.v0+json": {
       "id": "17442"
      }
     },
     "output_type": "display_data"
    },
    {
     "data": {
      "text/html": [
       "\n",
       "\n",
       "\n",
       "\n",
       "\n",
       "\n",
       "  <div class=\"bk-root\" id=\"f0ac3ae2-e338-4a98-8710-ee12356b9ca8\" data-root-id=\"18005\"></div>\n"
      ]
     },
     "metadata": {},
     "output_type": "display_data"
    },
    {
     "data": {
      "application/javascript": [
       "(function(root) {\n",
       "  function embed_document(root) {\n",
       "    \n",
       "  var docs_json = {\"a29a28ba-916e-4c42-ab43-838f749d796d\":{\"roots\":{\"references\":[{\"attributes\":{\"below\":[{\"id\":\"18014\"}],\"center\":[{\"id\":\"18017\"},{\"id\":\"18021\"},{\"id\":\"18049\"}],\"left\":[{\"id\":\"18018\"}],\"plot_height\":500,\"plot_width\":500,\"renderers\":[{\"id\":\"18040\"},{\"id\":\"18054\"}],\"title\":{\"id\":\"18043\"},\"toolbar\":{\"id\":\"18029\"},\"x_range\":{\"id\":\"18070\"},\"x_scale\":{\"id\":\"18010\"},\"y_range\":{\"id\":\"18071\"},\"y_scale\":{\"id\":\"18012\"}},\"id\":\"18005\",\"subtype\":\"Figure\",\"type\":\"Plot\"},{\"attributes\":{\"data_source\":{\"id\":\"18036\"},\"glyph\":{\"id\":\"18052\"},\"hover_glyph\":null,\"muted_glyph\":null,\"nonselection_glyph\":{\"id\":\"18053\"},\"selection_glyph\":null,\"view\":{\"id\":\"18055\"}},\"id\":\"18054\",\"type\":\"GlyphRenderer\"},{\"attributes\":{\"data\":{\"BJ\":{\"__ndarray__\":\"AAAAAAAA/D/NzMzMzMz8P5qZmZmZmf0/ZmZmZmZm/j8zMzMzMzP/Pw==\",\"dtype\":\"float64\",\"shape\":[5]},\"T\":{\"__ndarray__\":\"ALAElp3ACkDw24VVHvw3QFgifxAo1kJA4JPutE4vSEBgcSJ//6FMQA==\",\"dtype\":\"float64\",\"shape\":[5]},\"index\":[0,1,2,3,4],\"rhoPCI\":{\"__ndarray__\":\"xQPv+OSbJT90Rcfi6zkIP5q6tkTpjeg+Y2CuLAyixj4VEYAK0xujPg==\",\"dtype\":\"float64\",\"shape\":[5]},\"rhoPCII\":{\"__ndarray__\":\"jYyfpU3b4D8RawXccZjiPzAU29UwReQ/0UhEBj7j5T+1o9Ad0HPnPw==\",\"dtype\":\"float64\",\"shape\":[5]}},\"selected\":{\"id\":\"18064\"},\"selection_policy\":{\"id\":\"18063\"}},\"id\":\"18036\",\"type\":\"ColumnDataSource\"},{\"attributes\":{},\"id\":\"18064\",\"type\":\"Selection\"},{\"attributes\":{\"active_drag\":\"auto\",\"active_inspect\":\"auto\",\"active_multi\":null,\"active_scroll\":\"auto\",\"active_tap\":\"auto\",\"tools\":[{\"id\":\"18022\"},{\"id\":\"18023\"},{\"id\":\"18024\"},{\"id\":\"18025\"},{\"id\":\"18026\"},{\"id\":\"18027\"},{\"id\":\"18068\"}]},\"id\":\"18029\",\"type\":\"Toolbar\"},{\"attributes\":{\"label\":{\"value\":\"coacervate\"},\"renderers\":[{\"id\":\"18054\"}]},\"id\":\"18065\",\"type\":\"LegendItem\"},{\"attributes\":{},\"id\":\"18063\",\"type\":\"UnionRenderers\"},{\"attributes\":{\"end\":60},\"id\":\"18071\",\"type\":\"Range1d\"},{\"attributes\":{},\"id\":\"18025\",\"type\":\"SaveTool\"},{\"attributes\":{\"bottom_units\":\"screen\",\"fill_alpha\":0.5,\"fill_color\":\"lightgrey\",\"left_units\":\"screen\",\"level\":\"overlay\",\"line_alpha\":1.0,\"line_color\":\"black\",\"line_dash\":[4,4],\"line_width\":2,\"render_mode\":\"css\",\"right_units\":\"screen\",\"top_units\":\"screen\"},\"id\":\"18028\",\"type\":\"BoxAnnotation\"},{\"attributes\":{\"callback\":null,\"tooltips\":[[\"Temperature [$^{\\\\circ}$C]\",\"@T\"],[\"polyanion density (I)\",\"@rhoPCI\"],[\"polyanion density (II)\",\"@rhoPCII\"]]},\"id\":\"18068\",\"type\":\"HoverTool\"},{\"attributes\":{},\"id\":\"18019\",\"type\":\"BasicTicker\"},{\"attributes\":{\"data_source\":{\"id\":\"18036\"},\"glyph\":{\"id\":\"18038\"},\"hover_glyph\":null,\"muted_glyph\":null,\"nonselection_glyph\":{\"id\":\"18039\"},\"selection_glyph\":null,\"view\":{\"id\":\"18041\"}},\"id\":\"18040\",\"type\":\"GlyphRenderer\"},{\"attributes\":{\"axis_label\":\"polyanion density [mol/L]\",\"axis_label_text_font_size\":\"18pt\",\"formatter\":{\"id\":\"18046\"},\"major_label_text_font_size\":\"14pt\",\"ticker\":{\"id\":\"18015\"}},\"id\":\"18014\",\"type\":\"LinearAxis\"},{\"attributes\":{},\"id\":\"18023\",\"type\":\"WheelZoomTool\"},{\"attributes\":{\"line_color\":\"red\",\"line_width\":6,\"x\":{\"field\":\"rhoPCII\"},\"y\":{\"field\":\"T\"}},\"id\":\"18052\",\"type\":\"Line\"},{\"attributes\":{\"axis_label\":\"Temperature [$^{\\\\circ}$C]\",\"axis_label_text_font_size\":\"18pt\",\"formatter\":{\"id\":\"18044\"},\"major_label_text_font_size\":\"14pt\",\"ticker\":{\"id\":\"18019\"}},\"id\":\"18018\",\"type\":\"LinearAxis\"},{\"attributes\":{\"line_alpha\":0.1,\"line_color\":\"red\",\"line_width\":6,\"x\":{\"field\":\"rhoPCII\"},\"y\":{\"field\":\"T\"}},\"id\":\"18053\",\"type\":\"Line\"},{\"attributes\":{},\"id\":\"18022\",\"type\":\"PanTool\"},{\"attributes\":{\"click_policy\":\"hide\",\"items\":[{\"id\":\"18050\"},{\"id\":\"18065\"}],\"label_text_font_size\":\"14pt\",\"location\":\"bottom_right\"},\"id\":\"18049\",\"type\":\"Legend\"},{\"attributes\":{\"label\":{\"value\":\"supernatant\"},\"renderers\":[{\"id\":\"18040\"}]},\"id\":\"18050\",\"type\":\"LegendItem\"},{\"attributes\":{\"source\":{\"id\":\"18036\"}},\"id\":\"18055\",\"type\":\"CDSView\"},{\"attributes\":{\"line_alpha\":0.1,\"line_color\":\"blue\",\"line_width\":6,\"x\":{\"field\":\"rhoPCI\"},\"y\":{\"field\":\"T\"}},\"id\":\"18039\",\"type\":\"Line\"},{\"attributes\":{\"text\":\"1.82 M Salt, 0.27 M Polymer, N = 1000, f = 1.00, sig = 4.21 A\",\"text_font_size\":{\"value\":\"12pt\"}},\"id\":\"18043\",\"type\":\"Title\"},{\"attributes\":{\"source\":{\"id\":\"18036\"}},\"id\":\"18041\",\"type\":\"CDSView\"},{\"attributes\":{\"axis\":{\"id\":\"18014\"},\"ticker\":null},\"id\":\"18017\",\"type\":\"Grid\"},{\"attributes\":{},\"id\":\"18010\",\"type\":\"LinearScale\"},{\"attributes\":{\"end\":1.3,\"start\":-0.05},\"id\":\"18070\",\"type\":\"Range1d\"},{\"attributes\":{},\"id\":\"18012\",\"type\":\"LinearScale\"},{\"attributes\":{},\"id\":\"18015\",\"type\":\"BasicTicker\"},{\"attributes\":{},\"id\":\"18026\",\"type\":\"ResetTool\"},{\"attributes\":{\"overlay\":{\"id\":\"18028\"}},\"id\":\"18024\",\"type\":\"BoxZoomTool\"},{\"attributes\":{},\"id\":\"18044\",\"type\":\"BasicTickFormatter\"},{\"attributes\":{\"axis\":{\"id\":\"18018\"},\"dimension\":1,\"ticker\":null},\"id\":\"18021\",\"type\":\"Grid\"},{\"attributes\":{\"line_color\":\"blue\",\"line_width\":6,\"x\":{\"field\":\"rhoPCI\"},\"y\":{\"field\":\"T\"}},\"id\":\"18038\",\"type\":\"Line\"},{\"attributes\":{},\"id\":\"18027\",\"type\":\"HelpTool\"},{\"attributes\":{},\"id\":\"18046\",\"type\":\"BasicTickFormatter\"}],\"root_ids\":[\"18005\"]},\"title\":\"Bokeh Application\",\"version\":\"2.0.1\"}};\n",
       "  var render_items = [{\"docid\":\"a29a28ba-916e-4c42-ab43-838f749d796d\",\"root_ids\":[\"18005\"],\"roots\":{\"18005\":\"f0ac3ae2-e338-4a98-8710-ee12356b9ca8\"}}];\n",
       "  root.Bokeh.embed.embed_items_notebook(docs_json, render_items);\n",
       "\n",
       "  }\n",
       "  if (root.Bokeh !== undefined) {\n",
       "    embed_document(root);\n",
       "  } else {\n",
       "    var attempts = 0;\n",
       "    var timer = setInterval(function(root) {\n",
       "      if (root.Bokeh !== undefined) {\n",
       "        clearInterval(timer);\n",
       "        embed_document(root);\n",
       "      } else {\n",
       "        attempts++;\n",
       "        if (attempts > 100) {\n",
       "          clearInterval(timer);\n",
       "          console.log(\"Bokeh: ERROR: Unable to run BokehJS code because BokehJS library is missing\");\n",
       "        }\n",
       "      }\n",
       "    }, 10, root)\n",
       "  }\n",
       "})(window);"
      ],
      "application/vnd.bokehjs_exec.v0+json": ""
     },
     "metadata": {
      "application/vnd.bokehjs_exec.v0+json": {
       "id": "18005"
      }
     },
     "output_type": "display_data"
    }
   ],
   "source": [
    "plot.compare_to_exp(data, pe.get_beads_2_M(sigma), N=N, sigma=sigma, f=f, rho_s_list=[1.57, 1.78, 1.82], rho_p_list=[0.27])"
   ]
  },
  {
   "cell_type": "markdown",
   "metadata": {},
   "source": [
    "## $\\sigma = 3~\\dot{A}$"
   ]
  },
  {
   "cell_type": "code",
   "execution_count": 82,
   "metadata": {},
   "outputs": [
    {
     "data": {
      "text/html": [
       "\n",
       "\n",
       "\n",
       "\n",
       "\n",
       "\n",
       "  <div class=\"bk-root\" id=\"ba8cd902-3301-406f-844c-f88f96afa3f9\" data-root-id=\"46049\"></div>\n"
      ]
     },
     "metadata": {},
     "output_type": "display_data"
    },
    {
     "data": {
      "application/javascript": [
       "(function(root) {\n",
       "  function embed_document(root) {\n",
       "    \n",
       "  var docs_json = {\"9d53de9c-0981-4dda-8d14-5d15e70eb291\":{\"roots\":{\"references\":[{\"attributes\":{\"below\":[{\"id\":\"46058\"}],\"center\":[{\"id\":\"46061\"},{\"id\":\"46065\"},{\"id\":\"46093\"}],\"left\":[{\"id\":\"46062\"}],\"plot_height\":500,\"plot_width\":500,\"renderers\":[{\"id\":\"46084\"},{\"id\":\"46098\"}],\"title\":{\"id\":\"46087\"},\"toolbar\":{\"id\":\"46073\"},\"x_range\":{\"id\":\"46114\"},\"x_scale\":{\"id\":\"46054\"},\"y_range\":{\"id\":\"46115\"},\"y_scale\":{\"id\":\"46056\"}},\"id\":\"46049\",\"subtype\":\"Figure\",\"type\":\"Plot\"},{\"attributes\":{\"label\":{\"value\":\"coacervate\"},\"renderers\":[{\"id\":\"46098\"}]},\"id\":\"46109\",\"type\":\"LegendItem\"},{\"attributes\":{\"line_alpha\":0.1,\"line_color\":\"blue\",\"line_width\":6,\"x\":{\"field\":\"rhoPCI\"},\"y\":{\"field\":\"T\"}},\"id\":\"46083\",\"type\":\"Line\"},{\"attributes\":{\"overlay\":{\"id\":\"46072\"}},\"id\":\"46068\",\"type\":\"BoxZoomTool\"},{\"attributes\":{\"click_policy\":\"hide\",\"items\":[{\"id\":\"46094\"},{\"id\":\"46109\"}],\"label_text_font_size\":\"14pt\",\"location\":\"bottom_right\"},\"id\":\"46093\",\"type\":\"Legend\"},{\"attributes\":{},\"id\":\"46054\",\"type\":\"LinearScale\"},{\"attributes\":{\"axis\":{\"id\":\"46058\"},\"ticker\":null},\"id\":\"46061\",\"type\":\"Grid\"},{\"attributes\":{\"axis_label\":\"Temperature [C]\",\"axis_label_text_font_size\":\"18pt\",\"formatter\":{\"id\":\"46089\"},\"major_label_text_font_size\":\"14pt\",\"ticker\":{\"id\":\"46063\"}},\"id\":\"46062\",\"type\":\"LinearAxis\"},{\"attributes\":{\"text\":\"1.60 M Salt, 0.30 M Polymer, N = 1000, f = 1.00, sig = 3 A\",\"text_font_size\":{\"value\":\"12pt\"}},\"id\":\"46087\",\"type\":\"Title\"},{\"attributes\":{\"axis_label\":\"polyanion density [mol/L]\",\"axis_label_text_font_size\":\"18pt\",\"formatter\":{\"id\":\"46091\"},\"major_label_text_font_size\":\"14pt\",\"ticker\":{\"id\":\"46059\"}},\"id\":\"46058\",\"type\":\"LinearAxis\"},{\"attributes\":{\"callback\":null,\"tooltips\":[[\"Temperature [C]\",\"@T\"],[\"polyanion density (I)\",\"@rhoPCI\"],[\"polyanion density (II)\",\"@rhoPCII\"]]},\"id\":\"46112\",\"type\":\"HoverTool\"},{\"attributes\":{\"data_source\":{\"id\":\"46080\"},\"glyph\":{\"id\":\"46082\"},\"hover_glyph\":null,\"muted_glyph\":null,\"nonselection_glyph\":{\"id\":\"46083\"},\"selection_glyph\":null,\"view\":{\"id\":\"46085\"}},\"id\":\"46084\",\"type\":\"GlyphRenderer\"},{\"attributes\":{\"data_source\":{\"id\":\"46080\"},\"glyph\":{\"id\":\"46096\"},\"hover_glyph\":null,\"muted_glyph\":null,\"nonselection_glyph\":{\"id\":\"46097\"},\"selection_glyph\":null,\"view\":{\"id\":\"46099\"}},\"id\":\"46098\",\"type\":\"GlyphRenderer\"},{\"attributes\":{\"axis\":{\"id\":\"46062\"},\"dimension\":1,\"ticker\":null},\"id\":\"46065\",\"type\":\"Grid\"},{\"attributes\":{},\"id\":\"46067\",\"type\":\"WheelZoomTool\"},{\"attributes\":{\"label\":{\"value\":\"supernatant\"},\"renderers\":[{\"id\":\"46084\"}]},\"id\":\"46094\",\"type\":\"LegendItem\"},{\"attributes\":{},\"id\":\"46059\",\"type\":\"BasicTicker\"},{\"attributes\":{\"end\":1.3,\"start\":-0.05},\"id\":\"46114\",\"type\":\"Range1d\"},{\"attributes\":{\"data\":{\"BJ\":{\"__ndarray__\":\"AAAAAAAA/D/NzMzMzMz8P5qZmZmZmf0/ZmZmZmZm/j8zMzMzMzP/Pw==\",\"dtype\":\"float64\",\"shape\":[5]},\"T\":{\"__ndarray__\":\"ALAElp3ACkDw24VVHvw3QFgifxAo1kJA4JPutE4vSEBgcSJ//6FMQA==\",\"dtype\":\"float64\",\"shape\":[5]},\"index\":[0,1,2,3,4],\"rhoPCI\":{\"__ndarray__\":\"Rbd4fKzhMy1H9Bts7i5ALIV4OmUAwEYrRmwc/mqOTSqxoQRw1bJQKQ==\",\"dtype\":\"float64\",\"shape\":[5]},\"rhoPCII\":{\"__ndarray__\":\"FJcYCnHNFECcIobUV0MVQMOLX2fZthVAghticrInFkBNpPBXW5YWQA==\",\"dtype\":\"float64\",\"shape\":[5]}},\"selected\":{\"id\":\"46108\"},\"selection_policy\":{\"id\":\"46107\"}},\"id\":\"46080\",\"type\":\"ColumnDataSource\"},{\"attributes\":{\"end\":60},\"id\":\"46115\",\"type\":\"Range1d\"},{\"attributes\":{},\"id\":\"46063\",\"type\":\"BasicTicker\"},{\"attributes\":{},\"id\":\"46066\",\"type\":\"PanTool\"},{\"attributes\":{},\"id\":\"46070\",\"type\":\"ResetTool\"},{\"attributes\":{},\"id\":\"46108\",\"type\":\"Selection\"},{\"attributes\":{\"line_color\":\"red\",\"line_width\":6,\"x\":{\"field\":\"rhoPCII\"},\"y\":{\"field\":\"T\"}},\"id\":\"46096\",\"type\":\"Line\"},{\"attributes\":{},\"id\":\"46056\",\"type\":\"LinearScale\"},{\"attributes\":{},\"id\":\"46069\",\"type\":\"SaveTool\"},{\"attributes\":{},\"id\":\"46107\",\"type\":\"UnionRenderers\"},{\"attributes\":{},\"id\":\"46071\",\"type\":\"HelpTool\"},{\"attributes\":{\"line_color\":\"blue\",\"line_width\":6,\"x\":{\"field\":\"rhoPCI\"},\"y\":{\"field\":\"T\"}},\"id\":\"46082\",\"type\":\"Line\"},{\"attributes\":{\"line_alpha\":0.1,\"line_color\":\"red\",\"line_width\":6,\"x\":{\"field\":\"rhoPCII\"},\"y\":{\"field\":\"T\"}},\"id\":\"46097\",\"type\":\"Line\"},{\"attributes\":{\"bottom_units\":\"screen\",\"fill_alpha\":0.5,\"fill_color\":\"lightgrey\",\"left_units\":\"screen\",\"level\":\"overlay\",\"line_alpha\":1.0,\"line_color\":\"black\",\"line_dash\":[4,4],\"line_width\":2,\"render_mode\":\"css\",\"right_units\":\"screen\",\"top_units\":\"screen\"},\"id\":\"46072\",\"type\":\"BoxAnnotation\"},{\"attributes\":{},\"id\":\"46089\",\"type\":\"BasicTickFormatter\"},{\"attributes\":{\"active_drag\":\"auto\",\"active_inspect\":\"auto\",\"active_multi\":null,\"active_scroll\":\"auto\",\"active_tap\":\"auto\",\"tools\":[{\"id\":\"46066\"},{\"id\":\"46067\"},{\"id\":\"46068\"},{\"id\":\"46069\"},{\"id\":\"46070\"},{\"id\":\"46071\"},{\"id\":\"46112\"}]},\"id\":\"46073\",\"type\":\"Toolbar\"},{\"attributes\":{},\"id\":\"46091\",\"type\":\"BasicTickFormatter\"},{\"attributes\":{\"source\":{\"id\":\"46080\"}},\"id\":\"46085\",\"type\":\"CDSView\"},{\"attributes\":{\"source\":{\"id\":\"46080\"}},\"id\":\"46099\",\"type\":\"CDSView\"}],\"root_ids\":[\"46049\"]},\"title\":\"Bokeh Application\",\"version\":\"2.0.1\"}};\n",
       "  var render_items = [{\"docid\":\"9d53de9c-0981-4dda-8d14-5d15e70eb291\",\"root_ids\":[\"46049\"],\"roots\":{\"46049\":\"ba8cd902-3301-406f-844c-f88f96afa3f9\"}}];\n",
       "  root.Bokeh.embed.embed_items_notebook(docs_json, render_items);\n",
       "\n",
       "  }\n",
       "  if (root.Bokeh !== undefined) {\n",
       "    embed_document(root);\n",
       "  } else {\n",
       "    var attempts = 0;\n",
       "    var timer = setInterval(function(root) {\n",
       "      if (root.Bokeh !== undefined) {\n",
       "        clearInterval(timer);\n",
       "        embed_document(root);\n",
       "      } else {\n",
       "        attempts++;\n",
       "        if (attempts > 100) {\n",
       "          clearInterval(timer);\n",
       "          console.log(\"Bokeh: ERROR: Unable to run BokehJS code because BokehJS library is missing\");\n",
       "        }\n",
       "      }\n",
       "    }, 10, root)\n",
       "  }\n",
       "})(window);"
      ],
      "application/vnd.bokehjs_exec.v0+json": ""
     },
     "metadata": {
      "application/vnd.bokehjs_exec.v0+json": {
       "id": "46049"
      }
     },
     "output_type": "display_data"
    },
    {
     "data": {
      "text/html": [
       "\n",
       "\n",
       "\n",
       "\n",
       "\n",
       "\n",
       "  <div class=\"bk-root\" id=\"033a72d9-f608-42a4-ab73-03d46d83bac1\" data-root-id=\"46963\"></div>\n"
      ]
     },
     "metadata": {},
     "output_type": "display_data"
    },
    {
     "data": {
      "application/javascript": [
       "(function(root) {\n",
       "  function embed_document(root) {\n",
       "    \n",
       "  var docs_json = {\"6ac4c9dd-06fb-435a-97ae-06c8fb003f45\":{\"roots\":{\"references\":[{\"attributes\":{\"below\":[{\"id\":\"46972\"}],\"center\":[{\"id\":\"46975\"},{\"id\":\"46979\"},{\"id\":\"47007\"}],\"left\":[{\"id\":\"46976\"}],\"plot_height\":500,\"plot_width\":500,\"renderers\":[{\"id\":\"46998\"},{\"id\":\"47012\"}],\"title\":{\"id\":\"47001\"},\"toolbar\":{\"id\":\"46987\"},\"x_range\":{\"id\":\"47028\"},\"x_scale\":{\"id\":\"46968\"},\"y_range\":{\"id\":\"47029\"},\"y_scale\":{\"id\":\"46970\"}},\"id\":\"46963\",\"subtype\":\"Figure\",\"type\":\"Plot\"},{\"attributes\":{\"bottom_units\":\"screen\",\"fill_alpha\":0.5,\"fill_color\":\"lightgrey\",\"left_units\":\"screen\",\"level\":\"overlay\",\"line_alpha\":1.0,\"line_color\":\"black\",\"line_dash\":[4,4],\"line_width\":2,\"render_mode\":\"css\",\"right_units\":\"screen\",\"top_units\":\"screen\"},\"id\":\"46986\",\"type\":\"BoxAnnotation\"},{\"attributes\":{},\"id\":\"46981\",\"type\":\"WheelZoomTool\"},{\"attributes\":{},\"id\":\"47003\",\"type\":\"BasicTickFormatter\"},{\"attributes\":{\"line_alpha\":0.1,\"line_color\":\"blue\",\"line_width\":6,\"x\":{\"field\":\"rhoPCI\"},\"y\":{\"field\":\"T\"}},\"id\":\"46997\",\"type\":\"Line\"},{\"attributes\":{},\"id\":\"46985\",\"type\":\"HelpTool\"},{\"attributes\":{\"overlay\":{\"id\":\"46986\"}},\"id\":\"46982\",\"type\":\"BoxZoomTool\"},{\"attributes\":{\"axis_label\":\"Temperature [C]\",\"axis_label_text_font_size\":\"18pt\",\"formatter\":{\"id\":\"47003\"},\"major_label_text_font_size\":\"14pt\",\"ticker\":{\"id\":\"46977\"}},\"id\":\"46976\",\"type\":\"LinearAxis\"},{\"attributes\":{\"axis_label\":\"polyanion density [mol/L]\",\"axis_label_text_font_size\":\"18pt\",\"formatter\":{\"id\":\"47005\"},\"major_label_text_font_size\":\"14pt\",\"ticker\":{\"id\":\"46973\"}},\"id\":\"46972\",\"type\":\"LinearAxis\"},{\"attributes\":{},\"id\":\"46970\",\"type\":\"LinearScale\"},{\"attributes\":{\"end\":1.3,\"start\":-0.05},\"id\":\"47028\",\"type\":\"Range1d\"},{\"attributes\":{\"click_policy\":\"hide\",\"items\":[{\"id\":\"47008\"},{\"id\":\"47023\"}],\"label_text_font_size\":\"14pt\",\"location\":\"bottom_right\"},\"id\":\"47007\",\"type\":\"Legend\"},{\"attributes\":{\"axis\":{\"id\":\"46972\"},\"ticker\":null},\"id\":\"46975\",\"type\":\"Grid\"},{\"attributes\":{\"source\":{\"id\":\"46994\"}},\"id\":\"46999\",\"type\":\"CDSView\"},{\"attributes\":{\"axis\":{\"id\":\"46976\"},\"dimension\":1,\"ticker\":null},\"id\":\"46979\",\"type\":\"Grid\"},{\"attributes\":{\"line_color\":\"blue\",\"line_width\":6,\"x\":{\"field\":\"rhoPCI\"},\"y\":{\"field\":\"T\"}},\"id\":\"46996\",\"type\":\"Line\"},{\"attributes\":{},\"id\":\"47022\",\"type\":\"Selection\"},{\"attributes\":{\"active_drag\":\"auto\",\"active_inspect\":\"auto\",\"active_multi\":null,\"active_scroll\":\"auto\",\"active_tap\":\"auto\",\"tools\":[{\"id\":\"46980\"},{\"id\":\"46981\"},{\"id\":\"46982\"},{\"id\":\"46983\"},{\"id\":\"46984\"},{\"id\":\"46985\"},{\"id\":\"47026\"}]},\"id\":\"46987\",\"type\":\"Toolbar\"},{\"attributes\":{\"label\":{\"value\":\"coacervate\"},\"renderers\":[{\"id\":\"47012\"}]},\"id\":\"47023\",\"type\":\"LegendItem\"},{\"attributes\":{},\"id\":\"47021\",\"type\":\"UnionRenderers\"},{\"attributes\":{},\"id\":\"46984\",\"type\":\"ResetTool\"},{\"attributes\":{\"line_alpha\":0.1,\"line_color\":\"red\",\"line_width\":6,\"x\":{\"field\":\"rhoPCII\"},\"y\":{\"field\":\"T\"}},\"id\":\"47011\",\"type\":\"Line\"},{\"attributes\":{},\"id\":\"47005\",\"type\":\"BasicTickFormatter\"},{\"attributes\":{\"callback\":null,\"tooltips\":[[\"Temperature [C]\",\"@T\"],[\"polyanion density (I)\",\"@rhoPCI\"],[\"polyanion density (II)\",\"@rhoPCII\"]]},\"id\":\"47026\",\"type\":\"HoverTool\"},{\"attributes\":{\"source\":{\"id\":\"46994\"}},\"id\":\"47013\",\"type\":\"CDSView\"},{\"attributes\":{\"end\":60},\"id\":\"47029\",\"type\":\"Range1d\"},{\"attributes\":{},\"id\":\"46980\",\"type\":\"PanTool\"},{\"attributes\":{\"data\":{\"BJ\":{\"__ndarray__\":\"AAAAAAAA/D/NzMzMzMz8P5qZmZmZmf0/ZmZmZmZm/j8zMzMzMzP/Pw==\",\"dtype\":\"float64\",\"shape\":[5]},\"T\":{\"__ndarray__\":\"ALAElp3ACkDw24VVHvw3QFgifxAo1kJA4JPutE4vSEBgcSJ//6FMQA==\",\"dtype\":\"float64\",\"shape\":[5]},\"index\":[0,1,2,3,4],\"rhoPCI\":{\"__ndarray__\":\"KkzHdMMoVDAxN7FitBR9LzzZIjvFEKQu+j0ZoTMhyC1u+rzMXMTqLA==\",\"dtype\":\"float64\",\"shape\":[5]},\"rhoPCII\":{\"__ndarray__\":\"AsRKiUreE0AUIDrxl1UUQJvEHwDKyRRAIiggmLQ7FUDlPryBFKsVQA==\",\"dtype\":\"float64\",\"shape\":[5]}},\"selected\":{\"id\":\"47022\"},\"selection_policy\":{\"id\":\"47021\"}},\"id\":\"46994\",\"type\":\"ColumnDataSource\"},{\"attributes\":{},\"id\":\"46968\",\"type\":\"LinearScale\"},{\"attributes\":{\"line_color\":\"red\",\"line_width\":6,\"x\":{\"field\":\"rhoPCII\"},\"y\":{\"field\":\"T\"}},\"id\":\"47010\",\"type\":\"Line\"},{\"attributes\":{\"text\":\"1.85 M Salt, 0.30 M Polymer, N = 1000, f = 1.00, sig = 3 A\",\"text_font_size\":{\"value\":\"12pt\"}},\"id\":\"47001\",\"type\":\"Title\"},{\"attributes\":{\"data_source\":{\"id\":\"46994\"},\"glyph\":{\"id\":\"47010\"},\"hover_glyph\":null,\"muted_glyph\":null,\"nonselection_glyph\":{\"id\":\"47011\"},\"selection_glyph\":null,\"view\":{\"id\":\"47013\"}},\"id\":\"47012\",\"type\":\"GlyphRenderer\"},{\"attributes\":{},\"id\":\"46977\",\"type\":\"BasicTicker\"},{\"attributes\":{},\"id\":\"46983\",\"type\":\"SaveTool\"},{\"attributes\":{},\"id\":\"46973\",\"type\":\"BasicTicker\"},{\"attributes\":{\"data_source\":{\"id\":\"46994\"},\"glyph\":{\"id\":\"46996\"},\"hover_glyph\":null,\"muted_glyph\":null,\"nonselection_glyph\":{\"id\":\"46997\"},\"selection_glyph\":null,\"view\":{\"id\":\"46999\"}},\"id\":\"46998\",\"type\":\"GlyphRenderer\"},{\"attributes\":{\"label\":{\"value\":\"supernatant\"},\"renderers\":[{\"id\":\"46998\"}]},\"id\":\"47008\",\"type\":\"LegendItem\"}],\"root_ids\":[\"46963\"]},\"title\":\"Bokeh Application\",\"version\":\"2.0.1\"}};\n",
       "  var render_items = [{\"docid\":\"6ac4c9dd-06fb-435a-97ae-06c8fb003f45\",\"root_ids\":[\"46963\"],\"roots\":{\"46963\":\"033a72d9-f608-42a4-ab73-03d46d83bac1\"}}];\n",
       "  root.Bokeh.embed.embed_items_notebook(docs_json, render_items);\n",
       "\n",
       "  }\n",
       "  if (root.Bokeh !== undefined) {\n",
       "    embed_document(root);\n",
       "  } else {\n",
       "    var attempts = 0;\n",
       "    var timer = setInterval(function(root) {\n",
       "      if (root.Bokeh !== undefined) {\n",
       "        clearInterval(timer);\n",
       "        embed_document(root);\n",
       "      } else {\n",
       "        attempts++;\n",
       "        if (attempts > 100) {\n",
       "          clearInterval(timer);\n",
       "          console.log(\"Bokeh: ERROR: Unable to run BokehJS code because BokehJS library is missing\");\n",
       "        }\n",
       "      }\n",
       "    }, 10, root)\n",
       "  }\n",
       "})(window);"
      ],
      "application/vnd.bokehjs_exec.v0+json": ""
     },
     "metadata": {
      "application/vnd.bokehjs_exec.v0+json": {
       "id": "46963"
      }
     },
     "output_type": "display_data"
    },
    {
     "data": {
      "text/html": [
       "\n",
       "\n",
       "\n",
       "\n",
       "\n",
       "\n",
       "  <div class=\"bk-root\" id=\"28a9afbd-3fcd-4fae-8cd5-ddd47dad47a1\" data-root-id=\"47886\"></div>\n"
      ]
     },
     "metadata": {},
     "output_type": "display_data"
    },
    {
     "data": {
      "application/javascript": [
       "(function(root) {\n",
       "  function embed_document(root) {\n",
       "    \n",
       "  var docs_json = {\"67eec527-380a-4ba1-b7e7-23e07989238c\":{\"roots\":{\"references\":[{\"attributes\":{\"below\":[{\"id\":\"47895\"}],\"center\":[{\"id\":\"47898\"},{\"id\":\"47902\"},{\"id\":\"47930\"}],\"left\":[{\"id\":\"47899\"}],\"plot_height\":500,\"plot_width\":500,\"renderers\":[{\"id\":\"47921\"},{\"id\":\"47935\"}],\"title\":{\"id\":\"47924\"},\"toolbar\":{\"id\":\"47910\"},\"x_range\":{\"id\":\"47951\"},\"x_scale\":{\"id\":\"47891\"},\"y_range\":{\"id\":\"47952\"},\"y_scale\":{\"id\":\"47893\"}},\"id\":\"47886\",\"subtype\":\"Figure\",\"type\":\"Plot\"},{\"attributes\":{},\"id\":\"47908\",\"type\":\"HelpTool\"},{\"attributes\":{\"line_color\":\"red\",\"line_width\":6,\"x\":{\"field\":\"rhoPCII\"},\"y\":{\"field\":\"T\"}},\"id\":\"47933\",\"type\":\"Line\"},{\"attributes\":{},\"id\":\"47944\",\"type\":\"UnionRenderers\"},{\"attributes\":{\"label\":{\"value\":\"coacervate\"},\"renderers\":[{\"id\":\"47935\"}]},\"id\":\"47946\",\"type\":\"LegendItem\"},{\"attributes\":{},\"id\":\"47904\",\"type\":\"WheelZoomTool\"},{\"attributes\":{\"line_alpha\":0.1,\"line_color\":\"blue\",\"line_width\":6,\"x\":{\"field\":\"rhoPCI\"},\"y\":{\"field\":\"T\"}},\"id\":\"47920\",\"type\":\"Line\"},{\"attributes\":{},\"id\":\"47926\",\"type\":\"BasicTickFormatter\"},{\"attributes\":{\"line_alpha\":0.1,\"line_color\":\"red\",\"line_width\":6,\"x\":{\"field\":\"rhoPCII\"},\"y\":{\"field\":\"T\"}},\"id\":\"47934\",\"type\":\"Line\"},{\"attributes\":{\"bottom_units\":\"screen\",\"fill_alpha\":0.5,\"fill_color\":\"lightgrey\",\"left_units\":\"screen\",\"level\":\"overlay\",\"line_alpha\":1.0,\"line_color\":\"black\",\"line_dash\":[4,4],\"line_width\":2,\"render_mode\":\"css\",\"right_units\":\"screen\",\"top_units\":\"screen\"},\"id\":\"47909\",\"type\":\"BoxAnnotation\"},{\"attributes\":{\"axis_label\":\"polyanion density [mol/L]\",\"axis_label_text_font_size\":\"18pt\",\"formatter\":{\"id\":\"47928\"},\"major_label_text_font_size\":\"14pt\",\"ticker\":{\"id\":\"47896\"}},\"id\":\"47895\",\"type\":\"LinearAxis\"},{\"attributes\":{\"callback\":null,\"tooltips\":[[\"Temperature [C]\",\"@T\"],[\"polyanion density (I)\",\"@rhoPCI\"],[\"polyanion density (II)\",\"@rhoPCII\"]]},\"id\":\"47949\",\"type\":\"HoverTool\"},{\"attributes\":{},\"id\":\"47928\",\"type\":\"BasicTickFormatter\"},{\"attributes\":{},\"id\":\"47903\",\"type\":\"PanTool\"},{\"attributes\":{\"source\":{\"id\":\"47917\"}},\"id\":\"47936\",\"type\":\"CDSView\"},{\"attributes\":{},\"id\":\"47900\",\"type\":\"BasicTicker\"},{\"attributes\":{\"overlay\":{\"id\":\"47909\"}},\"id\":\"47905\",\"type\":\"BoxZoomTool\"},{\"attributes\":{\"end\":60},\"id\":\"47952\",\"type\":\"Range1d\"},{\"attributes\":{},\"id\":\"47891\",\"type\":\"LinearScale\"},{\"attributes\":{\"label\":{\"value\":\"supernatant\"},\"renderers\":[{\"id\":\"47921\"}]},\"id\":\"47931\",\"type\":\"LegendItem\"},{\"attributes\":{\"axis\":{\"id\":\"47895\"},\"ticker\":null},\"id\":\"47898\",\"type\":\"Grid\"},{\"attributes\":{},\"id\":\"47893\",\"type\":\"LinearScale\"},{\"attributes\":{\"data_source\":{\"id\":\"47917\"},\"glyph\":{\"id\":\"47933\"},\"hover_glyph\":null,\"muted_glyph\":null,\"nonselection_glyph\":{\"id\":\"47934\"},\"selection_glyph\":null,\"view\":{\"id\":\"47936\"}},\"id\":\"47935\",\"type\":\"GlyphRenderer\"},{\"attributes\":{},\"id\":\"47945\",\"type\":\"Selection\"},{\"attributes\":{\"click_policy\":\"hide\",\"items\":[{\"id\":\"47931\"},{\"id\":\"47946\"}],\"label_text_font_size\":\"14pt\",\"location\":\"bottom_right\"},\"id\":\"47930\",\"type\":\"Legend\"},{\"attributes\":{},\"id\":\"47907\",\"type\":\"ResetTool\"},{\"attributes\":{\"source\":{\"id\":\"47917\"}},\"id\":\"47922\",\"type\":\"CDSView\"},{\"attributes\":{},\"id\":\"47896\",\"type\":\"BasicTicker\"},{\"attributes\":{\"line_color\":\"blue\",\"line_width\":6,\"x\":{\"field\":\"rhoPCI\"},\"y\":{\"field\":\"T\"}},\"id\":\"47919\",\"type\":\"Line\"},{\"attributes\":{\"end\":1.3,\"start\":-0.05},\"id\":\"47951\",\"type\":\"Range1d\"},{\"attributes\":{\"active_drag\":\"auto\",\"active_inspect\":\"auto\",\"active_multi\":null,\"active_scroll\":\"auto\",\"active_tap\":\"auto\",\"tools\":[{\"id\":\"47903\"},{\"id\":\"47904\"},{\"id\":\"47905\"},{\"id\":\"47906\"},{\"id\":\"47907\"},{\"id\":\"47908\"},{\"id\":\"47949\"}]},\"id\":\"47910\",\"type\":\"Toolbar\"},{\"attributes\":{\"data\":{\"BJ\":{\"__ndarray__\":\"AAAAAAAA/D/NzMzMzMz8P5qZmZmZmf0/ZmZmZmZm/j8zMzMzMzP/Pw==\",\"dtype\":\"float64\",\"shape\":[5]},\"T\":{\"__ndarray__\":\"ALAElp3ACkDw24VVHvw3QFgifxAo1kJA4JPutE4vSEBgcSJ//6FMQA==\",\"dtype\":\"float64\",\"shape\":[5]},\"index\":[0,1,2,3,4],\"rhoPCI\":{\"__ndarray__\":\"QZxTEuwl4zDP5n5aGJkRMPjzkPDTWj0vuJ6TlVNiZi5L0xQjlHCPLQ==\",\"dtype\":\"float64\",\"shape\":[5]},\"rhoPCII\":{\"__ndarray__\":\"7TKtYjeuE0DJFfVruiUUQFjQ+Ht/mhRAvhG7jqEMFUAFMtXGOXwVQA==\",\"dtype\":\"float64\",\"shape\":[5]}},\"selected\":{\"id\":\"47945\"},\"selection_policy\":{\"id\":\"47944\"}},\"id\":\"47917\",\"type\":\"ColumnDataSource\"},{\"attributes\":{\"axis_label\":\"Temperature [C]\",\"axis_label_text_font_size\":\"18pt\",\"formatter\":{\"id\":\"47926\"},\"major_label_text_font_size\":\"14pt\",\"ticker\":{\"id\":\"47900\"}},\"id\":\"47899\",\"type\":\"LinearAxis\"},{\"attributes\":{\"text\":\"1.90 M Salt, 0.30 M Polymer, N = 1000, f = 1.00, sig = 3 A\",\"text_font_size\":{\"value\":\"12pt\"}},\"id\":\"47924\",\"type\":\"Title\"},{\"attributes\":{},\"id\":\"47906\",\"type\":\"SaveTool\"},{\"attributes\":{\"data_source\":{\"id\":\"47917\"},\"glyph\":{\"id\":\"47919\"},\"hover_glyph\":null,\"muted_glyph\":null,\"nonselection_glyph\":{\"id\":\"47920\"},\"selection_glyph\":null,\"view\":{\"id\":\"47922\"}},\"id\":\"47921\",\"type\":\"GlyphRenderer\"},{\"attributes\":{\"axis\":{\"id\":\"47899\"},\"dimension\":1,\"ticker\":null},\"id\":\"47902\",\"type\":\"Grid\"}],\"root_ids\":[\"47886\"]},\"title\":\"Bokeh Application\",\"version\":\"2.0.1\"}};\n",
       "  var render_items = [{\"docid\":\"67eec527-380a-4ba1-b7e7-23e07989238c\",\"root_ids\":[\"47886\"],\"roots\":{\"47886\":\"28a9afbd-3fcd-4fae-8cd5-ddd47dad47a1\"}}];\n",
       "  root.Bokeh.embed.embed_items_notebook(docs_json, render_items);\n",
       "\n",
       "  }\n",
       "  if (root.Bokeh !== undefined) {\n",
       "    embed_document(root);\n",
       "  } else {\n",
       "    var attempts = 0;\n",
       "    var timer = setInterval(function(root) {\n",
       "      if (root.Bokeh !== undefined) {\n",
       "        clearInterval(timer);\n",
       "        embed_document(root);\n",
       "      } else {\n",
       "        attempts++;\n",
       "        if (attempts > 100) {\n",
       "          clearInterval(timer);\n",
       "          console.log(\"Bokeh: ERROR: Unable to run BokehJS code because BokehJS library is missing\");\n",
       "        }\n",
       "      }\n",
       "    }, 10, root)\n",
       "  }\n",
       "})(window);"
      ],
      "application/vnd.bokehjs_exec.v0+json": ""
     },
     "metadata": {
      "application/vnd.bokehjs_exec.v0+json": {
       "id": "47886"
      }
     },
     "output_type": "display_data"
    }
   ],
   "source": [
    "sigma = 3\n",
    "plot.compare_to_exp(data, pe.get_beads_2_M(sigma), N=N, sigma=sigma, f=f)"
   ]
  },
  {
   "cell_type": "markdown",
   "metadata": {},
   "source": [
    "### $\\sigma = 4.1~\\dot{A}$"
   ]
  },
  {
   "cell_type": "code",
   "execution_count": 91,
   "metadata": {},
   "outputs": [
    {
     "data": {
      "text/html": [
       "\n",
       "\n",
       "\n",
       "\n",
       "\n",
       "\n",
       "  <div class=\"bk-root\" id=\"7ef9ff6c-b6ba-4c47-9cbd-aa614e8560e8\" data-root-id=\"57611\"></div>\n"
      ]
     },
     "metadata": {},
     "output_type": "display_data"
    },
    {
     "data": {
      "application/javascript": [
       "(function(root) {\n",
       "  function embed_document(root) {\n",
       "    \n",
       "  var docs_json = {\"777d4b7c-e797-4949-8c3c-74ebdc095bf5\":{\"roots\":{\"references\":[{\"attributes\":{\"below\":[{\"id\":\"57620\"}],\"center\":[{\"id\":\"57623\"},{\"id\":\"57627\"},{\"id\":\"57655\"}],\"left\":[{\"id\":\"57624\"}],\"plot_height\":500,\"plot_width\":500,\"renderers\":[{\"id\":\"57646\"},{\"id\":\"57660\"}],\"title\":{\"id\":\"57649\"},\"toolbar\":{\"id\":\"57635\"},\"x_range\":{\"id\":\"57676\"},\"x_scale\":{\"id\":\"57616\"},\"y_range\":{\"id\":\"57677\"},\"y_scale\":{\"id\":\"57618\"}},\"id\":\"57611\",\"subtype\":\"Figure\",\"type\":\"Plot\"},{\"attributes\":{\"bottom_units\":\"screen\",\"fill_alpha\":0.5,\"fill_color\":\"lightgrey\",\"left_units\":\"screen\",\"level\":\"overlay\",\"line_alpha\":1.0,\"line_color\":\"black\",\"line_dash\":[4,4],\"line_width\":2,\"render_mode\":\"css\",\"right_units\":\"screen\",\"top_units\":\"screen\"},\"id\":\"57634\",\"type\":\"BoxAnnotation\"},{\"attributes\":{\"overlay\":{\"id\":\"57634\"}},\"id\":\"57630\",\"type\":\"BoxZoomTool\"},{\"attributes\":{\"line_color\":\"red\",\"line_width\":6,\"x\":{\"field\":\"rhoPCII\"},\"y\":{\"field\":\"T\"}},\"id\":\"57658\",\"type\":\"Line\"},{\"attributes\":{},\"id\":\"57621\",\"type\":\"BasicTicker\"},{\"attributes\":{},\"id\":\"57653\",\"type\":\"BasicTickFormatter\"},{\"attributes\":{\"source\":{\"id\":\"57642\"}},\"id\":\"57647\",\"type\":\"CDSView\"},{\"attributes\":{\"active_drag\":\"auto\",\"active_inspect\":\"auto\",\"active_multi\":null,\"active_scroll\":\"auto\",\"active_tap\":\"auto\",\"tools\":[{\"id\":\"57628\"},{\"id\":\"57629\"},{\"id\":\"57630\"},{\"id\":\"57631\"},{\"id\":\"57632\"},{\"id\":\"57633\"},{\"id\":\"57674\"}]},\"id\":\"57635\",\"type\":\"Toolbar\"},{\"attributes\":{\"axis\":{\"id\":\"57620\"},\"ticker\":null},\"id\":\"57623\",\"type\":\"Grid\"},{\"attributes\":{\"line_alpha\":0.1,\"line_color\":\"blue\",\"line_width\":6,\"x\":{\"field\":\"rhoPCI\"},\"y\":{\"field\":\"T\"}},\"id\":\"57645\",\"type\":\"Line\"},{\"attributes\":{\"label\":{\"value\":\"supernatant\"},\"renderers\":[{\"id\":\"57646\"}]},\"id\":\"57656\",\"type\":\"LegendItem\"},{\"attributes\":{\"end\":60},\"id\":\"57677\",\"type\":\"Range1d\"},{\"attributes\":{},\"id\":\"57628\",\"type\":\"PanTool\"},{\"attributes\":{},\"id\":\"57632\",\"type\":\"ResetTool\"},{\"attributes\":{\"line_alpha\":0.1,\"line_color\":\"red\",\"line_width\":6,\"x\":{\"field\":\"rhoPCII\"},\"y\":{\"field\":\"T\"}},\"id\":\"57659\",\"type\":\"Line\"},{\"attributes\":{\"data_source\":{\"id\":\"57642\"},\"glyph\":{\"id\":\"57658\"},\"hover_glyph\":null,\"muted_glyph\":null,\"nonselection_glyph\":{\"id\":\"57659\"},\"selection_glyph\":null,\"view\":{\"id\":\"57661\"}},\"id\":\"57660\",\"type\":\"GlyphRenderer\"},{\"attributes\":{\"callback\":null,\"tooltips\":[[\"Temperature [C]\",\"@T\"],[\"polyanion density (I)\",\"@rhoPCI\"],[\"polyanion density (II)\",\"@rhoPCII\"]]},\"id\":\"57674\",\"type\":\"HoverTool\"},{\"attributes\":{\"label\":{\"value\":\"coacervate\"},\"renderers\":[{\"id\":\"57660\"}]},\"id\":\"57671\",\"type\":\"LegendItem\"},{\"attributes\":{},\"id\":\"57631\",\"type\":\"SaveTool\"},{\"attributes\":{\"line_color\":\"blue\",\"line_width\":6,\"x\":{\"field\":\"rhoPCI\"},\"y\":{\"field\":\"T\"}},\"id\":\"57644\",\"type\":\"Line\"},{\"attributes\":{\"axis_label\":\"Temperature [C]\",\"axis_label_text_font_size\":\"18pt\",\"formatter\":{\"id\":\"57651\"},\"major_label_text_font_size\":\"14pt\",\"ticker\":{\"id\":\"57625\"}},\"id\":\"57624\",\"type\":\"LinearAxis\"},{\"attributes\":{\"text\":\"1.60 M Salt, 0.30 M Polymer, N = 1000, f = 1.00, sig = 4.10 A\",\"text_font_size\":{\"value\":\"12pt\"}},\"id\":\"57649\",\"type\":\"Title\"},{\"attributes\":{},\"id\":\"57633\",\"type\":\"HelpTool\"},{\"attributes\":{},\"id\":\"57669\",\"type\":\"UnionRenderers\"},{\"attributes\":{},\"id\":\"57625\",\"type\":\"BasicTicker\"},{\"attributes\":{\"data\":{\"BJ\":{\"__ndarray__\":\"AAAAAAAA/D/NzMzMzMz8P5qZmZmZmf0/ZmZmZmZm/j8zMzMzMzP/Pw==\",\"dtype\":\"float64\",\"shape\":[5]},\"T\":{\"__ndarray__\":\"ALAElp3ACkDw24VVHvw3QFgifxAo1kJA4JPutE4vSEBgcSJ//6FMQA==\",\"dtype\":\"float64\",\"shape\":[5]},\"index\":[0,1,2,3,4],\"rhoPCI\":{\"__ndarray__\":\"4ZA70X7TgT3z8mlaS31CPWhNOY3KaQE9F2cw1yb8vTy2s3XhGcJ3PA==\",\"dtype\":\"float64\",\"shape\":[5]},\"rhoPCII\":{\"__ndarray__\":\"hSmq+75/8D9Rc5D/V1XxPww6dHlqJfI/qIhyajDw8j8SOoN03bXzPw==\",\"dtype\":\"float64\",\"shape\":[5]}},\"selected\":{\"id\":\"57670\"},\"selection_policy\":{\"id\":\"57669\"}},\"id\":\"57642\",\"type\":\"ColumnDataSource\"},{\"attributes\":{\"data_source\":{\"id\":\"57642\"},\"glyph\":{\"id\":\"57644\"},\"hover_glyph\":null,\"muted_glyph\":null,\"nonselection_glyph\":{\"id\":\"57645\"},\"selection_glyph\":null,\"view\":{\"id\":\"57647\"}},\"id\":\"57646\",\"type\":\"GlyphRenderer\"},{\"attributes\":{\"axis_label\":\"polyanion density [mol/L]\",\"axis_label_text_font_size\":\"18pt\",\"formatter\":{\"id\":\"57653\"},\"major_label_text_font_size\":\"14pt\",\"ticker\":{\"id\":\"57621\"}},\"id\":\"57620\",\"type\":\"LinearAxis\"},{\"attributes\":{},\"id\":\"57618\",\"type\":\"LinearScale\"},{\"attributes\":{\"click_policy\":\"hide\",\"items\":[{\"id\":\"57656\"},{\"id\":\"57671\"}],\"label_text_font_size\":\"14pt\",\"location\":\"bottom_right\"},\"id\":\"57655\",\"type\":\"Legend\"},{\"attributes\":{},\"id\":\"57629\",\"type\":\"WheelZoomTool\"},{\"attributes\":{\"source\":{\"id\":\"57642\"}},\"id\":\"57661\",\"type\":\"CDSView\"},{\"attributes\":{\"end\":1.3,\"start\":-0.05},\"id\":\"57676\",\"type\":\"Range1d\"},{\"attributes\":{},\"id\":\"57616\",\"type\":\"LinearScale\"},{\"attributes\":{},\"id\":\"57670\",\"type\":\"Selection\"},{\"attributes\":{},\"id\":\"57651\",\"type\":\"BasicTickFormatter\"},{\"attributes\":{\"axis\":{\"id\":\"57624\"},\"dimension\":1,\"ticker\":null},\"id\":\"57627\",\"type\":\"Grid\"}],\"root_ids\":[\"57611\"]},\"title\":\"Bokeh Application\",\"version\":\"2.0.1\"}};\n",
       "  var render_items = [{\"docid\":\"777d4b7c-e797-4949-8c3c-74ebdc095bf5\",\"root_ids\":[\"57611\"],\"roots\":{\"57611\":\"7ef9ff6c-b6ba-4c47-9cbd-aa614e8560e8\"}}];\n",
       "  root.Bokeh.embed.embed_items_notebook(docs_json, render_items);\n",
       "\n",
       "  }\n",
       "  if (root.Bokeh !== undefined) {\n",
       "    embed_document(root);\n",
       "  } else {\n",
       "    var attempts = 0;\n",
       "    var timer = setInterval(function(root) {\n",
       "      if (root.Bokeh !== undefined) {\n",
       "        clearInterval(timer);\n",
       "        embed_document(root);\n",
       "      } else {\n",
       "        attempts++;\n",
       "        if (attempts > 100) {\n",
       "          clearInterval(timer);\n",
       "          console.log(\"Bokeh: ERROR: Unable to run BokehJS code because BokehJS library is missing\");\n",
       "        }\n",
       "      }\n",
       "    }, 10, root)\n",
       "  }\n",
       "})(window);"
      ],
      "application/vnd.bokehjs_exec.v0+json": ""
     },
     "metadata": {
      "application/vnd.bokehjs_exec.v0+json": {
       "id": "57611"
      }
     },
     "output_type": "display_data"
    },
    {
     "data": {
      "text/html": [
       "\n",
       "\n",
       "\n",
       "\n",
       "\n",
       "\n",
       "  <div class=\"bk-root\" id=\"c7d187ca-fb2d-4ab5-9552-4f017afb8316\" data-root-id=\"58633\"></div>\n"
      ]
     },
     "metadata": {},
     "output_type": "display_data"
    },
    {
     "data": {
      "application/javascript": [
       "(function(root) {\n",
       "  function embed_document(root) {\n",
       "    \n",
       "  var docs_json = {\"5d9b67f3-588b-47d7-b4b1-a2defd5d3a9b\":{\"roots\":{\"references\":[{\"attributes\":{\"below\":[{\"id\":\"58642\"}],\"center\":[{\"id\":\"58645\"},{\"id\":\"58649\"},{\"id\":\"58677\"}],\"left\":[{\"id\":\"58646\"}],\"plot_height\":500,\"plot_width\":500,\"renderers\":[{\"id\":\"58668\"},{\"id\":\"58682\"}],\"title\":{\"id\":\"58671\"},\"toolbar\":{\"id\":\"58657\"},\"x_range\":{\"id\":\"58698\"},\"x_scale\":{\"id\":\"58638\"},\"y_range\":{\"id\":\"58699\"},\"y_scale\":{\"id\":\"58640\"}},\"id\":\"58633\",\"subtype\":\"Figure\",\"type\":\"Plot\"},{\"attributes\":{},\"id\":\"58638\",\"type\":\"LinearScale\"},{\"attributes\":{\"line_alpha\":0.1,\"line_color\":\"red\",\"line_width\":6,\"x\":{\"field\":\"rhoPCII\"},\"y\":{\"field\":\"T\"}},\"id\":\"58681\",\"type\":\"Line\"},{\"attributes\":{},\"id\":\"58691\",\"type\":\"UnionRenderers\"},{\"attributes\":{\"overlay\":{\"id\":\"58656\"}},\"id\":\"58652\",\"type\":\"BoxZoomTool\"},{\"attributes\":{\"source\":{\"id\":\"58664\"}},\"id\":\"58683\",\"type\":\"CDSView\"},{\"attributes\":{\"data\":{\"BJ\":{\"__ndarray__\":\"AAAAAAAA/D/NzMzMzMz8P5qZmZmZmf0/ZmZmZmZm/j8zMzMzMzP/Pw==\",\"dtype\":\"float64\",\"shape\":[5]},\"T\":{\"__ndarray__\":\"ALAElp3ACkDw24VVHvw3QFgifxAo1kJA4JPutE4vSEBgcSJ//6FMQA==\",\"dtype\":\"float64\",\"shape\":[5]},\"index\":[0,1,2,3,4],\"rhoPCI\":{\"__ndarray__\":\"SXFzwS05xT7rduIVS0WfPiIAvOXDvnQ+LOOrnUU0ST7H25joVckbPg==\",\"dtype\":\"float64\",\"shape\":[5]},\"rhoPCII\":{\"__ndarray__\":\"QCUQHyk45z+Qi/11GgDpP0/1OyROu+o/rXvMN55o7D+jIoqDzgvuPw==\",\"dtype\":\"float64\",\"shape\":[5]}},\"selected\":{\"id\":\"58692\"},\"selection_policy\":{\"id\":\"58691\"}},\"id\":\"58664\",\"type\":\"ColumnDataSource\"},{\"attributes\":{\"axis\":{\"id\":\"58642\"},\"ticker\":null},\"id\":\"58645\",\"type\":\"Grid\"},{\"attributes\":{},\"id\":\"58653\",\"type\":\"SaveTool\"},{\"attributes\":{\"label\":{\"value\":\"supernatant\"},\"renderers\":[{\"id\":\"58668\"}]},\"id\":\"58678\",\"type\":\"LegendItem\"},{\"attributes\":{},\"id\":\"58650\",\"type\":\"PanTool\"},{\"attributes\":{\"line_color\":\"blue\",\"line_width\":6,\"x\":{\"field\":\"rhoPCI\"},\"y\":{\"field\":\"T\"}},\"id\":\"58666\",\"type\":\"Line\"},{\"attributes\":{\"source\":{\"id\":\"58664\"}},\"id\":\"58669\",\"type\":\"CDSView\"},{\"attributes\":{\"data_source\":{\"id\":\"58664\"},\"glyph\":{\"id\":\"58680\"},\"hover_glyph\":null,\"muted_glyph\":null,\"nonselection_glyph\":{\"id\":\"58681\"},\"selection_glyph\":null,\"view\":{\"id\":\"58683\"}},\"id\":\"58682\",\"type\":\"GlyphRenderer\"},{\"attributes\":{\"end\":1.3,\"start\":-0.05},\"id\":\"58698\",\"type\":\"Range1d\"},{\"attributes\":{\"bottom_units\":\"screen\",\"fill_alpha\":0.5,\"fill_color\":\"lightgrey\",\"left_units\":\"screen\",\"level\":\"overlay\",\"line_alpha\":1.0,\"line_color\":\"black\",\"line_dash\":[4,4],\"line_width\":2,\"render_mode\":\"css\",\"right_units\":\"screen\",\"top_units\":\"screen\"},\"id\":\"58656\",\"type\":\"BoxAnnotation\"},{\"attributes\":{\"line_alpha\":0.1,\"line_color\":\"blue\",\"line_width\":6,\"x\":{\"field\":\"rhoPCI\"},\"y\":{\"field\":\"T\"}},\"id\":\"58667\",\"type\":\"Line\"},{\"attributes\":{\"click_policy\":\"hide\",\"items\":[{\"id\":\"58678\"},{\"id\":\"58693\"}],\"label_text_font_size\":\"14pt\",\"location\":\"bottom_right\"},\"id\":\"58677\",\"type\":\"Legend\"},{\"attributes\":{\"axis_label\":\"polyanion density [mol/L]\",\"axis_label_text_font_size\":\"18pt\",\"formatter\":{\"id\":\"58675\"},\"major_label_text_font_size\":\"14pt\",\"ticker\":{\"id\":\"58643\"}},\"id\":\"58642\",\"type\":\"LinearAxis\"},{\"attributes\":{\"axis\":{\"id\":\"58646\"},\"dimension\":1,\"ticker\":null},\"id\":\"58649\",\"type\":\"Grid\"},{\"attributes\":{\"active_drag\":\"auto\",\"active_inspect\":\"auto\",\"active_multi\":null,\"active_scroll\":\"auto\",\"active_tap\":\"auto\",\"tools\":[{\"id\":\"58650\"},{\"id\":\"58651\"},{\"id\":\"58652\"},{\"id\":\"58653\"},{\"id\":\"58654\"},{\"id\":\"58655\"},{\"id\":\"58696\"}]},\"id\":\"58657\",\"type\":\"Toolbar\"},{\"attributes\":{\"data_source\":{\"id\":\"58664\"},\"glyph\":{\"id\":\"58666\"},\"hover_glyph\":null,\"muted_glyph\":null,\"nonselection_glyph\":{\"id\":\"58667\"},\"selection_glyph\":null,\"view\":{\"id\":\"58669\"}},\"id\":\"58668\",\"type\":\"GlyphRenderer\"},{\"attributes\":{},\"id\":\"58647\",\"type\":\"BasicTicker\"},{\"attributes\":{\"line_color\":\"red\",\"line_width\":6,\"x\":{\"field\":\"rhoPCII\"},\"y\":{\"field\":\"T\"}},\"id\":\"58680\",\"type\":\"Line\"},{\"attributes\":{\"label\":{\"value\":\"coacervate\"},\"renderers\":[{\"id\":\"58682\"}]},\"id\":\"58693\",\"type\":\"LegendItem\"},{\"attributes\":{},\"id\":\"58654\",\"type\":\"ResetTool\"},{\"attributes\":{},\"id\":\"58643\",\"type\":\"BasicTicker\"},{\"attributes\":{},\"id\":\"58692\",\"type\":\"Selection\"},{\"attributes\":{\"text\":\"1.85 M Salt, 0.30 M Polymer, N = 1000, f = 1.00, sig = 4.10 A\",\"text_font_size\":{\"value\":\"12pt\"}},\"id\":\"58671\",\"type\":\"Title\"},{\"attributes\":{\"axis_label\":\"Temperature [C]\",\"axis_label_text_font_size\":\"18pt\",\"formatter\":{\"id\":\"58673\"},\"major_label_text_font_size\":\"14pt\",\"ticker\":{\"id\":\"58647\"}},\"id\":\"58646\",\"type\":\"LinearAxis\"},{\"attributes\":{},\"id\":\"58675\",\"type\":\"BasicTickFormatter\"},{\"attributes\":{},\"id\":\"58673\",\"type\":\"BasicTickFormatter\"},{\"attributes\":{},\"id\":\"58655\",\"type\":\"HelpTool\"},{\"attributes\":{\"callback\":null,\"tooltips\":[[\"Temperature [C]\",\"@T\"],[\"polyanion density (I)\",\"@rhoPCI\"],[\"polyanion density (II)\",\"@rhoPCII\"]]},\"id\":\"58696\",\"type\":\"HoverTool\"},{\"attributes\":{},\"id\":\"58651\",\"type\":\"WheelZoomTool\"},{\"attributes\":{\"end\":60},\"id\":\"58699\",\"type\":\"Range1d\"},{\"attributes\":{},\"id\":\"58640\",\"type\":\"LinearScale\"}],\"root_ids\":[\"58633\"]},\"title\":\"Bokeh Application\",\"version\":\"2.0.1\"}};\n",
       "  var render_items = [{\"docid\":\"5d9b67f3-588b-47d7-b4b1-a2defd5d3a9b\",\"root_ids\":[\"58633\"],\"roots\":{\"58633\":\"c7d187ca-fb2d-4ab5-9552-4f017afb8316\"}}];\n",
       "  root.Bokeh.embed.embed_items_notebook(docs_json, render_items);\n",
       "\n",
       "  }\n",
       "  if (root.Bokeh !== undefined) {\n",
       "    embed_document(root);\n",
       "  } else {\n",
       "    var attempts = 0;\n",
       "    var timer = setInterval(function(root) {\n",
       "      if (root.Bokeh !== undefined) {\n",
       "        clearInterval(timer);\n",
       "        embed_document(root);\n",
       "      } else {\n",
       "        attempts++;\n",
       "        if (attempts > 100) {\n",
       "          clearInterval(timer);\n",
       "          console.log(\"Bokeh: ERROR: Unable to run BokehJS code because BokehJS library is missing\");\n",
       "        }\n",
       "      }\n",
       "    }, 10, root)\n",
       "  }\n",
       "})(window);"
      ],
      "application/vnd.bokehjs_exec.v0+json": ""
     },
     "metadata": {
      "application/vnd.bokehjs_exec.v0+json": {
       "id": "58633"
      }
     },
     "output_type": "display_data"
    },
    {
     "data": {
      "text/html": [
       "\n",
       "\n",
       "\n",
       "\n",
       "\n",
       "\n",
       "  <div class=\"bk-root\" id=\"cc120d74-42da-413f-a4f5-df9faf067847\" data-root-id=\"59664\"></div>\n"
      ]
     },
     "metadata": {},
     "output_type": "display_data"
    },
    {
     "data": {
      "application/javascript": [
       "(function(root) {\n",
       "  function embed_document(root) {\n",
       "    \n",
       "  var docs_json = {\"1174ac7f-b698-4387-b9a2-7c9f7f07ea02\":{\"roots\":{\"references\":[{\"attributes\":{\"below\":[{\"id\":\"59673\"}],\"center\":[{\"id\":\"59676\"},{\"id\":\"59680\"},{\"id\":\"59708\"}],\"left\":[{\"id\":\"59677\"}],\"plot_height\":500,\"plot_width\":500,\"renderers\":[{\"id\":\"59699\"},{\"id\":\"59713\"}],\"title\":{\"id\":\"59702\"},\"toolbar\":{\"id\":\"59688\"},\"x_range\":{\"id\":\"59729\"},\"x_scale\":{\"id\":\"59669\"},\"y_range\":{\"id\":\"59730\"},\"y_scale\":{\"id\":\"59671\"}},\"id\":\"59664\",\"subtype\":\"Figure\",\"type\":\"Plot\"},{\"attributes\":{\"end\":1.3,\"start\":-0.05},\"id\":\"59729\",\"type\":\"Range1d\"},{\"attributes\":{\"text\":\"1.90 M Salt, 0.30 M Polymer, N = 1000, f = 1.00, sig = 4.10 A\",\"text_font_size\":{\"value\":\"12pt\"}},\"id\":\"59702\",\"type\":\"Title\"},{\"attributes\":{},\"id\":\"59674\",\"type\":\"BasicTicker\"},{\"attributes\":{\"source\":{\"id\":\"59695\"}},\"id\":\"59700\",\"type\":\"CDSView\"},{\"attributes\":{},\"id\":\"59681\",\"type\":\"PanTool\"},{\"attributes\":{},\"id\":\"59671\",\"type\":\"LinearScale\"},{\"attributes\":{\"callback\":null,\"tooltips\":[[\"Temperature [C]\",\"@T\"],[\"polyanion density (I)\",\"@rhoPCI\"],[\"polyanion density (II)\",\"@rhoPCII\"]]},\"id\":\"59727\",\"type\":\"HoverTool\"},{\"attributes\":{\"data_source\":{\"id\":\"59695\"},\"glyph\":{\"id\":\"59711\"},\"hover_glyph\":null,\"muted_glyph\":null,\"nonselection_glyph\":{\"id\":\"59712\"},\"selection_glyph\":null,\"view\":{\"id\":\"59714\"}},\"id\":\"59713\",\"type\":\"GlyphRenderer\"},{\"attributes\":{\"axis\":{\"id\":\"59673\"},\"ticker\":null},\"id\":\"59676\",\"type\":\"Grid\"},{\"attributes\":{\"line_color\":\"blue\",\"line_width\":6,\"x\":{\"field\":\"rhoPCI\"},\"y\":{\"field\":\"T\"}},\"id\":\"59697\",\"type\":\"Line\"},{\"attributes\":{},\"id\":\"59684\",\"type\":\"SaveTool\"},{\"attributes\":{},\"id\":\"59682\",\"type\":\"WheelZoomTool\"},{\"attributes\":{\"label\":{\"value\":\"supernatant\"},\"renderers\":[{\"id\":\"59699\"}]},\"id\":\"59709\",\"type\":\"LegendItem\"},{\"attributes\":{},\"id\":\"59685\",\"type\":\"ResetTool\"},{\"attributes\":{\"end\":60},\"id\":\"59730\",\"type\":\"Range1d\"},{\"attributes\":{},\"id\":\"59722\",\"type\":\"UnionRenderers\"},{\"attributes\":{},\"id\":\"59704\",\"type\":\"BasicTickFormatter\"},{\"attributes\":{\"overlay\":{\"id\":\"59687\"}},\"id\":\"59683\",\"type\":\"BoxZoomTool\"},{\"attributes\":{},\"id\":\"59669\",\"type\":\"LinearScale\"},{\"attributes\":{\"click_policy\":\"hide\",\"items\":[{\"id\":\"59709\"},{\"id\":\"59724\"}],\"label_text_font_size\":\"14pt\",\"location\":\"bottom_right\"},\"id\":\"59708\",\"type\":\"Legend\"},{\"attributes\":{\"axis_label\":\"polyanion density [mol/L]\",\"axis_label_text_font_size\":\"18pt\",\"formatter\":{\"id\":\"59706\"},\"major_label_text_font_size\":\"14pt\",\"ticker\":{\"id\":\"59674\"}},\"id\":\"59673\",\"type\":\"LinearAxis\"},{\"attributes\":{\"line_color\":\"red\",\"line_width\":6,\"x\":{\"field\":\"rhoPCII\"},\"y\":{\"field\":\"T\"}},\"id\":\"59711\",\"type\":\"Line\"},{\"attributes\":{},\"id\":\"59686\",\"type\":\"HelpTool\"},{\"attributes\":{\"data\":{\"BJ\":{\"__ndarray__\":\"AAAAAAAA/D/NzMzMzMz8P5qZmZmZmf0/ZmZmZmZm/j8zMzMzMzP/Pw==\",\"dtype\":\"float64\",\"shape\":[5]},\"T\":{\"__ndarray__\":\"ALAElp3ACkDw24VVHvw3QFgifxAo1kJA4JPutE4vSEBgcSJ//6FMQA==\",\"dtype\":\"float64\",\"shape\":[5]},\"index\":[0,1,2,3,4],\"rhoPCI\":{\"__ndarray__\":\"De1FexhK8z5Ul1YWWRjRPiJ0rn6Pdqs+y9wKTWr3gz6OADuDzo9aPg==\",\"dtype\":\"float64\",\"shape\":[5]},\"rhoPCII\":{\"__ndarray__\":\"/x4fq9Af5T+XlnQmBfHmP/DTDViLsug/Prr1HJln6j9avoJ8ChDsPw==\",\"dtype\":\"float64\",\"shape\":[5]}},\"selected\":{\"id\":\"59723\"},\"selection_policy\":{\"id\":\"59722\"}},\"id\":\"59695\",\"type\":\"ColumnDataSource\"},{\"attributes\":{\"source\":{\"id\":\"59695\"}},\"id\":\"59714\",\"type\":\"CDSView\"},{\"attributes\":{\"data_source\":{\"id\":\"59695\"},\"glyph\":{\"id\":\"59697\"},\"hover_glyph\":null,\"muted_glyph\":null,\"nonselection_glyph\":{\"id\":\"59698\"},\"selection_glyph\":null,\"view\":{\"id\":\"59700\"}},\"id\":\"59699\",\"type\":\"GlyphRenderer\"},{\"attributes\":{\"bottom_units\":\"screen\",\"fill_alpha\":0.5,\"fill_color\":\"lightgrey\",\"left_units\":\"screen\",\"level\":\"overlay\",\"line_alpha\":1.0,\"line_color\":\"black\",\"line_dash\":[4,4],\"line_width\":2,\"render_mode\":\"css\",\"right_units\":\"screen\",\"top_units\":\"screen\"},\"id\":\"59687\",\"type\":\"BoxAnnotation\"},{\"attributes\":{\"axis\":{\"id\":\"59677\"},\"dimension\":1,\"ticker\":null},\"id\":\"59680\",\"type\":\"Grid\"},{\"attributes\":{},\"id\":\"59706\",\"type\":\"BasicTickFormatter\"},{\"attributes\":{\"active_drag\":\"auto\",\"active_inspect\":\"auto\",\"active_multi\":null,\"active_scroll\":\"auto\",\"active_tap\":\"auto\",\"tools\":[{\"id\":\"59681\"},{\"id\":\"59682\"},{\"id\":\"59683\"},{\"id\":\"59684\"},{\"id\":\"59685\"},{\"id\":\"59686\"},{\"id\":\"59727\"}]},\"id\":\"59688\",\"type\":\"Toolbar\"},{\"attributes\":{},\"id\":\"59678\",\"type\":\"BasicTicker\"},{\"attributes\":{},\"id\":\"59723\",\"type\":\"Selection\"},{\"attributes\":{\"label\":{\"value\":\"coacervate\"},\"renderers\":[{\"id\":\"59713\"}]},\"id\":\"59724\",\"type\":\"LegendItem\"},{\"attributes\":{\"line_alpha\":0.1,\"line_color\":\"blue\",\"line_width\":6,\"x\":{\"field\":\"rhoPCI\"},\"y\":{\"field\":\"T\"}},\"id\":\"59698\",\"type\":\"Line\"},{\"attributes\":{\"axis_label\":\"Temperature [C]\",\"axis_label_text_font_size\":\"18pt\",\"formatter\":{\"id\":\"59704\"},\"major_label_text_font_size\":\"14pt\",\"ticker\":{\"id\":\"59678\"}},\"id\":\"59677\",\"type\":\"LinearAxis\"},{\"attributes\":{\"line_alpha\":0.1,\"line_color\":\"red\",\"line_width\":6,\"x\":{\"field\":\"rhoPCII\"},\"y\":{\"field\":\"T\"}},\"id\":\"59712\",\"type\":\"Line\"}],\"root_ids\":[\"59664\"]},\"title\":\"Bokeh Application\",\"version\":\"2.0.1\"}};\n",
       "  var render_items = [{\"docid\":\"1174ac7f-b698-4387-b9a2-7c9f7f07ea02\",\"root_ids\":[\"59664\"],\"roots\":{\"59664\":\"cc120d74-42da-413f-a4f5-df9faf067847\"}}];\n",
       "  root.Bokeh.embed.embed_items_notebook(docs_json, render_items);\n",
       "\n",
       "  }\n",
       "  if (root.Bokeh !== undefined) {\n",
       "    embed_document(root);\n",
       "  } else {\n",
       "    var attempts = 0;\n",
       "    var timer = setInterval(function(root) {\n",
       "      if (root.Bokeh !== undefined) {\n",
       "        clearInterval(timer);\n",
       "        embed_document(root);\n",
       "      } else {\n",
       "        attempts++;\n",
       "        if (attempts > 100) {\n",
       "          clearInterval(timer);\n",
       "          console.log(\"Bokeh: ERROR: Unable to run BokehJS code because BokehJS library is missing\");\n",
       "        }\n",
       "      }\n",
       "    }, 10, root)\n",
       "  }\n",
       "})(window);"
      ],
      "application/vnd.bokehjs_exec.v0+json": ""
     },
     "metadata": {
      "application/vnd.bokehjs_exec.v0+json": {
       "id": "59664"
      }
     },
     "output_type": "display_data"
    }
   ],
   "source": [
    "sigma = 4.1\n",
    "plot.compare_to_exp(data, pe.get_beads_2_M(sigma), N=N, sigma=sigma, f=f)"
   ]
  },
  {
   "cell_type": "markdown",
   "metadata": {},
   "source": [
    "### $\\sigma = 4.2~\\dot{A}$"
   ]
  },
  {
   "cell_type": "code",
   "execution_count": 92,
   "metadata": {},
   "outputs": [
    {
     "data": {
      "text/html": [
       "\n",
       "\n",
       "\n",
       "\n",
       "\n",
       "\n",
       "  <div class=\"bk-root\" id=\"f89bc6fb-99a6-4717-9bbf-b4628534e1ef\" data-root-id=\"60704\"></div>\n"
      ]
     },
     "metadata": {},
     "output_type": "display_data"
    },
    {
     "data": {
      "application/javascript": [
       "(function(root) {\n",
       "  function embed_document(root) {\n",
       "    \n",
       "  var docs_json = {\"8ba0665a-aceb-4585-b0f5-8e1e2ff394db\":{\"roots\":{\"references\":[{\"attributes\":{\"below\":[{\"id\":\"60713\"}],\"center\":[{\"id\":\"60716\"},{\"id\":\"60720\"},{\"id\":\"60748\"}],\"left\":[{\"id\":\"60717\"}],\"plot_height\":500,\"plot_width\":500,\"renderers\":[{\"id\":\"60739\"},{\"id\":\"60753\"}],\"title\":{\"id\":\"60742\"},\"toolbar\":{\"id\":\"60728\"},\"x_range\":{\"id\":\"60769\"},\"x_scale\":{\"id\":\"60709\"},\"y_range\":{\"id\":\"60770\"},\"y_scale\":{\"id\":\"60711\"}},\"id\":\"60704\",\"subtype\":\"Figure\",\"type\":\"Plot\"},{\"attributes\":{},\"id\":\"60721\",\"type\":\"PanTool\"},{\"attributes\":{\"end\":1.3,\"start\":-0.05},\"id\":\"60769\",\"type\":\"Range1d\"},{\"attributes\":{\"line_color\":\"blue\",\"line_width\":6,\"x\":{\"field\":\"rhoPCI\"},\"y\":{\"field\":\"T\"}},\"id\":\"60737\",\"type\":\"Line\"},{\"attributes\":{},\"id\":\"60714\",\"type\":\"BasicTicker\"},{\"attributes\":{\"active_drag\":\"auto\",\"active_inspect\":\"auto\",\"active_multi\":null,\"active_scroll\":\"auto\",\"active_tap\":\"auto\",\"tools\":[{\"id\":\"60721\"},{\"id\":\"60722\"},{\"id\":\"60723\"},{\"id\":\"60724\"},{\"id\":\"60725\"},{\"id\":\"60726\"},{\"id\":\"60767\"}]},\"id\":\"60728\",\"type\":\"Toolbar\"},{\"attributes\":{\"source\":{\"id\":\"60735\"}},\"id\":\"60754\",\"type\":\"CDSView\"},{\"attributes\":{\"end\":60},\"id\":\"60770\",\"type\":\"Range1d\"},{\"attributes\":{\"bottom_units\":\"screen\",\"fill_alpha\":0.5,\"fill_color\":\"lightgrey\",\"left_units\":\"screen\",\"level\":\"overlay\",\"line_alpha\":1.0,\"line_color\":\"black\",\"line_dash\":[4,4],\"line_width\":2,\"render_mode\":\"css\",\"right_units\":\"screen\",\"top_units\":\"screen\"},\"id\":\"60727\",\"type\":\"BoxAnnotation\"},{\"attributes\":{},\"id\":\"60709\",\"type\":\"LinearScale\"},{\"attributes\":{\"data_source\":{\"id\":\"60735\"},\"glyph\":{\"id\":\"60737\"},\"hover_glyph\":null,\"muted_glyph\":null,\"nonselection_glyph\":{\"id\":\"60738\"},\"selection_glyph\":null,\"view\":{\"id\":\"60740\"}},\"id\":\"60739\",\"type\":\"GlyphRenderer\"},{\"attributes\":{},\"id\":\"60724\",\"type\":\"SaveTool\"},{\"attributes\":{\"line_alpha\":0.1,\"line_color\":\"red\",\"line_width\":6,\"x\":{\"field\":\"rhoPCII\"},\"y\":{\"field\":\"T\"}},\"id\":\"60752\",\"type\":\"Line\"},{\"attributes\":{\"axis_label\":\"polyanion density [mol/L]\",\"axis_label_text_font_size\":\"18pt\",\"formatter\":{\"id\":\"60746\"},\"major_label_text_font_size\":\"14pt\",\"ticker\":{\"id\":\"60714\"}},\"id\":\"60713\",\"type\":\"LinearAxis\"},{\"attributes\":{\"data_source\":{\"id\":\"60735\"},\"glyph\":{\"id\":\"60751\"},\"hover_glyph\":null,\"muted_glyph\":null,\"nonselection_glyph\":{\"id\":\"60752\"},\"selection_glyph\":null,\"view\":{\"id\":\"60754\"}},\"id\":\"60753\",\"type\":\"GlyphRenderer\"},{\"attributes\":{\"text\":\"1.60 M Salt, 0.30 M Polymer, N = 1000, f = 1.00, sig = 4.20 A\",\"text_font_size\":{\"value\":\"12pt\"}},\"id\":\"60742\",\"type\":\"Title\"},{\"attributes\":{\"label\":{\"value\":\"supernatant\"},\"renderers\":[{\"id\":\"60739\"}]},\"id\":\"60749\",\"type\":\"LegendItem\"},{\"attributes\":{},\"id\":\"60718\",\"type\":\"BasicTicker\"},{\"attributes\":{},\"id\":\"60746\",\"type\":\"BasicTickFormatter\"},{\"attributes\":{\"click_policy\":\"hide\",\"items\":[{\"id\":\"60749\"},{\"id\":\"60764\"}],\"label_text_font_size\":\"14pt\",\"location\":\"bottom_right\"},\"id\":\"60748\",\"type\":\"Legend\"},{\"attributes\":{\"axis\":{\"id\":\"60713\"},\"ticker\":null},\"id\":\"60716\",\"type\":\"Grid\"},{\"attributes\":{\"callback\":null,\"tooltips\":[[\"Temperature [C]\",\"@T\"],[\"polyanion density (I)\",\"@rhoPCI\"],[\"polyanion density (II)\",\"@rhoPCII\"]]},\"id\":\"60767\",\"type\":\"HoverTool\"},{\"attributes\":{},\"id\":\"60762\",\"type\":\"UnionRenderers\"},{\"attributes\":{\"label\":{\"value\":\"coacervate\"},\"renderers\":[{\"id\":\"60753\"}]},\"id\":\"60764\",\"type\":\"LegendItem\"},{\"attributes\":{\"line_alpha\":0.1,\"line_color\":\"blue\",\"line_width\":6,\"x\":{\"field\":\"rhoPCI\"},\"y\":{\"field\":\"T\"}},\"id\":\"60738\",\"type\":\"Line\"},{\"attributes\":{\"overlay\":{\"id\":\"60727\"}},\"id\":\"60723\",\"type\":\"BoxZoomTool\"},{\"attributes\":{},\"id\":\"60726\",\"type\":\"HelpTool\"},{\"attributes\":{\"line_color\":\"red\",\"line_width\":6,\"x\":{\"field\":\"rhoPCII\"},\"y\":{\"field\":\"T\"}},\"id\":\"60751\",\"type\":\"Line\"},{\"attributes\":{},\"id\":\"60722\",\"type\":\"WheelZoomTool\"},{\"attributes\":{},\"id\":\"60763\",\"type\":\"Selection\"},{\"attributes\":{\"axis\":{\"id\":\"60717\"},\"dimension\":1,\"ticker\":null},\"id\":\"60720\",\"type\":\"Grid\"},{\"attributes\":{\"data\":{\"BJ\":{\"__ndarray__\":\"AAAAAAAA/D/NzMzMzMz8P5qZmZmZmf0/ZmZmZmZm/j8zMzMzMzP/Pw==\",\"dtype\":\"float64\",\"shape\":[5]},\"T\":{\"__ndarray__\":\"ALAElp3ACkDw24VVHvw3QFgifxAo1kJA4JPutE4vSEBgcSJ//6FMQA==\",\"dtype\":\"float64\",\"shape\":[5]},\"index\":[0,1,2,3,4],\"rhoPCI\":{\"__ndarray__\":\"MplQs6KGMz5OgSwW/0YBPnw0zo571Ms9pnOxeqRplD3tDfymy29bPQ==\",\"dtype\":\"float64\",\"shape\":[5]},\"rhoPCII\":{\"__ndarray__\":\"ipIqqSZb6j+JVX4hIPTrP3yod4hnge0/tlPxxncE7z/8p37O4j7wPw==\",\"dtype\":\"float64\",\"shape\":[5]}},\"selected\":{\"id\":\"60763\"},\"selection_policy\":{\"id\":\"60762\"}},\"id\":\"60735\",\"type\":\"ColumnDataSource\"},{\"attributes\":{\"axis_label\":\"Temperature [C]\",\"axis_label_text_font_size\":\"18pt\",\"formatter\":{\"id\":\"60744\"},\"major_label_text_font_size\":\"14pt\",\"ticker\":{\"id\":\"60718\"}},\"id\":\"60717\",\"type\":\"LinearAxis\"},{\"attributes\":{\"source\":{\"id\":\"60735\"}},\"id\":\"60740\",\"type\":\"CDSView\"},{\"attributes\":{},\"id\":\"60725\",\"type\":\"ResetTool\"},{\"attributes\":{},\"id\":\"60711\",\"type\":\"LinearScale\"},{\"attributes\":{},\"id\":\"60744\",\"type\":\"BasicTickFormatter\"}],\"root_ids\":[\"60704\"]},\"title\":\"Bokeh Application\",\"version\":\"2.0.1\"}};\n",
       "  var render_items = [{\"docid\":\"8ba0665a-aceb-4585-b0f5-8e1e2ff394db\",\"root_ids\":[\"60704\"],\"roots\":{\"60704\":\"f89bc6fb-99a6-4717-9bbf-b4628534e1ef\"}}];\n",
       "  root.Bokeh.embed.embed_items_notebook(docs_json, render_items);\n",
       "\n",
       "  }\n",
       "  if (root.Bokeh !== undefined) {\n",
       "    embed_document(root);\n",
       "  } else {\n",
       "    var attempts = 0;\n",
       "    var timer = setInterval(function(root) {\n",
       "      if (root.Bokeh !== undefined) {\n",
       "        clearInterval(timer);\n",
       "        embed_document(root);\n",
       "      } else {\n",
       "        attempts++;\n",
       "        if (attempts > 100) {\n",
       "          clearInterval(timer);\n",
       "          console.log(\"Bokeh: ERROR: Unable to run BokehJS code because BokehJS library is missing\");\n",
       "        }\n",
       "      }\n",
       "    }, 10, root)\n",
       "  }\n",
       "})(window);"
      ],
      "application/vnd.bokehjs_exec.v0+json": ""
     },
     "metadata": {
      "application/vnd.bokehjs_exec.v0+json": {
       "id": "60704"
      }
     },
     "output_type": "display_data"
    },
    {
     "data": {
      "text/html": [
       "\n",
       "\n",
       "\n",
       "\n",
       "\n",
       "\n",
       "  <div class=\"bk-root\" id=\"7641603c-01ba-4d47-8cd3-5a15642aab94\" data-root-id=\"61753\"></div>\n"
      ]
     },
     "metadata": {},
     "output_type": "display_data"
    },
    {
     "data": {
      "application/javascript": [
       "(function(root) {\n",
       "  function embed_document(root) {\n",
       "    \n",
       "  var docs_json = {\"66bc93a7-eae1-4a17-b606-f2ffde426fdd\":{\"roots\":{\"references\":[{\"attributes\":{\"below\":[{\"id\":\"61762\"}],\"center\":[{\"id\":\"61765\"},{\"id\":\"61769\"},{\"id\":\"61797\"}],\"left\":[{\"id\":\"61766\"}],\"plot_height\":500,\"plot_width\":500,\"renderers\":[{\"id\":\"61788\"},{\"id\":\"61802\"}],\"title\":{\"id\":\"61791\"},\"toolbar\":{\"id\":\"61777\"},\"x_range\":{\"id\":\"61818\"},\"x_scale\":{\"id\":\"61758\"},\"y_range\":{\"id\":\"61819\"},\"y_scale\":{\"id\":\"61760\"}},\"id\":\"61753\",\"subtype\":\"Figure\",\"type\":\"Plot\"},{\"attributes\":{},\"id\":\"61758\",\"type\":\"LinearScale\"},{\"attributes\":{\"line_alpha\":0.1,\"line_color\":\"blue\",\"line_width\":6,\"x\":{\"field\":\"rhoPCI\"},\"y\":{\"field\":\"T\"}},\"id\":\"61787\",\"type\":\"Line\"},{\"attributes\":{},\"id\":\"61775\",\"type\":\"HelpTool\"},{\"attributes\":{},\"id\":\"61760\",\"type\":\"LinearScale\"},{\"attributes\":{\"line_color\":\"red\",\"line_width\":6,\"x\":{\"field\":\"rhoPCII\"},\"y\":{\"field\":\"T\"}},\"id\":\"61800\",\"type\":\"Line\"},{\"attributes\":{\"line_color\":\"blue\",\"line_width\":6,\"x\":{\"field\":\"rhoPCI\"},\"y\":{\"field\":\"T\"}},\"id\":\"61786\",\"type\":\"Line\"},{\"attributes\":{},\"id\":\"61793\",\"type\":\"BasicTickFormatter\"},{\"attributes\":{\"click_policy\":\"hide\",\"items\":[{\"id\":\"61798\"},{\"id\":\"61813\"}],\"label_text_font_size\":\"14pt\",\"location\":\"bottom_right\"},\"id\":\"61797\",\"type\":\"Legend\"},{\"attributes\":{},\"id\":\"61770\",\"type\":\"PanTool\"},{\"attributes\":{\"line_alpha\":0.1,\"line_color\":\"red\",\"line_width\":6,\"x\":{\"field\":\"rhoPCII\"},\"y\":{\"field\":\"T\"}},\"id\":\"61801\",\"type\":\"Line\"},{\"attributes\":{\"label\":{\"value\":\"coacervate\"},\"renderers\":[{\"id\":\"61802\"}]},\"id\":\"61813\",\"type\":\"LegendItem\"},{\"attributes\":{},\"id\":\"61774\",\"type\":\"ResetTool\"},{\"attributes\":{\"bottom_units\":\"screen\",\"fill_alpha\":0.5,\"fill_color\":\"lightgrey\",\"left_units\":\"screen\",\"level\":\"overlay\",\"line_alpha\":1.0,\"line_color\":\"black\",\"line_dash\":[4,4],\"line_width\":2,\"render_mode\":\"css\",\"right_units\":\"screen\",\"top_units\":\"screen\"},\"id\":\"61776\",\"type\":\"BoxAnnotation\"},{\"attributes\":{\"active_drag\":\"auto\",\"active_inspect\":\"auto\",\"active_multi\":null,\"active_scroll\":\"auto\",\"active_tap\":\"auto\",\"tools\":[{\"id\":\"61770\"},{\"id\":\"61771\"},{\"id\":\"61772\"},{\"id\":\"61773\"},{\"id\":\"61774\"},{\"id\":\"61775\"},{\"id\":\"61816\"}]},\"id\":\"61777\",\"type\":\"Toolbar\"},{\"attributes\":{},\"id\":\"61795\",\"type\":\"BasicTickFormatter\"},{\"attributes\":{},\"id\":\"61811\",\"type\":\"UnionRenderers\"},{\"attributes\":{\"source\":{\"id\":\"61784\"}},\"id\":\"61789\",\"type\":\"CDSView\"},{\"attributes\":{\"text\":\"1.85 M Salt, 0.30 M Polymer, N = 1000, f = 1.00, sig = 4.20 A\",\"text_font_size\":{\"value\":\"12pt\"}},\"id\":\"61791\",\"type\":\"Title\"},{\"attributes\":{\"label\":{\"value\":\"supernatant\"},\"renderers\":[{\"id\":\"61788\"}]},\"id\":\"61798\",\"type\":\"LegendItem\"},{\"attributes\":{\"data_source\":{\"id\":\"61784\"},\"glyph\":{\"id\":\"61786\"},\"hover_glyph\":null,\"muted_glyph\":null,\"nonselection_glyph\":{\"id\":\"61787\"},\"selection_glyph\":null,\"view\":{\"id\":\"61789\"}},\"id\":\"61788\",\"type\":\"GlyphRenderer\"},{\"attributes\":{},\"id\":\"61763\",\"type\":\"BasicTicker\"},{\"attributes\":{\"axis\":{\"id\":\"61766\"},\"dimension\":1,\"ticker\":null},\"id\":\"61769\",\"type\":\"Grid\"},{\"attributes\":{\"end\":1.3,\"start\":-0.05},\"id\":\"61818\",\"type\":\"Range1d\"},{\"attributes\":{\"source\":{\"id\":\"61784\"}},\"id\":\"61803\",\"type\":\"CDSView\"},{\"attributes\":{\"axis_label\":\"Temperature [C]\",\"axis_label_text_font_size\":\"18pt\",\"formatter\":{\"id\":\"61793\"},\"major_label_text_font_size\":\"14pt\",\"ticker\":{\"id\":\"61767\"}},\"id\":\"61766\",\"type\":\"LinearAxis\"},{\"attributes\":{\"overlay\":{\"id\":\"61776\"}},\"id\":\"61772\",\"type\":\"BoxZoomTool\"},{\"attributes\":{\"data_source\":{\"id\":\"61784\"},\"glyph\":{\"id\":\"61800\"},\"hover_glyph\":null,\"muted_glyph\":null,\"nonselection_glyph\":{\"id\":\"61801\"},\"selection_glyph\":null,\"view\":{\"id\":\"61803\"}},\"id\":\"61802\",\"type\":\"GlyphRenderer\"},{\"attributes\":{},\"id\":\"61812\",\"type\":\"Selection\"},{\"attributes\":{\"end\":60},\"id\":\"61819\",\"type\":\"Range1d\"},{\"attributes\":{},\"id\":\"61773\",\"type\":\"SaveTool\"},{\"attributes\":{\"callback\":null,\"tooltips\":[[\"Temperature [C]\",\"@T\"],[\"polyanion density (I)\",\"@rhoPCI\"],[\"polyanion density (II)\",\"@rhoPCII\"]]},\"id\":\"61816\",\"type\":\"HoverTool\"},{\"attributes\":{\"axis_label\":\"polyanion density [mol/L]\",\"axis_label_text_font_size\":\"18pt\",\"formatter\":{\"id\":\"61795\"},\"major_label_text_font_size\":\"14pt\",\"ticker\":{\"id\":\"61763\"}},\"id\":\"61762\",\"type\":\"LinearAxis\"},{\"attributes\":{\"data\":{\"BJ\":{\"__ndarray__\":\"AAAAAAAA/D/NzMzMzMz8P5qZmZmZmf0/ZmZmZmZm/j8zMzMzMzP/Pw==\",\"dtype\":\"float64\",\"shape\":[5]},\"T\":{\"__ndarray__\":\"ALAElp3ACkDw24VVHvw3QFgifxAo1kJA4JPutE4vSEBgcSJ//6FMQA==\",\"dtype\":\"float64\",\"shape\":[5]},\"index\":[0,1,2,3,4],\"rhoPCI\":{\"__ndarray__\":\"RLWXVZEHNz+o+G4ZsgwcP0OiAoYxAf8+Ze7eTk0m3z5g5jyMaoK8Pg==\",\"dtype\":\"float64\",\"shape\":[5]},\"rhoPCII\":{\"__ndarray__\":\"OCvFUobN3z/5r8xZ0q3hP8YS6gFRYuM/MBOtmVEH5T80ONzGOp/mPw==\",\"dtype\":\"float64\",\"shape\":[5]}},\"selected\":{\"id\":\"61812\"},\"selection_policy\":{\"id\":\"61811\"}},\"id\":\"61784\",\"type\":\"ColumnDataSource\"},{\"attributes\":{},\"id\":\"61767\",\"type\":\"BasicTicker\"},{\"attributes\":{\"axis\":{\"id\":\"61762\"},\"ticker\":null},\"id\":\"61765\",\"type\":\"Grid\"},{\"attributes\":{},\"id\":\"61771\",\"type\":\"WheelZoomTool\"}],\"root_ids\":[\"61753\"]},\"title\":\"Bokeh Application\",\"version\":\"2.0.1\"}};\n",
       "  var render_items = [{\"docid\":\"66bc93a7-eae1-4a17-b606-f2ffde426fdd\",\"root_ids\":[\"61753\"],\"roots\":{\"61753\":\"7641603c-01ba-4d47-8cd3-5a15642aab94\"}}];\n",
       "  root.Bokeh.embed.embed_items_notebook(docs_json, render_items);\n",
       "\n",
       "  }\n",
       "  if (root.Bokeh !== undefined) {\n",
       "    embed_document(root);\n",
       "  } else {\n",
       "    var attempts = 0;\n",
       "    var timer = setInterval(function(root) {\n",
       "      if (root.Bokeh !== undefined) {\n",
       "        clearInterval(timer);\n",
       "        embed_document(root);\n",
       "      } else {\n",
       "        attempts++;\n",
       "        if (attempts > 100) {\n",
       "          clearInterval(timer);\n",
       "          console.log(\"Bokeh: ERROR: Unable to run BokehJS code because BokehJS library is missing\");\n",
       "        }\n",
       "      }\n",
       "    }, 10, root)\n",
       "  }\n",
       "})(window);"
      ],
      "application/vnd.bokehjs_exec.v0+json": ""
     },
     "metadata": {
      "application/vnd.bokehjs_exec.v0+json": {
       "id": "61753"
      }
     },
     "output_type": "display_data"
    },
    {
     "data": {
      "text/html": [
       "\n",
       "\n",
       "\n",
       "\n",
       "\n",
       "\n",
       "  <div class=\"bk-root\" id=\"25018aab-d42c-414e-9820-eee11631c2f1\" data-root-id=\"62811\"></div>\n"
      ]
     },
     "metadata": {},
     "output_type": "display_data"
    },
    {
     "data": {
      "application/javascript": [
       "(function(root) {\n",
       "  function embed_document(root) {\n",
       "    \n",
       "  var docs_json = {\"95c77102-a81c-4e3a-b9a3-a21882983ddb\":{\"roots\":{\"references\":[{\"attributes\":{\"below\":[{\"id\":\"62820\"}],\"center\":[{\"id\":\"62823\"},{\"id\":\"62827\"},{\"id\":\"62855\"}],\"left\":[{\"id\":\"62824\"}],\"plot_height\":500,\"plot_width\":500,\"renderers\":[{\"id\":\"62846\"},{\"id\":\"62860\"}],\"title\":{\"id\":\"62849\"},\"toolbar\":{\"id\":\"62835\"},\"x_range\":{\"id\":\"62876\"},\"x_scale\":{\"id\":\"62816\"},\"y_range\":{\"id\":\"62877\"},\"y_scale\":{\"id\":\"62818\"}},\"id\":\"62811\",\"subtype\":\"Figure\",\"type\":\"Plot\"},{\"attributes\":{\"callback\":null,\"tooltips\":[[\"Temperature [C]\",\"@T\"],[\"polyanion density (I)\",\"@rhoPCI\"],[\"polyanion density (II)\",\"@rhoPCII\"]]},\"id\":\"62874\",\"type\":\"HoverTool\"},{\"attributes\":{},\"id\":\"62832\",\"type\":\"ResetTool\"},{\"attributes\":{\"data\":{\"BJ\":{\"__ndarray__\":\"AAAAAAAA/D/NzMzMzMz8P5qZmZmZmf0/ZmZmZmZm/j8zMzMzMzP/Pw==\",\"dtype\":\"float64\",\"shape\":[5]},\"T\":{\"__ndarray__\":\"ALAElp3ACkDw24VVHvw3QFgifxAo1kJA4JPutE4vSEBgcSJ//6FMQA==\",\"dtype\":\"float64\",\"shape\":[5]},\"index\":[0,1,2,3,4],\"rhoPCI\":{\"__ndarray__\":\"CGCjbAZrWD/y12yQyXtBP0joeWNE7iY/NmEfPjuICz/+OxdGADHuPg==\",\"dtype\":\"float64\",\"shape\":[5]},\"rhoPCII\":{\"__ndarray__\":\"wkis/IMZ2z9bpbZMW9HeP6VxuHBOLeE/4nVZbi3e4j+kiBi8f3/kPw==\",\"dtype\":\"float64\",\"shape\":[5]}},\"selected\":{\"id\":\"62870\"},\"selection_policy\":{\"id\":\"62869\"}},\"id\":\"62842\",\"type\":\"ColumnDataSource\"},{\"attributes\":{\"axis_label\":\"polyanion density [mol/L]\",\"axis_label_text_font_size\":\"18pt\",\"formatter\":{\"id\":\"62853\"},\"major_label_text_font_size\":\"14pt\",\"ticker\":{\"id\":\"62821\"}},\"id\":\"62820\",\"type\":\"LinearAxis\"},{\"attributes\":{},\"id\":\"62851\",\"type\":\"BasicTickFormatter\"},{\"attributes\":{\"label\":{\"value\":\"supernatant\"},\"renderers\":[{\"id\":\"62846\"}]},\"id\":\"62856\",\"type\":\"LegendItem\"},{\"attributes\":{\"data_source\":{\"id\":\"62842\"},\"glyph\":{\"id\":\"62844\"},\"hover_glyph\":null,\"muted_glyph\":null,\"nonselection_glyph\":{\"id\":\"62845\"},\"selection_glyph\":null,\"view\":{\"id\":\"62847\"}},\"id\":\"62846\",\"type\":\"GlyphRenderer\"},{\"attributes\":{\"line_color\":\"blue\",\"line_width\":6,\"x\":{\"field\":\"rhoPCI\"},\"y\":{\"field\":\"T\"}},\"id\":\"62844\",\"type\":\"Line\"},{\"attributes\":{\"bottom_units\":\"screen\",\"fill_alpha\":0.5,\"fill_color\":\"lightgrey\",\"left_units\":\"screen\",\"level\":\"overlay\",\"line_alpha\":1.0,\"line_color\":\"black\",\"line_dash\":[4,4],\"line_width\":2,\"render_mode\":\"css\",\"right_units\":\"screen\",\"top_units\":\"screen\"},\"id\":\"62834\",\"type\":\"BoxAnnotation\"},{\"attributes\":{},\"id\":\"62821\",\"type\":\"BasicTicker\"},{\"attributes\":{\"line_alpha\":0.1,\"line_color\":\"red\",\"line_width\":6,\"x\":{\"field\":\"rhoPCII\"},\"y\":{\"field\":\"T\"}},\"id\":\"62859\",\"type\":\"Line\"},{\"attributes\":{},\"id\":\"62818\",\"type\":\"LinearScale\"},{\"attributes\":{\"end\":60},\"id\":\"62877\",\"type\":\"Range1d\"},{\"attributes\":{\"end\":1.3,\"start\":-0.05},\"id\":\"62876\",\"type\":\"Range1d\"},{\"attributes\":{\"line_color\":\"red\",\"line_width\":6,\"x\":{\"field\":\"rhoPCII\"},\"y\":{\"field\":\"T\"}},\"id\":\"62858\",\"type\":\"Line\"},{\"attributes\":{\"overlay\":{\"id\":\"62834\"}},\"id\":\"62830\",\"type\":\"BoxZoomTool\"},{\"attributes\":{},\"id\":\"62828\",\"type\":\"PanTool\"},{\"attributes\":{},\"id\":\"62833\",\"type\":\"HelpTool\"},{\"attributes\":{},\"id\":\"62829\",\"type\":\"WheelZoomTool\"},{\"attributes\":{\"source\":{\"id\":\"62842\"}},\"id\":\"62861\",\"type\":\"CDSView\"},{\"attributes\":{\"axis\":{\"id\":\"62820\"},\"ticker\":null},\"id\":\"62823\",\"type\":\"Grid\"},{\"attributes\":{\"text\":\"1.90 M Salt, 0.30 M Polymer, N = 1000, f = 1.00, sig = 4.20 A\",\"text_font_size\":{\"value\":\"12pt\"}},\"id\":\"62849\",\"type\":\"Title\"},{\"attributes\":{},\"id\":\"62870\",\"type\":\"Selection\"},{\"attributes\":{},\"id\":\"62853\",\"type\":\"BasicTickFormatter\"},{\"attributes\":{},\"id\":\"62825\",\"type\":\"BasicTicker\"},{\"attributes\":{\"label\":{\"value\":\"coacervate\"},\"renderers\":[{\"id\":\"62860\"}]},\"id\":\"62871\",\"type\":\"LegendItem\"},{\"attributes\":{},\"id\":\"62869\",\"type\":\"UnionRenderers\"},{\"attributes\":{},\"id\":\"62831\",\"type\":\"SaveTool\"},{\"attributes\":{\"click_policy\":\"hide\",\"items\":[{\"id\":\"62856\"},{\"id\":\"62871\"}],\"label_text_font_size\":\"14pt\",\"location\":\"bottom_right\"},\"id\":\"62855\",\"type\":\"Legend\"},{\"attributes\":{\"active_drag\":\"auto\",\"active_inspect\":\"auto\",\"active_multi\":null,\"active_scroll\":\"auto\",\"active_tap\":\"auto\",\"tools\":[{\"id\":\"62828\"},{\"id\":\"62829\"},{\"id\":\"62830\"},{\"id\":\"62831\"},{\"id\":\"62832\"},{\"id\":\"62833\"},{\"id\":\"62874\"}]},\"id\":\"62835\",\"type\":\"Toolbar\"},{\"attributes\":{\"data_source\":{\"id\":\"62842\"},\"glyph\":{\"id\":\"62858\"},\"hover_glyph\":null,\"muted_glyph\":null,\"nonselection_glyph\":{\"id\":\"62859\"},\"selection_glyph\":null,\"view\":{\"id\":\"62861\"}},\"id\":\"62860\",\"type\":\"GlyphRenderer\"},{\"attributes\":{\"line_alpha\":0.1,\"line_color\":\"blue\",\"line_width\":6,\"x\":{\"field\":\"rhoPCI\"},\"y\":{\"field\":\"T\"}},\"id\":\"62845\",\"type\":\"Line\"},{\"attributes\":{\"axis\":{\"id\":\"62824\"},\"dimension\":1,\"ticker\":null},\"id\":\"62827\",\"type\":\"Grid\"},{\"attributes\":{\"source\":{\"id\":\"62842\"}},\"id\":\"62847\",\"type\":\"CDSView\"},{\"attributes\":{},\"id\":\"62816\",\"type\":\"LinearScale\"},{\"attributes\":{\"axis_label\":\"Temperature [C]\",\"axis_label_text_font_size\":\"18pt\",\"formatter\":{\"id\":\"62851\"},\"major_label_text_font_size\":\"14pt\",\"ticker\":{\"id\":\"62825\"}},\"id\":\"62824\",\"type\":\"LinearAxis\"}],\"root_ids\":[\"62811\"]},\"title\":\"Bokeh Application\",\"version\":\"2.0.1\"}};\n",
       "  var render_items = [{\"docid\":\"95c77102-a81c-4e3a-b9a3-a21882983ddb\",\"root_ids\":[\"62811\"],\"roots\":{\"62811\":\"25018aab-d42c-414e-9820-eee11631c2f1\"}}];\n",
       "  root.Bokeh.embed.embed_items_notebook(docs_json, render_items);\n",
       "\n",
       "  }\n",
       "  if (root.Bokeh !== undefined) {\n",
       "    embed_document(root);\n",
       "  } else {\n",
       "    var attempts = 0;\n",
       "    var timer = setInterval(function(root) {\n",
       "      if (root.Bokeh !== undefined) {\n",
       "        clearInterval(timer);\n",
       "        embed_document(root);\n",
       "      } else {\n",
       "        attempts++;\n",
       "        if (attempts > 100) {\n",
       "          clearInterval(timer);\n",
       "          console.log(\"Bokeh: ERROR: Unable to run BokehJS code because BokehJS library is missing\");\n",
       "        }\n",
       "      }\n",
       "    }, 10, root)\n",
       "  }\n",
       "})(window);"
      ],
      "application/vnd.bokehjs_exec.v0+json": ""
     },
     "metadata": {
      "application/vnd.bokehjs_exec.v0+json": {
       "id": "62811"
      }
     },
     "output_type": "display_data"
    }
   ],
   "source": [
    "sigma = 4.2\n",
    "plot.compare_to_exp(data, pe.get_beads_2_M(sigma), N=N, sigma=sigma, f=f)"
   ]
  },
  {
   "cell_type": "markdown",
   "metadata": {},
   "source": [
    "### $\\sigma = 4.4~\\dot{A}$"
   ]
  },
  {
   "cell_type": "code",
   "execution_count": 98,
   "metadata": {},
   "outputs": [
    {
     "data": {
      "text/html": [
       "\n",
       "\n",
       "\n",
       "\n",
       "\n",
       "\n",
       "  <div class=\"bk-root\" id=\"1e6c5f1e-793a-4ba2-9333-877a21e98038\" data-root-id=\"75043\"></div>\n"
      ]
     },
     "metadata": {},
     "output_type": "display_data"
    },
    {
     "data": {
      "application/javascript": [
       "(function(root) {\n",
       "  function embed_document(root) {\n",
       "    \n",
       "  var docs_json = {\"cfa51bef-9403-4ace-b824-a55c9af4c51e\":{\"roots\":{\"references\":[{\"attributes\":{\"below\":[{\"id\":\"75052\"}],\"center\":[{\"id\":\"75055\"},{\"id\":\"75059\"},{\"id\":\"75087\"}],\"left\":[{\"id\":\"75056\"}],\"plot_height\":500,\"plot_width\":500,\"renderers\":[{\"id\":\"75078\"},{\"id\":\"75092\"}],\"title\":{\"id\":\"75081\"},\"toolbar\":{\"id\":\"75067\"},\"x_range\":{\"id\":\"75108\"},\"x_scale\":{\"id\":\"75048\"},\"y_range\":{\"id\":\"75109\"},\"y_scale\":{\"id\":\"75050\"}},\"id\":\"75043\",\"subtype\":\"Figure\",\"type\":\"Plot\"},{\"attributes\":{\"source\":{\"id\":\"75074\"}},\"id\":\"75093\",\"type\":\"CDSView\"},{\"attributes\":{},\"id\":\"75101\",\"type\":\"UnionRenderers\"},{\"attributes\":{\"callback\":null,\"tooltips\":[[\"Temperature [C]\",\"@T\"],[\"polyanion density (I)\",\"@rhoPCI\"],[\"polyanion density (II)\",\"@rhoPCII\"]]},\"id\":\"75106\",\"type\":\"HoverTool\"},{\"attributes\":{},\"id\":\"75085\",\"type\":\"BasicTickFormatter\"},{\"attributes\":{\"data_source\":{\"id\":\"75074\"},\"glyph\":{\"id\":\"75090\"},\"hover_glyph\":null,\"muted_glyph\":null,\"nonselection_glyph\":{\"id\":\"75091\"},\"selection_glyph\":null,\"view\":{\"id\":\"75093\"}},\"id\":\"75092\",\"type\":\"GlyphRenderer\"},{\"attributes\":{},\"id\":\"75064\",\"type\":\"ResetTool\"},{\"attributes\":{\"axis_label\":\"polyanion density [mol/L]\",\"axis_label_text_font_size\":\"18pt\",\"formatter\":{\"id\":\"75085\"},\"major_label_text_font_size\":\"14pt\",\"ticker\":{\"id\":\"75053\"}},\"id\":\"75052\",\"type\":\"LinearAxis\"},{\"attributes\":{\"source\":{\"id\":\"75074\"}},\"id\":\"75079\",\"type\":\"CDSView\"},{\"attributes\":{\"line_color\":\"red\",\"line_width\":6,\"x\":{\"field\":\"rhoPCII\"},\"y\":{\"field\":\"T\"}},\"id\":\"75090\",\"type\":\"Line\"},{\"attributes\":{\"line_alpha\":0.1,\"line_color\":\"red\",\"line_width\":6,\"x\":{\"field\":\"rhoPCII\"},\"y\":{\"field\":\"T\"}},\"id\":\"75091\",\"type\":\"Line\"},{\"attributes\":{\"end\":60},\"id\":\"75109\",\"type\":\"Range1d\"},{\"attributes\":{\"overlay\":{\"id\":\"75066\"}},\"id\":\"75062\",\"type\":\"BoxZoomTool\"},{\"attributes\":{\"bottom_units\":\"screen\",\"fill_alpha\":0.5,\"fill_color\":\"lightgrey\",\"left_units\":\"screen\",\"level\":\"overlay\",\"line_alpha\":1.0,\"line_color\":\"black\",\"line_dash\":[4,4],\"line_width\":2,\"render_mode\":\"css\",\"right_units\":\"screen\",\"top_units\":\"screen\"},\"id\":\"75066\",\"type\":\"BoxAnnotation\"},{\"attributes\":{},\"id\":\"75065\",\"type\":\"HelpTool\"},{\"attributes\":{\"label\":{\"value\":\"supernatant\"},\"renderers\":[{\"id\":\"75078\"}]},\"id\":\"75088\",\"type\":\"LegendItem\"},{\"attributes\":{\"axis\":{\"id\":\"75052\"},\"ticker\":null},\"id\":\"75055\",\"type\":\"Grid\"},{\"attributes\":{\"data\":{\"BJ\":{\"__ndarray__\":\"AAAAAAAA/D/NzMzMzMz8P5qZmZmZmf0/ZmZmZmZm/j8zMzMzMzP/Pw==\",\"dtype\":\"float64\",\"shape\":[5]},\"T\":{\"__ndarray__\":\"ALAElp3ACkDw24VVHvw3QFgifxAo1kJA4JPutE4vSEBgcSJ//6FMQA==\",\"dtype\":\"float64\",\"shape\":[5]},\"index\":[0,1,2,3,4],\"rhoPCI\":{\"__ndarray__\":\"gh6m/gVoMT+nmHaER9IUP31GI1HHqfY+kRuVgmxY1j43wW6DASa0Pg==\",\"dtype\":\"float64\",\"shape\":[5]},\"rhoPCII\":{\"__ndarray__\":\"AkTTHPED3D/tqsW2OhrfPxlgkBl4B+E/bZc2clF14j+9trq3CdfjPw==\",\"dtype\":\"float64\",\"shape\":[5]}},\"selected\":{\"id\":\"75102\"},\"selection_policy\":{\"id\":\"75101\"}},\"id\":\"75074\",\"type\":\"ColumnDataSource\"},{\"attributes\":{\"line_color\":\"blue\",\"line_width\":6,\"x\":{\"field\":\"rhoPCI\"},\"y\":{\"field\":\"T\"}},\"id\":\"75076\",\"type\":\"Line\"},{\"attributes\":{\"label\":{\"value\":\"coacervate\"},\"renderers\":[{\"id\":\"75092\"}]},\"id\":\"75103\",\"type\":\"LegendItem\"},{\"attributes\":{\"click_policy\":\"hide\",\"items\":[{\"id\":\"75088\"},{\"id\":\"75103\"}],\"label_text_font_size\":\"14pt\",\"location\":\"bottom_right\"},\"id\":\"75087\",\"type\":\"Legend\"},{\"attributes\":{\"end\":1.3,\"start\":-0.05},\"id\":\"75108\",\"type\":\"Range1d\"},{\"attributes\":{\"line_alpha\":0.1,\"line_color\":\"blue\",\"line_width\":6,\"x\":{\"field\":\"rhoPCI\"},\"y\":{\"field\":\"T\"}},\"id\":\"75077\",\"type\":\"Line\"},{\"attributes\":{},\"id\":\"75060\",\"type\":\"PanTool\"},{\"attributes\":{},\"id\":\"75083\",\"type\":\"BasicTickFormatter\"},{\"attributes\":{\"active_drag\":\"auto\",\"active_inspect\":\"auto\",\"active_multi\":null,\"active_scroll\":\"auto\",\"active_tap\":\"auto\",\"tools\":[{\"id\":\"75060\"},{\"id\":\"75061\"},{\"id\":\"75062\"},{\"id\":\"75063\"},{\"id\":\"75064\"},{\"id\":\"75065\"},{\"id\":\"75106\"}]},\"id\":\"75067\",\"type\":\"Toolbar\"},{\"attributes\":{},\"id\":\"75061\",\"type\":\"WheelZoomTool\"},{\"attributes\":{},\"id\":\"75102\",\"type\":\"Selection\"},{\"attributes\":{},\"id\":\"75063\",\"type\":\"SaveTool\"},{\"attributes\":{},\"id\":\"75053\",\"type\":\"BasicTicker\"},{\"attributes\":{\"data_source\":{\"id\":\"75074\"},\"glyph\":{\"id\":\"75076\"},\"hover_glyph\":null,\"muted_glyph\":null,\"nonselection_glyph\":{\"id\":\"75077\"},\"selection_glyph\":null,\"view\":{\"id\":\"75079\"}},\"id\":\"75078\",\"type\":\"GlyphRenderer\"},{\"attributes\":{},\"id\":\"75050\",\"type\":\"LinearScale\"},{\"attributes\":{\"text\":\"1.60 M Salt, 0.30 M Polymer, N = 1000, f = 1.00, sig = 4.40 A\",\"text_font_size\":{\"value\":\"12pt\"}},\"id\":\"75081\",\"type\":\"Title\"},{\"attributes\":{\"axis\":{\"id\":\"75056\"},\"dimension\":1,\"ticker\":null},\"id\":\"75059\",\"type\":\"Grid\"},{\"attributes\":{},\"id\":\"75057\",\"type\":\"BasicTicker\"},{\"attributes\":{},\"id\":\"75048\",\"type\":\"LinearScale\"},{\"attributes\":{\"axis_label\":\"Temperature [C]\",\"axis_label_text_font_size\":\"18pt\",\"formatter\":{\"id\":\"75083\"},\"major_label_text_font_size\":\"14pt\",\"ticker\":{\"id\":\"75057\"}},\"id\":\"75056\",\"type\":\"LinearAxis\"}],\"root_ids\":[\"75043\"]},\"title\":\"Bokeh Application\",\"version\":\"2.0.1\"}};\n",
       "  var render_items = [{\"docid\":\"cfa51bef-9403-4ace-b824-a55c9af4c51e\",\"root_ids\":[\"75043\"],\"roots\":{\"75043\":\"1e6c5f1e-793a-4ba2-9333-877a21e98038\"}}];\n",
       "  root.Bokeh.embed.embed_items_notebook(docs_json, render_items);\n",
       "\n",
       "  }\n",
       "  if (root.Bokeh !== undefined) {\n",
       "    embed_document(root);\n",
       "  } else {\n",
       "    var attempts = 0;\n",
       "    var timer = setInterval(function(root) {\n",
       "      if (root.Bokeh !== undefined) {\n",
       "        clearInterval(timer);\n",
       "        embed_document(root);\n",
       "      } else {\n",
       "        attempts++;\n",
       "        if (attempts > 100) {\n",
       "          clearInterval(timer);\n",
       "          console.log(\"Bokeh: ERROR: Unable to run BokehJS code because BokehJS library is missing\");\n",
       "        }\n",
       "      }\n",
       "    }, 10, root)\n",
       "  }\n",
       "})(window);"
      ],
      "application/vnd.bokehjs_exec.v0+json": ""
     },
     "metadata": {
      "application/vnd.bokehjs_exec.v0+json": {
       "id": "75043"
      }
     },
     "output_type": "display_data"
    },
    {
     "data": {
      "text/html": [
       "\n",
       "\n",
       "\n",
       "\n",
       "\n",
       "\n",
       "  <div class=\"bk-root\" id=\"97961169-48fe-4b81-96aa-444483fa0a47\" data-root-id=\"76209\"></div>\n"
      ]
     },
     "metadata": {},
     "output_type": "display_data"
    },
    {
     "data": {
      "application/javascript": [
       "(function(root) {\n",
       "  function embed_document(root) {\n",
       "    \n",
       "  var docs_json = {\"61e340e6-f060-483a-9308-0d19c5f462c3\":{\"roots\":{\"references\":[{\"attributes\":{\"below\":[{\"id\":\"76218\"}],\"center\":[{\"id\":\"76221\"},{\"id\":\"76225\"},{\"id\":\"76253\"}],\"left\":[{\"id\":\"76222\"}],\"plot_height\":500,\"plot_width\":500,\"renderers\":[{\"id\":\"76244\"},{\"id\":\"76258\"}],\"title\":{\"id\":\"76247\"},\"toolbar\":{\"id\":\"76233\"},\"x_range\":{\"id\":\"76274\"},\"x_scale\":{\"id\":\"76214\"},\"y_range\":{\"id\":\"76275\"},\"y_scale\":{\"id\":\"76216\"}},\"id\":\"76209\",\"subtype\":\"Figure\",\"type\":\"Plot\"},{\"attributes\":{\"overlay\":{\"id\":\"76232\"}},\"id\":\"76228\",\"type\":\"BoxZoomTool\"},{\"attributes\":{\"click_policy\":\"hide\",\"items\":[{\"id\":\"76254\"},{\"id\":\"76269\"}],\"label_text_font_size\":\"14pt\",\"location\":\"bottom_right\"},\"id\":\"76253\",\"type\":\"Legend\"},{\"attributes\":{},\"id\":\"76226\",\"type\":\"PanTool\"},{\"attributes\":{\"axis\":{\"id\":\"76222\"},\"dimension\":1,\"ticker\":null},\"id\":\"76225\",\"type\":\"Grid\"},{\"attributes\":{},\"id\":\"76267\",\"type\":\"UnionRenderers\"},{\"attributes\":{},\"id\":\"76249\",\"type\":\"BasicTickFormatter\"},{\"attributes\":{\"line_alpha\":0.1,\"line_color\":\"red\",\"line_width\":6,\"x\":{\"field\":\"rhoPCII\"},\"y\":{\"field\":\"T\"}},\"id\":\"76257\",\"type\":\"Line\"},{\"attributes\":{\"line_color\":\"red\",\"line_width\":6,\"x\":{\"field\":\"rhoPCII\"},\"y\":{\"field\":\"T\"}},\"id\":\"76256\",\"type\":\"Line\"},{\"attributes\":{},\"id\":\"76230\",\"type\":\"ResetTool\"},{\"attributes\":{\"end\":60},\"id\":\"76275\",\"type\":\"Range1d\"},{\"attributes\":{\"end\":1.3,\"start\":-0.05},\"id\":\"76274\",\"type\":\"Range1d\"},{\"attributes\":{\"label\":{\"value\":\"supernatant\"},\"renderers\":[{\"id\":\"76244\"}]},\"id\":\"76254\",\"type\":\"LegendItem\"},{\"attributes\":{\"source\":{\"id\":\"76240\"}},\"id\":\"76245\",\"type\":\"CDSView\"},{\"attributes\":{},\"id\":\"76219\",\"type\":\"BasicTicker\"},{\"attributes\":{},\"id\":\"76227\",\"type\":\"WheelZoomTool\"},{\"attributes\":{\"text\":\"1.85 M Salt, 0.30 M Polymer, N = 1000, f = 1.00, sig = 4.40 A\",\"text_font_size\":{\"value\":\"12pt\"}},\"id\":\"76247\",\"type\":\"Title\"},{\"attributes\":{\"data_source\":{\"id\":\"76240\"},\"glyph\":{\"id\":\"76256\"},\"hover_glyph\":null,\"muted_glyph\":null,\"nonselection_glyph\":{\"id\":\"76257\"},\"selection_glyph\":null,\"view\":{\"id\":\"76259\"}},\"id\":\"76258\",\"type\":\"GlyphRenderer\"},{\"attributes\":{},\"id\":\"76223\",\"type\":\"BasicTicker\"},{\"attributes\":{},\"id\":\"76268\",\"type\":\"Selection\"},{\"attributes\":{},\"id\":\"76216\",\"type\":\"LinearScale\"},{\"attributes\":{\"axis_label\":\"polyanion density [mol/L]\",\"axis_label_text_font_size\":\"18pt\",\"formatter\":{\"id\":\"76251\"},\"major_label_text_font_size\":\"14pt\",\"ticker\":{\"id\":\"76219\"}},\"id\":\"76218\",\"type\":\"LinearAxis\"},{\"attributes\":{\"label\":{\"value\":\"coacervate\"},\"renderers\":[{\"id\":\"76258\"}]},\"id\":\"76269\",\"type\":\"LegendItem\"},{\"attributes\":{\"line_alpha\":0.1,\"line_color\":\"blue\",\"line_width\":6,\"x\":{\"field\":\"rhoPCI\"},\"y\":{\"field\":\"T\"}},\"id\":\"76243\",\"type\":\"Line\"},{\"attributes\":{\"line_color\":\"blue\",\"line_width\":6,\"x\":{\"field\":\"rhoPCI\"},\"y\":{\"field\":\"T\"}},\"id\":\"76242\",\"type\":\"Line\"},{\"attributes\":{\"source\":{\"id\":\"76240\"}},\"id\":\"76259\",\"type\":\"CDSView\"},{\"attributes\":{\"data\":{\"BJ\":{\"__ndarray__\":\"ZmZmZmZm/j8zMzMzMzP/Pw==\",\"dtype\":\"float64\",\"shape\":[2]},\"T\":{\"__ndarray__\":\"4JPutE4vSEBgcSJ//6FMQA==\",\"dtype\":\"float64\",\"shape\":[2]},\"index\":[0,1],\"rhoPCI\":{\"__ndarray__\":\"kvi7gw28mz/CB8OcDWaIPw==\",\"dtype\":\"float64\",\"shape\":[2]},\"rhoPCII\":{\"__ndarray__\":\"ThLeWxjlxj/CAYnaGWnPPw==\",\"dtype\":\"float64\",\"shape\":[2]}},\"selected\":{\"id\":\"76268\"},\"selection_policy\":{\"id\":\"76267\"}},\"id\":\"76240\",\"type\":\"ColumnDataSource\"},{\"attributes\":{},\"id\":\"76251\",\"type\":\"BasicTickFormatter\"},{\"attributes\":{\"axis\":{\"id\":\"76218\"},\"ticker\":null},\"id\":\"76221\",\"type\":\"Grid\"},{\"attributes\":{},\"id\":\"76229\",\"type\":\"SaveTool\"},{\"attributes\":{},\"id\":\"76214\",\"type\":\"LinearScale\"},{\"attributes\":{},\"id\":\"76231\",\"type\":\"HelpTool\"},{\"attributes\":{\"bottom_units\":\"screen\",\"fill_alpha\":0.5,\"fill_color\":\"lightgrey\",\"left_units\":\"screen\",\"level\":\"overlay\",\"line_alpha\":1.0,\"line_color\":\"black\",\"line_dash\":[4,4],\"line_width\":2,\"render_mode\":\"css\",\"right_units\":\"screen\",\"top_units\":\"screen\"},\"id\":\"76232\",\"type\":\"BoxAnnotation\"},{\"attributes\":{\"callback\":null,\"tooltips\":[[\"Temperature [C]\",\"@T\"],[\"polyanion density (I)\",\"@rhoPCI\"],[\"polyanion density (II)\",\"@rhoPCII\"]]},\"id\":\"76272\",\"type\":\"HoverTool\"},{\"attributes\":{\"axis_label\":\"Temperature [C]\",\"axis_label_text_font_size\":\"18pt\",\"formatter\":{\"id\":\"76249\"},\"major_label_text_font_size\":\"14pt\",\"ticker\":{\"id\":\"76223\"}},\"id\":\"76222\",\"type\":\"LinearAxis\"},{\"attributes\":{\"active_drag\":\"auto\",\"active_inspect\":\"auto\",\"active_multi\":null,\"active_scroll\":\"auto\",\"active_tap\":\"auto\",\"tools\":[{\"id\":\"76226\"},{\"id\":\"76227\"},{\"id\":\"76228\"},{\"id\":\"76229\"},{\"id\":\"76230\"},{\"id\":\"76231\"},{\"id\":\"76272\"}]},\"id\":\"76233\",\"type\":\"Toolbar\"},{\"attributes\":{\"data_source\":{\"id\":\"76240\"},\"glyph\":{\"id\":\"76242\"},\"hover_glyph\":null,\"muted_glyph\":null,\"nonselection_glyph\":{\"id\":\"76243\"},\"selection_glyph\":null,\"view\":{\"id\":\"76245\"}},\"id\":\"76244\",\"type\":\"GlyphRenderer\"}],\"root_ids\":[\"76209\"]},\"title\":\"Bokeh Application\",\"version\":\"2.0.1\"}};\n",
       "  var render_items = [{\"docid\":\"61e340e6-f060-483a-9308-0d19c5f462c3\",\"root_ids\":[\"76209\"],\"roots\":{\"76209\":\"97961169-48fe-4b81-96aa-444483fa0a47\"}}];\n",
       "  root.Bokeh.embed.embed_items_notebook(docs_json, render_items);\n",
       "\n",
       "  }\n",
       "  if (root.Bokeh !== undefined) {\n",
       "    embed_document(root);\n",
       "  } else {\n",
       "    var attempts = 0;\n",
       "    var timer = setInterval(function(root) {\n",
       "      if (root.Bokeh !== undefined) {\n",
       "        clearInterval(timer);\n",
       "        embed_document(root);\n",
       "      } else {\n",
       "        attempts++;\n",
       "        if (attempts > 100) {\n",
       "          clearInterval(timer);\n",
       "          console.log(\"Bokeh: ERROR: Unable to run BokehJS code because BokehJS library is missing\");\n",
       "        }\n",
       "      }\n",
       "    }, 10, root)\n",
       "  }\n",
       "})(window);"
      ],
      "application/vnd.bokehjs_exec.v0+json": ""
     },
     "metadata": {
      "application/vnd.bokehjs_exec.v0+json": {
       "id": "76209"
      }
     },
     "output_type": "display_data"
    },
    {
     "name": "stdout",
     "output_type": "stream",
     "text": [
      "No data to plot in plot.binodal()--error likely.\n"
     ]
    },
    {
     "ename": "ZeroDivisionError",
     "evalue": "division by zero",
     "output_type": "error",
     "traceback": [
      "\u001b[1;31m---------------------------------------------------------------------------\u001b[0m",
      "\u001b[1;31mZeroDivisionError\u001b[0m                         Traceback (most recent call last)",
      "\u001b[1;32m<ipython-input-98-ac187bb445cb>\u001b[0m in \u001b[0;36m<module>\u001b[1;34m\u001b[0m\n\u001b[0;32m      1\u001b[0m \u001b[0msigma\u001b[0m \u001b[1;33m=\u001b[0m \u001b[1;36m4.4\u001b[0m\u001b[1;33m\u001b[0m\u001b[1;33m\u001b[0m\u001b[0m\n\u001b[1;32m----> 2\u001b[1;33m \u001b[0mplot\u001b[0m\u001b[1;33m.\u001b[0m\u001b[0mcompare_to_exp\u001b[0m\u001b[1;33m(\u001b[0m\u001b[0mdata\u001b[0m\u001b[1;33m,\u001b[0m \u001b[0mpe\u001b[0m\u001b[1;33m.\u001b[0m\u001b[0mget_beads_2_M\u001b[0m\u001b[1;33m(\u001b[0m\u001b[0msigma\u001b[0m\u001b[1;33m)\u001b[0m\u001b[1;33m,\u001b[0m \u001b[0mN\u001b[0m\u001b[1;33m=\u001b[0m\u001b[0mN\u001b[0m\u001b[1;33m,\u001b[0m \u001b[0msigma\u001b[0m\u001b[1;33m=\u001b[0m\u001b[0msigma\u001b[0m\u001b[1;33m,\u001b[0m \u001b[0mf\u001b[0m\u001b[1;33m=\u001b[0m\u001b[0mf\u001b[0m\u001b[1;33m)\u001b[0m\u001b[1;33m\u001b[0m\u001b[1;33m\u001b[0m\u001b[0m\n\u001b[0m",
      "\u001b[1;32m~\\OneDrive - California Institute of Technology\\Documents\\Research\\Wang\\complex_coacervate\\plot.py\u001b[0m in \u001b[0;36mcompare_to_exp\u001b[1;34m(data, beads_2_M, rho_p, rho_s_list, N, f, sigma, t_fs)\u001b[0m\n\u001b[0;32m    684\u001b[0m         \u001b[0mtitle\u001b[0m \u001b[1;33m=\u001b[0m \u001b[1;34m'{0:.2f} M Salt, {1:.2f} M Polymer, N = {2:d}, f = {3:.2f}, sig = {4:.2f} A'\u001b[0m\u001b[1;33m.\u001b[0m\u001b[0mformat\u001b[0m\u001b[1;33m(\u001b[0m\u001b[0mrho_s\u001b[0m\u001b[1;33m,\u001b[0m \u001b[0mrho_p\u001b[0m\u001b[1;33m,\u001b[0m \u001b[0mN\u001b[0m\u001b[1;33m,\u001b[0m \u001b[0mf\u001b[0m\u001b[1;33m,\u001b[0m \u001b[0msigma\u001b[0m\u001b[1;33m)\u001b[0m\u001b[1;33m\u001b[0m\u001b[1;33m\u001b[0m\u001b[0m\n\u001b[0;32m    685\u001b[0m         p = binodal(lB_arr, rho_PCI_list, rho_PCII_list, title=title, beads_2_M=1, n_tie_lines=0, deg_C=True, \n\u001b[1;32m--> 686\u001b[1;33m                          T_range=T_range, x_lim=x_lim, y_lim=y_lim, marker=False, line=True)\n\u001b[0m\u001b[0;32m    687\u001b[0m         \u001b[0mp\u001b[0m\u001b[1;33m.\u001b[0m\u001b[0mtitle\u001b[0m\u001b[1;33m.\u001b[0m\u001b[0mtext_font_size\u001b[0m \u001b[1;33m=\u001b[0m \u001b[1;34m'{0:d}pt'\u001b[0m\u001b[1;33m.\u001b[0m\u001b[0mformat\u001b[0m\u001b[1;33m(\u001b[0m\u001b[0mt_fs\u001b[0m\u001b[1;33m)\u001b[0m\u001b[1;33m\u001b[0m\u001b[1;33m\u001b[0m\u001b[0m\n\u001b[0;32m    688\u001b[0m         \u001b[0mshow\u001b[0m\u001b[1;33m(\u001b[0m\u001b[0mp\u001b[0m\u001b[1;33m)\u001b[0m\u001b[1;33m\u001b[0m\u001b[1;33m\u001b[0m\u001b[0m\n",
      "\u001b[1;32m~\\OneDrive - California Institute of Technology\\Documents\\Research\\Wang\\complex_coacervate\\plot.py\u001b[0m in \u001b[0;36mbinodal\u001b[1;34m(lB_arr, left_list, right_list, left, right, x_label, n_tie_lines, plot_T, T_range, beads_2_M, title, fix_eps, deg_C, x_lim, y_lim, marker, line, c1, c2)\u001b[0m\n\u001b[0;32m    162\u001b[0m     p = no_salt(df_mu, n_plot, left=left, right=right, x_label=x_label,\n\u001b[0;32m    163\u001b[0m                 \u001b[0mn_tie_lines\u001b[0m\u001b[1;33m=\u001b[0m\u001b[0mn_tie_lines\u001b[0m\u001b[1;33m,\u001b[0m \u001b[0mplot_T\u001b[0m\u001b[1;33m=\u001b[0m\u001b[0mplot_T\u001b[0m\u001b[1;33m,\u001b[0m \u001b[0mmarker\u001b[0m\u001b[1;33m=\u001b[0m\u001b[0mmarker\u001b[0m\u001b[1;33m,\u001b[0m \u001b[0mline\u001b[0m\u001b[1;33m=\u001b[0m\u001b[0mline\u001b[0m\u001b[1;33m,\u001b[0m\u001b[1;33m\u001b[0m\u001b[1;33m\u001b[0m\u001b[0m\n\u001b[1;32m--> 164\u001b[1;33m                 title=title, units_rho=units_rho, deg_C=deg_C, c1=c1, c2=c2)\n\u001b[0m\u001b[0;32m    165\u001b[0m \u001b[1;33m\u001b[0m\u001b[0m\n\u001b[0;32m    166\u001b[0m     \u001b[1;31m# sets axis limits if requested\u001b[0m\u001b[1;33m\u001b[0m\u001b[1;33m\u001b[0m\u001b[1;33m\u001b[0m\u001b[0m\n",
      "\u001b[1;32m~\\OneDrive - California Institute of Technology\\Documents\\Research\\Wang\\complex_coacervate\\plot.py\u001b[0m in \u001b[0;36mno_salt\u001b[1;34m(df, n_plot, left, right, x_label, p, n_tie_lines, plot_T, title, line, marker, w, h, units_rho, deg_C, leg1, c1, leg2, c2)\u001b[0m\n\u001b[0;32m    834\u001b[0m     \u001b[1;31m# samples a uniform subset of the data\u001b[0m\u001b[1;33m\u001b[0m\u001b[1;33m\u001b[0m\u001b[1;33m\u001b[0m\u001b[0m\n\u001b[0;32m    835\u001b[0m     \u001b[0mn\u001b[0m \u001b[1;33m=\u001b[0m \u001b[0mlen\u001b[0m\u001b[1;33m(\u001b[0m\u001b[0mdf\u001b[0m\u001b[1;33m)\u001b[0m\u001b[1;33m\u001b[0m\u001b[1;33m\u001b[0m\u001b[0m\n\u001b[1;32m--> 836\u001b[1;33m     \u001b[0mskip\u001b[0m \u001b[1;33m=\u001b[0m \u001b[0mint\u001b[0m\u001b[1;33m(\u001b[0m\u001b[0mn\u001b[0m \u001b[1;33m/\u001b[0m \u001b[0mn_plot\u001b[0m\u001b[1;33m)\u001b[0m\u001b[1;33m\u001b[0m\u001b[1;33m\u001b[0m\u001b[0m\n\u001b[0m\u001b[0;32m    837\u001b[0m     \u001b[0msample\u001b[0m \u001b[1;33m=\u001b[0m \u001b[0mdf\u001b[0m\u001b[1;33m.\u001b[0m\u001b[0miloc\u001b[0m\u001b[1;33m[\u001b[0m\u001b[1;33m:\u001b[0m\u001b[1;33m:\u001b[0m\u001b[0mskip\u001b[0m\u001b[1;33m]\u001b[0m\u001b[1;33m\u001b[0m\u001b[1;33m\u001b[0m\u001b[0m\n\u001b[0;32m    838\u001b[0m \u001b[1;33m\u001b[0m\u001b[0m\n",
      "\u001b[1;31mZeroDivisionError\u001b[0m: division by zero"
     ]
    }
   ],
   "source": [
    "sigma = 4.4\n",
    "plot.compare_to_exp(data, pe.get_beads_2_M(sigma), N=N, sigma=sigma, f=f)"
   ]
  },
  {
   "cell_type": "markdown",
   "metadata": {},
   "source": [
    "### $\\sigma = 4.6~\\dot{A}$"
   ]
  },
  {
   "cell_type": "code",
   "execution_count": 101,
   "metadata": {},
   "outputs": [
    {
     "data": {
      "text/html": [
       "\n",
       "\n",
       "\n",
       "\n",
       "\n",
       "\n",
       "  <div class=\"bk-root\" id=\"815b326a-0818-43b9-8f04-5d7383c9a155\" data-root-id=\"79761\"></div>\n"
      ]
     },
     "metadata": {},
     "output_type": "display_data"
    },
    {
     "data": {
      "application/javascript": [
       "(function(root) {\n",
       "  function embed_document(root) {\n",
       "    \n",
       "  var docs_json = {\"adbed1fd-97fc-4f0f-b700-704d5ea13d4d\":{\"roots\":{\"references\":[{\"attributes\":{\"below\":[{\"id\":\"79770\"}],\"center\":[{\"id\":\"79773\"},{\"id\":\"79777\"},{\"id\":\"79805\"}],\"left\":[{\"id\":\"79774\"}],\"plot_height\":500,\"plot_width\":500,\"renderers\":[{\"id\":\"79796\"},{\"id\":\"79810\"}],\"title\":{\"id\":\"79799\"},\"toolbar\":{\"id\":\"79785\"},\"x_range\":{\"id\":\"79826\"},\"x_scale\":{\"id\":\"79766\"},\"y_range\":{\"id\":\"79827\"},\"y_scale\":{\"id\":\"79768\"}},\"id\":\"79761\",\"subtype\":\"Figure\",\"type\":\"Plot\"},{\"attributes\":{\"label\":{\"value\":\"coacervate\"},\"renderers\":[{\"id\":\"79810\"}]},\"id\":\"79821\",\"type\":\"LegendItem\"},{\"attributes\":{},\"id\":\"79775\",\"type\":\"BasicTicker\"},{\"attributes\":{\"overlay\":{\"id\":\"79784\"}},\"id\":\"79780\",\"type\":\"BoxZoomTool\"},{\"attributes\":{\"axis\":{\"id\":\"79774\"},\"dimension\":1,\"ticker\":null},\"id\":\"79777\",\"type\":\"Grid\"},{\"attributes\":{},\"id\":\"79820\",\"type\":\"Selection\"},{\"attributes\":{},\"id\":\"79779\",\"type\":\"WheelZoomTool\"},{\"attributes\":{\"label\":{\"value\":\"supernatant\"},\"renderers\":[{\"id\":\"79796\"}]},\"id\":\"79806\",\"type\":\"LegendItem\"},{\"attributes\":{},\"id\":\"79768\",\"type\":\"LinearScale\"},{\"attributes\":{\"bottom_units\":\"screen\",\"fill_alpha\":0.5,\"fill_color\":\"lightgrey\",\"left_units\":\"screen\",\"level\":\"overlay\",\"line_alpha\":1.0,\"line_color\":\"black\",\"line_dash\":[4,4],\"line_width\":2,\"render_mode\":\"css\",\"right_units\":\"screen\",\"top_units\":\"screen\"},\"id\":\"79784\",\"type\":\"BoxAnnotation\"},{\"attributes\":{},\"id\":\"79771\",\"type\":\"BasicTicker\"},{\"attributes\":{\"line_alpha\":0.1,\"line_color\":\"blue\",\"line_width\":6,\"x\":{\"field\":\"rhoPCI\"},\"y\":{\"field\":\"T\"}},\"id\":\"79795\",\"type\":\"Line\"},{\"attributes\":{\"callback\":null,\"tooltips\":[[\"Temperature [C]\",\"@T\"],[\"polyanion density (I)\",\"@rhoPCI\"],[\"polyanion density (II)\",\"@rhoPCII\"]]},\"id\":\"79824\",\"type\":\"HoverTool\"},{\"attributes\":{},\"id\":\"79781\",\"type\":\"SaveTool\"},{\"attributes\":{\"axis_label\":\"polyanion density [mol/L]\",\"axis_label_text_font_size\":\"18pt\",\"formatter\":{\"id\":\"79803\"},\"major_label_text_font_size\":\"14pt\",\"ticker\":{\"id\":\"79771\"}},\"id\":\"79770\",\"type\":\"LinearAxis\"},{\"attributes\":{},\"id\":\"79819\",\"type\":\"UnionRenderers\"},{\"attributes\":{},\"id\":\"79766\",\"type\":\"LinearScale\"},{\"attributes\":{\"line_alpha\":0.1,\"line_color\":\"red\",\"line_width\":6,\"x\":{\"field\":\"rhoPCII\"},\"y\":{\"field\":\"T\"}},\"id\":\"79809\",\"type\":\"Line\"},{\"attributes\":{\"active_drag\":\"auto\",\"active_inspect\":\"auto\",\"active_multi\":null,\"active_scroll\":\"auto\",\"active_tap\":\"auto\",\"tools\":[{\"id\":\"79778\"},{\"id\":\"79779\"},{\"id\":\"79780\"},{\"id\":\"79781\"},{\"id\":\"79782\"},{\"id\":\"79783\"},{\"id\":\"79824\"}]},\"id\":\"79785\",\"type\":\"Toolbar\"},{\"attributes\":{\"end\":60},\"id\":\"79827\",\"type\":\"Range1d\"},{\"attributes\":{},\"id\":\"79801\",\"type\":\"BasicTickFormatter\"},{\"attributes\":{\"data_source\":{\"id\":\"79792\"},\"glyph\":{\"id\":\"79808\"},\"hover_glyph\":null,\"muted_glyph\":null,\"nonselection_glyph\":{\"id\":\"79809\"},\"selection_glyph\":null,\"view\":{\"id\":\"79811\"}},\"id\":\"79810\",\"type\":\"GlyphRenderer\"},{\"attributes\":{\"axis\":{\"id\":\"79770\"},\"ticker\":null},\"id\":\"79773\",\"type\":\"Grid\"},{\"attributes\":{\"data\":{\"BJ\":{\"__ndarray__\":\"ZmZmZmZm/j8zMzMzMzP/Pw==\",\"dtype\":\"float64\",\"shape\":[2]},\"T\":{\"__ndarray__\":\"4JPutE4vSEBgcSJ//6FMQA==\",\"dtype\":\"float64\",\"shape\":[2]},\"index\":[0,1],\"rhoPCI\":{\"__ndarray__\":\"QK3Jgltljz+oLsHteYd8Pw==\",\"dtype\":\"float64\",\"shape\":[2]},\"rhoPCII\":{\"__ndarray__\":\"Uk36b8T1xz9H3EEToLbOPw==\",\"dtype\":\"float64\",\"shape\":[2]}},\"selected\":{\"id\":\"79820\"},\"selection_policy\":{\"id\":\"79819\"}},\"id\":\"79792\",\"type\":\"ColumnDataSource\"},{\"attributes\":{\"data_source\":{\"id\":\"79792\"},\"glyph\":{\"id\":\"79794\"},\"hover_glyph\":null,\"muted_glyph\":null,\"nonselection_glyph\":{\"id\":\"79795\"},\"selection_glyph\":null,\"view\":{\"id\":\"79797\"}},\"id\":\"79796\",\"type\":\"GlyphRenderer\"},{\"attributes\":{},\"id\":\"79782\",\"type\":\"ResetTool\"},{\"attributes\":{\"text\":\"1.60 M Salt, 0.30 M Polymer, N = 1000, f = 1.00, sig = 4.60 A\",\"text_font_size\":{\"value\":\"12pt\"}},\"id\":\"79799\",\"type\":\"Title\"},{\"attributes\":{\"source\":{\"id\":\"79792\"}},\"id\":\"79811\",\"type\":\"CDSView\"},{\"attributes\":{},\"id\":\"79778\",\"type\":\"PanTool\"},{\"attributes\":{},\"id\":\"79803\",\"type\":\"BasicTickFormatter\"},{\"attributes\":{\"axis_label\":\"Temperature [C]\",\"axis_label_text_font_size\":\"18pt\",\"formatter\":{\"id\":\"79801\"},\"major_label_text_font_size\":\"14pt\",\"ticker\":{\"id\":\"79775\"}},\"id\":\"79774\",\"type\":\"LinearAxis\"},{\"attributes\":{\"click_policy\":\"hide\",\"items\":[{\"id\":\"79806\"},{\"id\":\"79821\"}],\"label_text_font_size\":\"14pt\",\"location\":\"bottom_right\"},\"id\":\"79805\",\"type\":\"Legend\"},{\"attributes\":{},\"id\":\"79783\",\"type\":\"HelpTool\"},{\"attributes\":{\"source\":{\"id\":\"79792\"}},\"id\":\"79797\",\"type\":\"CDSView\"},{\"attributes\":{\"end\":1.3,\"start\":-0.05},\"id\":\"79826\",\"type\":\"Range1d\"},{\"attributes\":{\"line_color\":\"red\",\"line_width\":6,\"x\":{\"field\":\"rhoPCII\"},\"y\":{\"field\":\"T\"}},\"id\":\"79808\",\"type\":\"Line\"},{\"attributes\":{\"line_color\":\"blue\",\"line_width\":6,\"x\":{\"field\":\"rhoPCI\"},\"y\":{\"field\":\"T\"}},\"id\":\"79794\",\"type\":\"Line\"}],\"root_ids\":[\"79761\"]},\"title\":\"Bokeh Application\",\"version\":\"2.0.1\"}};\n",
       "  var render_items = [{\"docid\":\"adbed1fd-97fc-4f0f-b700-704d5ea13d4d\",\"root_ids\":[\"79761\"],\"roots\":{\"79761\":\"815b326a-0818-43b9-8f04-5d7383c9a155\"}}];\n",
       "  root.Bokeh.embed.embed_items_notebook(docs_json, render_items);\n",
       "\n",
       "  }\n",
       "  if (root.Bokeh !== undefined) {\n",
       "    embed_document(root);\n",
       "  } else {\n",
       "    var attempts = 0;\n",
       "    var timer = setInterval(function(root) {\n",
       "      if (root.Bokeh !== undefined) {\n",
       "        clearInterval(timer);\n",
       "        embed_document(root);\n",
       "      } else {\n",
       "        attempts++;\n",
       "        if (attempts > 100) {\n",
       "          clearInterval(timer);\n",
       "          console.log(\"Bokeh: ERROR: Unable to run BokehJS code because BokehJS library is missing\");\n",
       "        }\n",
       "      }\n",
       "    }, 10, root)\n",
       "  }\n",
       "})(window);"
      ],
      "application/vnd.bokehjs_exec.v0+json": ""
     },
     "metadata": {
      "application/vnd.bokehjs_exec.v0+json": {
       "id": "79761"
      }
     },
     "output_type": "display_data"
    },
    {
     "name": "stdout",
     "output_type": "stream",
     "text": [
      "No data to plot in plot.binodal()--error likely.\n"
     ]
    },
    {
     "ename": "ZeroDivisionError",
     "evalue": "division by zero",
     "output_type": "error",
     "traceback": [
      "\u001b[1;31m---------------------------------------------------------------------------\u001b[0m",
      "\u001b[1;31mZeroDivisionError\u001b[0m                         Traceback (most recent call last)",
      "\u001b[1;32m<ipython-input-101-688526e792f7>\u001b[0m in \u001b[0;36m<module>\u001b[1;34m\u001b[0m\n\u001b[0;32m      1\u001b[0m \u001b[0msigma\u001b[0m \u001b[1;33m=\u001b[0m \u001b[1;36m4.6\u001b[0m\u001b[1;33m\u001b[0m\u001b[1;33m\u001b[0m\u001b[0m\n\u001b[1;32m----> 2\u001b[1;33m \u001b[0mplot\u001b[0m\u001b[1;33m.\u001b[0m\u001b[0mcompare_to_exp\u001b[0m\u001b[1;33m(\u001b[0m\u001b[0mdata\u001b[0m\u001b[1;33m,\u001b[0m \u001b[0mpe\u001b[0m\u001b[1;33m.\u001b[0m\u001b[0mget_beads_2_M\u001b[0m\u001b[1;33m(\u001b[0m\u001b[0msigma\u001b[0m\u001b[1;33m)\u001b[0m\u001b[1;33m,\u001b[0m \u001b[0mN\u001b[0m\u001b[1;33m=\u001b[0m\u001b[0mN\u001b[0m\u001b[1;33m,\u001b[0m \u001b[0msigma\u001b[0m\u001b[1;33m=\u001b[0m\u001b[0msigma\u001b[0m\u001b[1;33m,\u001b[0m \u001b[0mf\u001b[0m\u001b[1;33m=\u001b[0m\u001b[0mf\u001b[0m\u001b[1;33m)\u001b[0m\u001b[1;33m\u001b[0m\u001b[1;33m\u001b[0m\u001b[0m\n\u001b[0m",
      "\u001b[1;32m~\\OneDrive - California Institute of Technology\\Documents\\Research\\Wang\\complex_coacervate\\plot.py\u001b[0m in \u001b[0;36mcompare_to_exp\u001b[1;34m(data, beads_2_M, rho_p, rho_s_list, N, f, sigma, t_fs)\u001b[0m\n\u001b[0;32m    684\u001b[0m         \u001b[0mtitle\u001b[0m \u001b[1;33m=\u001b[0m \u001b[1;34m'{0:.2f} M Salt, {1:.2f} M Polymer, N = {2:d}, f = {3:.2f}, sig = {4:.2f} A'\u001b[0m\u001b[1;33m.\u001b[0m\u001b[0mformat\u001b[0m\u001b[1;33m(\u001b[0m\u001b[0mrho_s\u001b[0m\u001b[1;33m,\u001b[0m \u001b[0mrho_p\u001b[0m\u001b[1;33m,\u001b[0m \u001b[0mN\u001b[0m\u001b[1;33m,\u001b[0m \u001b[0mf\u001b[0m\u001b[1;33m,\u001b[0m \u001b[0msigma\u001b[0m\u001b[1;33m)\u001b[0m\u001b[1;33m\u001b[0m\u001b[1;33m\u001b[0m\u001b[0m\n\u001b[0;32m    685\u001b[0m         p = binodal(lB_arr, rho_PCI_list, rho_PCII_list, title=title, beads_2_M=1, n_tie_lines=0, deg_C=True, \n\u001b[1;32m--> 686\u001b[1;33m                          T_range=T_range, x_lim=x_lim, y_lim=y_lim, marker=False, line=True)\n\u001b[0m\u001b[0;32m    687\u001b[0m         \u001b[0mp\u001b[0m\u001b[1;33m.\u001b[0m\u001b[0mtitle\u001b[0m\u001b[1;33m.\u001b[0m\u001b[0mtext_font_size\u001b[0m \u001b[1;33m=\u001b[0m \u001b[1;34m'{0:d}pt'\u001b[0m\u001b[1;33m.\u001b[0m\u001b[0mformat\u001b[0m\u001b[1;33m(\u001b[0m\u001b[0mt_fs\u001b[0m\u001b[1;33m)\u001b[0m\u001b[1;33m\u001b[0m\u001b[1;33m\u001b[0m\u001b[0m\n\u001b[0;32m    688\u001b[0m         \u001b[0mshow\u001b[0m\u001b[1;33m(\u001b[0m\u001b[0mp\u001b[0m\u001b[1;33m)\u001b[0m\u001b[1;33m\u001b[0m\u001b[1;33m\u001b[0m\u001b[0m\n",
      "\u001b[1;32m~\\OneDrive - California Institute of Technology\\Documents\\Research\\Wang\\complex_coacervate\\plot.py\u001b[0m in \u001b[0;36mbinodal\u001b[1;34m(lB_arr, left_list, right_list, left, right, x_label, n_tie_lines, plot_T, T_range, beads_2_M, title, fix_eps, deg_C, x_lim, y_lim, marker, line, c1, c2)\u001b[0m\n\u001b[0;32m    162\u001b[0m     p = no_salt(df_mu, n_plot, left=left, right=right, x_label=x_label,\n\u001b[0;32m    163\u001b[0m                 \u001b[0mn_tie_lines\u001b[0m\u001b[1;33m=\u001b[0m\u001b[0mn_tie_lines\u001b[0m\u001b[1;33m,\u001b[0m \u001b[0mplot_T\u001b[0m\u001b[1;33m=\u001b[0m\u001b[0mplot_T\u001b[0m\u001b[1;33m,\u001b[0m \u001b[0mmarker\u001b[0m\u001b[1;33m=\u001b[0m\u001b[0mmarker\u001b[0m\u001b[1;33m,\u001b[0m \u001b[0mline\u001b[0m\u001b[1;33m=\u001b[0m\u001b[0mline\u001b[0m\u001b[1;33m,\u001b[0m\u001b[1;33m\u001b[0m\u001b[1;33m\u001b[0m\u001b[0m\n\u001b[1;32m--> 164\u001b[1;33m                 title=title, units_rho=units_rho, deg_C=deg_C, c1=c1, c2=c2)\n\u001b[0m\u001b[0;32m    165\u001b[0m \u001b[1;33m\u001b[0m\u001b[0m\n\u001b[0;32m    166\u001b[0m     \u001b[1;31m# sets axis limits if requested\u001b[0m\u001b[1;33m\u001b[0m\u001b[1;33m\u001b[0m\u001b[1;33m\u001b[0m\u001b[0m\n",
      "\u001b[1;32m~\\OneDrive - California Institute of Technology\\Documents\\Research\\Wang\\complex_coacervate\\plot.py\u001b[0m in \u001b[0;36mno_salt\u001b[1;34m(df, n_plot, left, right, x_label, p, n_tie_lines, plot_T, title, line, marker, w, h, units_rho, deg_C, leg1, c1, leg2, c2)\u001b[0m\n\u001b[0;32m    834\u001b[0m     \u001b[1;31m# samples a uniform subset of the data\u001b[0m\u001b[1;33m\u001b[0m\u001b[1;33m\u001b[0m\u001b[1;33m\u001b[0m\u001b[0m\n\u001b[0;32m    835\u001b[0m     \u001b[0mn\u001b[0m \u001b[1;33m=\u001b[0m \u001b[0mlen\u001b[0m\u001b[1;33m(\u001b[0m\u001b[0mdf\u001b[0m\u001b[1;33m)\u001b[0m\u001b[1;33m\u001b[0m\u001b[1;33m\u001b[0m\u001b[0m\n\u001b[1;32m--> 836\u001b[1;33m     \u001b[0mskip\u001b[0m \u001b[1;33m=\u001b[0m \u001b[0mint\u001b[0m\u001b[1;33m(\u001b[0m\u001b[0mn\u001b[0m \u001b[1;33m/\u001b[0m \u001b[0mn_plot\u001b[0m\u001b[1;33m)\u001b[0m\u001b[1;33m\u001b[0m\u001b[1;33m\u001b[0m\u001b[0m\n\u001b[0m\u001b[0;32m    837\u001b[0m     \u001b[0msample\u001b[0m \u001b[1;33m=\u001b[0m \u001b[0mdf\u001b[0m\u001b[1;33m.\u001b[0m\u001b[0miloc\u001b[0m\u001b[1;33m[\u001b[0m\u001b[1;33m:\u001b[0m\u001b[1;33m:\u001b[0m\u001b[0mskip\u001b[0m\u001b[1;33m]\u001b[0m\u001b[1;33m\u001b[0m\u001b[1;33m\u001b[0m\u001b[0m\n\u001b[0;32m    838\u001b[0m \u001b[1;33m\u001b[0m\u001b[0m\n",
      "\u001b[1;31mZeroDivisionError\u001b[0m: division by zero"
     ]
    }
   ],
   "source": [
    "sigma = 4.6\n",
    "plot.compare_to_exp(data, pe.get_beads_2_M(sigma), N=N, sigma=sigma, f=f)"
   ]
  },
  {
   "cell_type": "markdown",
   "metadata": {},
   "source": [
    "### Fitting $\\sigma$ by Hand to Match Experiments"
   ]
  },
  {
   "cell_type": "code",
   "execution_count": 111,
   "metadata": {},
   "outputs": [
    {
     "data": {
      "text/html": [
       "\n",
       "\n",
       "\n",
       "\n",
       "\n",
       "\n",
       "  <div class=\"bk-root\" id=\"a62e8cfb-6e80-4445-8855-a60522efcfed\" data-root-id=\"108284\"></div>\n"
      ]
     },
     "metadata": {},
     "output_type": "display_data"
    },
    {
     "data": {
      "application/javascript": [
       "(function(root) {\n",
       "  function embed_document(root) {\n",
       "    \n",
       "  var docs_json = {\"82b9e692-7c2a-4702-8707-bcc9f2335a2f\":{\"roots\":{\"references\":[{\"attributes\":{\"below\":[{\"id\":\"108293\"}],\"center\":[{\"id\":\"108296\"},{\"id\":\"108300\"},{\"id\":\"108328\"}],\"left\":[{\"id\":\"108297\"}],\"plot_height\":500,\"plot_width\":500,\"renderers\":[{\"id\":\"108319\"},{\"id\":\"108333\"}],\"title\":{\"id\":\"108322\"},\"toolbar\":{\"id\":\"108308\"},\"x_range\":{\"id\":\"108349\"},\"x_scale\":{\"id\":\"108289\"},\"y_range\":{\"id\":\"108350\"},\"y_scale\":{\"id\":\"108291\"}},\"id\":\"108284\",\"subtype\":\"Figure\",\"type\":\"Plot\"},{\"attributes\":{},\"id\":\"108291\",\"type\":\"LinearScale\"},{\"attributes\":{},\"id\":\"108301\",\"type\":\"PanTool\"},{\"attributes\":{},\"id\":\"108342\",\"type\":\"UnionRenderers\"},{\"attributes\":{},\"id\":\"108304\",\"type\":\"SaveTool\"},{\"attributes\":{\"line_color\":\"blue\",\"line_width\":6,\"x\":{\"field\":\"rhoPCI\"},\"y\":{\"field\":\"T\"}},\"id\":\"108317\",\"type\":\"Line\"},{\"attributes\":{\"data_source\":{\"id\":\"108315\"},\"glyph\":{\"id\":\"108331\"},\"hover_glyph\":null,\"muted_glyph\":null,\"nonselection_glyph\":{\"id\":\"108332\"},\"selection_glyph\":null,\"view\":{\"id\":\"108334\"}},\"id\":\"108333\",\"type\":\"GlyphRenderer\"},{\"attributes\":{\"active_drag\":\"auto\",\"active_inspect\":\"auto\",\"active_multi\":null,\"active_scroll\":\"auto\",\"active_tap\":\"auto\",\"tools\":[{\"id\":\"108301\"},{\"id\":\"108302\"},{\"id\":\"108303\"},{\"id\":\"108304\"},{\"id\":\"108305\"},{\"id\":\"108306\"},{\"id\":\"108347\"}]},\"id\":\"108308\",\"type\":\"Toolbar\"},{\"attributes\":{\"line_color\":\"red\",\"line_width\":6,\"x\":{\"field\":\"rhoPCII\"},\"y\":{\"field\":\"T\"}},\"id\":\"108331\",\"type\":\"Line\"},{\"attributes\":{\"end\":1.3,\"start\":-0.05},\"id\":\"108349\",\"type\":\"Range1d\"},{\"attributes\":{\"click_policy\":\"hide\",\"items\":[{\"id\":\"108329\"},{\"id\":\"108344\"}],\"label_text_font_size\":\"14pt\",\"location\":\"bottom_right\"},\"id\":\"108328\",\"type\":\"Legend\"},{\"attributes\":{\"source\":{\"id\":\"108315\"}},\"id\":\"108334\",\"type\":\"CDSView\"},{\"attributes\":{\"axis_label\":\"Temperature [C]\",\"axis_label_text_font_size\":\"18pt\",\"formatter\":{\"id\":\"108324\"},\"major_label_text_font_size\":\"14pt\",\"ticker\":{\"id\":\"108298\"}},\"id\":\"108297\",\"type\":\"LinearAxis\"},{\"attributes\":{\"text\":\"1.60 M Salt, 0.30 M Polymer, N = 1000, f = 1.00, sig = 4.32 A\",\"text_font_size\":{\"value\":\"12pt\"}},\"id\":\"108322\",\"type\":\"Title\"},{\"attributes\":{},\"id\":\"108289\",\"type\":\"LinearScale\"},{\"attributes\":{},\"id\":\"108302\",\"type\":\"WheelZoomTool\"},{\"attributes\":{\"line_alpha\":0.1,\"line_color\":\"red\",\"line_width\":6,\"x\":{\"field\":\"rhoPCII\"},\"y\":{\"field\":\"T\"}},\"id\":\"108332\",\"type\":\"Line\"},{\"attributes\":{\"axis_label\":\"polyanion density [mol/L]\",\"axis_label_text_font_size\":\"18pt\",\"formatter\":{\"id\":\"108326\"},\"major_label_text_font_size\":\"14pt\",\"ticker\":{\"id\":\"108294\"}},\"id\":\"108293\",\"type\":\"LinearAxis\"},{\"attributes\":{\"axis\":{\"id\":\"108297\"},\"dimension\":1,\"ticker\":null},\"id\":\"108300\",\"type\":\"Grid\"},{\"attributes\":{},\"id\":\"108326\",\"type\":\"BasicTickFormatter\"},{\"attributes\":{},\"id\":\"108343\",\"type\":\"Selection\"},{\"attributes\":{\"label\":{\"value\":\"coacervate\"},\"renderers\":[{\"id\":\"108333\"}]},\"id\":\"108344\",\"type\":\"LegendItem\"},{\"attributes\":{},\"id\":\"108294\",\"type\":\"BasicTicker\"},{\"attributes\":{},\"id\":\"108298\",\"type\":\"BasicTicker\"},{\"attributes\":{\"callback\":null,\"tooltips\":[[\"Temperature [C]\",\"@T\"],[\"polyanion density (I)\",\"@rhoPCI\"],[\"polyanion density (II)\",\"@rhoPCII\"]]},\"id\":\"108347\",\"type\":\"HoverTool\"},{\"attributes\":{\"line_alpha\":0.1,\"line_color\":\"blue\",\"line_width\":6,\"x\":{\"field\":\"rhoPCI\"},\"y\":{\"field\":\"T\"}},\"id\":\"108318\",\"type\":\"Line\"},{\"attributes\":{\"data_source\":{\"id\":\"108315\"},\"glyph\":{\"id\":\"108317\"},\"hover_glyph\":null,\"muted_glyph\":null,\"nonselection_glyph\":{\"id\":\"108318\"},\"selection_glyph\":null,\"view\":{\"id\":\"108320\"}},\"id\":\"108319\",\"type\":\"GlyphRenderer\"},{\"attributes\":{\"data\":{\"BJ\":{\"__ndarray__\":\"AAAAAAAA/D/NzMzMzMz8P5qZmZmZmf0/ZmZmZmZm/j8zMzMzMzP/Pw==\",\"dtype\":\"float64\",\"shape\":[5]},\"T\":{\"__ndarray__\":\"ALAElp3ACkDw24VVHvw3QFgifxAo1kJA4JPutE4vSEBgcSJ//6FMQA==\",\"dtype\":\"float64\",\"shape\":[5]},\"index\":[0,1,2,3,4],\"rhoPCI\":{\"__ndarray__\":\"5p4gQL5u3D5Piemmei63PmvflBQYEZE+eh9a4eH3Zj7oXhafGy08Pg==\",\"dtype\":\"float64\",\"shape\":[5]},\"rhoPCII\":{\"__ndarray__\":\"y1NBmi3a4j/P8j7Pz2TkP5IXY29J4+U/fLBc/5xV5z8Fm6ENOL7oPw==\",\"dtype\":\"float64\",\"shape\":[5]}},\"selected\":{\"id\":\"108343\"},\"selection_policy\":{\"id\":\"108342\"}},\"id\":\"108315\",\"type\":\"ColumnDataSource\"},{\"attributes\":{},\"id\":\"108324\",\"type\":\"BasicTickFormatter\"},{\"attributes\":{\"end\":60},\"id\":\"108350\",\"type\":\"Range1d\"},{\"attributes\":{},\"id\":\"108306\",\"type\":\"HelpTool\"},{\"attributes\":{\"axis\":{\"id\":\"108293\"},\"ticker\":null},\"id\":\"108296\",\"type\":\"Grid\"},{\"attributes\":{\"label\":{\"value\":\"supernatant\"},\"renderers\":[{\"id\":\"108319\"}]},\"id\":\"108329\",\"type\":\"LegendItem\"},{\"attributes\":{\"overlay\":{\"id\":\"108307\"}},\"id\":\"108303\",\"type\":\"BoxZoomTool\"},{\"attributes\":{},\"id\":\"108305\",\"type\":\"ResetTool\"},{\"attributes\":{\"source\":{\"id\":\"108315\"}},\"id\":\"108320\",\"type\":\"CDSView\"},{\"attributes\":{\"bottom_units\":\"screen\",\"fill_alpha\":0.5,\"fill_color\":\"lightgrey\",\"left_units\":\"screen\",\"level\":\"overlay\",\"line_alpha\":1.0,\"line_color\":\"black\",\"line_dash\":[4,4],\"line_width\":2,\"render_mode\":\"css\",\"right_units\":\"screen\",\"top_units\":\"screen\"},\"id\":\"108307\",\"type\":\"BoxAnnotation\"}],\"root_ids\":[\"108284\"]},\"title\":\"Bokeh Application\",\"version\":\"2.0.1\"}};\n",
       "  var render_items = [{\"docid\":\"82b9e692-7c2a-4702-8707-bcc9f2335a2f\",\"root_ids\":[\"108284\"],\"roots\":{\"108284\":\"a62e8cfb-6e80-4445-8855-a60522efcfed\"}}];\n",
       "  root.Bokeh.embed.embed_items_notebook(docs_json, render_items);\n",
       "\n",
       "  }\n",
       "  if (root.Bokeh !== undefined) {\n",
       "    embed_document(root);\n",
       "  } else {\n",
       "    var attempts = 0;\n",
       "    var timer = setInterval(function(root) {\n",
       "      if (root.Bokeh !== undefined) {\n",
       "        clearInterval(timer);\n",
       "        embed_document(root);\n",
       "      } else {\n",
       "        attempts++;\n",
       "        if (attempts > 100) {\n",
       "          clearInterval(timer);\n",
       "          console.log(\"Bokeh: ERROR: Unable to run BokehJS code because BokehJS library is missing\");\n",
       "        }\n",
       "      }\n",
       "    }, 10, root)\n",
       "  }\n",
       "})(window);"
      ],
      "application/vnd.bokehjs_exec.v0+json": ""
     },
     "metadata": {
      "application/vnd.bokehjs_exec.v0+json": {
       "id": "108284"
      }
     },
     "output_type": "display_data"
    },
    {
     "data": {
      "text/html": [
       "\n",
       "\n",
       "\n",
       "\n",
       "\n",
       "\n",
       "  <div class=\"bk-root\" id=\"553586e9-6bad-4e4b-803f-3160fd1cc3e0\" data-root-id=\"109684\"></div>\n"
      ]
     },
     "metadata": {},
     "output_type": "display_data"
    },
    {
     "data": {
      "application/javascript": [
       "(function(root) {\n",
       "  function embed_document(root) {\n",
       "    \n",
       "  var docs_json = {\"0b74010e-9e02-4ecb-8820-964d3592dda6\":{\"roots\":{\"references\":[{\"attributes\":{\"below\":[{\"id\":\"109693\"}],\"center\":[{\"id\":\"109696\"},{\"id\":\"109700\"},{\"id\":\"109728\"}],\"left\":[{\"id\":\"109697\"}],\"plot_height\":500,\"plot_width\":500,\"renderers\":[{\"id\":\"109719\"},{\"id\":\"109733\"}],\"title\":{\"id\":\"109722\"},\"toolbar\":{\"id\":\"109708\"},\"x_range\":{\"id\":\"109749\"},\"x_scale\":{\"id\":\"109689\"},\"y_range\":{\"id\":\"109750\"},\"y_scale\":{\"id\":\"109691\"}},\"id\":\"109684\",\"subtype\":\"Figure\",\"type\":\"Plot\"},{\"attributes\":{},\"id\":\"109702\",\"type\":\"WheelZoomTool\"},{\"attributes\":{},\"id\":\"109694\",\"type\":\"BasicTicker\"},{\"attributes\":{},\"id\":\"109742\",\"type\":\"UnionRenderers\"},{\"attributes\":{\"overlay\":{\"id\":\"109707\"}},\"id\":\"109703\",\"type\":\"BoxZoomTool\"},{\"attributes\":{\"axis\":{\"id\":\"109693\"},\"ticker\":null},\"id\":\"109696\",\"type\":\"Grid\"},{\"attributes\":{},\"id\":\"109704\",\"type\":\"SaveTool\"},{\"attributes\":{\"data_source\":{\"id\":\"109715\"},\"glyph\":{\"id\":\"109731\"},\"hover_glyph\":null,\"muted_glyph\":null,\"nonselection_glyph\":{\"id\":\"109732\"},\"selection_glyph\":null,\"view\":{\"id\":\"109734\"}},\"id\":\"109733\",\"type\":\"GlyphRenderer\"},{\"attributes\":{\"axis_label\":\"polyanion density [mol/L]\",\"axis_label_text_font_size\":\"18pt\",\"formatter\":{\"id\":\"109726\"},\"major_label_text_font_size\":\"14pt\",\"ticker\":{\"id\":\"109694\"}},\"id\":\"109693\",\"type\":\"LinearAxis\"},{\"attributes\":{},\"id\":\"109705\",\"type\":\"ResetTool\"},{\"attributes\":{\"line_color\":\"red\",\"line_width\":6,\"x\":{\"field\":\"rhoPCII\"},\"y\":{\"field\":\"T\"}},\"id\":\"109731\",\"type\":\"Line\"},{\"attributes\":{},\"id\":\"109701\",\"type\":\"PanTool\"},{\"attributes\":{\"source\":{\"id\":\"109715\"}},\"id\":\"109734\",\"type\":\"CDSView\"},{\"attributes\":{},\"id\":\"109706\",\"type\":\"HelpTool\"},{\"attributes\":{},\"id\":\"109691\",\"type\":\"LinearScale\"},{\"attributes\":{\"line_alpha\":0.1,\"line_color\":\"red\",\"line_width\":6,\"x\":{\"field\":\"rhoPCII\"},\"y\":{\"field\":\"T\"}},\"id\":\"109732\",\"type\":\"Line\"},{\"attributes\":{},\"id\":\"109743\",\"type\":\"Selection\"},{\"attributes\":{\"bottom_units\":\"screen\",\"fill_alpha\":0.5,\"fill_color\":\"lightgrey\",\"left_units\":\"screen\",\"level\":\"overlay\",\"line_alpha\":1.0,\"line_color\":\"black\",\"line_dash\":[4,4],\"line_width\":2,\"render_mode\":\"css\",\"right_units\":\"screen\",\"top_units\":\"screen\"},\"id\":\"109707\",\"type\":\"BoxAnnotation\"},{\"attributes\":{\"label\":{\"value\":\"coacervate\"},\"renderers\":[{\"id\":\"109733\"}]},\"id\":\"109744\",\"type\":\"LegendItem\"},{\"attributes\":{\"axis_label\":\"Temperature [C]\",\"axis_label_text_font_size\":\"18pt\",\"formatter\":{\"id\":\"109724\"},\"major_label_text_font_size\":\"14pt\",\"ticker\":{\"id\":\"109698\"}},\"id\":\"109697\",\"type\":\"LinearAxis\"},{\"attributes\":{\"callback\":null,\"tooltips\":[[\"Temperature [C]\",\"@T\"],[\"polyanion density (I)\",\"@rhoPCI\"],[\"polyanion density (II)\",\"@rhoPCII\"]]},\"id\":\"109747\",\"type\":\"HoverTool\"},{\"attributes\":{\"active_drag\":\"auto\",\"active_inspect\":\"auto\",\"active_multi\":null,\"active_scroll\":\"auto\",\"active_tap\":\"auto\",\"tools\":[{\"id\":\"109701\"},{\"id\":\"109702\"},{\"id\":\"109703\"},{\"id\":\"109704\"},{\"id\":\"109705\"},{\"id\":\"109706\"},{\"id\":\"109747\"}]},\"id\":\"109708\",\"type\":\"Toolbar\"},{\"attributes\":{\"data\":{\"BJ\":{\"__ndarray__\":\"AAAAAAAA/D/NzMzMzMz8P5qZmZmZmf0/ZmZmZmZm/j8zMzMzMzP/Pw==\",\"dtype\":\"float64\",\"shape\":[5]},\"T\":{\"__ndarray__\":\"ALAElp3ACkDw24VVHvw3QFgifxAo1kJA4JPutE4vSEBgcSJ//6FMQA==\",\"dtype\":\"float64\",\"shape\":[5]},\"index\":[0,1,2,3,4],\"rhoPCI\":{\"__ndarray__\":\"zgWHjjGYlz9lM2tMp+6DP43RzXmDUHE/ytxPqs4GXT/D/WIJl+9GPw==\",\"dtype\":\"float64\",\"shape\":[5]},\"rhoPCII\":{\"__ndarray__\":\"02I4DOq2yT8fj9Kw61fRP8VWQwvjLdU/1V47Tauv2D8k4fZlzfjbPw==\",\"dtype\":\"float64\",\"shape\":[5]}},\"selected\":{\"id\":\"109743\"},\"selection_policy\":{\"id\":\"109742\"}},\"id\":\"109715\",\"type\":\"ColumnDataSource\"},{\"attributes\":{\"end\":60},\"id\":\"109750\",\"type\":\"Range1d\"},{\"attributes\":{\"data_source\":{\"id\":\"109715\"},\"glyph\":{\"id\":\"109717\"},\"hover_glyph\":null,\"muted_glyph\":null,\"nonselection_glyph\":{\"id\":\"109718\"},\"selection_glyph\":null,\"view\":{\"id\":\"109720\"}},\"id\":\"109719\",\"type\":\"GlyphRenderer\"},{\"attributes\":{\"line_color\":\"blue\",\"line_width\":6,\"x\":{\"field\":\"rhoPCI\"},\"y\":{\"field\":\"T\"}},\"id\":\"109717\",\"type\":\"Line\"},{\"attributes\":{\"text\":\"1.85 M Salt, 0.30 M Polymer, N = 1000, f = 1.00, sig = 4.32 A\",\"text_font_size\":{\"value\":\"12pt\"}},\"id\":\"109722\",\"type\":\"Title\"},{\"attributes\":{\"line_alpha\":0.1,\"line_color\":\"blue\",\"line_width\":6,\"x\":{\"field\":\"rhoPCI\"},\"y\":{\"field\":\"T\"}},\"id\":\"109718\",\"type\":\"Line\"},{\"attributes\":{\"source\":{\"id\":\"109715\"}},\"id\":\"109720\",\"type\":\"CDSView\"},{\"attributes\":{\"end\":1.3,\"start\":-0.05},\"id\":\"109749\",\"type\":\"Range1d\"},{\"attributes\":{},\"id\":\"109689\",\"type\":\"LinearScale\"},{\"attributes\":{},\"id\":\"109724\",\"type\":\"BasicTickFormatter\"},{\"attributes\":{\"axis\":{\"id\":\"109697\"},\"dimension\":1,\"ticker\":null},\"id\":\"109700\",\"type\":\"Grid\"},{\"attributes\":{},\"id\":\"109726\",\"type\":\"BasicTickFormatter\"},{\"attributes\":{},\"id\":\"109698\",\"type\":\"BasicTicker\"},{\"attributes\":{\"click_policy\":\"hide\",\"items\":[{\"id\":\"109729\"},{\"id\":\"109744\"}],\"label_text_font_size\":\"14pt\",\"location\":\"bottom_right\"},\"id\":\"109728\",\"type\":\"Legend\"},{\"attributes\":{\"label\":{\"value\":\"supernatant\"},\"renderers\":[{\"id\":\"109719\"}]},\"id\":\"109729\",\"type\":\"LegendItem\"}],\"root_ids\":[\"109684\"]},\"title\":\"Bokeh Application\",\"version\":\"2.0.1\"}};\n",
       "  var render_items = [{\"docid\":\"0b74010e-9e02-4ecb-8820-964d3592dda6\",\"root_ids\":[\"109684\"],\"roots\":{\"109684\":\"553586e9-6bad-4e4b-803f-3160fd1cc3e0\"}}];\n",
       "  root.Bokeh.embed.embed_items_notebook(docs_json, render_items);\n",
       "\n",
       "  }\n",
       "  if (root.Bokeh !== undefined) {\n",
       "    embed_document(root);\n",
       "  } else {\n",
       "    var attempts = 0;\n",
       "    var timer = setInterval(function(root) {\n",
       "      if (root.Bokeh !== undefined) {\n",
       "        clearInterval(timer);\n",
       "        embed_document(root);\n",
       "      } else {\n",
       "        attempts++;\n",
       "        if (attempts > 100) {\n",
       "          clearInterval(timer);\n",
       "          console.log(\"Bokeh: ERROR: Unable to run BokehJS code because BokehJS library is missing\");\n",
       "        }\n",
       "      }\n",
       "    }, 10, root)\n",
       "  }\n",
       "})(window);"
      ],
      "application/vnd.bokehjs_exec.v0+json": ""
     },
     "metadata": {
      "application/vnd.bokehjs_exec.v0+json": {
       "id": "109684"
      }
     },
     "output_type": "display_data"
    },
    {
     "data": {
      "text/html": [
       "\n",
       "\n",
       "\n",
       "\n",
       "\n",
       "\n",
       "  <div class=\"bk-root\" id=\"3198fcae-6bf4-4a5c-b860-ce5ba8bd586d\" data-root-id=\"111093\"></div>\n"
      ]
     },
     "metadata": {},
     "output_type": "display_data"
    },
    {
     "data": {
      "application/javascript": [
       "(function(root) {\n",
       "  function embed_document(root) {\n",
       "    \n",
       "  var docs_json = {\"6463d764-a699-47c3-a7cf-0bbc7bc01ef0\":{\"roots\":{\"references\":[{\"attributes\":{\"below\":[{\"id\":\"111102\"}],\"center\":[{\"id\":\"111105\"},{\"id\":\"111109\"},{\"id\":\"111137\"}],\"left\":[{\"id\":\"111106\"}],\"plot_height\":500,\"plot_width\":500,\"renderers\":[{\"id\":\"111128\"},{\"id\":\"111142\"}],\"title\":{\"id\":\"111131\"},\"toolbar\":{\"id\":\"111117\"},\"x_range\":{\"id\":\"111158\"},\"x_scale\":{\"id\":\"111098\"},\"y_range\":{\"id\":\"111159\"},\"y_scale\":{\"id\":\"111100\"}},\"id\":\"111093\",\"subtype\":\"Figure\",\"type\":\"Plot\"},{\"attributes\":{\"source\":{\"id\":\"111124\"}},\"id\":\"111143\",\"type\":\"CDSView\"},{\"attributes\":{\"active_drag\":\"auto\",\"active_inspect\":\"auto\",\"active_multi\":null,\"active_scroll\":\"auto\",\"active_tap\":\"auto\",\"tools\":[{\"id\":\"111110\"},{\"id\":\"111111\"},{\"id\":\"111112\"},{\"id\":\"111113\"},{\"id\":\"111114\"},{\"id\":\"111115\"},{\"id\":\"111156\"}]},\"id\":\"111117\",\"type\":\"Toolbar\"},{\"attributes\":{\"end\":60},\"id\":\"111159\",\"type\":\"Range1d\"},{\"attributes\":{},\"id\":\"111098\",\"type\":\"LinearScale\"},{\"attributes\":{\"callback\":null,\"tooltips\":[[\"Temperature [C]\",\"@T\"],[\"polyanion density (I)\",\"@rhoPCI\"],[\"polyanion density (II)\",\"@rhoPCII\"]]},\"id\":\"111156\",\"type\":\"HoverTool\"},{\"attributes\":{},\"id\":\"111100\",\"type\":\"LinearScale\"},{\"attributes\":{\"label\":{\"value\":\"coacervate\"},\"renderers\":[{\"id\":\"111142\"}]},\"id\":\"111153\",\"type\":\"LegendItem\"},{\"attributes\":{\"axis_label\":\"polyanion density [mol/L]\",\"axis_label_text_font_size\":\"18pt\",\"formatter\":{\"id\":\"111135\"},\"major_label_text_font_size\":\"14pt\",\"ticker\":{\"id\":\"111103\"}},\"id\":\"111102\",\"type\":\"LinearAxis\"},{\"attributes\":{\"bottom_units\":\"screen\",\"fill_alpha\":0.5,\"fill_color\":\"lightgrey\",\"left_units\":\"screen\",\"level\":\"overlay\",\"line_alpha\":1.0,\"line_color\":\"black\",\"line_dash\":[4,4],\"line_width\":2,\"render_mode\":\"css\",\"right_units\":\"screen\",\"top_units\":\"screen\"},\"id\":\"111116\",\"type\":\"BoxAnnotation\"},{\"attributes\":{},\"id\":\"111103\",\"type\":\"BasicTicker\"},{\"attributes\":{\"text\":\"1.90 M Salt, 0.30 M Polymer, N = 1000, f = 1.00, sig = 4.32 A\",\"text_font_size\":{\"value\":\"12pt\"}},\"id\":\"111131\",\"type\":\"Title\"},{\"attributes\":{\"line_color\":\"blue\",\"line_width\":6,\"x\":{\"field\":\"rhoPCI\"},\"y\":{\"field\":\"T\"}},\"id\":\"111126\",\"type\":\"Line\"},{\"attributes\":{\"axis\":{\"id\":\"111102\"},\"ticker\":null},\"id\":\"111105\",\"type\":\"Grid\"},{\"attributes\":{\"source\":{\"id\":\"111124\"}},\"id\":\"111129\",\"type\":\"CDSView\"},{\"attributes\":{\"axis_label\":\"Temperature [C]\",\"axis_label_text_font_size\":\"18pt\",\"formatter\":{\"id\":\"111133\"},\"major_label_text_font_size\":\"14pt\",\"ticker\":{\"id\":\"111107\"}},\"id\":\"111106\",\"type\":\"LinearAxis\"},{\"attributes\":{\"end\":1.3,\"start\":-0.05},\"id\":\"111158\",\"type\":\"Range1d\"},{\"attributes\":{},\"id\":\"111107\",\"type\":\"BasicTicker\"},{\"attributes\":{\"data\":{\"BJ\":{\"__ndarray__\":\"zczMzMzM/D+amZmZmZn9P2ZmZmZmZv4/MzMzMzMz/z8=\",\"dtype\":\"float64\",\"shape\":[4]},\"T\":{\"__ndarray__\":\"8NuFVR78N0BYIn8QKNZCQOCT7rROL0hAYHEif/+hTEA=\",\"dtype\":\"float64\",\"shape\":[4]},\"index\":[0,1,2,3],\"rhoPCI\":{\"__ndarray__\":\"hIVvRZHboj/S2R6SHoOOPzRnsxX6Sns/jEq/gHcgaD8=\",\"dtype\":\"float64\",\"shape\":[4]},\"rhoPCII\":{\"__ndarray__\":\"EzKGsATWxD/xZG7+y93OP2StFQNfbdM/VXWxv2QB1z8=\",\"dtype\":\"float64\",\"shape\":[4]}},\"selected\":{\"id\":\"111152\"},\"selection_policy\":{\"id\":\"111151\"}},\"id\":\"111124\",\"type\":\"ColumnDataSource\"},{\"attributes\":{\"line_alpha\":0.1,\"line_color\":\"blue\",\"line_width\":6,\"x\":{\"field\":\"rhoPCI\"},\"y\":{\"field\":\"T\"}},\"id\":\"111127\",\"type\":\"Line\"},{\"attributes\":{\"axis\":{\"id\":\"111106\"},\"dimension\":1,\"ticker\":null},\"id\":\"111109\",\"type\":\"Grid\"},{\"attributes\":{},\"id\":\"111133\",\"type\":\"BasicTickFormatter\"},{\"attributes\":{\"data_source\":{\"id\":\"111124\"},\"glyph\":{\"id\":\"111126\"},\"hover_glyph\":null,\"muted_glyph\":null,\"nonselection_glyph\":{\"id\":\"111127\"},\"selection_glyph\":null,\"view\":{\"id\":\"111129\"}},\"id\":\"111128\",\"type\":\"GlyphRenderer\"},{\"attributes\":{},\"id\":\"111135\",\"type\":\"BasicTickFormatter\"},{\"attributes\":{},\"id\":\"111152\",\"type\":\"Selection\"},{\"attributes\":{\"click_policy\":\"hide\",\"items\":[{\"id\":\"111138\"},{\"id\":\"111153\"}],\"label_text_font_size\":\"14pt\",\"location\":\"bottom_right\"},\"id\":\"111137\",\"type\":\"Legend\"},{\"attributes\":{},\"id\":\"111110\",\"type\":\"PanTool\"},{\"attributes\":{\"label\":{\"value\":\"supernatant\"},\"renderers\":[{\"id\":\"111128\"}]},\"id\":\"111138\",\"type\":\"LegendItem\"},{\"attributes\":{},\"id\":\"111111\",\"type\":\"WheelZoomTool\"},{\"attributes\":{},\"id\":\"111151\",\"type\":\"UnionRenderers\"},{\"attributes\":{\"overlay\":{\"id\":\"111116\"}},\"id\":\"111112\",\"type\":\"BoxZoomTool\"},{\"attributes\":{},\"id\":\"111113\",\"type\":\"SaveTool\"},{\"attributes\":{\"line_color\":\"red\",\"line_width\":6,\"x\":{\"field\":\"rhoPCII\"},\"y\":{\"field\":\"T\"}},\"id\":\"111140\",\"type\":\"Line\"},{\"attributes\":{\"data_source\":{\"id\":\"111124\"},\"glyph\":{\"id\":\"111140\"},\"hover_glyph\":null,\"muted_glyph\":null,\"nonselection_glyph\":{\"id\":\"111141\"},\"selection_glyph\":null,\"view\":{\"id\":\"111143\"}},\"id\":\"111142\",\"type\":\"GlyphRenderer\"},{\"attributes\":{},\"id\":\"111114\",\"type\":\"ResetTool\"},{\"attributes\":{\"line_alpha\":0.1,\"line_color\":\"red\",\"line_width\":6,\"x\":{\"field\":\"rhoPCII\"},\"y\":{\"field\":\"T\"}},\"id\":\"111141\",\"type\":\"Line\"},{\"attributes\":{},\"id\":\"111115\",\"type\":\"HelpTool\"}],\"root_ids\":[\"111093\"]},\"title\":\"Bokeh Application\",\"version\":\"2.0.1\"}};\n",
       "  var render_items = [{\"docid\":\"6463d764-a699-47c3-a7cf-0bbc7bc01ef0\",\"root_ids\":[\"111093\"],\"roots\":{\"111093\":\"3198fcae-6bf4-4a5c-b860-ce5ba8bd586d\"}}];\n",
       "  root.Bokeh.embed.embed_items_notebook(docs_json, render_items);\n",
       "\n",
       "  }\n",
       "  if (root.Bokeh !== undefined) {\n",
       "    embed_document(root);\n",
       "  } else {\n",
       "    var attempts = 0;\n",
       "    var timer = setInterval(function(root) {\n",
       "      if (root.Bokeh !== undefined) {\n",
       "        clearInterval(timer);\n",
       "        embed_document(root);\n",
       "      } else {\n",
       "        attempts++;\n",
       "        if (attempts > 100) {\n",
       "          clearInterval(timer);\n",
       "          console.log(\"Bokeh: ERROR: Unable to run BokehJS code because BokehJS library is missing\");\n",
       "        }\n",
       "      }\n",
       "    }, 10, root)\n",
       "  }\n",
       "})(window);"
      ],
      "application/vnd.bokehjs_exec.v0+json": ""
     },
     "metadata": {
      "application/vnd.bokehjs_exec.v0+json": {
       "id": "111093"
      }
     },
     "output_type": "display_data"
    }
   ],
   "source": [
    "sigma = 4.32\n",
    "plot.compare_to_exp(data, pe.get_beads_2_M(sigma), N=N, sigma=sigma, f=f)"
   ]
  },
  {
   "cell_type": "code",
   "execution_count": 5,
   "metadata": {},
   "outputs": [
    {
     "name": "stdout",
     "output_type": "stream",
     "text": [
      "NA(1000)NB(1000)lB(*)f(1.000)\n"
     ]
    },
    {
     "name": "stderr",
     "output_type": "stream",
     "text": [
      "C:\\Users\\andyl\\OneDrive - California Institute of Technology\\Documents\\Research\\Wang\\complex_coacervate\\salt.py:32: RuntimeWarning:\n",
      "\n",
      "divide by zero encountered in true_divide\n",
      "\n",
      "C:\\Users\\andyl\\OneDrive - California Institute of Technology\\Documents\\Research\\Wang\\complex_coacervate\\salt.py:34: RuntimeWarning:\n",
      "\n",
      "invalid value encountered in add\n",
      "\n",
      "C:\\Users\\andyl\\anaconda3\\envs\\py36\\lib\\site-packages\\scipy\\optimize\\minpack.py:175: RuntimeWarning:\n",
      "\n",
      "The iteration is not making good progress, as measured by the \n",
      "  improvement from the last ten iterations.\n",
      "\n",
      "C:\\Users\\andyl\\anaconda3\\envs\\py36\\lib\\site-packages\\scipy\\optimize\\minpack.py:175: RuntimeWarning:\n",
      "\n",
      "The iteration is not making good progress, as measured by the \n",
      "  improvement from the last five Jacobian evaluations.\n",
      "\n"
     ]
    },
    {
     "data": {
      "text/html": [
       "\n",
       "\n",
       "\n",
       "\n",
       "\n",
       "\n",
       "  <div class=\"bk-root\" id=\"c61dffe2-ab61-4037-b756-ea83ba577a09\" data-root-id=\"1002\"></div>\n"
      ]
     },
     "metadata": {},
     "output_type": "display_data"
    },
    {
     "data": {
      "application/javascript": [
       "(function(root) {\n",
       "  function embed_document(root) {\n",
       "    \n",
       "  var docs_json = {\"f28abb17-b747-4b9c-b746-9cc2b4d6e9ed\":{\"roots\":{\"references\":[{\"attributes\":{\"below\":[{\"id\":\"1011\"}],\"center\":[{\"id\":\"1014\"},{\"id\":\"1018\"},{\"id\":\"1046\"}],\"left\":[{\"id\":\"1015\"}],\"plot_height\":500,\"plot_width\":500,\"renderers\":[{\"id\":\"1037\"},{\"id\":\"1051\"}],\"title\":{\"id\":\"1040\"},\"toolbar\":{\"id\":\"1026\"},\"x_range\":{\"id\":\"1067\"},\"x_scale\":{\"id\":\"1007\"},\"y_range\":{\"id\":\"1068\"},\"y_scale\":{\"id\":\"1009\"}},\"id\":\"1002\",\"subtype\":\"Figure\",\"type\":\"Plot\"},{\"attributes\":{},\"id\":\"1024\",\"type\":\"HelpTool\"},{\"attributes\":{\"line_color\":\"red\",\"line_width\":6,\"x\":{\"field\":\"rhoPCII\"},\"y\":{\"field\":\"T\"}},\"id\":\"1049\",\"type\":\"Line\"},{\"attributes\":{\"line_alpha\":0.1,\"line_color\":\"red\",\"line_width\":6,\"x\":{\"field\":\"rhoPCII\"},\"y\":{\"field\":\"T\"}},\"id\":\"1050\",\"type\":\"Line\"},{\"attributes\":{},\"id\":\"1009\",\"type\":\"LinearScale\"},{\"attributes\":{},\"id\":\"1060\",\"type\":\"UnionRenderers\"},{\"attributes\":{\"active_drag\":\"auto\",\"active_inspect\":\"auto\",\"active_multi\":null,\"active_scroll\":\"auto\",\"active_tap\":\"auto\",\"tools\":[{\"id\":\"1019\"},{\"id\":\"1020\"},{\"id\":\"1021\"},{\"id\":\"1022\"},{\"id\":\"1023\"},{\"id\":\"1024\"},{\"id\":\"1065\"}]},\"id\":\"1026\",\"type\":\"Toolbar\"},{\"attributes\":{\"data_source\":{\"id\":\"1033\"},\"glyph\":{\"id\":\"1049\"},\"hover_glyph\":null,\"muted_glyph\":null,\"nonselection_glyph\":{\"id\":\"1050\"},\"selection_glyph\":null,\"view\":{\"id\":\"1052\"}},\"id\":\"1051\",\"type\":\"GlyphRenderer\"},{\"attributes\":{},\"id\":\"1061\",\"type\":\"Selection\"},{\"attributes\":{},\"id\":\"1007\",\"type\":\"LinearScale\"},{\"attributes\":{\"label\":{\"value\":\"coacervate\"},\"renderers\":[{\"id\":\"1051\"}]},\"id\":\"1062\",\"type\":\"LegendItem\"},{\"attributes\":{\"axis_label\":\"polyanion density [mol/L]\",\"axis_label_text_font_size\":\"18pt\",\"formatter\":{\"id\":\"1043\"},\"major_label_text_font_size\":\"14pt\",\"ticker\":{\"id\":\"1012\"}},\"id\":\"1011\",\"type\":\"LinearAxis\"},{\"attributes\":{\"callback\":null,\"tooltips\":[[\"Temperature [$^{\\\\circ}$C]\",\"@T\"],[\"polyanion density (I)\",\"@rhoPCI\"],[\"polyanion density (II)\",\"@rhoPCII\"]]},\"id\":\"1065\",\"type\":\"HoverTool\"},{\"attributes\":{},\"id\":\"1012\",\"type\":\"BasicTicker\"},{\"attributes\":{\"axis\":{\"id\":\"1011\"},\"ticker\":null},\"id\":\"1014\",\"type\":\"Grid\"},{\"attributes\":{\"label\":{\"value\":\"supernatant\"},\"renderers\":[{\"id\":\"1037\"}]},\"id\":\"1047\",\"type\":\"LegendItem\"},{\"attributes\":{\"axis_label\":\"Temperature [$^{\\\\circ}$C]\",\"axis_label_text_font_size\":\"18pt\",\"formatter\":{\"id\":\"1041\"},\"major_label_text_font_size\":\"14pt\",\"ticker\":{\"id\":\"1016\"}},\"id\":\"1015\",\"type\":\"LinearAxis\"},{\"attributes\":{\"end\":60},\"id\":\"1068\",\"type\":\"Range1d\"},{\"attributes\":{\"source\":{\"id\":\"1033\"}},\"id\":\"1052\",\"type\":\"CDSView\"},{\"attributes\":{\"bottom_units\":\"screen\",\"fill_alpha\":0.5,\"fill_color\":\"lightgrey\",\"left_units\":\"screen\",\"level\":\"overlay\",\"line_alpha\":1.0,\"line_color\":\"black\",\"line_dash\":[4,4],\"line_width\":2,\"render_mode\":\"css\",\"right_units\":\"screen\",\"top_units\":\"screen\"},\"id\":\"1025\",\"type\":\"BoxAnnotation\"},{\"attributes\":{},\"id\":\"1016\",\"type\":\"BasicTicker\"},{\"attributes\":{\"axis\":{\"id\":\"1015\"},\"dimension\":1,\"ticker\":null},\"id\":\"1018\",\"type\":\"Grid\"},{\"attributes\":{\"data_source\":{\"id\":\"1033\"},\"glyph\":{\"id\":\"1035\"},\"hover_glyph\":null,\"muted_glyph\":null,\"nonselection_glyph\":{\"id\":\"1036\"},\"selection_glyph\":null,\"view\":{\"id\":\"1038\"}},\"id\":\"1037\",\"type\":\"GlyphRenderer\"},{\"attributes\":{\"line_alpha\":0.1,\"line_color\":\"blue\",\"line_width\":6,\"x\":{\"field\":\"rhoPCI\"},\"y\":{\"field\":\"T\"}},\"id\":\"1036\",\"type\":\"Line\"},{\"attributes\":{\"click_policy\":\"hide\",\"items\":[{\"id\":\"1047\"},{\"id\":\"1062\"}],\"label_text_font_size\":\"14pt\",\"location\":\"bottom_right\"},\"id\":\"1046\",\"type\":\"Legend\"},{\"attributes\":{\"line_color\":\"blue\",\"line_width\":6,\"x\":{\"field\":\"rhoPCI\"},\"y\":{\"field\":\"T\"}},\"id\":\"1035\",\"type\":\"Line\"},{\"attributes\":{\"data\":{\"BJ\":{\"__ndarray__\":\"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\",\"dtype\":\"float64\",\"shape\":[223]},\"T\":{\"__ndarray__\":\"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\",\"dtype\":\"float64\",\"shape\":[223]},\"index\":[0,1,2,3,4,5,6,7,8,9,10,11,12,13,14,15,16,17,18,19,20,21,22,23,24,25,26,27,28,29,30,31,32,33,34,35,36,37,38,39,40,41,42,43,44,45,46,47,48,49,50,51,52,53,54,55,56,57,58,59,60,61,62,63,64,65,66,67,68,69,70,71,72,73,74,75,76,77,78,79,80,81,82,83,84,85,86,87,88,89,90,91,92,93,94,95,96,97,98,99,100,101,102,103,104,105,106,107,108,109,110,111,112,113,114,115,116,117,118,119,120,121,122,123,124,125,126,127,128,129,130,131,132,133,134,135,136,137,138,139,140,141,142,143,144,145,146,147,148,149,150,151,152,153,154,155,156,157,158,159,160,161,162,163,164,165,166,167,168,169,170,171,172,173,174,175,176,177,178,179,180,181,182,183,184,185,186,187,188,189,190,191,192,193,194,195,196,197,198,199,200,201,202,203,204,205,206,207,208,209,210,211,212,213,214,215,216,217,218,219,220,221,222],\"rhoPCI\":{\"__ndarray__\":\"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\",\"dtype\":\"float64\",\"shape\":[223]},\"rhoPCII\":{\"__ndarray__\":\"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\",\"dtype\":\"float64\",\"shape\":[223]}},\"selected\":{\"id\":\"1061\"},\"selection_policy\":{\"id\":\"1060\"}},\"id\":\"1033\",\"type\":\"ColumnDataSource\"},{\"attributes\":{\"source\":{\"id\":\"1033\"}},\"id\":\"1038\",\"type\":\"CDSView\"},{\"attributes\":{},\"id\":\"1019\",\"type\":\"PanTool\"},{\"attributes\":{},\"id\":\"1020\",\"type\":\"WheelZoomTool\"},{\"attributes\":{\"text\":\"1.85 M Salt, 0.20 M Polymer, N = 1000, f = 1.00, sig = 4.00 A\",\"text_font_size\":{\"value\":\"12pt\"}},\"id\":\"1040\",\"type\":\"Title\"},{\"attributes\":{\"end\":1.3,\"start\":-0.05},\"id\":\"1067\",\"type\":\"Range1d\"},{\"attributes\":{\"overlay\":{\"id\":\"1025\"}},\"id\":\"1021\",\"type\":\"BoxZoomTool\"},{\"attributes\":{},\"id\":\"1041\",\"type\":\"BasicTickFormatter\"},{\"attributes\":{},\"id\":\"1022\",\"type\":\"SaveTool\"},{\"attributes\":{},\"id\":\"1043\",\"type\":\"BasicTickFormatter\"},{\"attributes\":{},\"id\":\"1023\",\"type\":\"ResetTool\"}],\"root_ids\":[\"1002\"]},\"title\":\"Bokeh Application\",\"version\":\"2.0.1\"}};\n",
       "  var render_items = [{\"docid\":\"f28abb17-b747-4b9c-b746-9cc2b4d6e9ed\",\"root_ids\":[\"1002\"],\"roots\":{\"1002\":\"c61dffe2-ab61-4037-b756-ea83ba577a09\"}}];\n",
       "  root.Bokeh.embed.embed_items_notebook(docs_json, render_items);\n",
       "\n",
       "  }\n",
       "  if (root.Bokeh !== undefined) {\n",
       "    embed_document(root);\n",
       "  } else {\n",
       "    var attempts = 0;\n",
       "    var timer = setInterval(function(root) {\n",
       "      if (root.Bokeh !== undefined) {\n",
       "        clearInterval(timer);\n",
       "        embed_document(root);\n",
       "      } else {\n",
       "        attempts++;\n",
       "        if (attempts > 100) {\n",
       "          clearInterval(timer);\n",
       "          console.log(\"Bokeh: ERROR: Unable to run BokehJS code because BokehJS library is missing\");\n",
       "        }\n",
       "      }\n",
       "    }, 10, root)\n",
       "  }\n",
       "})(window);"
      ],
      "application/vnd.bokehjs_exec.v0+json": ""
     },
     "metadata": {
      "application/vnd.bokehjs_exec.v0+json": {
       "id": "1002"
      }
     },
     "output_type": "display_data"
    },
    {
     "data": {
      "text/html": [
       "\n",
       "\n",
       "\n",
       "\n",
       "\n",
       "\n",
       "  <div class=\"bk-root\" id=\"447874a8-8cac-4097-9ea8-534d61e163af\" data-root-id=\"1133\"></div>\n"
      ]
     },
     "metadata": {},
     "output_type": "display_data"
    },
    {
     "data": {
      "application/javascript": [
       "(function(root) {\n",
       "  function embed_document(root) {\n",
       "    \n",
       "  var docs_json = {\"03d3a27b-9c85-4007-9b9a-67bb41d3a8e2\":{\"roots\":{\"references\":[{\"attributes\":{\"below\":[{\"id\":\"1142\"}],\"center\":[{\"id\":\"1145\"},{\"id\":\"1149\"},{\"id\":\"1177\"}],\"left\":[{\"id\":\"1146\"}],\"plot_height\":500,\"plot_width\":500,\"renderers\":[{\"id\":\"1168\"},{\"id\":\"1182\"}],\"title\":{\"id\":\"1171\"},\"toolbar\":{\"id\":\"1157\"},\"x_range\":{\"id\":\"1198\"},\"x_scale\":{\"id\":\"1138\"},\"y_range\":{\"id\":\"1199\"},\"y_scale\":{\"id\":\"1140\"}},\"id\":\"1133\",\"subtype\":\"Figure\",\"type\":\"Plot\"},{\"attributes\":{\"line_alpha\":0.1,\"line_color\":\"red\",\"line_width\":6,\"x\":{\"field\":\"rhoPCII\"},\"y\":{\"field\":\"T\"}},\"id\":\"1181\",\"type\":\"Line\"},{\"attributes\":{},\"id\":\"1153\",\"type\":\"SaveTool\"},{\"attributes\":{\"end\":1.3,\"start\":-0.05},\"id\":\"1198\",\"type\":\"Range1d\"},{\"attributes\":{},\"id\":\"1154\",\"type\":\"ResetTool\"},{\"attributes\":{\"line_color\":\"red\",\"line_width\":6,\"x\":{\"field\":\"rhoPCII\"},\"y\":{\"field\":\"T\"}},\"id\":\"1180\",\"type\":\"Line\"},{\"attributes\":{},\"id\":\"1155\",\"type\":\"HelpTool\"},{\"attributes\":{},\"id\":\"1138\",\"type\":\"LinearScale\"},{\"attributes\":{},\"id\":\"1191\",\"type\":\"UnionRenderers\"},{\"attributes\":{\"data_source\":{\"id\":\"1164\"},\"glyph\":{\"id\":\"1180\"},\"hover_glyph\":null,\"muted_glyph\":null,\"nonselection_glyph\":{\"id\":\"1181\"},\"selection_glyph\":null,\"view\":{\"id\":\"1183\"}},\"id\":\"1182\",\"type\":\"GlyphRenderer\"},{\"attributes\":{\"active_drag\":\"auto\",\"active_inspect\":\"auto\",\"active_multi\":null,\"active_scroll\":\"auto\",\"active_tap\":\"auto\",\"tools\":[{\"id\":\"1150\"},{\"id\":\"1151\"},{\"id\":\"1152\"},{\"id\":\"1153\"},{\"id\":\"1154\"},{\"id\":\"1155\"},{\"id\":\"1196\"}]},\"id\":\"1157\",\"type\":\"Toolbar\"},{\"attributes\":{},\"id\":\"1192\",\"type\":\"Selection\"},{\"attributes\":{\"label\":{\"value\":\"coacervate\"},\"renderers\":[{\"id\":\"1182\"}]},\"id\":\"1193\",\"type\":\"LegendItem\"},{\"attributes\":{},\"id\":\"1140\",\"type\":\"LinearScale\"},{\"attributes\":{\"callback\":null,\"tooltips\":[[\"Temperature [$^{\\\\circ}$C]\",\"@T\"],[\"polyanion density (I)\",\"@rhoPCI\"],[\"polyanion density (II)\",\"@rhoPCII\"]]},\"id\":\"1196\",\"type\":\"HoverTool\"},{\"attributes\":{\"axis_label\":\"polyanion density [mol/L]\",\"axis_label_text_font_size\":\"18pt\",\"formatter\":{\"id\":\"1174\"},\"major_label_text_font_size\":\"14pt\",\"ticker\":{\"id\":\"1143\"}},\"id\":\"1142\",\"type\":\"LinearAxis\"},{\"attributes\":{\"bottom_units\":\"screen\",\"fill_alpha\":0.5,\"fill_color\":\"lightgrey\",\"left_units\":\"screen\",\"level\":\"overlay\",\"line_alpha\":1.0,\"line_color\":\"black\",\"line_dash\":[4,4],\"line_width\":2,\"render_mode\":\"css\",\"right_units\":\"screen\",\"top_units\":\"screen\"},\"id\":\"1156\",\"type\":\"BoxAnnotation\"},{\"attributes\":{},\"id\":\"1143\",\"type\":\"BasicTicker\"},{\"attributes\":{\"axis\":{\"id\":\"1142\"},\"ticker\":null},\"id\":\"1145\",\"type\":\"Grid\"},{\"attributes\":{\"end\":60},\"id\":\"1199\",\"type\":\"Range1d\"},{\"attributes\":{\"data_source\":{\"id\":\"1164\"},\"glyph\":{\"id\":\"1166\"},\"hover_glyph\":null,\"muted_glyph\":null,\"nonselection_glyph\":{\"id\":\"1167\"},\"selection_glyph\":null,\"view\":{\"id\":\"1169\"}},\"id\":\"1168\",\"type\":\"GlyphRenderer\"},{\"attributes\":{\"axis_label\":\"Temperature [$^{\\\\circ}$C]\",\"axis_label_text_font_size\":\"18pt\",\"formatter\":{\"id\":\"1172\"},\"major_label_text_font_size\":\"14pt\",\"ticker\":{\"id\":\"1147\"}},\"id\":\"1146\",\"type\":\"LinearAxis\"},{\"attributes\":{\"source\":{\"id\":\"1164\"}},\"id\":\"1169\",\"type\":\"CDSView\"},{\"attributes\":{},\"id\":\"1147\",\"type\":\"BasicTicker\"},{\"attributes\":{\"text\":\"1.85 M Salt, 0.40 M Polymer, N = 1000, f = 1.00, sig = 4.00 A\",\"text_font_size\":{\"value\":\"12pt\"}},\"id\":\"1171\",\"type\":\"Title\"},{\"attributes\":{\"axis\":{\"id\":\"1146\"},\"dimension\":1,\"ticker\":null},\"id\":\"1149\",\"type\":\"Grid\"},{\"attributes\":{\"line_alpha\":0.1,\"line_color\":\"blue\",\"line_width\":6,\"x\":{\"field\":\"rhoPCI\"},\"y\":{\"field\":\"T\"}},\"id\":\"1167\",\"type\":\"Line\"},{\"attributes\":{\"line_color\":\"blue\",\"line_width\":6,\"x\":{\"field\":\"rhoPCI\"},\"y\":{\"field\":\"T\"}},\"id\":\"1166\",\"type\":\"Line\"},{\"attributes\":{},\"id\":\"1172\",\"type\":\"BasicTickFormatter\"},{\"attributes\":{},\"id\":\"1174\",\"type\":\"BasicTickFormatter\"},{\"attributes\":{\"data\":{\"BJ\":{\"__ndarray__\":\"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\",\"dtype\":\"float64\",\"shape\":[223]},\"T\":{\"__ndarray__\":\"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\",\"dtype\":\"float64\",\"shape\":[223]},\"index\":[0,1,2,3,4,5,6,7,8,9,10,11,12,13,14,15,16,17,18,19,20,21,22,23,24,25,26,27,28,29,30,31,32,33,34,35,36,37,38,39,40,41,42,43,44,45,46,47,48,49,50,51,52,53,54,55,56,57,58,59,60,61,62,63,64,65,66,67,68,69,70,71,72,73,74,75,76,77,78,79,80,81,82,83,84,85,86,87,88,89,90,91,92,93,94,95,96,97,98,99,100,101,102,103,104,105,106,107,108,109,110,111,112,113,114,115,116,117,118,119,120,121,122,123,124,125,126,127,128,129,130,131,132,133,134,135,136,137,138,139,140,141,142,143,144,145,146,147,148,149,150,151,152,153,154,155,156,157,158,159,160,161,162,163,164,165,166,167,168,169,170,171,172,173,174,175,176,177,178,179,180,181,182,183,184,185,186,187,188,189,190,191,192,193,194,195,196,197,198,199,200,201,202,203,204,205,206,207,208,209,210,211,212,213,214,215,216,217,218,219,220,221,222],\"rhoPCI\":{\"__ndarray__\":\"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\",\"dtype\":\"float64\",\"shape\":[223]},\"rhoPCII\":{\"__ndarray__\":\"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\",\"dtype\":\"float64\",\"shape\":[223]}},\"selected\":{\"id\":\"1192\"},\"selection_policy\":{\"id\":\"1191\"}},\"id\":\"1164\",\"type\":\"ColumnDataSource\"},{\"attributes\":{\"click_policy\":\"hide\",\"items\":[{\"id\":\"1178\"},{\"id\":\"1193\"}],\"label_text_font_size\":\"14pt\",\"location\":\"bottom_right\"},\"id\":\"1177\",\"type\":\"Legend\"},{\"attributes\":{},\"id\":\"1150\",\"type\":\"PanTool\"},{\"attributes\":{\"label\":{\"value\":\"supernatant\"},\"renderers\":[{\"id\":\"1168\"}]},\"id\":\"1178\",\"type\":\"LegendItem\"},{\"attributes\":{},\"id\":\"1151\",\"type\":\"WheelZoomTool\"},{\"attributes\":{\"overlay\":{\"id\":\"1156\"}},\"id\":\"1152\",\"type\":\"BoxZoomTool\"},{\"attributes\":{\"source\":{\"id\":\"1164\"}},\"id\":\"1183\",\"type\":\"CDSView\"}],\"root_ids\":[\"1133\"]},\"title\":\"Bokeh Application\",\"version\":\"2.0.1\"}};\n",
       "  var render_items = [{\"docid\":\"03d3a27b-9c85-4007-9b9a-67bb41d3a8e2\",\"root_ids\":[\"1133\"],\"roots\":{\"1133\":\"447874a8-8cac-4097-9ea8-534d61e163af\"}}];\n",
       "  root.Bokeh.embed.embed_items_notebook(docs_json, render_items);\n",
       "\n",
       "  }\n",
       "  if (root.Bokeh !== undefined) {\n",
       "    embed_document(root);\n",
       "  } else {\n",
       "    var attempts = 0;\n",
       "    var timer = setInterval(function(root) {\n",
       "      if (root.Bokeh !== undefined) {\n",
       "        clearInterval(timer);\n",
       "        embed_document(root);\n",
       "      } else {\n",
       "        attempts++;\n",
       "        if (attempts > 100) {\n",
       "          clearInterval(timer);\n",
       "          console.log(\"Bokeh: ERROR: Unable to run BokehJS code because BokehJS library is missing\");\n",
       "        }\n",
       "      }\n",
       "    }, 10, root)\n",
       "  }\n",
       "})(window);"
      ],
      "application/vnd.bokehjs_exec.v0+json": ""
     },
     "metadata": {
      "application/vnd.bokehjs_exec.v0+json": {
       "id": "1133"
      }
     },
     "output_type": "display_data"
    },
    {
     "data": {
      "text/html": [
       "\n",
       "\n",
       "\n",
       "\n",
       "\n",
       "\n",
       "  <div class=\"bk-root\" id=\"8ae4e97d-967f-43ef-bfc5-f177ef3559eb\" data-root-id=\"1273\"></div>\n"
      ]
     },
     "metadata": {},
     "output_type": "display_data"
    },
    {
     "data": {
      "application/javascript": [
       "(function(root) {\n",
       "  function embed_document(root) {\n",
       "    \n",
       "  var docs_json = {\"d14e5fbf-1524-4b60-8e07-769348938e5c\":{\"roots\":{\"references\":[{\"attributes\":{\"below\":[{\"id\":\"1282\"}],\"center\":[{\"id\":\"1285\"},{\"id\":\"1289\"},{\"id\":\"1317\"}],\"left\":[{\"id\":\"1286\"}],\"plot_height\":500,\"plot_width\":500,\"renderers\":[{\"id\":\"1308\"},{\"id\":\"1322\"}],\"title\":{\"id\":\"1311\"},\"toolbar\":{\"id\":\"1297\"},\"x_range\":{\"id\":\"1338\"},\"x_scale\":{\"id\":\"1278\"},\"y_range\":{\"id\":\"1339\"},\"y_scale\":{\"id\":\"1280\"}},\"id\":\"1273\",\"subtype\":\"Figure\",\"type\":\"Plot\"},{\"attributes\":{\"source\":{\"id\":\"1304\"}},\"id\":\"1323\",\"type\":\"CDSView\"},{\"attributes\":{\"overlay\":{\"id\":\"1296\"}},\"id\":\"1292\",\"type\":\"BoxZoomTool\"},{\"attributes\":{\"line_alpha\":0.1,\"line_color\":\"red\",\"line_width\":6,\"x\":{\"field\":\"rhoPCII\"},\"y\":{\"field\":\"T\"}},\"id\":\"1321\",\"type\":\"Line\"},{\"attributes\":{},\"id\":\"1293\",\"type\":\"SaveTool\"},{\"attributes\":{\"end\":1.3,\"start\":-0.05},\"id\":\"1338\",\"type\":\"Range1d\"},{\"attributes\":{},\"id\":\"1294\",\"type\":\"ResetTool\"},{\"attributes\":{\"line_color\":\"red\",\"line_width\":6,\"x\":{\"field\":\"rhoPCII\"},\"y\":{\"field\":\"T\"}},\"id\":\"1320\",\"type\":\"Line\"},{\"attributes\":{},\"id\":\"1295\",\"type\":\"HelpTool\"},{\"attributes\":{},\"id\":\"1278\",\"type\":\"LinearScale\"},{\"attributes\":{},\"id\":\"1331\",\"type\":\"UnionRenderers\"},{\"attributes\":{\"data_source\":{\"id\":\"1304\"},\"glyph\":{\"id\":\"1320\"},\"hover_glyph\":null,\"muted_glyph\":null,\"nonselection_glyph\":{\"id\":\"1321\"},\"selection_glyph\":null,\"view\":{\"id\":\"1323\"}},\"id\":\"1322\",\"type\":\"GlyphRenderer\"},{\"attributes\":{},\"id\":\"1332\",\"type\":\"Selection\"},{\"attributes\":{\"active_drag\":\"auto\",\"active_inspect\":\"auto\",\"active_multi\":null,\"active_scroll\":\"auto\",\"active_tap\":\"auto\",\"tools\":[{\"id\":\"1290\"},{\"id\":\"1291\"},{\"id\":\"1292\"},{\"id\":\"1293\"},{\"id\":\"1294\"},{\"id\":\"1295\"},{\"id\":\"1336\"}]},\"id\":\"1297\",\"type\":\"Toolbar\"},{\"attributes\":{\"label\":{\"value\":\"coacervate\"},\"renderers\":[{\"id\":\"1322\"}]},\"id\":\"1333\",\"type\":\"LegendItem\"},{\"attributes\":{},\"id\":\"1280\",\"type\":\"LinearScale\"},{\"attributes\":{\"callback\":null,\"tooltips\":[[\"Temperature [$^{\\\\circ}$C]\",\"@T\"],[\"polyanion density (I)\",\"@rhoPCI\"],[\"polyanion density (II)\",\"@rhoPCII\"]]},\"id\":\"1336\",\"type\":\"HoverTool\"},{\"attributes\":{\"axis_label\":\"polyanion density [mol/L]\",\"axis_label_text_font_size\":\"18pt\",\"formatter\":{\"id\":\"1314\"},\"major_label_text_font_size\":\"14pt\",\"ticker\":{\"id\":\"1283\"}},\"id\":\"1282\",\"type\":\"LinearAxis\"},{\"attributes\":{\"bottom_units\":\"screen\",\"fill_alpha\":0.5,\"fill_color\":\"lightgrey\",\"left_units\":\"screen\",\"level\":\"overlay\",\"line_alpha\":1.0,\"line_color\":\"black\",\"line_dash\":[4,4],\"line_width\":2,\"render_mode\":\"css\",\"right_units\":\"screen\",\"top_units\":\"screen\"},\"id\":\"1296\",\"type\":\"BoxAnnotation\"},{\"attributes\":{},\"id\":\"1283\",\"type\":\"BasicTicker\"},{\"attributes\":{\"data_source\":{\"id\":\"1304\"},\"glyph\":{\"id\":\"1306\"},\"hover_glyph\":null,\"muted_glyph\":null,\"nonselection_glyph\":{\"id\":\"1307\"},\"selection_glyph\":null,\"view\":{\"id\":\"1309\"}},\"id\":\"1308\",\"type\":\"GlyphRenderer\"},{\"attributes\":{\"axis\":{\"id\":\"1282\"},\"ticker\":null},\"id\":\"1285\",\"type\":\"Grid\"},{\"attributes\":{\"end\":60},\"id\":\"1339\",\"type\":\"Range1d\"},{\"attributes\":{\"axis_label\":\"Temperature [$^{\\\\circ}$C]\",\"axis_label_text_font_size\":\"18pt\",\"formatter\":{\"id\":\"1312\"},\"major_label_text_font_size\":\"14pt\",\"ticker\":{\"id\":\"1287\"}},\"id\":\"1286\",\"type\":\"LinearAxis\"},{\"attributes\":{\"source\":{\"id\":\"1304\"}},\"id\":\"1309\",\"type\":\"CDSView\"},{\"attributes\":{\"text\":\"1.85 M Salt, 0.60 M Polymer, N = 1000, f = 1.00, sig = 4.00 A\",\"text_font_size\":{\"value\":\"12pt\"}},\"id\":\"1311\",\"type\":\"Title\"},{\"attributes\":{},\"id\":\"1287\",\"type\":\"BasicTicker\"},{\"attributes\":{\"axis\":{\"id\":\"1286\"},\"dimension\":1,\"ticker\":null},\"id\":\"1289\",\"type\":\"Grid\"},{\"attributes\":{},\"id\":\"1312\",\"type\":\"BasicTickFormatter\"},{\"attributes\":{\"line_color\":\"blue\",\"line_width\":6,\"x\":{\"field\":\"rhoPCI\"},\"y\":{\"field\":\"T\"}},\"id\":\"1306\",\"type\":\"Line\"},{\"attributes\":{},\"id\":\"1314\",\"type\":\"BasicTickFormatter\"},{\"attributes\":{\"data\":{\"BJ\":{\"__ndarray__\":\"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\",\"dtype\":\"float64\",\"shape\":[223]},\"T\":{\"__ndarray__\":\"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\",\"dtype\":\"float64\",\"shape\":[223]},\"index\":[0,1,2,3,4,5,6,7,8,9,10,11,12,13,14,15,16,17,18,19,20,21,22,23,24,25,26,27,28,29,30,31,32,33,34,35,36,37,38,39,40,41,42,43,44,45,46,47,48,49,50,51,52,53,54,55,56,57,58,59,60,61,62,63,64,65,66,67,68,69,70,71,72,73,74,75,76,77,78,79,80,81,82,83,84,85,86,87,88,89,90,91,92,93,94,95,96,97,98,99,100,101,102,103,104,105,106,107,108,109,110,111,112,113,114,115,116,117,118,119,120,121,122,123,124,125,126,127,128,129,130,131,132,133,134,135,136,137,138,139,140,141,142,143,144,145,146,147,148,149,150,151,152,153,154,155,156,157,158,159,160,161,162,163,164,165,166,167,168,169,170,171,172,173,174,175,176,177,178,179,180,181,182,183,184,185,186,187,188,189,190,191,192,193,194,195,196,197,198,199,200,201,202,203,204,205,206,207,208,209,210,211,212,213,214,215,216,217,218,219,220,221,222],\"rhoPCI\":{\"__ndarray__\":\"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\",\"dtype\":\"float64\",\"shape\":[223]},\"rhoPCII\":{\"__ndarray__\":\"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\",\"dtype\":\"float64\",\"shape\":[223]}},\"selected\":{\"id\":\"1332\"},\"selection_policy\":{\"id\":\"1331\"}},\"id\":\"1304\",\"type\":\"ColumnDataSource\"},{\"attributes\":{\"click_policy\":\"hide\",\"items\":[{\"id\":\"1318\"},{\"id\":\"1333\"}],\"label_text_font_size\":\"14pt\",\"location\":\"bottom_right\"},\"id\":\"1317\",\"type\":\"Legend\"},{\"attributes\":{},\"id\":\"1290\",\"type\":\"PanTool\"},{\"attributes\":{\"label\":{\"value\":\"supernatant\"},\"renderers\":[{\"id\":\"1308\"}]},\"id\":\"1318\",\"type\":\"LegendItem\"},{\"attributes\":{},\"id\":\"1291\",\"type\":\"WheelZoomTool\"},{\"attributes\":{\"line_alpha\":0.1,\"line_color\":\"blue\",\"line_width\":6,\"x\":{\"field\":\"rhoPCI\"},\"y\":{\"field\":\"T\"}},\"id\":\"1307\",\"type\":\"Line\"}],\"root_ids\":[\"1273\"]},\"title\":\"Bokeh Application\",\"version\":\"2.0.1\"}};\n",
       "  var render_items = [{\"docid\":\"d14e5fbf-1524-4b60-8e07-769348938e5c\",\"root_ids\":[\"1273\"],\"roots\":{\"1273\":\"8ae4e97d-967f-43ef-bfc5-f177ef3559eb\"}}];\n",
       "  root.Bokeh.embed.embed_items_notebook(docs_json, render_items);\n",
       "\n",
       "  }\n",
       "  if (root.Bokeh !== undefined) {\n",
       "    embed_document(root);\n",
       "  } else {\n",
       "    var attempts = 0;\n",
       "    var timer = setInterval(function(root) {\n",
       "      if (root.Bokeh !== undefined) {\n",
       "        clearInterval(timer);\n",
       "        embed_document(root);\n",
       "      } else {\n",
       "        attempts++;\n",
       "        if (attempts > 100) {\n",
       "          clearInterval(timer);\n",
       "          console.log(\"Bokeh: ERROR: Unable to run BokehJS code because BokehJS library is missing\");\n",
       "        }\n",
       "      }\n",
       "    }, 10, root)\n",
       "  }\n",
       "})(window);"
      ],
      "application/vnd.bokehjs_exec.v0+json": ""
     },
     "metadata": {
      "application/vnd.bokehjs_exec.v0+json": {
       "id": "1273"
      }
     },
     "output_type": "display_data"
    }
   ],
   "source": [
    "# specifies parameters\n",
    "data_folder = 'salt/n_1000/'\n",
    "N = 1000\n",
    "f = 1\n",
    "sigma = 4 # [A]\n",
    "\n",
    "# loads data\n",
    "naming_structure = pe.get_naming_structure(N, '*', f=f)\n",
    "print(naming_structure)\n",
    "data = salt.load_data(data_folder, naming_structure=naming_structure, ext='output.dat')\n",
    "\n",
    "plot.compare_to_exp(data, pe.get_beads_2_M(sigma), N=N, sigma=sigma, f=f, rho_s_list=[1.85], rho_p_list=[0.2, 0.4, 0.6])"
   ]
  },
  {
   "cell_type": "code",
   "execution_count": 17,
   "metadata": {},
   "outputs": [
    {
     "data": {
      "text/html": [
       "\n",
       "\n",
       "\n",
       "\n",
       "\n",
       "\n",
       "  <div class=\"bk-root\" id=\"0b427b5c-832d-4e66-8b86-f167765c689b\" data-root-id=\"5643\"></div>\n"
      ]
     },
     "metadata": {},
     "output_type": "display_data"
    },
    {
     "data": {
      "application/javascript": [
       "(function(root) {\n",
       "  function embed_document(root) {\n",
       "    \n",
       "  var docs_json = {\"576f28b4-aebd-4ceb-bcde-f8482ebecfba\":{\"roots\":{\"references\":[{\"attributes\":{\"below\":[{\"id\":\"5652\"}],\"center\":[{\"id\":\"5655\"},{\"id\":\"5659\"},{\"id\":\"5687\"}],\"left\":[{\"id\":\"5656\"}],\"plot_height\":500,\"plot_width\":500,\"renderers\":[{\"id\":\"5678\"},{\"id\":\"5692\"}],\"title\":{\"id\":\"5680\"},\"toolbar\":{\"id\":\"5667\"},\"x_range\":{\"id\":\"5708\"},\"x_scale\":{\"id\":\"5648\"},\"y_range\":{\"id\":\"5709\"},\"y_scale\":{\"id\":\"5650\"}},\"id\":\"5643\",\"subtype\":\"Figure\",\"type\":\"Plot\"},{\"attributes\":{\"overlay\":{\"id\":\"5666\"}},\"id\":\"5662\",\"type\":\"BoxZoomTool\"},{\"attributes\":{\"text\":\"1.92 M Salt, 0.10 M Polymer, N = 1000, f = 1.00, sig = 4.32 A\",\"text_font_size\":{\"value\":\"12pt\"}},\"id\":\"5680\",\"type\":\"Title\"},{\"attributes\":{\"line_alpha\":0.1,\"line_color\":\"red\",\"line_width\":6,\"x\":{\"field\":\"rhoPCII\"},\"y\":{\"field\":\"T\"}},\"id\":\"5691\",\"type\":\"Line\"},{\"attributes\":{\"axis\":{\"id\":\"5656\"},\"dimension\":1,\"ticker\":null},\"id\":\"5659\",\"type\":\"Grid\"},{\"attributes\":{},\"id\":\"5664\",\"type\":\"ResetTool\"},{\"attributes\":{},\"id\":\"5661\",\"type\":\"WheelZoomTool\"},{\"attributes\":{\"active_drag\":\"auto\",\"active_inspect\":\"auto\",\"active_multi\":null,\"active_scroll\":\"auto\",\"active_tap\":\"auto\",\"tools\":[{\"id\":\"5660\"},{\"id\":\"5661\"},{\"id\":\"5662\"},{\"id\":\"5663\"},{\"id\":\"5664\"},{\"id\":\"5665\"},{\"id\":\"5706\"}]},\"id\":\"5667\",\"type\":\"Toolbar\"},{\"attributes\":{},\"id\":\"5657\",\"type\":\"BasicTicker\"},{\"attributes\":{\"source\":{\"id\":\"5674\"}},\"id\":\"5693\",\"type\":\"CDSView\"},{\"attributes\":{\"bottom_units\":\"screen\",\"fill_alpha\":0.5,\"fill_color\":\"lightgrey\",\"left_units\":\"screen\",\"level\":\"overlay\",\"line_alpha\":1.0,\"line_color\":\"black\",\"line_dash\":[4,4],\"line_width\":2,\"render_mode\":\"css\",\"right_units\":\"screen\",\"top_units\":\"screen\"},\"id\":\"5666\",\"type\":\"BoxAnnotation\"},{\"attributes\":{},\"id\":\"5650\",\"type\":\"LinearScale\"},{\"attributes\":{\"axis\":{\"id\":\"5652\"},\"ticker\":null},\"id\":\"5655\",\"type\":\"Grid\"},{\"attributes\":{\"data_source\":{\"id\":\"5674\"},\"glyph\":{\"id\":\"5690\"},\"hover_glyph\":null,\"muted_glyph\":null,\"nonselection_glyph\":{\"id\":\"5691\"},\"selection_glyph\":null,\"view\":{\"id\":\"5693\"}},\"id\":\"5692\",\"type\":\"GlyphRenderer\"},{\"attributes\":{\"source\":{\"id\":\"5674\"}},\"id\":\"5679\",\"type\":\"CDSView\"},{\"attributes\":{},\"id\":\"5660\",\"type\":\"PanTool\"},{\"attributes\":{},\"id\":\"5663\",\"type\":\"SaveTool\"},{\"attributes\":{\"click_policy\":\"hide\",\"items\":[{\"id\":\"5688\"},{\"id\":\"5703\"}],\"label_text_font_size\":\"14pt\",\"location\":\"bottom_right\"},\"id\":\"5687\",\"type\":\"Legend\"},{\"attributes\":{},\"id\":\"5702\",\"type\":\"Selection\"},{\"attributes\":{\"axis_label\":\"polyanion density [mol/L]\",\"axis_label_text_font_size\":\"18pt\",\"formatter\":{\"id\":\"5684\"},\"major_label_text_font_size\":\"14pt\",\"ticker\":{\"id\":\"5653\"}},\"id\":\"5652\",\"type\":\"LinearAxis\"},{\"attributes\":{\"label\":{\"value\":\"supernatant\"},\"renderers\":[{\"id\":\"5678\"}]},\"id\":\"5688\",\"type\":\"LegendItem\"},{\"attributes\":{\"label\":{\"value\":\"coacervate\"},\"renderers\":[{\"id\":\"5692\"}]},\"id\":\"5703\",\"type\":\"LegendItem\"},{\"attributes\":{\"end\":1.3,\"start\":-0.05},\"id\":\"5708\",\"type\":\"Range1d\"},{\"attributes\":{\"line_color\":\"red\",\"line_width\":6,\"x\":{\"field\":\"rhoPCII\"},\"y\":{\"field\":\"T\"}},\"id\":\"5690\",\"type\":\"Line\"},{\"attributes\":{\"axis_label\":\"Temperature [C]\",\"axis_label_text_font_size\":\"18pt\",\"formatter\":{\"id\":\"5682\"},\"major_label_text_font_size\":\"14pt\",\"ticker\":{\"id\":\"5657\"}},\"id\":\"5656\",\"type\":\"LinearAxis\"},{\"attributes\":{},\"id\":\"5653\",\"type\":\"BasicTicker\"},{\"attributes\":{},\"id\":\"5648\",\"type\":\"LinearScale\"},{\"attributes\":{\"end\":60},\"id\":\"5709\",\"type\":\"Range1d\"},{\"attributes\":{},\"id\":\"5682\",\"type\":\"BasicTickFormatter\"},{\"attributes\":{\"callback\":null,\"tooltips\":[[\"Temperature [C]\",\"@T\"],[\"polyanion density (I)\",\"@rhoPCI\"],[\"polyanion density (II)\",\"@rhoPCII\"]]},\"id\":\"5706\",\"type\":\"HoverTool\"},{\"attributes\":{},\"id\":\"5684\",\"type\":\"BasicTickFormatter\"},{\"attributes\":{\"line_color\":\"blue\",\"line_width\":6,\"x\":{\"field\":\"rhoPCI\"},\"y\":{\"field\":\"T\"}},\"id\":\"5676\",\"type\":\"Line\"},{\"attributes\":{\"data\":{\"BJ\":{\"__ndarray__\":\"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\",\"dtype\":\"float64\",\"shape\":[192]},\"T\":{\"__ndarray__\":\"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\",\"dtype\":\"float64\",\"shape\":[192]},\"index\":[0,1,2,3,4,5,6,7,8,9,10,11,12,13,14,15,16,17,18,19,20,21,22,23,24,25,26,27,28,29,30,31,32,33,34,35,36,37,38,39,40,41,42,43,44,45,46,47,48,49,50,51,52,53,54,55,56,57,58,59,60,61,62,63,64,65,66,67,68,69,70,71,72,73,74,75,76,77,78,79,80,81,82,83,84,85,86,87,88,89,90,91,92,93,94,95,96,97,98,99,100,101,102,103,104,105,106,107,108,109,110,111,112,113,114,115,116,117,118,119,120,121,122,123,124,125,126,127,128,129,130,131,132,133,134,135,136,137,138,139,140,141,142,143,144,145,146,147,148,149,150,151,152,153,154,155,156,157,158,159,160,161,162,163,164,165,166,167,168,169,170,171,172,173,174,175,176,177,178,179,180,181,182,183,184,185,186,187,188,189,190,191],\"rhoPCI\":{\"__ndarray__\":\"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\",\"dtype\":\"float64\",\"shape\":[192]},\"rhoPCII\":{\"__ndarray__\":\"HR60WfJ5wT+4hoXkrsvBP1y4Mp8tHMI/uEudNR20wj/bnzz01vvCP2rACcS/QsM/gJRce+OIwz/FxU/eTM7DP0Semb4FE8Q/YvafGRdXxD+0tQt0PZXEPxrejUsj2MQ/glpzrUEVxT+XSy546VHFP7v1z+JCk8U/hx5KrQLPxT9SWcSqWQrGP4YS5MJLRcY/ntomodx/xj/fgd24D7rGPwPoekro88Y/6BePZ2ktxz9jJ1H2lWbHP/3at7Rwn8c/jLx2QSTTxz9paFY8aQvIP8bfAZpjQ8g/qGrPLU92yD/aTOaSwK3IP2v899wx4Mg/lrRwuyEXyT83wI49H0nJP9a0Sl+Uf8k/pfUKCySxyT8FG1sSgeLJP8COa/BLGMo/onjGBkNJyj/VCZECC3rKPx+9q5o3r8o/jv0dp6Dfyj8cX3y63Q/LP8Fo5tDvP8s/OpPxy9dvyz+TeOY+FqTLP1wbdyqp08s/0JmQlhQDzD/iDRdTWTLMP7UyPR54Ycw/HxuiunGQzD8uezPZRr/MP5leSy/47cw/B8r+ZIYczT9lavYd8krNP6Ps2v07ec0//aXoo2SnzT+U5BaibNXNP5pA09z8/s0/tY3B7scszj/wk5j4c1rOPwfydoMBiM4/mD82C3G1zj9gG/UYw+LOP/d5epCvC88/X9BTd8o4zz/3FcM4yWXPP6eKNUysks8/jbS/vTS7zz8owvr/4+fPP9GoImc8CtA/EIHbTl0e0D/QWefsjjTQP3ttKOWzStA/J6tw+rJe0D+YNWk3wHTQP/pBSVPBitA/s9Ce/p+e0D/2rh9ZirTQPwYOM25UyNA/sLskoije0D9k2auC8fPQPwVVbkmdB9E/LWOP4FAd0T9E5G9j6TDRP5qBSTqIRtE/Ohx/7g1a0T965y+OmG/RP5DbJ+sLg9E/f0BTzYKY0T9qSthD5KvRP6ngV+RHwdE/F2XI4JfU0T+5QNO06OnRP6FMIZ8n/dE/wd9tfl4Q0j/6GsdOlCXSP7eD6K26ONI/Feqdv95N0j//ha399GDSP80NGp0DdNI/5HW5KQ6J0j/od8YsDZzSP3ldU9EEr9I/YrWKpvbD0j+i2Mcs39bSP7Inz4vA6dI/0AXgcpr+0j980gQrbRHTPxY/dPU4JNM/2wYlqPs40z+9VRA4uUvTP8+MkBFwXtM/HR4FQxxz0z8knF9OxYXTPzibwNFnmNM/S06j3AOr0z/ZIQVFk7/TP8GOqggi0tM/h0hDgqrk0z8dgkrBLPfTP3duO9WoCdQ/RIyw6BUe1D8iBP5NhTDUPxVEBLDuQtQ/6Kp0IFJV1D8C6Ceor2fUPyUlx/T7e9Q/MuRhW02O1D+J5noFmaDUP5Lb6vvestQ/jZ7ASR/F1D9Ijq0AWtfUPyf2GfCA69Q/NJH0IrD91D/rvtzd2Q/VP2SGFy7+IdU/38KzHh001T93e/a8NkbVP7kzgg9LWNU/wPKbI1pq1T8y/GRNUn7VP9f1aJlWkNU/A4gnyFWi1T8aYnniT7TVP4YzN/FExtU/YgOmATXY1T83VWgaIOrVP2/YVkQG/NU/I5S2jOcN1j/jCyr6wx/WP+wawJebMdY/zEQbbG5D1j/FZEqCPFXWPzwqJuMFZ9Y/vxhRlcp41j+QC9qjiorWPxWymRdGnNY/2o8y9/yt1j9HVH1Lr7/WP8KuUh1d0dY/2CJVcwbj1j/Mi5NYq/TWP05BetFLBtc/oh4Y6ecX1z95e9mjfynXPxUzzQwTO9c/AsmVKqJM1z/0lJ8BLV7XPyty+Zyzb9c/NeRFAzaB1z+gbic7tJLXP/eUQEsupNc/yNozOqS11z9779kQFsfXP5tW1dWD2Nc/3meSje3p1z+D/h9DU/vXP2NGtPi0DNg/0KAcszEc2D9vAETMiy3YP/CbWfnhPtg/4fb/QDRQ2D/TlNmpgmHYP035iDrNctg/36ew+ROE2D8++LzrVpXYP86ZhhmWptg/a7hDhdG32D8ZCRv+KsfYP60nbEBf2Ng/9E2Y1I/p2D+h0wu/vPrYP2sQMwTmC9k/\",\"dtype\":\"float64\",\"shape\":[192]}},\"selected\":{\"id\":\"5702\"},\"selection_policy\":{\"id\":\"5701\"}},\"id\":\"5674\",\"type\":\"ColumnDataSource\"},{\"attributes\":{\"line_alpha\":0.1,\"line_color\":\"blue\",\"line_width\":6,\"x\":{\"field\":\"rhoPCI\"},\"y\":{\"field\":\"T\"}},\"id\":\"5677\",\"type\":\"Line\"},{\"attributes\":{},\"id\":\"5665\",\"type\":\"HelpTool\"},{\"attributes\":{},\"id\":\"5701\",\"type\":\"UnionRenderers\"},{\"attributes\":{\"data_source\":{\"id\":\"5674\"},\"glyph\":{\"id\":\"5676\"},\"hover_glyph\":null,\"muted_glyph\":null,\"nonselection_glyph\":{\"id\":\"5677\"},\"selection_glyph\":null,\"view\":{\"id\":\"5679\"}},\"id\":\"5678\",\"type\":\"GlyphRenderer\"}],\"root_ids\":[\"5643\"]},\"title\":\"Bokeh Application\",\"version\":\"2.0.1\"}};\n",
       "  var render_items = [{\"docid\":\"576f28b4-aebd-4ceb-bcde-f8482ebecfba\",\"root_ids\":[\"5643\"],\"roots\":{\"5643\":\"0b427b5c-832d-4e66-8b86-f167765c689b\"}}];\n",
       "  root.Bokeh.embed.embed_items_notebook(docs_json, render_items);\n",
       "\n",
       "  }\n",
       "  if (root.Bokeh !== undefined) {\n",
       "    embed_document(root);\n",
       "  } else {\n",
       "    var attempts = 0;\n",
       "    var timer = setInterval(function(root) {\n",
       "      if (root.Bokeh !== undefined) {\n",
       "        clearInterval(timer);\n",
       "        embed_document(root);\n",
       "      } else {\n",
       "        attempts++;\n",
       "        if (attempts > 100) {\n",
       "          clearInterval(timer);\n",
       "          console.log(\"Bokeh: ERROR: Unable to run BokehJS code because BokehJS library is missing\");\n",
       "        }\n",
       "      }\n",
       "    }, 10, root)\n",
       "  }\n",
       "})(window);"
      ],
      "application/vnd.bokehjs_exec.v0+json": ""
     },
     "metadata": {
      "application/vnd.bokehjs_exec.v0+json": {
       "id": "5643"
      }
     },
     "output_type": "display_data"
    },
    {
     "data": {
      "text/html": [
       "\n",
       "\n",
       "\n",
       "\n",
       "\n",
       "\n",
       "  <div class=\"bk-root\" id=\"ad9f3a9b-9948-4a31-bc43-382e22c1e451\" data-root-id=\"5963\"></div>\n"
      ]
     },
     "metadata": {},
     "output_type": "display_data"
    },
    {
     "data": {
      "application/javascript": [
       "(function(root) {\n",
       "  function embed_document(root) {\n",
       "    \n",
       "  var docs_json = {\"712f2041-1b05-4263-ae74-c83b34cdcd54\":{\"roots\":{\"references\":[{\"attributes\":{\"below\":[{\"id\":\"5972\"}],\"center\":[{\"id\":\"5975\"},{\"id\":\"5979\"},{\"id\":\"6007\"}],\"left\":[{\"id\":\"5976\"}],\"plot_height\":500,\"plot_width\":500,\"renderers\":[{\"id\":\"5998\"},{\"id\":\"6012\"}],\"title\":{\"id\":\"6000\"},\"toolbar\":{\"id\":\"5987\"},\"x_range\":{\"id\":\"6028\"},\"x_scale\":{\"id\":\"5968\"},\"y_range\":{\"id\":\"6029\"},\"y_scale\":{\"id\":\"5970\"}},\"id\":\"5963\",\"subtype\":\"Figure\",\"type\":\"Plot\"},{\"attributes\":{},\"id\":\"6002\",\"type\":\"BasicTickFormatter\"},{\"attributes\":{},\"id\":\"6004\",\"type\":\"BasicTickFormatter\"},{\"attributes\":{\"end\":60},\"id\":\"6029\",\"type\":\"Range1d\"},{\"attributes\":{\"label\":{\"value\":\"supernatant\"},\"renderers\":[{\"id\":\"5998\"}]},\"id\":\"6008\",\"type\":\"LegendItem\"},{\"attributes\":{\"line_alpha\":0.1,\"line_color\":\"blue\",\"line_width\":6,\"x\":{\"field\":\"rhoPCI\"},\"y\":{\"field\":\"T\"}},\"id\":\"5997\",\"type\":\"Line\"},{\"attributes\":{},\"id\":\"5981\",\"type\":\"WheelZoomTool\"},{\"attributes\":{},\"id\":\"5985\",\"type\":\"HelpTool\"},{\"attributes\":{\"axis\":{\"id\":\"5976\"},\"dimension\":1,\"ticker\":null},\"id\":\"5979\",\"type\":\"Grid\"},{\"attributes\":{\"active_drag\":\"auto\",\"active_inspect\":\"auto\",\"active_multi\":null,\"active_scroll\":\"auto\",\"active_tap\":\"auto\",\"tools\":[{\"id\":\"5980\"},{\"id\":\"5981\"},{\"id\":\"5982\"},{\"id\":\"5983\"},{\"id\":\"5984\"},{\"id\":\"5985\"},{\"id\":\"6026\"}]},\"id\":\"5987\",\"type\":\"Toolbar\"},{\"attributes\":{\"callback\":null,\"tooltips\":[[\"Temperature [C]\",\"@T\"],[\"polyanion density (I)\",\"@rhoPCI\"],[\"polyanion density (II)\",\"@rhoPCII\"]]},\"id\":\"6026\",\"type\":\"HoverTool\"},{\"attributes\":{},\"id\":\"5984\",\"type\":\"ResetTool\"},{\"attributes\":{\"data_source\":{\"id\":\"5994\"},\"glyph\":{\"id\":\"6010\"},\"hover_glyph\":null,\"muted_glyph\":null,\"nonselection_glyph\":{\"id\":\"6011\"},\"selection_glyph\":null,\"view\":{\"id\":\"6013\"}},\"id\":\"6012\",\"type\":\"GlyphRenderer\"},{\"attributes\":{\"axis_label\":\"Temperature [C]\",\"axis_label_text_font_size\":\"18pt\",\"formatter\":{\"id\":\"6002\"},\"major_label_text_font_size\":\"14pt\",\"ticker\":{\"id\":\"5977\"}},\"id\":\"5976\",\"type\":\"LinearAxis\"},{\"attributes\":{\"axis_label\":\"polyanion density [mol/L]\",\"axis_label_text_font_size\":\"18pt\",\"formatter\":{\"id\":\"6004\"},\"major_label_text_font_size\":\"14pt\",\"ticker\":{\"id\":\"5973\"}},\"id\":\"5972\",\"type\":\"LinearAxis\"},{\"attributes\":{},\"id\":\"5970\",\"type\":\"LinearScale\"},{\"attributes\":{\"end\":1.3,\"start\":-0.05},\"id\":\"6028\",\"type\":\"Range1d\"},{\"attributes\":{\"label\":{\"value\":\"coacervate\"},\"renderers\":[{\"id\":\"6012\"}]},\"id\":\"6023\",\"type\":\"LegendItem\"},{\"attributes\":{\"line_color\":\"blue\",\"line_width\":6,\"x\":{\"field\":\"rhoPCI\"},\"y\":{\"field\":\"T\"}},\"id\":\"5996\",\"type\":\"Line\"},{\"attributes\":{\"axis\":{\"id\":\"5972\"},\"ticker\":null},\"id\":\"5975\",\"type\":\"Grid\"},{\"attributes\":{\"data\":{\"BJ\":{\"__ndarray__\":\"+n5qvHST/D9kO99PjZf8P8/3U+Olm/w/ObTIdr6f/D+kcD0K16P8Pw4tsp3vp/w/eekmMQis/D/jpZvEILD8P05iEFg5tPw/uB6F61G4/D8j2/l+arz8P42XbhKDwPw/+FPjpZvE/D9iEFg5tMj8P83MzMzMzPw/N4lBYOXQ/D+iRbbz/dT8PwwCK4cW2fw/d76fGi/d/D/hehSuR+H8P0w3iUFg5fw/tvP91Hjp/D8hsHJoke38P4ts5/up8fw/9ihcj8L1/D9g5dAi2/n8P8uhRbbz/fw/NV66SQwC/T+gGi/dJAb9PwrXo3A9Cv0/dZMYBFYO/T/fT42XbhL9P0oMAiuHFv0/tMh2vp8a/T8fhetRuB79P4lBYOXQIv0/9P3UeOkm/T9eukkMAiv9P8l2vp8aL/0/MzMzMzMz/T+e76fGSzf9PwisHFpkO/0/c2iR7Xw//T/dJAaBlUP9P0jhehSuR/0/sp3vp8ZL/T8dWmQ730/9P4cW2c73U/0/8tJNYhBY/T9cj8L1KFz9P8dLN4lBYP0/MQisHFpk/T+cxCCwcmj9PwaBlUOLbP0/cT0K16Nw/T/b+X5qvHT9P0a28/3UeP0/sHJoke18/T8bL90kBoH9P4XrUbgehf0/8KfGSzeJ/T9aZDvfT439P8UgsHJokf0/L90kBoGV/T+amZmZmZn9PwRWDi2ynf0/bxKDwMqh/T/ZzvdT46X9P0SLbOf7qf0/rkfhehSu/T8ZBFYOLbL9P4PAyqFFtv0/7nw/NV66/T9YObTIdr79P8P1KFyPwv0/LbKd76fG/T+YbhKDwMr9PwIrhxbZzv0/bef7qfHS/T/Xo3A9Ctf9P0Jg5dAi2/0/rBxaZDvf/T8X2c73U+P9P4GVQ4ts5/0/7FG4HoXr/T9WDi2yne/9P8HKoUW28/0/K4cW2c73/T+WQ4ts5/v9PwAAAAAAAP4/arx0kxgE/j/VeOkmMQj+Pz81XrpJDP4/qvHSTWIQ/j8UrkfhehT+P39qvHSTGP4/6SYxCKwc/j9U46WbxCD+P76fGi/dJP4/KVyPwvUo/j+TGARWDi3+P/7UeOkmMf4/aJHtfD81/j/TTWIQWDn+Pz0K16NwPf4/qMZLN4lB/j8Sg8DKoUX+P30/NV66Sf4/5/up8dJN/j9SuB6F61H+P7x0kxgEVv4/JzEIrBxa/j+R7Xw/NV7+P/yp8dJNYv4/ZmZmZmZm/j/RItv5fmr+PzvfT42Xbv4/ppvEILBy/j8QWDm0yHb+P3sUrkfhev4/5dAi2/l+/j9QjZduEoP+P7pJDAIrh/4/JQaBlUOL/j+PwvUoXI/+P/p+arx0k/4/ZDvfT42X/j/P91PjpZv+Pzm0yHa+n/4/pHA9Ctej/j8OLbKd76f+P3npJjEIrP4/46WbxCCw/j9OYhBYObT+P7gehetRuP4/I9v5fmq8/j+Nl24Sg8D+P/hT46WbxP4/YhBYObTI/j/NzMzMzMz+PzeJQWDl0P4/okW28/3U/j8MAiuHFtn+P3e+nxov3f4/4XoUrkfh/j9MN4lBYOX+P7bz/dR46f4/IbByaJHt/j+LbOf7qfH+P/YoXI/C9f4/YOXQItv5/j/LoUW28/3+PzVeukkMAv8/oBov3SQG/z8K16NwPQr/P3WTGARWDv8/30+Nl24S/z9KDAIrhxb/P7TIdr6fGv8/H4XrUbge/z+JQWDl0CL/P/T91HjpJv8/XrpJDAIr/z/Jdr6fGi//PzMzMzMzM/8/nu+nxks3/z8IrBxaZDv/P3Noke18P/8/3SQGgZVD/z9I4XoUrkf/P7Kd76fGS/8/HVpkO99P/z+HFtnO91P/P/LSTWIQWP8/XI/C9Shc/z/HSzeJQWD/PzEIrBxaZP8/nMQgsHJo/z8GgZVDi2z/P3E9CtejcP8/2/l+arx0/z9GtvP91Hj/Pw==\",\"dtype\":\"float64\",\"shape\":[182]},\"T\":{\"__ndarray__\":\"MIJS2KhBM0DQYV7t4pwzQKBZrW1Q9zNAUOV4A/ZQNEAwQ3wr2Kk0QFBSWzf7ATVAQEngT2NZNUDwiBN3FLA1QICcMIoSBjZAwBd7Q2FbNkCA1fU7BLA2QHDW/uz+AzdAUM3RsVRXN0AQPfPICKo3QPDbhVUe/DdA8NGLYJhNOEDwOhXaeZ44QFBIXZrF7jhAoCrXYn4+OUDw7Cvfpo05QIA8KqZB3DlAgBSpOlEqOkDwJ14M2Hc6QGDZqHjYxDpAoHxSy1QRO0AwkEQ/T107QFCSNf/JqDtAAAhNJsfzO0DwO7/ASD48QGA/YcxQiDxA0Js1OeHRPECgK/Lp+xo9QBB7f7SiYz1AkBhyYterPUBwKX6xm/M9QICY5VPxOj5AAC3h8NmBPkCw0QQlV8g+QGBTn4JqDj9AINAVkhVUP0DgHDvSWZk/QMBOo7g43j9AONL52FkRQEBQfRcRZjNAQLiAf7JBVUBA+Cn9Zu12QEC40XPUaZhAQKAL/5y3uUBA4IMRX9faQEBQmpK1yftAQHjL+jePHEFAGPdueig9QUDIkNoNll1BQNDJCIDYfUFAWL+8W/CdQUD4ucgo3r1BQNiIJGyi3UFAKAMDqD39QUCou+ZbsBxCQHDstQT7O0JA+KbNHB5bQkCgTxQcGnpCQDBsC3jvmEJAAM/go563QkBYIn8QKNZCQMjfnSyM9EJAULXQZMsSQ0BIYZYj5jBDQJgKZ9HcTkNAmBnC1K9sQ0BwmDuSX4pDQHAeiWzsp0NA4EyOxFbFQ0Bw4Gj5nuJDQGhcfGjF/0NAqFJ9bcocRED4TnxirjlEQFhl8J9xVkRAeGvBfBRzREDQ3FFOl49EQPhuiGj6q0RAyFjZHT7IREDITk+/YuREQAA4lJxoAEVAoJ75A1AcRUBg3YBCGThFQEgO46PEU0VAYLqYclJvRUDIUOH3wopFQHBhynsWpkVAaKQ2RU3BRUDAyeSZZ9xFQOgWdr5l90VAGNR09kcSRkDoh1qEDi1GQLAHlqm5R0ZAuFmRpkliRkBYbbe6vnxGQDCqeSQZl0ZAcFdVIVmxRkBI3NjtfstGQHjbqMWK5UZASCuF43z/RkAwqk2BVRlHQFDyBtgUM0dA2OzeH7tMR0DQRDGQSGZHQCi9i1+9f0dAYGiywxmZR0CQw6PxXbJHQMC2nB2Ky0dAgHoce57kR0DgYug8m/1HQEiSD5WAFkhA4JPutE4vSEBQ3jLNBUhIQAhA3g2mYEhAqDVKpi95SEBwKivFopFIQHCkk5j/qUhAMF33TUbCSEC4RS4Sd9pIQEB4dxGS8khAIBh8d5cKSUAQH1JvhyJJQIAZfyNiOklAqNL6vSdSSUCI7zFo2GlJQGB6CEt0gUlAoF/cjvuYSUCQ2odbbrBJQKDUY9jMx0lA+DVKLBffSUAAKZh9TfZJQChQMPJvDUpAoO58r34kSkA4BXLaeTtKQIhij5dhUkpA6KbiCjZpSkAQPglY939KQBhMMqKllkpAcJAgDEGtSkDQPSy4ycNKQEDIRMg/2kpAaKjyXaPwSkDIFVma9AZLQMC2N54zHUtA8EfsiWAzS0AQOnR9e0lLQBBHbpiEX0tA6P4b+nt1S0DQS2PBYYtLQBDuzww2oUtA8PCU+vi2S0CIFo6oqsxLQLg8QTRL4ktAILvfutr3S0AguUdZWQ1MQLh9BSzHIkxAoLdUTyQ4TECwvyHfcE1MQEjUCvesYkxAcE5hsth3TEDw0Cos9IxMQGBxIn//oUxAINu5xfq2TEDYbBoa5stMQJhQJpbB4ExAyI15U431TEBoFmtrSQpNQCDPDff1Hk1AeJExD5MzTUCIKmTMIEhNQPhS8kafXE1ACKTolg5xTUDghhTUboVNQHAfBRbAmU1A8DMMdAKuTUBIDj8FNsJNQBBbd+Ba1k1ASANUHHHqTUBQAjrPeP5NQA==\",\"dtype\":\"float64\",\"shape\":[182]},\"index\":[0,1,2,3,4,5,6,7,8,9,10,11,12,13,14,15,16,17,18,19,20,21,22,23,24,25,26,27,28,29,30,31,32,33,34,35,36,37,38,39,40,41,42,43,44,45,46,47,48,49,50,51,52,53,54,55,56,57,58,59,60,61,62,63,64,65,66,67,68,69,70,71,72,73,74,75,76,77,78,79,80,81,82,83,84,85,86,87,88,89,90,91,92,93,94,95,96,97,98,99,100,101,102,103,104,105,106,107,108,109,110,111,112,113,114,115,116,117,118,119,120,121,122,123,124,125,126,127,128,129,130,131,132,133,134,135,136,137,138,139,140,141,142,143,144,145,146,147,148,149,150,151,152,153,154,155,156,157,158,159,160,161,162,163,164,165,166,167,168,169,170,171,172,173,174,175,176,177,178,179,180,181],\"rhoPCI\":{\"__ndarray__\":\"wS8/x8eVsj/wXCToKX+xP81KZlgnoLA/XfBZubHVrz8FlNAyu5quP9e+HGYCdq0/3U448MWErD/09NPHf5GrP9n6CSIuuqo/UhNEIl37qT+oLryRyjepP1Rbn/vLiag/N64s+yPvpz8siYFueE6nP5BmHQdPv6Y/o3iIYTkqpj+X1TV1HaWlP71XZfhoJKU/kO9cCN2npD9zfvdAQC+kP+FmWemrw6M/bsXEqQ1Soz/gVe+E0OOiP/RnTQpVgaI/Gi8/l3Uhoj8S+N17+ruhPyt4CKg0YaE/IvSFC7oIoT9oGO2+c7KgP74ZJjlMXqA/A6fgNC8MoD+6lZ0vE3ifP9Oav7OS254/iQuA3LpCnj9L1thma62dPxHz5KNNKJ0/VCnYv2yZnD85Ncxzvw2cP0BJmLcnkZs/ku/iYFILmz+SyDbo55OaP9xXicuSE5o/jsMs/wihmT/PxZYJ5CWZP7wAENz0t5g/s8tfsrZBmD/pLWjkIdiXP6lHn9SLcJc/e7i/mhEBlz8j5dgzgJ2WP9skhPrGO5Y/Kn+WZ9rblT/wSBJejXSVP2oIK2pCGJU/tSAZ8KK9lD/Pt/f5pGSUP94qv+U+DZQ/Qx6AY2e3kz8hJPlzFWOTP3JmKGFAEJM/5+M7vd++kj8qkAdf626SP7XdIF5bIJI/svrOESjTkT8cLnEMSoeRP3pRXxm6PJE/vA3aO3HzkD99+4CraKuQP70cM9KZZJA/ZYOkSv4ekD/+lX28H7WPP+A1ouzDO48/mbBzd0C3jj/lXLQJ9TSOPxwVuIDWtI0/Fhg+sjtDjT8RuNSSI8eMP5nqTqQZTYw/oqPL3xPViz/XMfrrp2qLP1SMT99d9oo/R3PxR/yDij8/gdHkkR6KPxt6Wye5r4k/b4mfJq9CiT9BpRKXAuKIP7oSrCRSeIg/T4h8fVgQiD/69KC5KrSHP/OcOpFeT4c/GGeXEQP2hj8/M0EgSZSGP9P2SrmnPYY/nyQT5OXehT+aC49tqYGFPytYDMEEL4U/gkbsuZrUhD+Sq5Shd4SEPxBQ7KDILIQ/vCGGWhLfgz+uepLrB4qDP/u3KI6qPoM/LeN6jGP0gj/0GriSF6OCP1E1k4oNW4I/R4ieWTIMgj+OqUBIU8aBP4vpo1vVeYE/BITO7Q82gT/v2ImpQ/OAP2njSw8gqoA/VmrkElVpgD92Lqj/dymAP9eLXD0Qx38/0G6EmSpLfz8hYzJ9C9F+P711YiVKS34/4p2f8dPUfT82J/sgEGB9Pzw+DgQo4Hw/RZPky+NufD8h7uHWPv97PxQfc2DuhHs/r3jH1KEYez8FxXxs4q16P7CyAYGqRHo/KjugJF/ReT+oDb/YTmt5P06N+RW1Bnk/hjs9moyjeD92FYak4DZ4P4d+BySy1nc/0ahKDOV3dz8AqoBqdBp3P2X4m6gItHY/NcuhR2dZdj9Yqe5/EwB2P7rvy7AIqHU/R3qqR0JRdT+GYzbHu/t0P8GKTZr3nXQ//D3QogVLdD9ibQgLRvlzPypV/Zq0qHM/GwpIKk1Zcz+Cxj6dCwtzPz8Dc+3rvXI/GiBsslhpcj8/lQa0jx5yP0SqGGbc1HE/sS08/DqMcT8ful21p0RxPy4cZuEe/nA/Ckb73Jy4cD/q9RUQHnRwP451FfWeMHA/f+kEGDjcbz94H63lTEpvPxO/PVRZyW4/bbCKG0lKbj9rS+GsFc1tPwBntoe4UW0/MtjNRyvYbD8gDJGfZ2BsP+vukE9n6ms/04MrPSR2az8i5zxWmANrPzQz8KS9kmo/dgGYQY4jaj9i6dVgBLZpP4a0R0gaSmk/fxFcUcrfaD/vLanjDndoP5g1FIPiD2g/P9OpwT+qZz+6lkdFIUZnP+yO8sGB42Y/yhUqBVyCZj9RnuvkqiJmP5OZg1NpxGU/qZG8S5JnZT+5Ql3ZIAxlPw==\",\"dtype\":\"float64\",\"shape\":[182]},\"rhoPCII\":{\"__ndarray__\":\"qtSIsI0Puj+qpSwPHHC7P9dQb3wKnLw/wi+DjbicvT8fYWlLwIW+PyemSwtAZ78/wAE+cCAUwD/3AhAHu3jAP4ZP3A/U1MA/Kk0ofwApwT9j7QtEvIHBPz/3bZQJ08E/MEUqIEkdwj92oGYnTmzCP9D0DWSUtMI/+jCoCZwBwz+79HcSJ0jDP5vnYFjvjcM/lrJkbv/Swz+obm/6YBfEP8zf4SjFVcQ/HQ0uWu+YxD9O6g7hgtvEP0MgAkpQGMU//IADYKhUxT9wDod9s5XFPyl6R+0l0cU/nRlKnjAMxj9H6kdo10bGP4Gx6ukdgcY/dTg+iQe7xj+Uvxd8l/TGP4U6h8jQLcc/zVuXSrZmxz+U/PS2Sp/HPwaQUiK40sc/zWlJI7gKyD8KgEMqbkLIP/78UHMVdcg/on3Rr0OsyD86WOXIcd7IPw3MjpQfFck/HcHE6dpGyT//xx/6Dn3JP9pRXGtdrsk/eLXc5B3kyT/7ToPTBBXKP49/xPm7Rco/F237utt6yj8JQfCMMqvKP0iQbc9c28o/xuGSflsLyz+Ytn0Xtz/LPyQ88bldb8s/y+svkdueyz/Ih7FoMc7LP3jZMhlg/cs/+5vmYGgszD+PkUQLS1vMPz5uOskIisw/fZWOVKK4zD+cY8JZGOfMP0Hd6oBrFc0/DQcdcpxDzT89NpXMq3HNP6YQtyaan80/GzzmFmjNzT9yXoYzFvvNP7S+SQGlKM4/T1O7DRVWzj/5uvnhZoPOP9GoD+xMrM4/cdJlQGbZzj+b5jzHYgbPP4vNlfNCM88/efZmq8Jbzz/10lTVbYjPPxPcFez9tM8/EPqqYnPhzz8aUgRzyQTQP/MwMDvrGtA/XGg9RQAx0D//CQoG7kTQP96i/yzrWtA/4l4rIdxw0D/cjF1HqYTQPyRdx1aDmtA/MOhAr1Gw0D9VL6WR/8PQP6YiAfK32dA/3kV981Ht0D+U77Lt9ALRPzTejI57FtE/4wjxrQks0T9mfMkfjUHRPxZ5fTX3VNE/9wPGlWZq0T9sbwt8vn3RPyTV00gak9E/5D8/bmCm0T9iwPQeqbvRPxmP5O/dztE/H3/clgri0T9iJrjZN/fRPzQgmMJTCtI/jEvU/W4f0j+V2OuJejLSP/mUeiWER9I/Grt2r39a0j/FV7euc23SP3IGDvhjgtI/YVevd0iV0j+r6oGqJajSP99NGG39vNI/51hbnsvP0j+N7hm6kuLSPx8Zj7hS99I/ljr1RwsK0z/HWlf7vBzTPwLcp/FlMdM/sewPhQlE0z+r7FFvplbTP5h4aw45a9M/k/lHR8h90z/c1jkDUZDTP/PGXljTotM/ibF5Y0m30z/2EX+HvsnTP1vGvG4t3NM/qwGuKJbu0z9eiAey8ALUP3736LhMFdQ/i1q5vqIn1D/sYFHM8jnUP2RiddQyTtQ/qbA0pHZg1D9FD/entHLUP3dZy+rshNQ/Wpb2eR+X1D8voYdgTKnUP/lDKapmvdQ/7+sd8ofP1D8kd0e5o+HUPyhpSAa689Q/xyDS6soF1T+QIYdt1hfVP5xyrJvcKdU/pyx6V8091T92HxiPyE/VPyIgiZW+YdU/YYY5b69z1T8mhaQrm4XVP9jLotOBl9U/uDVDcmOp1T9TRigOQLvVP8MEl7QXzdU/lfQxbOre1T+0pXf6o/LVP6AASJRsBNY//sYEXDAW1j8M1Lxc7yfWPzXXSJ+pOdY/tKu3Ll9L1j8/qXUPEF3WP/LWx068btY/WLhQ82OA1j/Z/OgFB5LWPwEoM42lo9Y/EBU+lD+11j+8G3Yf1cbWPx5DIDxm2NY/Erdy7PLp1j+tfrI9e/vWP83FFTL/DNc/i5Ph1n4e1z+aP4Iw+i/XP4lNmkVxQdc/lJg4IeRS1z92eMnHUmTXP7Zw7z+9ddc/vTCDkiOH1z/xZ13IhZjXPw==\",\"dtype\":\"float64\",\"shape\":[182]}},\"selected\":{\"id\":\"6022\"},\"selection_policy\":{\"id\":\"6021\"}},\"id\":\"5994\",\"type\":\"ColumnDataSource\"},{\"attributes\":{\"overlay\":{\"id\":\"5986\"}},\"id\":\"5982\",\"type\":\"BoxZoomTool\"},{\"attributes\":{\"line_color\":\"red\",\"line_width\":6,\"x\":{\"field\":\"rhoPCII\"},\"y\":{\"field\":\"T\"}},\"id\":\"6010\",\"type\":\"Line\"},{\"attributes\":{\"line_alpha\":0.1,\"line_color\":\"red\",\"line_width\":6,\"x\":{\"field\":\"rhoPCII\"},\"y\":{\"field\":\"T\"}},\"id\":\"6011\",\"type\":\"Line\"},{\"attributes\":{\"click_policy\":\"hide\",\"items\":[{\"id\":\"6008\"},{\"id\":\"6023\"}],\"label_text_font_size\":\"14pt\",\"location\":\"bottom_right\"},\"id\":\"6007\",\"type\":\"Legend\"},{\"attributes\":{},\"id\":\"5973\",\"type\":\"BasicTicker\"},{\"attributes\":{},\"id\":\"5977\",\"type\":\"BasicTicker\"},{\"attributes\":{},\"id\":\"5980\",\"type\":\"PanTool\"},{\"attributes\":{},\"id\":\"5968\",\"type\":\"LinearScale\"},{\"attributes\":{\"source\":{\"id\":\"5994\"}},\"id\":\"5999\",\"type\":\"CDSView\"},{\"attributes\":{},\"id\":\"6021\",\"type\":\"UnionRenderers\"},{\"attributes\":{\"data_source\":{\"id\":\"5994\"},\"glyph\":{\"id\":\"5996\"},\"hover_glyph\":null,\"muted_glyph\":null,\"nonselection_glyph\":{\"id\":\"5997\"},\"selection_glyph\":null,\"view\":{\"id\":\"5999\"}},\"id\":\"5998\",\"type\":\"GlyphRenderer\"},{\"attributes\":{\"source\":{\"id\":\"5994\"}},\"id\":\"6013\",\"type\":\"CDSView\"},{\"attributes\":{},\"id\":\"6022\",\"type\":\"Selection\"},{\"attributes\":{\"bottom_units\":\"screen\",\"fill_alpha\":0.5,\"fill_color\":\"lightgrey\",\"left_units\":\"screen\",\"level\":\"overlay\",\"line_alpha\":1.0,\"line_color\":\"black\",\"line_dash\":[4,4],\"line_width\":2,\"render_mode\":\"css\",\"right_units\":\"screen\",\"top_units\":\"screen\"},\"id\":\"5986\",\"type\":\"BoxAnnotation\"},{\"attributes\":{\"text\":\"1.92 M Salt, 0.20 M Polymer, N = 1000, f = 1.00, sig = 4.32 A\",\"text_font_size\":{\"value\":\"12pt\"}},\"id\":\"6000\",\"type\":\"Title\"},{\"attributes\":{},\"id\":\"5983\",\"type\":\"SaveTool\"}],\"root_ids\":[\"5963\"]},\"title\":\"Bokeh Application\",\"version\":\"2.0.1\"}};\n",
       "  var render_items = [{\"docid\":\"712f2041-1b05-4263-ae74-c83b34cdcd54\",\"root_ids\":[\"5963\"],\"roots\":{\"5963\":\"ad9f3a9b-9948-4a31-bc43-382e22c1e451\"}}];\n",
       "  root.Bokeh.embed.embed_items_notebook(docs_json, render_items);\n",
       "\n",
       "  }\n",
       "  if (root.Bokeh !== undefined) {\n",
       "    embed_document(root);\n",
       "  } else {\n",
       "    var attempts = 0;\n",
       "    var timer = setInterval(function(root) {\n",
       "      if (root.Bokeh !== undefined) {\n",
       "        clearInterval(timer);\n",
       "        embed_document(root);\n",
       "      } else {\n",
       "        attempts++;\n",
       "        if (attempts > 100) {\n",
       "          clearInterval(timer);\n",
       "          console.log(\"Bokeh: ERROR: Unable to run BokehJS code because BokehJS library is missing\");\n",
       "        }\n",
       "      }\n",
       "    }, 10, root)\n",
       "  }\n",
       "})(window);"
      ],
      "application/vnd.bokehjs_exec.v0+json": ""
     },
     "metadata": {
      "application/vnd.bokehjs_exec.v0+json": {
       "id": "5963"
      }
     },
     "output_type": "display_data"
    },
    {
     "data": {
      "text/html": [
       "\n",
       "\n",
       "\n",
       "\n",
       "\n",
       "\n",
       "  <div class=\"bk-root\" id=\"8e6d0524-0fa6-4015-ad16-6033c13fb804\" data-root-id=\"6292\"></div>\n"
      ]
     },
     "metadata": {},
     "output_type": "display_data"
    },
    {
     "data": {
      "application/javascript": [
       "(function(root) {\n",
       "  function embed_document(root) {\n",
       "    \n",
       "  var docs_json = {\"37d198a3-6f66-40f5-ba6c-160a8c964ebe\":{\"roots\":{\"references\":[{\"attributes\":{\"below\":[{\"id\":\"6301\"}],\"center\":[{\"id\":\"6304\"},{\"id\":\"6308\"},{\"id\":\"6336\"}],\"left\":[{\"id\":\"6305\"}],\"plot_height\":500,\"plot_width\":500,\"renderers\":[{\"id\":\"6327\"},{\"id\":\"6341\"}],\"title\":{\"id\":\"6329\"},\"toolbar\":{\"id\":\"6316\"},\"x_range\":{\"id\":\"6357\"},\"x_scale\":{\"id\":\"6297\"},\"y_range\":{\"id\":\"6358\"},\"y_scale\":{\"id\":\"6299\"}},\"id\":\"6292\",\"subtype\":\"Figure\",\"type\":\"Plot\"},{\"attributes\":{\"text\":\"1.92 M Salt, 0.30 M Polymer, N = 1000, f = 1.00, sig = 4.32 A\",\"text_font_size\":{\"value\":\"12pt\"}},\"id\":\"6329\",\"type\":\"Title\"},{\"attributes\":{\"callback\":null,\"tooltips\":[[\"Temperature [C]\",\"@T\"],[\"polyanion density (I)\",\"@rhoPCI\"],[\"polyanion density (II)\",\"@rhoPCII\"]]},\"id\":\"6355\",\"type\":\"HoverTool\"},{\"attributes\":{\"data\":{\"BJ\":{\"__ndarray__\":\"yXa+nxov/T8zMzMzMzP9P57vp8ZLN/0/CKwcWmQ7/T9zaJHtfD/9P90kBoGVQ/0/SOF6FK5H/T+yne+nxkv9Px1aZDvfT/0/hxbZzvdT/T/y0k1iEFj9P1yPwvUoXP0/x0s3iUFg/T8xCKwcWmT9P5zEILByaP0/BoGVQ4ts/T9xPQrXo3D9P9v5fmq8dP0/Rrbz/dR4/T+wcmiR7Xz9Pxsv3SQGgf0/hetRuB6F/T/wp8ZLN4n9P1pkO99Pjf0/xSCwcmiR/T8v3SQGgZX9P5qZmZmZmf0/BFYOLbKd/T9vEoPAyqH9P9nO91Pjpf0/RIts5/up/T+uR+F6FK79PxkEVg4tsv0/g8DKoUW2/T/ufD81Xrr9P1g5tMh2vv0/w/UoXI/C/T8tsp3vp8b9P5huEoPAyv0/AiuHFtnO/T9t5/up8dL9P9ejcD0K1/0/QmDl0CLb/T+sHFpkO9/9PxfZzvdT4/0/gZVDi2zn/T/sUbgehev9P1YOLbKd7/0/wcqhRbbz/T8rhxbZzvf9P5ZDi2zn+/0/AAAAAAAA/j9qvHSTGAT+P9V46SYxCP4/PzVeukkM/j+q8dJNYhD+PxSuR+F6FP4/f2q8dJMY/j/pJjEIrBz+P1TjpZvEIP4/vp8aL90k/j8pXI/C9Sj+P5MYBFYOLf4//tR46SYx/j9oke18PzX+P9NNYhBYOf4/PQrXo3A9/j+oxks3iUH+PxKDwMqhRf4/fT81XrpJ/j/n+6nx0k3+P1K4HoXrUf4/vHSTGARW/j8nMQisHFr+P5HtfD81Xv4//Knx0k1i/j9mZmZmZmb+P9Ei2/l+av4/O99PjZdu/j+mm8QgsHL+PxBYObTIdv4/exSuR+F6/j/l0CLb+X7+P1CNl24Sg/4/ukkMAiuH/j8lBoGVQ4v+P4/C9Shcj/4/+n5qvHST/j9kO99PjZf+P8/3U+Olm/4/ObTIdr6f/j+kcD0K16P+Pw4tsp3vp/4/eekmMQis/j/jpZvEILD+P05iEFg5tP4/uB6F61G4/j8j2/l+arz+P42XbhKDwP4/+FPjpZvE/j9iEFg5tMj+P83MzMzMzP4/N4lBYOXQ/j+iRbbz/dT+PwwCK4cW2f4/d76fGi/d/j/hehSuR+H+P0w3iUFg5f4/tvP91Hjp/j8hsHJoke3+P4ts5/up8f4/9ihcj8L1/j9g5dAi2/n+P8uhRbbz/f4/NV66SQwC/z+gGi/dJAb/PwrXo3A9Cv8/dZMYBFYO/z/fT42XbhL/P0oMAiuHFv8/tMh2vp8a/z8fhetRuB7/P4lBYOXQIv8/9P3UeOkm/z9eukkMAiv/P8l2vp8aL/8/MzMzMzMz/z+e76fGSzf/PwisHFpkO/8/c2iR7Xw//z/dJAaBlUP/P0jhehSuR/8/sp3vp8ZL/z8dWmQ730//P4cW2c73U/8/8tJNYhBY/z9cj8L1KFz/P8dLN4lBYP8/MQisHFpk/z+cxCCwcmj/PwaBlUOLbP8/cT0K16Nw/z/b+X5qvHT/P0a28/3UeP8/\",\"dtype\":\"float64\",\"shape\":[144]},\"T\":{\"__ndarray__\":\"YFOfgmoOP0Ag0BWSFVQ/QOAcO9JZmT9AwE6juDjeP0A40vnYWRFAQFB9FxFmM0BAuIB/skFVQED4Kf1m7XZAQLjRc9RpmEBAoAv/nLe5QEDggxFf19pAQFCakrXJ+0BAeMv6N48cQUAY9256KD1BQMiQ2g2WXUFA0MkIgNh9QUBYv7xb8J1BQPi5yCjevUFA2IgkbKLdQUAoAwOoPf1BQKi75luwHEJAcOy1BPs7QkD4ps0cHltCQKBPFBwaekJAMGwLeO+YQkAAz+CjnrdCQFgifxAo1kJAyN+dLIz0QkBQtdBkyxJDQEhhliPmMENAmApn0dxOQ0CYGcLUr2xDQHCYO5JfikNAcB6JbOynQ0DgTI7EVsVDQHDgaPme4kNAaFx8aMX/Q0CoUn1tyhxEQPhOfGKuOURAWGXwn3FWREB4a8F8FHNEQNDcUU6Xj0RA+G6IaPqrREDIWNkdPshEQMhOT79i5ERAADiUnGgARUCgnvkDUBxFQGDdgEIZOEVASA7jo8RTRUBguphyUm9FQMhQ4ffCikVAcGHKexamRUBopDZFTcFFQMDJ5Jln3EVA6BZ2vmX3RUAY1HT2RxJGQOiHWoQOLUZAsAeWqblHRkC4WZGmSWJGQFhtt7q+fEZAMKp5JBmXRkBwV1UhWbFGQEjc2O1+y0ZAeNuoxYrlRkBIK4XjfP9GQDCqTYFVGUdAUPIG2BQzR0DY7N4fu0xHQNBEMZBIZkdAKL2LX71/R0BgaLLDGZlHQJDDo/FdskdAwLacHYrLR0CAehx7nuRHQOBi6Dyb/UdASJIPlYAWSEDgk+60Ti9IQFDeMs0FSEhACEDeDaZgSECoNUqmL3lIQHAqK8WikUhAcKSTmP+pSEAwXfdNRsJIQLhFLhJ32khAQHh3EZLySEAgGHx3lwpJQBAfUm+HIklAgBl/I2I6SUCo0vq9J1JJQIjvMWjYaUlAYHoIS3SBSUCgX9yO+5hJQJDah1tusElAoNRj2MzHSUD4NUosF99JQAApmH1N9klAKFAw8m8NSkCg7nyvfiRKQDgFctp5O0pAiGKPl2FSSkDopuIKNmlKQBA+CVj3f0pAGEwyoqWWSkBwkCAMQa1KQNA9LLjJw0pAQMhEyD/aSkBoqPJdo/BKQMgVWZr0BktAwLY3njMdS0DwR+yJYDNLQBA6dH17SUtAEEdumIRfS0Do/hv6e3VLQNBLY8Fhi0tAEO7PDDahS0Dw8JT6+LZLQIgWjqiqzEtAuDxBNEviS0Agu9+62vdLQCC5R1lZDUxAuH0FLMciTECgt1RPJDhMQLC/Id9wTUxASNQK96xiTEBwTmGy2HdMQPDQKiz0jExAYHEif/+hTEAg27nF+rZMQNhsGhrmy0xAmFAmlsHgTEDIjXlTjfVMQGgWa2tJCk1AIM8N9/UeTUB4kTEPkzNNQIgqZMwgSE1A+FLyRp9cTUAIpOiWDnFNQOCGFNRuhU1AcB8FFsCZTUDwMwx0Aq5NQEgOPwU2wk1AEFt34FrWTUBIA1QccepNQFACOs94/k1A\",\"dtype\":\"float64\",\"shape\":[144]},\"index\":[0,1,2,3,4,5,6,7,8,9,10,11,12,13,14,15,16,17,18,19,20,21,22,23,24,25,26,27,28,29,30,31,32,33,34,35,36,37,38,39,40,41,42,43,44,45,46,47,48,49,50,51,52,53,54,55,56,57,58,59,60,61,62,63,64,65,66,67,68,69,70,71,72,73,74,75,76,77,78,79,80,81,82,83,84,85,86,87,88,89,90,91,92,93,94,95,96,97,98,99,100,101,102,103,104,105,106,107,108,109,110,111,112,113,114,115,116,117,118,119,120,121,122,123,124,125,126,127,128,129,130,131,132,133,134,135,136,137,138,139,140,141,142,143],\"rhoPCI\":{\"__ndarray__\":\"v+I/DZqMpT8e5cJIJw6lP+pAcvO2k6Q/0v7M7xIdpD/02qmMCaqjP1AW9EJdQ6M/V6AITsLWoj+TG3++u3WiPym8/ds8F6I/YnnXxCCzoT8MtN+KlVmhP5p43gFFAqE/yiFFSBmtoD/cMyXJ/VmgP7l+VxzfCKA/El4f7VVznz9zwJAWoNieP+c6N/17QZ4/IB3G4sq6nT/N57G4JSqdPzza/Vi8nJw//GDqJ3QSnD80JF3FIpebP/Qg+4OREps/GAWTDFCcmj8VMNUiIR2aPzJ0X7Glq5k/iKjkwYsxmT+Hn52wksSYP9QI/s5GT5g/4CZo8ZHmlz/rSYrM0X+XP3Tr1M/5Gpc/59ffF1qulj/ziZ+IWk2WP0KJoSYf7pU/7VC8Ip2QlT/XdOnM0yuVP8Fwb4/N0ZQ/3U5ZnWF5lD+pqnSchiKUP5ots38zzZM/xfjPhl95kz/QPqY4AieTPx1UbGET1pI//c4pD4uGkj8Xaz2PYTiSPzuTeGqP65E/qjRqZA2gkT+Nsh931FWRPzq5b9LdDJE/a15w2CLFkD+C9MEcnX6QP2WUqmBGOZA/ns+4D6P3jz9ucsLBVXGPP+PatCBE7Y4/EJFx/GJrjj98hGhzp+uNPw9Xpmxxeo0/A+/Vzq7+jD/i/k3J84SMP4zwq4s2DYw/gNiAHxejiz9qOLPECS+LP87IEhjfvIo/MAJZDrFXij8lq91+BOmJP/2e3mwhfIk/Sj4Yg6IbiT80LAhAD7KIPwUbgAUuSog/hx/KhiDuhz9agPHwY4mHP3nJCIkgMIc/BXhy2W3Ohj9a7Hnb3HeGP7rWi3saGYY/Zyv3PCXFhT/Pmc6qOmmFP0U0aDfFDoU/HumENaG+hD/QzIgi4GaEP7uSQ8YiGYQ/q/nGD4LMgz+QOVDIlXiDP+CSlis/LoM/l5BGUNLcgj939Flls5SCP/6VvQSyRYI/rTY/Grn/gT8f+6EHELOBP+MLTBosb4E/pekjKD8sgT/GrteT6eKAPwPO3rD5oYA/KtOiu/VhgD848NyyzRuAP4CwGVRgu38/tRDc7zYzfz9AlQ9lq7p+P06tXz/VQ34/Wj7dkZDBfT9B49ibQE59P84ZZOyS3Hw/Za9+kIFsfD+N6fuVovF7PwM5GwHkhHs/pAKe6a8Zez+TJJlFIqR6Pxpi6lMcPHo/m3IW6Y/VeT/9ysu+d3B5P96+okSYAXk/J/sgloCfeD/7EeFJzT54PwIZFG1533c/8wq8IICBdz/jecefahp3P7LHigc9v3Y/CTG1W1tldj/akbcJwQx2P6YEPpRptXU/XZWO9pVVdT8d/Udu2QB1P9M6IzhSrXQ/Mn7oF/xadD+Bgsbj0gl0P4zbfYHSuXM/z+TQ3Qdicz8mn2bSbBRzPyBEWj3ux3I/O3BJQYh8cj8BP/kONzJyPwn+Kuj26HE/cW2IGMSgcT/mJU37mllxP/cY8vF+C3E/4O5GDnvGcD/IpbnddYJwPwd5ufJrP3A/7iw807P6bz/8PE/ReHhvPx1he0gg+G4/\",\"dtype\":\"float64\",\"shape\":[144]},\"rhoPCII\":{\"__ndarray__\":\"1fzS+WRwwz+5eyoRdbXDP9OxefTT+cM/BGq1t4o9xD8yTPitoYDEP2njoXnavcQ/6MJsRNP/xD9zZXa/DzzFP5Gcabrad8U/P2I/tVe4xT9TWLE0RPPFP8FjiRnMLcY/ISWADfNnxj/N9AODvKHGP4k6pbkr28Y/X9W9wEMUxz8tY6J9B03HP6C4hKx5hcc/EGtVBcG4xz8FF+MAnvDHPzMOfZ4wKMg/DEZKGHtfyD+t+pUZu5HIP6JzZhiByMg/nUZN4Er6yD9Mlht2kzDJP6w8WzLtYck/LftR1r6XyT8RL6IursjJP+Qpl8wO/sk/ZBmW8pguyj/R0axc9F7KP6dUpxwij8o/jAbk4LTDyj+CLS5qhvPKP95+jkotI8s/E8sGaKpSyz9vg9smgYbLP31Fqc+ptcs/IbYxRKvkyz8BR8VYhhPMP4tbKsc7Qsw/566TTcxwzD8Z9e6cOJ/MP+I5lmqBzcw/44GeXqf7zD9ZIkQYqynNP+YfnD+NV80/rcidZk6FzT8yGhko77LNP5tiBRZw4M0/oUCBudENzj+wqhegFDvOPyCQDko5aM4/o7mKb/CQzj8haN6m3L3OP5Cwixms6s4/xcu6MV8Xzz8UqbFv9kPPP9UFXksubM8/uvkSZJGYzz99Apzc2cTPP/BYIR8I8c8/iwnbsHAM0D+YEfFGbyLQP+o2kE9hONA//VaDfSxM0D8Lk5AGB2LQP0FfD4nVd9A/ZaqGpYCL0D+9kPCdOKHQP7XK2w3lttA/y5ooYHHK0D8y6zYuCODQP/nBOe+A89A/iseJpAIJ0T98aFJSaBzRP6UZb3zVMdE/i/CgkChF0T+ePNCvgVrRPzI20o3Qb9E/Awj0MQiD0T/MKwXBQ5jRP0RM3Ohpq9E/QC8K1Ye+0T9wKrKxp9PRP8ItL7q05tE/3msyZcL70T/MRITtvg7SP83S1M66I9I/DrPeM6c20j/FyaS1kUvSP2CL3U9uXtI/lv0afENx0j/niLP/FIbSP6L3m+PamNI/7bY/lZmr0j89TezjUsDSP9Z03sYC09I/CgMhJazn0j+Ovf+ITfrSP4DORhXoDNM/KRIWfXoh0z+MRt74BjTTP+3B7M+MRtM/9A4pFgxZ0z+7Ru4igW3TP+5VyuHyf9M/oc9FPl6S0z8bZnjgvabTP0BXGRkcudM/6B+VG3TL0z8J82b3xd3TPyLc9S0K8tM/VL7GYU8E1D8l7PKYjhbUP7Nsv+DHKNQ/FUdxRvs61D/q/gK/Hk/UP6UKdQxGYdQ/hIWbn2dz1D+idruFg4XUP0C548mZl9Q/19rO9Z2r1D/7aTOkqL3UP+xfb9itz9Q/OUAlma3h1D/VPdD1p/PUPyYISfecBdU/EuA1an0Z1T/lcBhqZyvVPzBg9S9MPdU/DrURyStP1T8L8w88BmHVPxxNa5jbctU/zEbG5KuE1T+Ej/kpd5bVP3iaJNYqqtU/4jF5yOu71T8UqtLUp83VP1LePwZf39U/SyYtYRHx1T9EXanwvgLWP3lew79nFNY/\",\"dtype\":\"float64\",\"shape\":[144]}},\"selected\":{\"id\":\"6351\"},\"selection_policy\":{\"id\":\"6350\"}},\"id\":\"6323\",\"type\":\"ColumnDataSource\"},{\"attributes\":{\"label\":{\"value\":\"coacervate\"},\"renderers\":[{\"id\":\"6341\"}]},\"id\":\"6352\",\"type\":\"LegendItem\"},{\"attributes\":{\"active_drag\":\"auto\",\"active_inspect\":\"auto\",\"active_multi\":null,\"active_scroll\":\"auto\",\"active_tap\":\"auto\",\"tools\":[{\"id\":\"6309\"},{\"id\":\"6310\"},{\"id\":\"6311\"},{\"id\":\"6312\"},{\"id\":\"6313\"},{\"id\":\"6314\"},{\"id\":\"6355\"}]},\"id\":\"6316\",\"type\":\"Toolbar\"},{\"attributes\":{\"axis_label\":\"polyanion density [mol/L]\",\"axis_label_text_font_size\":\"18pt\",\"formatter\":{\"id\":\"6333\"},\"major_label_text_font_size\":\"14pt\",\"ticker\":{\"id\":\"6302\"}},\"id\":\"6301\",\"type\":\"LinearAxis\"},{\"attributes\":{\"end\":1.3,\"start\":-0.05},\"id\":\"6357\",\"type\":\"Range1d\"},{\"attributes\":{\"bottom_units\":\"screen\",\"fill_alpha\":0.5,\"fill_color\":\"lightgrey\",\"left_units\":\"screen\",\"level\":\"overlay\",\"line_alpha\":1.0,\"line_color\":\"black\",\"line_dash\":[4,4],\"line_width\":2,\"render_mode\":\"css\",\"right_units\":\"screen\",\"top_units\":\"screen\"},\"id\":\"6315\",\"type\":\"BoxAnnotation\"},{\"attributes\":{},\"id\":\"6331\",\"type\":\"BasicTickFormatter\"},{\"attributes\":{},\"id\":\"6297\",\"type\":\"LinearScale\"},{\"attributes\":{\"end\":60},\"id\":\"6358\",\"type\":\"Range1d\"},{\"attributes\":{},\"id\":\"6302\",\"type\":\"BasicTicker\"},{\"attributes\":{\"data_source\":{\"id\":\"6323\"},\"glyph\":{\"id\":\"6339\"},\"hover_glyph\":null,\"muted_glyph\":null,\"nonselection_glyph\":{\"id\":\"6340\"},\"selection_glyph\":null,\"view\":{\"id\":\"6342\"}},\"id\":\"6341\",\"type\":\"GlyphRenderer\"},{\"attributes\":{\"axis_label\":\"Temperature [C]\",\"axis_label_text_font_size\":\"18pt\",\"formatter\":{\"id\":\"6331\"},\"major_label_text_font_size\":\"14pt\",\"ticker\":{\"id\":\"6306\"}},\"id\":\"6305\",\"type\":\"LinearAxis\"},{\"attributes\":{\"data_source\":{\"id\":\"6323\"},\"glyph\":{\"id\":\"6325\"},\"hover_glyph\":null,\"muted_glyph\":null,\"nonselection_glyph\":{\"id\":\"6326\"},\"selection_glyph\":null,\"view\":{\"id\":\"6328\"}},\"id\":\"6327\",\"type\":\"GlyphRenderer\"},{\"attributes\":{},\"id\":\"6351\",\"type\":\"Selection\"},{\"attributes\":{},\"id\":\"6333\",\"type\":\"BasicTickFormatter\"},{\"attributes\":{},\"id\":\"6350\",\"type\":\"UnionRenderers\"},{\"attributes\":{},\"id\":\"6306\",\"type\":\"BasicTicker\"},{\"attributes\":{\"line_color\":\"red\",\"line_width\":6,\"x\":{\"field\":\"rhoPCII\"},\"y\":{\"field\":\"T\"}},\"id\":\"6339\",\"type\":\"Line\"},{\"attributes\":{},\"id\":\"6312\",\"type\":\"SaveTool\"},{\"attributes\":{\"axis\":{\"id\":\"6305\"},\"dimension\":1,\"ticker\":null},\"id\":\"6308\",\"type\":\"Grid\"},{\"attributes\":{},\"id\":\"6313\",\"type\":\"ResetTool\"},{\"attributes\":{},\"id\":\"6310\",\"type\":\"WheelZoomTool\"},{\"attributes\":{},\"id\":\"6314\",\"type\":\"HelpTool\"},{\"attributes\":{\"overlay\":{\"id\":\"6315\"}},\"id\":\"6311\",\"type\":\"BoxZoomTool\"},{\"attributes\":{\"line_color\":\"blue\",\"line_width\":6,\"x\":{\"field\":\"rhoPCI\"},\"y\":{\"field\":\"T\"}},\"id\":\"6325\",\"type\":\"Line\"},{\"attributes\":{\"line_alpha\":0.1,\"line_color\":\"red\",\"line_width\":6,\"x\":{\"field\":\"rhoPCII\"},\"y\":{\"field\":\"T\"}},\"id\":\"6340\",\"type\":\"Line\"},{\"attributes\":{},\"id\":\"6299\",\"type\":\"LinearScale\"},{\"attributes\":{\"source\":{\"id\":\"6323\"}},\"id\":\"6342\",\"type\":\"CDSView\"},{\"attributes\":{\"source\":{\"id\":\"6323\"}},\"id\":\"6328\",\"type\":\"CDSView\"},{\"attributes\":{\"click_policy\":\"hide\",\"items\":[{\"id\":\"6337\"},{\"id\":\"6352\"}],\"label_text_font_size\":\"14pt\",\"location\":\"bottom_right\"},\"id\":\"6336\",\"type\":\"Legend\"},{\"attributes\":{\"line_alpha\":0.1,\"line_color\":\"blue\",\"line_width\":6,\"x\":{\"field\":\"rhoPCI\"},\"y\":{\"field\":\"T\"}},\"id\":\"6326\",\"type\":\"Line\"},{\"attributes\":{},\"id\":\"6309\",\"type\":\"PanTool\"},{\"attributes\":{\"label\":{\"value\":\"supernatant\"},\"renderers\":[{\"id\":\"6327\"}]},\"id\":\"6337\",\"type\":\"LegendItem\"},{\"attributes\":{\"axis\":{\"id\":\"6301\"},\"ticker\":null},\"id\":\"6304\",\"type\":\"Grid\"}],\"root_ids\":[\"6292\"]},\"title\":\"Bokeh Application\",\"version\":\"2.0.1\"}};\n",
       "  var render_items = [{\"docid\":\"37d198a3-6f66-40f5-ba6c-160a8c964ebe\",\"root_ids\":[\"6292\"],\"roots\":{\"6292\":\"8e6d0524-0fa6-4015-ad16-6033c13fb804\"}}];\n",
       "  root.Bokeh.embed.embed_items_notebook(docs_json, render_items);\n",
       "\n",
       "  }\n",
       "  if (root.Bokeh !== undefined) {\n",
       "    embed_document(root);\n",
       "  } else {\n",
       "    var attempts = 0;\n",
       "    var timer = setInterval(function(root) {\n",
       "      if (root.Bokeh !== undefined) {\n",
       "        clearInterval(timer);\n",
       "        embed_document(root);\n",
       "      } else {\n",
       "        attempts++;\n",
       "        if (attempts > 100) {\n",
       "          clearInterval(timer);\n",
       "          console.log(\"Bokeh: ERROR: Unable to run BokehJS code because BokehJS library is missing\");\n",
       "        }\n",
       "      }\n",
       "    }, 10, root)\n",
       "  }\n",
       "})(window);"
      ],
      "application/vnd.bokehjs_exec.v0+json": ""
     },
     "metadata": {
      "application/vnd.bokehjs_exec.v0+json": {
       "id": "6292"
      }
     },
     "output_type": "display_data"
    }
   ],
   "source": [
    "sigma = 4.32\n",
    "plot.compare_to_exp(data, pe.get_beads_2_M(sigma), N=N, sigma=sigma, f=f, rho_s_list=[1.92], rho_p_list=[0.1, 0.2, 0.3])"
   ]
  },
  {
   "cell_type": "code",
   "execution_count": 22,
   "metadata": {},
   "outputs": [
    {
     "data": {
      "text/html": [
       "\n",
       "\n",
       "\n",
       "\n",
       "\n",
       "\n",
       "  <div class=\"bk-root\" id=\"b3fb02cb-a376-41fd-a9a0-6472deac54ce\" data-root-id=\"11388\"></div>\n"
      ]
     },
     "metadata": {},
     "output_type": "display_data"
    },
    {
     "data": {
      "application/javascript": [
       "(function(root) {\n",
       "  function embed_document(root) {\n",
       "    \n",
       "  var docs_json = {\"d743122a-858d-47fc-8de7-b0dd04bb1c0a\":{\"roots\":{\"references\":[{\"attributes\":{\"below\":[{\"id\":\"11397\"}],\"center\":[{\"id\":\"11400\"},{\"id\":\"11404\"},{\"id\":\"11432\"}],\"left\":[{\"id\":\"11401\"}],\"plot_height\":500,\"plot_width\":500,\"renderers\":[{\"id\":\"11423\"},{\"id\":\"11437\"}],\"title\":{\"id\":\"11425\"},\"toolbar\":{\"id\":\"11412\"},\"x_range\":{\"id\":\"11453\"},\"x_scale\":{\"id\":\"11393\"},\"y_range\":{\"id\":\"11454\"},\"y_scale\":{\"id\":\"11395\"}},\"id\":\"11388\",\"subtype\":\"Figure\",\"type\":\"Plot\"},{\"attributes\":{},\"id\":\"11427\",\"type\":\"BasicTickFormatter\"},{\"attributes\":{\"text\":\"1.85 M Salt, 0.10 M Polymer, N = 1000, f = 1.00, sig = 4.37 A\",\"text_font_size\":{\"value\":\"12pt\"}},\"id\":\"11425\",\"type\":\"Title\"},{\"attributes\":{\"axis_label\":\"polyanion density [mol/L]\",\"axis_label_text_font_size\":\"18pt\",\"formatter\":{\"id\":\"11429\"},\"major_label_text_font_size\":\"14pt\",\"ticker\":{\"id\":\"11398\"}},\"id\":\"11397\",\"type\":\"LinearAxis\"},{\"attributes\":{},\"id\":\"11429\",\"type\":\"BasicTickFormatter\"},{\"attributes\":{\"data_source\":{\"id\":\"11419\"},\"glyph\":{\"id\":\"11421\"},\"hover_glyph\":null,\"muted_glyph\":null,\"nonselection_glyph\":{\"id\":\"11422\"},\"selection_glyph\":null,\"view\":{\"id\":\"11424\"}},\"id\":\"11423\",\"type\":\"GlyphRenderer\"},{\"attributes\":{\"click_policy\":\"hide\",\"items\":[{\"id\":\"11433\"},{\"id\":\"11448\"}],\"label_text_font_size\":\"14pt\",\"location\":\"bottom_right\"},\"id\":\"11432\",\"type\":\"Legend\"},{\"attributes\":{\"callback\":null,\"tooltips\":[[\"Temperature [C]\",\"@T\"],[\"polyanion density (I)\",\"@rhoPCI\"],[\"polyanion density (II)\",\"@rhoPCII\"]]},\"id\":\"11451\",\"type\":\"HoverTool\"},{\"attributes\":{\"label\":{\"value\":\"supernatant\"},\"renderers\":[{\"id\":\"11423\"}]},\"id\":\"11433\",\"type\":\"LegendItem\"},{\"attributes\":{},\"id\":\"11405\",\"type\":\"PanTool\"},{\"attributes\":{},\"id\":\"11395\",\"type\":\"LinearScale\"},{\"attributes\":{\"axis\":{\"id\":\"11397\"},\"ticker\":null},\"id\":\"11400\",\"type\":\"Grid\"},{\"attributes\":{\"label\":{\"value\":\"coacervate\"},\"renderers\":[{\"id\":\"11437\"}]},\"id\":\"11448\",\"type\":\"LegendItem\"},{\"attributes\":{\"axis\":{\"id\":\"11401\"},\"dimension\":1,\"ticker\":null},\"id\":\"11404\",\"type\":\"Grid\"},{\"attributes\":{},\"id\":\"11406\",\"type\":\"WheelZoomTool\"},{\"attributes\":{},\"id\":\"11446\",\"type\":\"UnionRenderers\"},{\"attributes\":{\"overlay\":{\"id\":\"11411\"}},\"id\":\"11407\",\"type\":\"BoxZoomTool\"},{\"attributes\":{\"line_color\":\"red\",\"line_width\":6,\"x\":{\"field\":\"rhoPCII\"},\"y\":{\"field\":\"T\"}},\"id\":\"11435\",\"type\":\"Line\"},{\"attributes\":{\"line_alpha\":0.1,\"line_color\":\"red\",\"line_width\":6,\"x\":{\"field\":\"rhoPCII\"},\"y\":{\"field\":\"T\"}},\"id\":\"11436\",\"type\":\"Line\"},{\"attributes\":{},\"id\":\"11408\",\"type\":\"SaveTool\"},{\"attributes\":{\"end\":1.3,\"start\":-0.05},\"id\":\"11453\",\"type\":\"Range1d\"},{\"attributes\":{\"data_source\":{\"id\":\"11419\"},\"glyph\":{\"id\":\"11435\"},\"hover_glyph\":null,\"muted_glyph\":null,\"nonselection_glyph\":{\"id\":\"11436\"},\"selection_glyph\":null,\"view\":{\"id\":\"11438\"}},\"id\":\"11437\",\"type\":\"GlyphRenderer\"},{\"attributes\":{},\"id\":\"11409\",\"type\":\"ResetTool\"},{\"attributes\":{},\"id\":\"11410\",\"type\":\"HelpTool\"},{\"attributes\":{\"source\":{\"id\":\"11419\"}},\"id\":\"11438\",\"type\":\"CDSView\"},{\"attributes\":{\"active_drag\":\"auto\",\"active_inspect\":\"auto\",\"active_multi\":null,\"active_scroll\":\"auto\",\"active_tap\":\"auto\",\"tools\":[{\"id\":\"11405\"},{\"id\":\"11406\"},{\"id\":\"11407\"},{\"id\":\"11408\"},{\"id\":\"11409\"},{\"id\":\"11410\"},{\"id\":\"11451\"}]},\"id\":\"11412\",\"type\":\"Toolbar\"},{\"attributes\":{},\"id\":\"11447\",\"type\":\"Selection\"},{\"attributes\":{\"end\":60},\"id\":\"11454\",\"type\":\"Range1d\"},{\"attributes\":{},\"id\":\"11398\",\"type\":\"BasicTicker\"},{\"attributes\":{},\"id\":\"11393\",\"type\":\"LinearScale\"},{\"attributes\":{\"bottom_units\":\"screen\",\"fill_alpha\":0.5,\"fill_color\":\"lightgrey\",\"left_units\":\"screen\",\"level\":\"overlay\",\"line_alpha\":1.0,\"line_color\":\"black\",\"line_dash\":[4,4],\"line_width\":2,\"render_mode\":\"css\",\"right_units\":\"screen\",\"top_units\":\"screen\"},\"id\":\"11411\",\"type\":\"BoxAnnotation\"},{\"attributes\":{\"data\":{\"BJ\":{\"__ndarray__\":\"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\",\"dtype\":\"float64\",\"shape\":[201]},\"T\":{\"__ndarray__\":\"4Du8q/2KJ0AgBhKZXWkoQODozOgHRSlAIF16OhMeKkCAQSX1lPQqQCDthV6hyCtA4BwHsEuaLEAg+t0ppmktQMA/ayTCNi5AgNUUILABL0CAJ8HTf8ovQMA/DB2gSDBAoCrWzv+qMECwWhDSZQwxQFBNOKzYbDFAwLAxml7MMUCwY6OU/SoyQPCC/1O7iDJAIEI+VJ3lMkAwglLYqEEzQNBhXu3inDNAoFmtbVD3M0BQ5XgD9lA0QDBDfCvYqTRAUFJbN/sBNUBASeBPY1k1QPCIE3cUsDVAgJwwihIGNkDAF3tDYVs2QIDV9TsEsDZAcNb+7P4DN0BQzdGxVFc3QBA988gIqjdA8NuFVR78N0Dw0YtgmE04QPA6Fdp5njhAUEhdmsXuOECgKtdifj45QPDsK9+mjTlAgDwqpkHcOUCAFKk6USo6QPAnXgzYdzpAYNmoeNjEOkCgfFLLVBE7QDCQRD9PXTtAUJI1/8moO0AACE0mx/M7QPA7v8BIPjxAYD9hzFCIPEDQmzU54dE8QKAr8un7Gj1AEHt/tKJjPUCQGHJi16s9QHApfrGb8z1AgJjlU/E6PkAALeHw2YE+QLDRBCVXyD5AYFOfgmoOP0Ag0BWSFVQ/QOAcO9JZmT9AwE6juDjeP0A40vnYWRFAQFB9FxFmM0BAuIB/skFVQED4Kf1m7XZAQLjRc9RpmEBAoAv/nLe5QEDggxFf19pAQFCakrXJ+0BAeMv6N48cQUAY9256KD1BQMiQ2g2WXUFA0MkIgNh9QUBYv7xb8J1BQPi5yCjevUFA2IgkbKLdQUAoAwOoPf1BQKi75luwHEJAcOy1BPs7QkD4ps0cHltCQKBPFBwaekJAMGwLeO+YQkAAz+CjnrdCQFgifxAo1kJAyN+dLIz0QkBQtdBkyxJDQEhhliPmMENAmApn0dxOQ0CYGcLUr2xDQHCYO5JfikNAcB6JbOynQ0DgTI7EVsVDQHDgaPme4kNAaFx8aMX/Q0CoUn1tyhxEQPhOfGKuOURAWGXwn3FWREB4a8F8FHNEQNDcUU6Xj0RA+G6IaPqrREDIWNkdPshEQMhOT79i5ERAADiUnGgARUCgnvkDUBxFQGDdgEIZOEVASA7jo8RTRUBguphyUm9FQMhQ4ffCikVAcGHKexamRUBopDZFTcFFQMDJ5Jln3EVA6BZ2vmX3RUAY1HT2RxJGQOiHWoQOLUZAsAeWqblHRkC4WZGmSWJGQFhtt7q+fEZAMKp5JBmXRkBwV1UhWbFGQEjc2O1+y0ZAeNuoxYrlRkBIK4XjfP9GQDCqTYFVGUdAUPIG2BQzR0DY7N4fu0xHQNBEMZBIZkdAKL2LX71/R0BgaLLDGZlHQJDDo/FdskdAwLacHYrLR0CAehx7nuRHQOBi6Dyb/UdASJIPlYAWSEDgk+60Ti9IQFDeMs0FSEhACEDeDaZgSECoNUqmL3lIQHAqK8WikUhAcKSTmP+pSEAwXfdNRsJIQLhFLhJ32khAQHh3EZLySEAgGHx3lwpJQBAfUm+HIklAgBl/I2I6SUCo0vq9J1JJQIjvMWjYaUlAYHoIS3SBSUCgX9yO+5hJQJDah1tusElAoNRj2MzHSUD4NUosF99JQAApmH1N9klAKFAw8m8NSkCg7nyvfiRKQDgFctp5O0pAiGKPl2FSSkDopuIKNmlKQBA+CVj3f0pAGEwyoqWWSkBwkCAMQa1KQNA9LLjJw0pAQMhEyD/aSkBoqPJdo/BKQMgVWZr0BktAwLY3njMdS0DwR+yJYDNLQBA6dH17SUtAEEdumIRfS0Do/hv6e3VLQNBLY8Fhi0tAEO7PDDahS0Dw8JT6+LZLQIgWjqiqzEtAuDxBNEviS0Agu9+62vdLQCC5R1lZDUxAuH0FLMciTECgt1RPJDhMQLC/Id9wTUxASNQK96xiTEBwTmGy2HdMQPDQKiz0jExAYHEif/+hTEAg27nF+rZMQNhsGhrmy0xAmFAmlsHgTEDIjXlTjfVMQGgWa2tJCk1AIM8N9/UeTUB4kTEPkzNNQIgqZMwgSE1A+FLyRp9cTUAIpOiWDnFNQOCGFNRuhU1AcB8FFsCZTUDwMwx0Aq5NQEgOPwU2wk1AEFt34FrWTUBIA1QccepNQFACOs94/k1A\",\"dtype\":\"float64\",\"shape\":[201]},\"index\":[0,1,2,3,4,5,6,7,8,9,10,11,12,13,14,15,16,17,18,19,20,21,22,23,24,25,26,27,28,29,30,31,32,33,34,35,36,37,38,39,40,41,42,43,44,45,46,47,48,49,50,51,52,53,54,55,56,57,58,59,60,61,62,63,64,65,66,67,68,69,70,71,72,73,74,75,76,77,78,79,80,81,82,83,84,85,86,87,88,89,90,91,92,93,94,95,96,97,98,99,100,101,102,103,104,105,106,107,108,109,110,111,112,113,114,115,116,117,118,119,120,121,122,123,124,125,126,127,128,129,130,131,132,133,134,135,136,137,138,139,140,141,142,143,144,145,146,147,148,149,150,151,152,153,154,155,156,157,158,159,160,161,162,163,164,165,166,167,168,169,170,171,172,173,174,175,176,177,178,179,180,181,182,183,184,185,186,187,188,189,190,191,192,193,194,195,196,197,198,199,200],\"rhoPCI\":{\"__ndarray__\":\"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\",\"dtype\":\"float64\",\"shape\":[201]},\"rhoPCII\":{\"__ndarray__\":\"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\",\"dtype\":\"float64\",\"shape\":[201]}},\"selected\":{\"id\":\"11447\"},\"selection_policy\":{\"id\":\"11446\"}},\"id\":\"11419\",\"type\":\"ColumnDataSource\"},{\"attributes\":{\"axis_label\":\"Temperature [C]\",\"axis_label_text_font_size\":\"18pt\",\"formatter\":{\"id\":\"11427\"},\"major_label_text_font_size\":\"14pt\",\"ticker\":{\"id\":\"11402\"}},\"id\":\"11401\",\"type\":\"LinearAxis\"},{\"attributes\":{\"line_alpha\":0.1,\"line_color\":\"blue\",\"line_width\":6,\"x\":{\"field\":\"rhoPCI\"},\"y\":{\"field\":\"T\"}},\"id\":\"11422\",\"type\":\"Line\"},{\"attributes\":{\"line_color\":\"blue\",\"line_width\":6,\"x\":{\"field\":\"rhoPCI\"},\"y\":{\"field\":\"T\"}},\"id\":\"11421\",\"type\":\"Line\"},{\"attributes\":{\"source\":{\"id\":\"11419\"}},\"id\":\"11424\",\"type\":\"CDSView\"},{\"attributes\":{},\"id\":\"11402\",\"type\":\"BasicTicker\"}],\"root_ids\":[\"11388\"]},\"title\":\"Bokeh Application\",\"version\":\"2.0.1\"}};\n",
       "  var render_items = [{\"docid\":\"d743122a-858d-47fc-8de7-b0dd04bb1c0a\",\"root_ids\":[\"11388\"],\"roots\":{\"11388\":\"b3fb02cb-a376-41fd-a9a0-6472deac54ce\"}}];\n",
       "  root.Bokeh.embed.embed_items_notebook(docs_json, render_items);\n",
       "\n",
       "  }\n",
       "  if (root.Bokeh !== undefined) {\n",
       "    embed_document(root);\n",
       "  } else {\n",
       "    var attempts = 0;\n",
       "    var timer = setInterval(function(root) {\n",
       "      if (root.Bokeh !== undefined) {\n",
       "        clearInterval(timer);\n",
       "        embed_document(root);\n",
       "      } else {\n",
       "        attempts++;\n",
       "        if (attempts > 100) {\n",
       "          clearInterval(timer);\n",
       "          console.log(\"Bokeh: ERROR: Unable to run BokehJS code because BokehJS library is missing\");\n",
       "        }\n",
       "      }\n",
       "    }, 10, root)\n",
       "  }\n",
       "})(window);"
      ],
      "application/vnd.bokehjs_exec.v0+json": ""
     },
     "metadata": {
      "application/vnd.bokehjs_exec.v0+json": {
       "id": "11388"
      }
     },
     "output_type": "display_data"
    },
    {
     "data": {
      "text/html": [
       "\n",
       "\n",
       "\n",
       "\n",
       "\n",
       "\n",
       "  <div class=\"bk-root\" id=\"54cb1cf6-007f-4984-90ad-5cc488d7b3cc\" data-root-id=\"11843\"></div>\n"
      ]
     },
     "metadata": {},
     "output_type": "display_data"
    },
    {
     "data": {
      "application/javascript": [
       "(function(root) {\n",
       "  function embed_document(root) {\n",
       "    \n",
       "  var docs_json = {\"cde7baa9-9a8b-439e-8d74-9f65692e66fb\":{\"roots\":{\"references\":[{\"attributes\":{\"below\":[{\"id\":\"11852\"}],\"center\":[{\"id\":\"11855\"},{\"id\":\"11859\"},{\"id\":\"11887\"}],\"left\":[{\"id\":\"11856\"}],\"plot_height\":500,\"plot_width\":500,\"renderers\":[{\"id\":\"11878\"},{\"id\":\"11892\"}],\"title\":{\"id\":\"11880\"},\"toolbar\":{\"id\":\"11867\"},\"x_range\":{\"id\":\"11908\"},\"x_scale\":{\"id\":\"11848\"},\"y_range\":{\"id\":\"11909\"},\"y_scale\":{\"id\":\"11850\"}},\"id\":\"11843\",\"subtype\":\"Figure\",\"type\":\"Plot\"},{\"attributes\":{},\"id\":\"11860\",\"type\":\"PanTool\"},{\"attributes\":{},\"id\":\"11857\",\"type\":\"BasicTicker\"},{\"attributes\":{\"data\":{\"BJ\":{\"__ndarray__\":\"5dAi2/l+/D9QjZduEoP8P7pJDAIrh/w/JQaBlUOL/D+PwvUoXI/8P/p+arx0k/w/ZDvfT42X/D/P91PjpZv8Pzm0yHa+n/w/pHA9Ctej/D8OLbKd76f8P3npJjEIrPw/46WbxCCw/D9OYhBYObT8P7gehetRuPw/I9v5fmq8/D+Nl24Sg8D8P/hT46WbxPw/YhBYObTI/D/NzMzMzMz8PzeJQWDl0Pw/okW28/3U/D8MAiuHFtn8P3e+nxov3fw/4XoUrkfh/D9MN4lBYOX8P7bz/dR46fw/IbByaJHt/D+LbOf7qfH8P/YoXI/C9fw/YOXQItv5/D/LoUW28/38PzVeukkMAv0/oBov3SQG/T8K16NwPQr9P3WTGARWDv0/30+Nl24S/T9KDAIrhxb9P7TIdr6fGv0/H4XrUbge/T+JQWDl0CL9P/T91HjpJv0/XrpJDAIr/T/Jdr6fGi/9PzMzMzMzM/0/nu+nxks3/T8IrBxaZDv9P3Noke18P/0/3SQGgZVD/T9I4XoUrkf9P7Kd76fGS/0/HVpkO99P/T+HFtnO91P9P/LSTWIQWP0/XI/C9Shc/T/HSzeJQWD9PzEIrBxaZP0/nMQgsHJo/T8GgZVDi2z9P3E9CtejcP0/2/l+arx0/T9GtvP91Hj9P7ByaJHtfP0/Gy/dJAaB/T+F61G4HoX9P/Cnxks3if0/WmQ730+N/T/FILByaJH9Py/dJAaBlf0/mpmZmZmZ/T8EVg4tsp39P28Sg8DKof0/2c73U+Ol/T9Ei2zn+6n9P65H4XoUrv0/GQRWDi2y/T+DwMqhRbb9P+58PzVeuv0/WDm0yHa+/T/D9Shcj8L9Py2yne+nxv0/mG4Sg8DK/T8CK4cW2c79P23n+6nx0v0/16NwPQrX/T9CYOXQItv9P6wcWmQ73/0/F9nO91Pj/T+BlUOLbOf9P+xRuB6F6/0/Vg4tsp3v/T/ByqFFtvP9PyuHFtnO9/0/lkOLbOf7/T8AAAAAAAD+P2q8dJMYBP4/1XjpJjEI/j8/NV66SQz+P6rx0k1iEP4/FK5H4XoU/j9/arx0kxj+P+kmMQisHP4/VOOlm8Qg/j++nxov3ST+Pylcj8L1KP4/kxgEVg4t/j/+1HjpJjH+P2iR7Xw/Nf4/001iEFg5/j89CtejcD3+P6jGSzeJQf4/EoPAyqFF/j99PzVeukn+P+f7qfHSTf4/UrgehetR/j+8dJMYBFb+PycxCKwcWv4/ke18PzVe/j/8qfHSTWL+P2ZmZmZmZv4/0SLb+X5q/j8730+Nl27+P6abxCCwcv4/EFg5tMh2/j97FK5H4Xr+P+XQItv5fv4/UI2XbhKD/j+6SQwCK4f+PyUGgZVDi/4/j8L1KFyP/j/6fmq8dJP+P2Q730+Nl/4/z/dT46Wb/j85tMh2vp/+P6RwPQrXo/4/Di2yne+n/j956SYxCKz+P+Olm8QgsP4/TmIQWDm0/j+4HoXrUbj+PyPb+X5qvP4/jZduEoPA/j/4U+Olm8T+P2IQWDm0yP4/zczMzMzM/j83iUFg5dD+P6JFtvP91P4/DAIrhxbZ/j93vp8aL93+P+F6FK5H4f4/TDeJQWDl/j+28/3UeOn+PyGwcmiR7f4/i2zn+6nx/j/2KFyPwvX+P2Dl0CLb+f4/y6FFtvP9/j81XrpJDAL/P6AaL90kBv8/CtejcD0K/z91kxgEVg7/P99PjZduEv8/SgwCK4cW/z+0yHa+nxr/Px+F61G4Hv8/iUFg5dAi/z/0/dR46Sb/P166SQwCK/8/yXa+nxov/z8zMzMzMzP/P57vp8ZLN/8/CKwcWmQ7/z9zaJHtfD//P90kBoGVQ/8/SOF6FK5H/z+yne+nxkv/Px1aZDvfT/8/hxbZzvdT/z/y0k1iEFj/P1yPwvUoXP8/x0s3iUFg/z8xCKwcWmT/P5zEILByaP8/BoGVQ4ts/z9xPQrXo3D/P9v5fmq8dP8/Rrbz/dR4/z8=\",\"dtype\":\"float64\",\"shape\":[187]},\"T\":{\"__ndarray__\":\"UE04rNhsMUDAsDGaXswxQLBjo5T9KjJA8IL/U7uIMkAgQj5UneUyQDCCUtioQTNA0GFe7eKcM0CgWa1tUPczQFDleAP2UDRAMEN8K9ipNEBQUls3+wE1QEBJ4E9jWTVA8IgTdxSwNUCAnDCKEgY2QMAXe0NhWzZAgNX1OwSwNkBw1v7s/gM3QFDN0bFUVzdAED3zyAiqN0Dw24VVHvw3QPDRi2CYTThA8DoV2nmeOEBQSF2axe44QKAq12J+PjlA8Owr36aNOUCAPCqmQdw5QIAUqTpRKjpA8CdeDNh3OkBg2ah42MQ6QKB8UstUETtAMJBEP09dO0BQkjX/yag7QAAITSbH8ztA8Du/wEg+PEBgP2HMUIg8QNCbNTnh0TxAoCvy6fsaPUAQe3+0omM9QJAYcmLXqz1AcCl+sZvzPUCAmOVT8To+QAAt4fDZgT5AsNEEJVfIPkBgU5+Cag4/QCDQFZIVVD9A4Bw70lmZP0DATqO4ON4/QDjS+dhZEUBAUH0XEWYzQEC4gH+yQVVAQPgp/WbtdkBAuNFz1GmYQECgC/+ct7lAQOCDEV/X2kBAUJqStcn7QEB4y/o3jxxBQBj3bnooPUFAyJDaDZZdQUDQyQiA2H1BQFi/vFvwnUFA+LnIKN69QUDYiCRsot1BQCgDA6g9/UFAqLvmW7AcQkBw7LUE+ztCQPimzRweW0JAoE8UHBp6QkAwbAt475hCQADP4KOet0JAWCJ/ECjWQkDI350sjPRCQFC10GTLEkNASGGWI+YwQ0CYCmfR3E5DQJgZwtSvbENAcJg7kl+KQ0BwHols7KdDQOBMjsRWxUNAcOBo+Z7iQ0BoXHxoxf9DQKhSfW3KHERA+E58Yq45REBYZfCfcVZEQHhrwXwUc0RA0NxRTpePRED4boho+qtEQMhY2R0+yERAyE5Pv2LkREAAOJScaABFQKCe+QNQHEVAYN2AQhk4RUBIDuOjxFNFQGC6mHJSb0VAyFDh98KKRUBwYcp7FqZFQGikNkVNwUVAwMnkmWfcRUDoFna+ZfdFQBjUdPZHEkZA6IdahA4tRkCwB5apuUdGQLhZkaZJYkZAWG23ur58RkAwqnkkGZdGQHBXVSFZsUZASNzY7X7LRkB426jFiuVGQEgrheN8/0ZAMKpNgVUZR0BQ8gbYFDNHQNjs3h+7TEdA0EQxkEhmR0AovYtfvX9HQGBossMZmUdAkMOj8V2yR0DAtpwdistHQIB6HHue5EdA4GLoPJv9R0BIkg+VgBZIQOCT7rROL0hAUN4yzQVISEAIQN4NpmBIQKg1SqYveUhAcCorxaKRSEBwpJOY/6lIQDBd901GwkhAuEUuEnfaSEBAeHcRkvJIQCAYfHeXCklAEB9Sb4ciSUCAGX8jYjpJQKjS+r0nUklAiO8xaNhpSUBgeghLdIFJQKBf3I77mElAkNqHW26wSUCg1GPYzMdJQPg1SiwX30lAACmYfU32SUAoUDDybw1KQKDufK9+JEpAOAVy2nk7SkCIYo+XYVJKQOim4go2aUpAED4JWPd/SkAYTDKipZZKQHCQIAxBrUpA0D0suMnDSkBAyETIP9pKQGio8l2j8EpAyBVZmvQGS0DAtjeeMx1LQPBH7IlgM0tAEDp0fXtJS0AQR26YhF9LQOj+G/p7dUtA0EtjwWGLS0AQ7s8MNqFLQPDwlPr4tktAiBaOqKrMS0C4PEE0S+JLQCC737ra90tAILlHWVkNTEC4fQUsxyJMQKC3VE8kOExAsL8h33BNTEBI1Ar3rGJMQHBOYbLYd0xA8NAqLPSMTEBgcSJ//6FMQCDbucX6tkxA2GwaGubLTECYUCaWweBMQMiNeVON9UxAaBZra0kKTUAgzw339R5NQHiRMQ+TM01AiCpkzCBITUD4UvJGn1xNQAik6JYOcU1A4IYU1G6FTUBwHwUWwJlNQPAzDHQCrk1ASA4/BTbCTUAQW3fgWtZNQEgDVBxx6k1AUAI6z3j+TUA=\",\"dtype\":\"float64\",\"shape\":[187]},\"index\":[0,1,2,3,4,5,6,7,8,9,10,11,12,13,14,15,16,17,18,19,20,21,22,23,24,25,26,27,28,29,30,31,32,33,34,35,36,37,38,39,40,41,42,43,44,45,46,47,48,49,50,51,52,53,54,55,56,57,58,59,60,61,62,63,64,65,66,67,68,69,70,71,72,73,74,75,76,77,78,79,80,81,82,83,84,85,86,87,88,89,90,91,92,93,94,95,96,97,98,99,100,101,102,103,104,105,106,107,108,109,110,111,112,113,114,115,116,117,118,119,120,121,122,123,124,125,126,127,128,129,130,131,132,133,134,135,136,137,138,139,140,141,142,143,144,145,146,147,148,149,150,151,152,153,154,155,156,157,158,159,160,161,162,163,164,165,166,167,168,169,170,171,172,173,174,175,176,177,178,179,180,181,182,183,184,185,186],\"rhoPCI\":{\"__ndarray__\":\"T1BT+AkOsT+cXH1WsTGwP99E1PiO6q4/m0Ai8CO2rT9RkIKc0pesP2/RwioKrKs/uUXGrHW+qj/3SzPJTOypP6atLHUjMqk/psLxN3JzqD+7wIj12cmnP96xmbZLJ6c/3ZztMaaWpj8EIpkjPwCmP/af/1UceqU/a5CJ+I74pD9Q9PGvUnukPzgpIlMpAqQ/XNEMKtqMoz/qzuFHMRujP3G8vBjDtaI/5MdUO5pKoj85ZDMN4OqhPyZoomyghaE/L+aBWhkroT/1tZfK59KgP+VtMCN9daA/yRfUkd4hoD85hXEooKCfPyn2pbJ7AZ8/hP7/cipmnj9u7xcsic6dPyeFZjBmR50/kHaT/ne2nD88OLmo3SicPw/JScR6nps/ANdaAA0jmz+Q8Aehh56aP6n8rnFLKJo//cYZykmpmT+R9cfnCC2ZP+F9kgEhvpg/7RSqt2NRmD9mUpfzetyXPyUG99kXdJc/GJ6kh9EDlz/lOdJ8jJ+WP+5T9sIqPZY/KeIZHUvTlT/ueM4ft3SVPwaZMUriF5U/VSByxMG8lD/y9EwdS2OUPye37onwApQ/FWUO8tWskz+1HPEjR1iTP8GpzA87BZM/+GRw86izkj9oh9NViGOSPyEB+wLRFJI/5e7yCnvHkT8XY1a8fnuRP+BeoKPUMJE/v6/Ah3XnkD8pzbBmWp+QP4HYc3V8WJA/g+n1GtUSkD9yvQMEIKqPP4QdQ/5MI48/6SXI8cKejj/QWdQYdhyOP7aRcAJbnI0/MsujjWYejT8O92xvs66MP/CO2Zy5NIw/wqBexMe8iz9gbXvj00aLPyDxNDk63oo/m/DgcfZrij9IswMElfuJPx8XbTvtl4k/KLRqMgkriT8/Ksji7b+IP8Mdcn30YIg/PG1Seif5hz8Uro9aC5OHP1GQ7JaBOIc/w3Rx7YfVhj8Kr8utxn2GPwEdN1jUHYY/yH2g7m6/hT+Lud+ivmuFP34d1nM5EIU/2inl/xa/hD8sY7DIWWaEP7nWGayvF4Q/Z/V+LqPBgz/6Z9fNXHWDPwU3G8PqIYM/lNMQXfTXgj/kM49lB4eCPwoojgROP4I/LKl4ndHwgT/LxBgOQ6uBP+sqx461ZoE/AEciR64bgT98lnIKMtmAPx3yufFrkIA/egxqdvBPgD8dDVqhYhCAP1aScyGelX8/fO4FjlUafz+FMKDT0qB+P74GxDLHG34/uMhsqOulfT9lNF+swTF9Pw6l4OuLsnw/PSZtjd9BfD971f+D0dJ7P5AZnbAvWXs/gEd/3Xftej90NdglTIN6P/m2+bH/Dno/1uyVzwSoeT+awai7hEJ5P8z2fRJ63ng/KJ4xht9weD8Slmsl1w94PzQl7QI0sHc/L6efFvFRdz9sr6Zlp+p2P8SX+zM7j3Y/shdNFSA1dj8PqdNQUdx1P2OG7EDKhHU/+/S5ydwkdT/IlRoe+s90P43f8C1RfHQ//fNwnd0pdD+1p5Uim9hzP310woOFiHM/it13irswcz/ip8QXE+NyP/lul8aKlnI/bTOYnR5Lcj97fxuxygByP0mQPCeLt3E/3x5lMlxvcT+iewkUOihxP0zw9ts62nA/Pg0mBESVcD80UiO4TlFwP9hDc3FXDnA/bcXRa7WYbz9qVksvqhZvPy8rM2qGlm4/hEfCdEMYbj/rps6/2pttPw3qlsxFIW0/WuBuOn6obD92NYu+fTFsPzlxASQ+vGs/JdwLSblIaz+MeD0hAspqP92wRDkQWmo/K/rxksbraT9TKb9mH39pP2DvBgMVFGk/AIfQw6GqaD8UBwQbwEJoPzl+JpNq3Gc/ImmtwZt3Zz8/PKtUThRnP6L13gd9smY/i2/orCJSZj/hDRQjOvNlP2/jR75qoGU/JfTJzy5EZT85AnVGVulkPzI9sEjcj2Q/xnlLDbw3ZD8730rT8OBjP46MT/J1i2M/YSqnz0Y3Yz/16kveXuRiPyqK5J65kmI/mru0qlJCYj8=\",\"dtype\":\"float64\",\"shape\":[187]},\"rhoPCII\":{\"__ndarray__\":\"fpStQZNDuj9FHg6N6Gi7P9J2Qldecbw/rBGg0x9UvT8VcEckZC++P9i/LCv76r4/Jc1iz3Cuvz8fc2OmqDDAP2PzWQRigsA/Y9ESrYDYwD+ci7KvZSfBP35kJDIWdcE/77JCyRa8wT9pdYFfsQfCP/yHvP3iTMI/AzRdG0qRwj9Ui0Y68tTCP8O/SdHlF8M/efR8ai5awz/y12zC1JvDP4n2Yc7A18M/uh3BJEUYxD9u4ha2MVPEPw4jMGatksQ/S3j4KbDMxD/SzUyGSQbFP5vV689kRMU/JfFjRy99xT+xu1ACnLXFP1/ZLlWu7cU/hk6hYWklxj9/xEcd0FzGP5yuDp0pj8Y/M5YzXfbFxj+XGLaIdvzGP8Hq7oCsMsc/YoyHy/Zjxz9U9re0pJnHPyeDm6Z1ysc/FX8TCqP/xz+OGFEukDTIP3mvJfK0ZMg/KMPgWqaUyD9sb/Sy5sjIPz9ze9Vw+Mg/VryWiUMsyT8QUdJwa1vJPyujTfZlisk/xfbTG6C9yT8TzhQgP+zJP6eYtc+zGso/9Oh1Ef9Iyj9jkEO/IXfKP5qL4Vh2qco/5eVnDUfXyj+UC8W78QTLPwBh/R93Mss/hkoV9tdfyz+DLBH6FI3LP0y/3dYuuss/LdAhMybnyz+EAhC++xPMP5J3Nw2wQMw/qCazvkNtzD8THFhst5nMPxajKaMLxsw/+fFw9EDyzD8AIZmbJxrNP6PT+zwjRs0/5teufQFyzT8B4lfVwp3NPzF8KMRnyc0/tG+AvfD0zT/LjtpKPBzOP7Y/EQGRR84/kQ6RBstyzj+O2XPK6p3OPz2lxYzXxM4/K+1TKMbvzj/Rc2OtmxrPP695JGtFQc8/T/7U6utrzz8rlzthepbPP5/RH/XjvM8/a9AbWkXnzz/3exjbxwjQPyK5r+HdG9A/Tn0Kcu0w0D9myqzq70PQP8Xqw3DqWNA/YOTUNNpt0D/gmXnkv4DQP5P1hW2bldA/nKlry26o0D8o58ebNr3QP/BiThv4z9A/EhcJsazk0D/QOErBXPfQP0Ii5pH+C9E/K921nZ0e0T8lxZIcLTPRP+srXIi7RdE/ovCTJDla0T91IJ9St2zRP4nek9stf9E/LeBUxZGT0T+Rx0iZ+KXRP23PgZxLutE/zRxUF6PM0T8i9sBV897RP5hsLgku89E/Jktlam8F0j/FpMPGqRfSPzWvO/PMK9I/x8zm5/g90j8DSmkRHlDSP8tM8HIqZNI/MmzZo0F20j9f7+A8UojSP9ONqYJInNI/3psOkEuu0j/FJpM0SMDSP7kjZwcp1NI/L0y0hBjm0j+c9WfMAfjSP4TrMOnkCdM/CbcDS6od0z+86YC8gC/TPwGCFDJRQdM/30CQuBtT0z/1zy2wxmbTP9l/AwOFeNM/6o5Zjz2K0z8tvgFi8JvTPyfZqoWdrdM/y2IX8SjB0z+RxPprytLTP6FKd2Bm5NM/g8A72fz10z885xnjjQfUP9B/44oZGdQ/2akEAoEs1D8DtXSUAT7UP5mU3OR8T9Q/Iv8wAvNg1D8k1dryY3LUP6PXq8PPg9Q/JdJSfzaV1D+vmlsumKbUPy7hBqPSudQ/JKBR8inL1D8whS1XfNzUP9lwA9jJ7dQ/oC6CfxL/1D8OilhYVhDVPyVZEmuVIdU/63E7wM8y1T/jn4JiBUTVPxO5c1o2VdU//J13rmJm1T+oD2BrinfVPxT5cpWtiNU/SxuCOcyZ1T+eTq7WvqzVP8Q8NCjUvdU/Qtt8D+XO1T+WH6uO8d/VP0bVbbD58NU/2Nwte/0B1j9NDHf3/BLWPysv+C/4I9Y/9TrUJu801j+w8Nzo4UXWP9xFNXjQVtY/f/uu4bpn1j+e/I8poXjWP4X/Ii6vh9Y/yp9gmY2Y1j8SLUD2Z6nWP2N9TU0+utY/v2YUpxDL1j8q1NoH39vWP6ebLHip7NY/up1y/m/91j9jxfKeMg7XP6joOGLxHtc/C+itTqwv1z8=\",\"dtype\":\"float64\",\"shape\":[187]}},\"selected\":{\"id\":\"11902\"},\"selection_policy\":{\"id\":\"11901\"}},\"id\":\"11874\",\"type\":\"ColumnDataSource\"},{\"attributes\":{\"axis_label\":\"polyanion density [mol/L]\",\"axis_label_text_font_size\":\"18pt\",\"formatter\":{\"id\":\"11884\"},\"major_label_text_font_size\":\"14pt\",\"ticker\":{\"id\":\"11853\"}},\"id\":\"11852\",\"type\":\"LinearAxis\"},{\"attributes\":{},\"id\":\"11863\",\"type\":\"SaveTool\"},{\"attributes\":{\"source\":{\"id\":\"11874\"}},\"id\":\"11879\",\"type\":\"CDSView\"},{\"attributes\":{\"data_source\":{\"id\":\"11874\"},\"glyph\":{\"id\":\"11890\"},\"hover_glyph\":null,\"muted_glyph\":null,\"nonselection_glyph\":{\"id\":\"11891\"},\"selection_glyph\":null,\"view\":{\"id\":\"11893\"}},\"id\":\"11892\",\"type\":\"GlyphRenderer\"},{\"attributes\":{},\"id\":\"11882\",\"type\":\"BasicTickFormatter\"},{\"attributes\":{\"data_source\":{\"id\":\"11874\"},\"glyph\":{\"id\":\"11876\"},\"hover_glyph\":null,\"muted_glyph\":null,\"nonselection_glyph\":{\"id\":\"11877\"},\"selection_glyph\":null,\"view\":{\"id\":\"11879\"}},\"id\":\"11878\",\"type\":\"GlyphRenderer\"},{\"attributes\":{\"label\":{\"value\":\"supernatant\"},\"renderers\":[{\"id\":\"11878\"}]},\"id\":\"11888\",\"type\":\"LegendItem\"},{\"attributes\":{\"line_color\":\"blue\",\"line_width\":6,\"x\":{\"field\":\"rhoPCI\"},\"y\":{\"field\":\"T\"}},\"id\":\"11876\",\"type\":\"Line\"},{\"attributes\":{\"line_alpha\":0.1,\"line_color\":\"red\",\"line_width\":6,\"x\":{\"field\":\"rhoPCII\"},\"y\":{\"field\":\"T\"}},\"id\":\"11891\",\"type\":\"Line\"},{\"attributes\":{\"click_policy\":\"hide\",\"items\":[{\"id\":\"11888\"},{\"id\":\"11903\"}],\"label_text_font_size\":\"14pt\",\"location\":\"bottom_right\"},\"id\":\"11887\",\"type\":\"Legend\"},{\"attributes\":{\"label\":{\"value\":\"coacervate\"},\"renderers\":[{\"id\":\"11892\"}]},\"id\":\"11903\",\"type\":\"LegendItem\"},{\"attributes\":{\"bottom_units\":\"screen\",\"fill_alpha\":0.5,\"fill_color\":\"lightgrey\",\"left_units\":\"screen\",\"level\":\"overlay\",\"line_alpha\":1.0,\"line_color\":\"black\",\"line_dash\":[4,4],\"line_width\":2,\"render_mode\":\"css\",\"right_units\":\"screen\",\"top_units\":\"screen\"},\"id\":\"11866\",\"type\":\"BoxAnnotation\"},{\"attributes\":{},\"id\":\"11861\",\"type\":\"WheelZoomTool\"},{\"attributes\":{\"callback\":null,\"tooltips\":[[\"Temperature [C]\",\"@T\"],[\"polyanion density (I)\",\"@rhoPCI\"],[\"polyanion density (II)\",\"@rhoPCII\"]]},\"id\":\"11906\",\"type\":\"HoverTool\"},{\"attributes\":{\"end\":60},\"id\":\"11909\",\"type\":\"Range1d\"},{\"attributes\":{\"overlay\":{\"id\":\"11866\"}},\"id\":\"11862\",\"type\":\"BoxZoomTool\"},{\"attributes\":{},\"id\":\"11901\",\"type\":\"UnionRenderers\"},{\"attributes\":{\"axis_label\":\"Temperature [C]\",\"axis_label_text_font_size\":\"18pt\",\"formatter\":{\"id\":\"11882\"},\"major_label_text_font_size\":\"14pt\",\"ticker\":{\"id\":\"11857\"}},\"id\":\"11856\",\"type\":\"LinearAxis\"},{\"attributes\":{\"end\":1.3,\"start\":-0.05},\"id\":\"11908\",\"type\":\"Range1d\"},{\"attributes\":{\"axis\":{\"id\":\"11852\"},\"ticker\":null},\"id\":\"11855\",\"type\":\"Grid\"},{\"attributes\":{},\"id\":\"11848\",\"type\":\"LinearScale\"},{\"attributes\":{},\"id\":\"11865\",\"type\":\"HelpTool\"},{\"attributes\":{},\"id\":\"11884\",\"type\":\"BasicTickFormatter\"},{\"attributes\":{},\"id\":\"11850\",\"type\":\"LinearScale\"},{\"attributes\":{},\"id\":\"11864\",\"type\":\"ResetTool\"},{\"attributes\":{\"line_alpha\":0.1,\"line_color\":\"blue\",\"line_width\":6,\"x\":{\"field\":\"rhoPCI\"},\"y\":{\"field\":\"T\"}},\"id\":\"11877\",\"type\":\"Line\"},{\"attributes\":{\"source\":{\"id\":\"11874\"}},\"id\":\"11893\",\"type\":\"CDSView\"},{\"attributes\":{\"line_color\":\"red\",\"line_width\":6,\"x\":{\"field\":\"rhoPCII\"},\"y\":{\"field\":\"T\"}},\"id\":\"11890\",\"type\":\"Line\"},{\"attributes\":{\"text\":\"1.85 M Salt, 0.20 M Polymer, N = 1000, f = 1.00, sig = 4.37 A\",\"text_font_size\":{\"value\":\"12pt\"}},\"id\":\"11880\",\"type\":\"Title\"},{\"attributes\":{\"active_drag\":\"auto\",\"active_inspect\":\"auto\",\"active_multi\":null,\"active_scroll\":\"auto\",\"active_tap\":\"auto\",\"tools\":[{\"id\":\"11860\"},{\"id\":\"11861\"},{\"id\":\"11862\"},{\"id\":\"11863\"},{\"id\":\"11864\"},{\"id\":\"11865\"},{\"id\":\"11906\"}]},\"id\":\"11867\",\"type\":\"Toolbar\"},{\"attributes\":{},\"id\":\"11853\",\"type\":\"BasicTicker\"},{\"attributes\":{\"axis\":{\"id\":\"11856\"},\"dimension\":1,\"ticker\":null},\"id\":\"11859\",\"type\":\"Grid\"},{\"attributes\":{},\"id\":\"11902\",\"type\":\"Selection\"}],\"root_ids\":[\"11843\"]},\"title\":\"Bokeh Application\",\"version\":\"2.0.1\"}};\n",
       "  var render_items = [{\"docid\":\"cde7baa9-9a8b-439e-8d74-9f65692e66fb\",\"root_ids\":[\"11843\"],\"roots\":{\"11843\":\"54cb1cf6-007f-4984-90ad-5cc488d7b3cc\"}}];\n",
       "  root.Bokeh.embed.embed_items_notebook(docs_json, render_items);\n",
       "\n",
       "  }\n",
       "  if (root.Bokeh !== undefined) {\n",
       "    embed_document(root);\n",
       "  } else {\n",
       "    var attempts = 0;\n",
       "    var timer = setInterval(function(root) {\n",
       "      if (root.Bokeh !== undefined) {\n",
       "        clearInterval(timer);\n",
       "        embed_document(root);\n",
       "      } else {\n",
       "        attempts++;\n",
       "        if (attempts > 100) {\n",
       "          clearInterval(timer);\n",
       "          console.log(\"Bokeh: ERROR: Unable to run BokehJS code because BokehJS library is missing\");\n",
       "        }\n",
       "      }\n",
       "    }, 10, root)\n",
       "  }\n",
       "})(window);"
      ],
      "application/vnd.bokehjs_exec.v0+json": ""
     },
     "metadata": {
      "application/vnd.bokehjs_exec.v0+json": {
       "id": "11843"
      }
     },
     "output_type": "display_data"
    },
    {
     "data": {
      "text/html": [
       "\n",
       "\n",
       "\n",
       "\n",
       "\n",
       "\n",
       "  <div class=\"bk-root\" id=\"aec3f07b-6495-42d9-93f7-9b6a04cbb153\" data-root-id=\"12307\"></div>\n"
      ]
     },
     "metadata": {},
     "output_type": "display_data"
    },
    {
     "data": {
      "application/javascript": [
       "(function(root) {\n",
       "  function embed_document(root) {\n",
       "    \n",
       "  var docs_json = {\"d8960976-98cb-4236-a148-c72af8dced44\":{\"roots\":{\"references\":[{\"attributes\":{\"below\":[{\"id\":\"12316\"}],\"center\":[{\"id\":\"12319\"},{\"id\":\"12323\"},{\"id\":\"12351\"}],\"left\":[{\"id\":\"12320\"}],\"plot_height\":500,\"plot_width\":500,\"renderers\":[{\"id\":\"12342\"},{\"id\":\"12356\"}],\"title\":{\"id\":\"12344\"},\"toolbar\":{\"id\":\"12331\"},\"x_range\":{\"id\":\"12372\"},\"x_scale\":{\"id\":\"12312\"},\"y_range\":{\"id\":\"12373\"},\"y_scale\":{\"id\":\"12314\"}},\"id\":\"12307\",\"subtype\":\"Figure\",\"type\":\"Plot\"},{\"attributes\":{\"click_policy\":\"hide\",\"items\":[{\"id\":\"12352\"},{\"id\":\"12367\"}],\"label_text_font_size\":\"14pt\",\"location\":\"bottom_right\"},\"id\":\"12351\",\"type\":\"Legend\"},{\"attributes\":{},\"id\":\"12321\",\"type\":\"BasicTicker\"},{\"attributes\":{\"data_source\":{\"id\":\"12338\"},\"glyph\":{\"id\":\"12340\"},\"hover_glyph\":null,\"muted_glyph\":null,\"nonselection_glyph\":{\"id\":\"12341\"},\"selection_glyph\":null,\"view\":{\"id\":\"12343\"}},\"id\":\"12342\",\"type\":\"GlyphRenderer\"},{\"attributes\":{\"data\":{\"BJ\":{\"__ndarray__\":\"iUFg5dAi/T/0/dR46Sb9P166SQwCK/0/yXa+nxov/T8zMzMzMzP9P57vp8ZLN/0/CKwcWmQ7/T9zaJHtfD/9P90kBoGVQ/0/SOF6FK5H/T+yne+nxkv9Px1aZDvfT/0/hxbZzvdT/T/y0k1iEFj9P1yPwvUoXP0/x0s3iUFg/T8xCKwcWmT9P5zEILByaP0/BoGVQ4ts/T9xPQrXo3D9P9v5fmq8dP0/Rrbz/dR4/T+wcmiR7Xz9Pxsv3SQGgf0/hetRuB6F/T/wp8ZLN4n9P1pkO99Pjf0/xSCwcmiR/T8v3SQGgZX9P5qZmZmZmf0/BFYOLbKd/T9vEoPAyqH9P9nO91Pjpf0/RIts5/up/T+uR+F6FK79PxkEVg4tsv0/g8DKoUW2/T/ufD81Xrr9P1g5tMh2vv0/w/UoXI/C/T8tsp3vp8b9P5huEoPAyv0/AiuHFtnO/T9t5/up8dL9P9ejcD0K1/0/QmDl0CLb/T+sHFpkO9/9PxfZzvdT4/0/gZVDi2zn/T/sUbgehev9P1YOLbKd7/0/wcqhRbbz/T8rhxbZzvf9P5ZDi2zn+/0/AAAAAAAA/j9qvHSTGAT+P9V46SYxCP4/PzVeukkM/j+q8dJNYhD+PxSuR+F6FP4/f2q8dJMY/j/pJjEIrBz+P1TjpZvEIP4/vp8aL90k/j8pXI/C9Sj+P5MYBFYOLf4//tR46SYx/j9oke18PzX+P9NNYhBYOf4/PQrXo3A9/j+oxks3iUH+PxKDwMqhRf4/fT81XrpJ/j/n+6nx0k3+P1K4HoXrUf4/vHSTGARW/j8nMQisHFr+P5HtfD81Xv4//Knx0k1i/j9mZmZmZmb+P9Ei2/l+av4/O99PjZdu/j+mm8QgsHL+PxBYObTIdv4/exSuR+F6/j/l0CLb+X7+P1CNl24Sg/4/ukkMAiuH/j8lBoGVQ4v+P4/C9Shcj/4/+n5qvHST/j9kO99PjZf+P8/3U+Olm/4/ObTIdr6f/j+kcD0K16P+Pw4tsp3vp/4/eekmMQis/j/jpZvEILD+P05iEFg5tP4/uB6F61G4/j8j2/l+arz+P42XbhKDwP4/+FPjpZvE/j9iEFg5tMj+P83MzMzMzP4/N4lBYOXQ/j+iRbbz/dT+PwwCK4cW2f4/d76fGi/d/j/hehSuR+H+P0w3iUFg5f4/tvP91Hjp/j8hsHJoke3+P4ts5/up8f4/9ihcj8L1/j9g5dAi2/n+P8uhRbbz/f4/NV66SQwC/z+gGi/dJAb/PwrXo3A9Cv8/dZMYBFYO/z/fT42XbhL/P0oMAiuHFv8/tMh2vp8a/z8fhetRuB7/P4lBYOXQIv8/9P3UeOkm/z9eukkMAiv/P8l2vp8aL/8/MzMzMzMz/z+e76fGSzf/PwisHFpkO/8/c2iR7Xw//z/dJAaBlUP/P0jhehSuR/8/sp3vp8ZL/z8dWmQ730//P4cW2c73U/8/8tJNYhBY/z9cj8L1KFz/P8dLN4lBYP8/MQisHFpk/z+cxCCwcmj/PwaBlUOLbP8/cT0K16Nw/z/b+X5qvHT/P0a28/3UeP8/\",\"dtype\":\"float64\",\"shape\":[147]},\"T\":{\"__ndarray__\":\"gJjlU/E6PkAALeHw2YE+QLDRBCVXyD5AYFOfgmoOP0Ag0BWSFVQ/QOAcO9JZmT9AwE6juDjeP0A40vnYWRFAQFB9FxFmM0BAuIB/skFVQED4Kf1m7XZAQLjRc9RpmEBAoAv/nLe5QEDggxFf19pAQFCakrXJ+0BAeMv6N48cQUAY9256KD1BQMiQ2g2WXUFA0MkIgNh9QUBYv7xb8J1BQPi5yCjevUFA2IgkbKLdQUAoAwOoPf1BQKi75luwHEJAcOy1BPs7QkD4ps0cHltCQKBPFBwaekJAMGwLeO+YQkAAz+CjnrdCQFgifxAo1kJAyN+dLIz0QkBQtdBkyxJDQEhhliPmMENAmApn0dxOQ0CYGcLUr2xDQHCYO5JfikNAcB6JbOynQ0DgTI7EVsVDQHDgaPme4kNAaFx8aMX/Q0CoUn1tyhxEQPhOfGKuOURAWGXwn3FWREB4a8F8FHNEQNDcUU6Xj0RA+G6IaPqrREDIWNkdPshEQMhOT79i5ERAADiUnGgARUCgnvkDUBxFQGDdgEIZOEVASA7jo8RTRUBguphyUm9FQMhQ4ffCikVAcGHKexamRUBopDZFTcFFQMDJ5Jln3EVA6BZ2vmX3RUAY1HT2RxJGQOiHWoQOLUZAsAeWqblHRkC4WZGmSWJGQFhtt7q+fEZAMKp5JBmXRkBwV1UhWbFGQEjc2O1+y0ZAeNuoxYrlRkBIK4XjfP9GQDCqTYFVGUdAUPIG2BQzR0DY7N4fu0xHQNBEMZBIZkdAKL2LX71/R0BgaLLDGZlHQJDDo/FdskdAwLacHYrLR0CAehx7nuRHQOBi6Dyb/UdASJIPlYAWSEDgk+60Ti9IQFDeMs0FSEhACEDeDaZgSECoNUqmL3lIQHAqK8WikUhAcKSTmP+pSEAwXfdNRsJIQLhFLhJ32khAQHh3EZLySEAgGHx3lwpJQBAfUm+HIklAgBl/I2I6SUCo0vq9J1JJQIjvMWjYaUlAYHoIS3SBSUCgX9yO+5hJQJDah1tusElAoNRj2MzHSUD4NUosF99JQAApmH1N9klAKFAw8m8NSkCg7nyvfiRKQDgFctp5O0pAiGKPl2FSSkDopuIKNmlKQBA+CVj3f0pAGEwyoqWWSkBwkCAMQa1KQNA9LLjJw0pAQMhEyD/aSkBoqPJdo/BKQMgVWZr0BktAwLY3njMdS0DwR+yJYDNLQBA6dH17SUtAEEdumIRfS0Do/hv6e3VLQNBLY8Fhi0tAEO7PDDahS0Dw8JT6+LZLQIgWjqiqzEtAuDxBNEviS0Agu9+62vdLQCC5R1lZDUxAuH0FLMciTECgt1RPJDhMQLC/Id9wTUxASNQK96xiTEBwTmGy2HdMQPDQKiz0jExAYHEif/+hTEAg27nF+rZMQNhsGhrmy0xAmFAmlsHgTEDIjXlTjfVMQGgWa2tJCk1AIM8N9/UeTUB4kTEPkzNNQIgqZMwgSE1A+FLyRp9cTUAIpOiWDnFNQOCGFNRuhU1AcB8FFsCZTUDwMwx0Aq5NQEgOPwU2wk1AEFt34FrWTUBIA1QccepNQFACOs94/k1A\",\"dtype\":\"float64\",\"shape\":[147]},\"index\":[0,1,2,3,4,5,6,7,8,9,10,11,12,13,14,15,16,17,18,19,20,21,22,23,24,25,26,27,28,29,30,31,32,33,34,35,36,37,38,39,40,41,42,43,44,45,46,47,48,49,50,51,52,53,54,55,56,57,58,59,60,61,62,63,64,65,66,67,68,69,70,71,72,73,74,75,76,77,78,79,80,81,82,83,84,85,86,87,88,89,90,91,92,93,94,95,96,97,98,99,100,101,102,103,104,105,106,107,108,109,110,111,112,113,114,115,116,117,118,119,120,121,122,123,124,125,126,127,128,129,130,131,132,133,134,135,136,137,138,139,140,141,142,143,144,145,146],\"rhoPCI\":{\"__ndarray__\":\"DI4CD/3Boz/p6uVsHlmjP7Tp4+xU6qI/zt+Cmdd+oj88FVaT2B6iP+J3bb9kwaE/Pu9p2XFeoT/t2mmT9gWhPx13pmm3r6A/1c6Z9Z1boD+Xom0tlQmgP44gmIMSc58/IWdOD8/Wnj/armzHPD6eP9LFOV46qZ0/a8HmVqgXnT/Zg/TfaImcP/qVoxybCpw/bKUIImmCmz9x8DksO/2aP4rrJq9zhpo/APQTj8cGmj807S2Q24mZP6MEqldlGpk/vaRp9YGimD9v9aLZgjeYPxdbSPWOzpc/0Qnlkppdlz8j+teCw/iWPyn1qh/PlZY/GKjFbEArlj9tY/XnGMyVP93zLROwbpU/UeO1J/sSlT/yeZfmKbCUP77ZuUTlV5Q/h031hDUBlD91bclSEayTP8r2s6lvWJM/ShgQ0EcGkz9ca2dWkbWSPxK2ShFEZpI/MutRGVgYkj9D7PTExcuRP4+Ji6iFgJE/91GEkZA2kT9/Dw2G3+2QP5saocBrppA/RlNary5gkD9/BTXxIRuQP0ipBah+ro8/IGl3pwEpjz+GxL4mrrKOP/0vjh1pMY4/U4gSM0uyjT/MQoWeSTWNP+G79uBZuow/NbQVHWFNjD/juuvFRdaLP48s01MfYYs/pNMiUeTtij8xCVwiwYeKP2JHghUUGIo/vKAFVDiqiT+PIHUq2UiJP4XlUl1b3og/ZD7yj5Z1iD9Hr/J/uxiIP+LhD/wns4c/+O2i1zZPhz9UNe1apPaGP64Ecty6lYY/GFEu0Ng/hj8tQcwr3eGFP/GjnreUjoU/z0DoPW4zhT+EQo9lu9mEPx/6i5BAioQ/SMjOOj8zhD/8jfeIKOaDP6MU0ovCkYM/ajSMWPxGgz8HJ5aMSP2CP00pc+GTrII/MDhjCBVlgj9qwl6fyBaCP+EsnPZs0YE/P5OpkXWFgT/5hwAHLEKBP4me0yZ3+IA/IOKRTy+3gD8RG82F1XaAP38UYjdVMIA/RFsmEszjfz/j29t9tGh/P8iU4srT4X4/XiGSvWVqfj+Ur7L8hOd9PxWf/S2kc30/XAt142gBfT/bwwTUNYR8PxIKAONfFXw/egFuAB2oez+HCHVyZzx7P5xGZOlUxno/cNSLGNNdej97EXFizfZ5P/spOFXahXk/lDIsBOUheT++MSlwW794P3X5a4M4Xng/SR4k47Tzdz91ELJHdpV3P8WpMQOPOHc/6b5yTPrcdj9PHOJys4J2P7QHMXOwH3Y/B/XI/BrIdT+56mxBxXF1P+CApNeqHHU/ewK+Z8fIdD9REIq4wWx0PzSBBp1gG3Q/MF69ainLcz+glP0MGHxzPwm3fn8oLnM/Uu8CzVbhcj968TDfDY1yP2eX88mKQnI/wSuXnxn5cT/CQ2aotrBxP7rimzdeaXE/nJUfrgwjcT/8coV6vt1wP88obBpwmXA/n7emEx5WcD8tP9rWOwxwP8QxXdLmlW8/zEdrxDkVbz9zoPjxaZZuPwqdaO9wGW4/Aw0PXEiebT+W7lT16SRtPyLlC4lPrWw/QadeAHM3bD9DrJxXTsNrP6VH9qDbUGs/\",\"dtype\":\"float64\",\"shape\":[147]},\"rhoPCII\":{\"__ndarray__\":\"wTDGwW9Xwz/eqmkopJPDP+BSF8h31MM/g1Bm0LgUxD8JAOGcYU/EP6X/+WSYicQ/r+UU5FvIxD/YfnCHswHFPykVIGimOsU/zJkESDhzxT/DIyytbKvFP2L9gulG48U/ypn2HMoaxj/VrAM7+VHGP9+ERg3XiMY/mmQLNma/xj8LbpQ0qfXGP2GUqZX3Jsc/BO2eE69cxz8WK9H4IJLHP+cz8Ai1wsc/lvZPHKf3xz8VhqNEWSzIP7I+zChCXMg/XVXwoX6QyD8OwzhN/r/IP4Jw9nhN78g/qLIpsuYiyT8Yli8y1FHJP6KvrpWUgMk/eZBtB5azyT+UYidx++HJPxECFMI2EMo/Yhat3Eg+yj9x5VzgkHDKPwDo7LxPnso/qJTE/efLyj/NELprWvnKP8urF8enJss//Mnhy9BTyz+9+ZAt1oDLP2HeV5u4rcs/OzAjwHjayz+Z5g06FwfMP8zjeKuUM8w/HEnzqfFfzD/WDZjTLozMPzySJLFMuMw/lwzi00vkzD8o8kfALBDNPy+4zfrvO80/7OikA5ZnzT/EHxl/9Y7NP9Af8ANlus0/P6cJvrjlzT9KlH8c8RDOPybFa44OPM4/zf0XFvNizj8Dfksw3o3OP6Fan5GvuM4/2puhoGfjzj/ExvzE8AnPP8foV2x5NM8/6i/c0ulezz8zxvpZMoXPPxoXnll1r88/pHdZIaHZzz+UhGKuq//PP2bqxvTVFNA/EEQx8Mop0D/26QN4sjzQP+P3WYuSUdA/CHveK2dk0D98nd3fMnnQP5yn3BL1i9A/WEkf7qyg0D8a2w2fWrXQP+tjaqUByNA/UdmgOZzc0D8rYOfyMe/QP3BtC+K5A9E/AwWnsj4W0T+xpEGRuyjRP90jl74oPdE/jfUVSpVP0T8ezdPj8GPRP4D4W3xNdtE/Jzvt5peK0T/n/F3o5JzRP9WyUIoesdE/HWcgSlzD0T9faFzaktXRP3zFG1W06dE/hUPoI9z70T+k/a36/A3SP048yhIHItI/bTyAmxk00j8MIKlNFEjSP872FtMYWtI/1juAvhZs0j8YJI0/+3/SP/cygpLrkdI/MclzetWj0j/QknkIubXSPy/Mfy2BydI/aMqrqVfb0j+bH8r4J+3SP1n8SG3bANM/U7iPCJ8S0z9e5MmlXCTTPwBMpk8UNtM/RVWSRK1J0z/p1zyyWFvTPzjERFf+bNM/Odt7QJ5+0z/w3bN6OJDTPzhV7suxo9M/t8jUVEC10z8AazFVycbTP5kHs9dM2NM/iF8r6crp0z//a4L7Jf3TP/S+2tuYDtQ/0Bp8bwYg1D+XVfK+bjHUP1EwD9fRQtQ/g3aBwi9U1D8VFgpQaGfUPxKYgpm7eNQ/lfI51AmK1D8l3CQPU5vUP0Y1rFCXrNQ//b6hpda91D9QT5EWEc/UP0K8BqxG4NQ/2sbTcnfx1D8zZ6ONfwTVP3EcWGymFdU/4uYqmMgm1T8Kp4QX5jfVP2soFPX+SNU/jzaIOxNa1T90vCbvImvVPyN7wRwufNU/HlPByjSN1T9pGrIBN57VP4mx/Mc0r9U/\",\"dtype\":\"float64\",\"shape\":[147]}},\"selected\":{\"id\":\"12366\"},\"selection_policy\":{\"id\":\"12365\"}},\"id\":\"12338\",\"type\":\"ColumnDataSource\"},{\"attributes\":{\"callback\":null,\"tooltips\":[[\"Temperature [C]\",\"@T\"],[\"polyanion density (I)\",\"@rhoPCI\"],[\"polyanion density (II)\",\"@rhoPCII\"]]},\"id\":\"12370\",\"type\":\"HoverTool\"},{\"attributes\":{\"line_color\":\"blue\",\"line_width\":6,\"x\":{\"field\":\"rhoPCI\"},\"y\":{\"field\":\"T\"}},\"id\":\"12340\",\"type\":\"Line\"},{\"attributes\":{\"end\":60},\"id\":\"12373\",\"type\":\"Range1d\"},{\"attributes\":{},\"id\":\"12325\",\"type\":\"WheelZoomTool\"},{\"attributes\":{},\"id\":\"12314\",\"type\":\"LinearScale\"},{\"attributes\":{\"axis\":{\"id\":\"12316\"},\"ticker\":null},\"id\":\"12319\",\"type\":\"Grid\"},{\"attributes\":{},\"id\":\"12366\",\"type\":\"Selection\"},{\"attributes\":{},\"id\":\"12327\",\"type\":\"SaveTool\"},{\"attributes\":{},\"id\":\"12346\",\"type\":\"BasicTickFormatter\"},{\"attributes\":{\"data_source\":{\"id\":\"12338\"},\"glyph\":{\"id\":\"12354\"},\"hover_glyph\":null,\"muted_glyph\":null,\"nonselection_glyph\":{\"id\":\"12355\"},\"selection_glyph\":null,\"view\":{\"id\":\"12357\"}},\"id\":\"12356\",\"type\":\"GlyphRenderer\"},{\"attributes\":{},\"id\":\"12312\",\"type\":\"LinearScale\"},{\"attributes\":{\"label\":{\"value\":\"supernatant\"},\"renderers\":[{\"id\":\"12342\"}]},\"id\":\"12352\",\"type\":\"LegendItem\"},{\"attributes\":{\"line_alpha\":0.1,\"line_color\":\"blue\",\"line_width\":6,\"x\":{\"field\":\"rhoPCI\"},\"y\":{\"field\":\"T\"}},\"id\":\"12341\",\"type\":\"Line\"},{\"attributes\":{\"label\":{\"value\":\"coacervate\"},\"renderers\":[{\"id\":\"12356\"}]},\"id\":\"12367\",\"type\":\"LegendItem\"},{\"attributes\":{\"axis_label\":\"Temperature [C]\",\"axis_label_text_font_size\":\"18pt\",\"formatter\":{\"id\":\"12346\"},\"major_label_text_font_size\":\"14pt\",\"ticker\":{\"id\":\"12321\"}},\"id\":\"12320\",\"type\":\"LinearAxis\"},{\"attributes\":{},\"id\":\"12328\",\"type\":\"ResetTool\"},{\"attributes\":{\"line_alpha\":0.1,\"line_color\":\"red\",\"line_width\":6,\"x\":{\"field\":\"rhoPCII\"},\"y\":{\"field\":\"T\"}},\"id\":\"12355\",\"type\":\"Line\"},{\"attributes\":{},\"id\":\"12348\",\"type\":\"BasicTickFormatter\"},{\"attributes\":{\"source\":{\"id\":\"12338\"}},\"id\":\"12343\",\"type\":\"CDSView\"},{\"attributes\":{\"line_color\":\"red\",\"line_width\":6,\"x\":{\"field\":\"rhoPCII\"},\"y\":{\"field\":\"T\"}},\"id\":\"12354\",\"type\":\"Line\"},{\"attributes\":{\"source\":{\"id\":\"12338\"}},\"id\":\"12357\",\"type\":\"CDSView\"},{\"attributes\":{},\"id\":\"12329\",\"type\":\"HelpTool\"},{\"attributes\":{\"text\":\"1.85 M Salt, 0.30 M Polymer, N = 1000, f = 1.00, sig = 4.37 A\",\"text_font_size\":{\"value\":\"12pt\"}},\"id\":\"12344\",\"type\":\"Title\"},{\"attributes\":{},\"id\":\"12324\",\"type\":\"PanTool\"},{\"attributes\":{},\"id\":\"12365\",\"type\":\"UnionRenderers\"},{\"attributes\":{\"axis_label\":\"polyanion density [mol/L]\",\"axis_label_text_font_size\":\"18pt\",\"formatter\":{\"id\":\"12348\"},\"major_label_text_font_size\":\"14pt\",\"ticker\":{\"id\":\"12317\"}},\"id\":\"12316\",\"type\":\"LinearAxis\"},{\"attributes\":{\"end\":1.3,\"start\":-0.05},\"id\":\"12372\",\"type\":\"Range1d\"},{\"attributes\":{\"overlay\":{\"id\":\"12330\"}},\"id\":\"12326\",\"type\":\"BoxZoomTool\"},{\"attributes\":{},\"id\":\"12317\",\"type\":\"BasicTicker\"},{\"attributes\":{\"bottom_units\":\"screen\",\"fill_alpha\":0.5,\"fill_color\":\"lightgrey\",\"left_units\":\"screen\",\"level\":\"overlay\",\"line_alpha\":1.0,\"line_color\":\"black\",\"line_dash\":[4,4],\"line_width\":2,\"render_mode\":\"css\",\"right_units\":\"screen\",\"top_units\":\"screen\"},\"id\":\"12330\",\"type\":\"BoxAnnotation\"},{\"attributes\":{\"axis\":{\"id\":\"12320\"},\"dimension\":1,\"ticker\":null},\"id\":\"12323\",\"type\":\"Grid\"},{\"attributes\":{\"active_drag\":\"auto\",\"active_inspect\":\"auto\",\"active_multi\":null,\"active_scroll\":\"auto\",\"active_tap\":\"auto\",\"tools\":[{\"id\":\"12324\"},{\"id\":\"12325\"},{\"id\":\"12326\"},{\"id\":\"12327\"},{\"id\":\"12328\"},{\"id\":\"12329\"},{\"id\":\"12370\"}]},\"id\":\"12331\",\"type\":\"Toolbar\"}],\"root_ids\":[\"12307\"]},\"title\":\"Bokeh Application\",\"version\":\"2.0.1\"}};\n",
       "  var render_items = [{\"docid\":\"d8960976-98cb-4236-a148-c72af8dced44\",\"root_ids\":[\"12307\"],\"roots\":{\"12307\":\"aec3f07b-6495-42d9-93f7-9b6a04cbb153\"}}];\n",
       "  root.Bokeh.embed.embed_items_notebook(docs_json, render_items);\n",
       "\n",
       "  }\n",
       "  if (root.Bokeh !== undefined) {\n",
       "    embed_document(root);\n",
       "  } else {\n",
       "    var attempts = 0;\n",
       "    var timer = setInterval(function(root) {\n",
       "      if (root.Bokeh !== undefined) {\n",
       "        clearInterval(timer);\n",
       "        embed_document(root);\n",
       "      } else {\n",
       "        attempts++;\n",
       "        if (attempts > 100) {\n",
       "          clearInterval(timer);\n",
       "          console.log(\"Bokeh: ERROR: Unable to run BokehJS code because BokehJS library is missing\");\n",
       "        }\n",
       "      }\n",
       "    }, 10, root)\n",
       "  }\n",
       "})(window);"
      ],
      "application/vnd.bokehjs_exec.v0+json": ""
     },
     "metadata": {
      "application/vnd.bokehjs_exec.v0+json": {
       "id": "12307"
      }
     },
     "output_type": "display_data"
    }
   ],
   "source": [
    "sigma = 4.37\n",
    "plot.compare_to_exp(data, pe.get_beads_2_M(sigma), N=N, sigma=sigma, f=f, rho_s_list=[1.85], rho_p_list=[0.1, 0.2, 0.3])"
   ]
  },
  {
   "cell_type": "code",
   "execution_count": null,
   "metadata": {},
   "outputs": [],
   "source": []
  }
 ],
 "metadata": {
  "kernelspec": {
   "display_name": "Python 3",
   "language": "python",
   "name": "python3"
  },
  "language_info": {
   "codemirror_mode": {
    "name": "ipython",
    "version": 3
   },
   "file_extension": ".py",
   "mimetype": "text/x-python",
   "name": "python",
   "nbconvert_exporter": "python",
   "pygments_lexer": "ipython3",
   "version": "3.6.10"
  }
 },
 "nbformat": 4,
 "nbformat_minor": 4
}

{
 "cells": [
  {
   "cell_type": "markdown",
   "metadata": {},
   "source": [
    "# Fit the Bead Size $\\sigma$ to Experimental Data from the Prabhu Group\n",
    "\n",
    "Because our paper ultimately makes a comparison between its predictions of LCST phase separation and the experimental measurements reported by the Prabhu group, we decided to fit our one fitting parameter, the bead size $\\sigma$, to minimize the squared residual error between our predictions and the Prabhu data."
   ]
  },
  {
   "cell_type": "code",
   "execution_count": 1,
   "metadata": {},
   "outputs": [],
   "source": [
    "%load_ext autoreload\n",
    "%autoreload 2\n",
    "\n",
    "# Python libraries\n",
    "import numpy as np\n",
    "import math\n",
    "import matplotlib.pyplot as plt\n",
    "# 3rd party libraries\n",
    "import pandas as pd\n",
    "# Custom libraries\n",
    "import salt\n",
    "import pe\n",
    "import plot\n",
    "\n",
    "# parameters for range of bead sizes to consider [A]\n",
    "sigma_min = 4.0\n",
    "sigma_max = 4.6\n",
    "dsigma = 0.01\n",
    "\n",
    "# filepath to experimental data file\n",
    "exp_data_filepath = '../REFERENCES/CCLS/Data/prabhu_experimental_data_raw.csv'\n",
    "# filepath to predicted results for charge fraction f = 1 and degree of polymerization N = 1000\n",
    "pred_filepath = 'salt/vary_params/'\n",
    "# name of data file\n",
    "ext = 'output.dat'\n",
    "N = 1000\n",
    "f = 1\n",
    "\n",
    "# DERIVED PARAMETERS\n",
    "# determines naming structure of files with given parameters\n",
    "naming_structure = 'NA({0:d})NB({0:d})*f({1:.3f})'.format(N, f)\n",
    "# range of bead sizes (sigma) to consider [A]\n",
    "n_sigma = int(np.round((sigma_max - sigma_min) / dsigma)) + 1\n",
    "sigma_range = np.linspace(sigma_min, sigma_max, n_sigma)\n",
    "\n",
    "# CONVERSIONS\n",
    "A_2_m = 1E-10\n",
    "\n",
    "# FUNCTIONS\n"
   ]
  },
  {
   "cell_type": "markdown",
   "metadata": {},
   "source": [
    "## Load Measured Compositions"
   ]
  },
  {
   "cell_type": "code",
   "execution_count": 2,
   "metadata": {
    "scrolled": true
   },
   "outputs": [
    {
     "data": {
      "text/html": [
       "<div>\n",
       "<style scoped>\n",
       "    .dataframe tbody tr th:only-of-type {\n",
       "        vertical-align: middle;\n",
       "    }\n",
       "\n",
       "    .dataframe tbody tr th {\n",
       "        vertical-align: top;\n",
       "    }\n",
       "\n",
       "    .dataframe thead th {\n",
       "        text-align: right;\n",
       "    }\n",
       "</style>\n",
       "<table border=\"1\" class=\"dataframe\">\n",
       "  <thead>\n",
       "    <tr style=\"text-align: right;\">\n",
       "      <th></th>\n",
       "      <th>rho_p [M]</th>\n",
       "      <th>rho_s [M]</th>\n",
       "      <th>T [C]</th>\n",
       "      <th>rho_p^sup [M]</th>\n",
       "      <th>sigma_p^sup [M]</th>\n",
       "      <th>rho_p^co [M]</th>\n",
       "      <th>sigma_p^co [M]</th>\n",
       "      <th>first author</th>\n",
       "    </tr>\n",
       "  </thead>\n",
       "  <tbody>\n",
       "    <tr>\n",
       "      <th>0</th>\n",
       "      <td>0.3</td>\n",
       "      <td>1.75</td>\n",
       "      <td>5</td>\n",
       "      <td>0.0172</td>\n",
       "      <td>0.0004</td>\n",
       "      <td>1.04</td>\n",
       "      <td>0.04</td>\n",
       "      <td>ali</td>\n",
       "    </tr>\n",
       "    <tr>\n",
       "      <th>1</th>\n",
       "      <td>0.3</td>\n",
       "      <td>1.75</td>\n",
       "      <td>10</td>\n",
       "      <td>0.0168</td>\n",
       "      <td>0.0004</td>\n",
       "      <td>1.16</td>\n",
       "      <td>0.04</td>\n",
       "      <td>ali</td>\n",
       "    </tr>\n",
       "    <tr>\n",
       "      <th>2</th>\n",
       "      <td>0.3</td>\n",
       "      <td>1.75</td>\n",
       "      <td>15</td>\n",
       "      <td>0.0140</td>\n",
       "      <td>0.0004</td>\n",
       "      <td>1.18</td>\n",
       "      <td>0.04</td>\n",
       "      <td>ali</td>\n",
       "    </tr>\n",
       "    <tr>\n",
       "      <th>3</th>\n",
       "      <td>0.3</td>\n",
       "      <td>1.75</td>\n",
       "      <td>20</td>\n",
       "      <td>0.0136</td>\n",
       "      <td>0.0004</td>\n",
       "      <td>1.18</td>\n",
       "      <td>0.04</td>\n",
       "      <td>ali</td>\n",
       "    </tr>\n",
       "    <tr>\n",
       "      <th>4</th>\n",
       "      <td>0.3</td>\n",
       "      <td>1.75</td>\n",
       "      <td>25</td>\n",
       "      <td>0.0130</td>\n",
       "      <td>0.0004</td>\n",
       "      <td>1.30</td>\n",
       "      <td>0.04</td>\n",
       "      <td>ali</td>\n",
       "    </tr>\n",
       "  </tbody>\n",
       "</table>\n",
       "</div>"
      ],
      "text/plain": [
       "   rho_p [M]  rho_s [M]  T [C]  rho_p^sup [M]  sigma_p^sup [M]  rho_p^co [M]  \\\n",
       "0        0.3       1.75      5         0.0172           0.0004          1.04   \n",
       "1        0.3       1.75     10         0.0168           0.0004          1.16   \n",
       "2        0.3       1.75     15         0.0140           0.0004          1.18   \n",
       "3        0.3       1.75     20         0.0136           0.0004          1.18   \n",
       "4        0.3       1.75     25         0.0130           0.0004          1.30   \n",
       "\n",
       "   sigma_p^co [M] first author  \n",
       "0            0.04          ali  \n",
       "1            0.04          ali  \n",
       "2            0.04          ali  \n",
       "3            0.04          ali  \n",
       "4            0.04          ali  "
      ]
     },
     "execution_count": 2,
     "metadata": {},
     "output_type": "execute_result"
    }
   ],
   "source": [
    "# loads experimental data\n",
    "df_exp = pd.read_csv(exp_data_filepath)\n",
    "\n",
    "df_exp.head()"
   ]
  },
  {
   "cell_type": "markdown",
   "metadata": {},
   "source": [
    "### Correct for Errors in Overall Salt and Polymer Concentrations in Data from Ali et al. (2019)\n",
    "\n",
    "Dr. Yuanchi Ma informed me that, in the work by Ali et al. (2019), 1 mol of polymer + 1 L of water was reported as a \"1 mol/L\" solution, whereas he found that 1 mol of polymer + 920 mL of water resulted in a true 1 mol/L solution (1 mol of solute per liter of solution). This indicates that adding 1 mol of polymer to an aqueous solution adds roughly 80 mL of volume.\n",
    "\n",
    "To determine the effect of adding salt on the volume of the solution, we use sea water (NaCl + H2O) as a reference.\n",
    "It is known that sea water has a concentration of NaCl of 0.6 M. The molar mass of NaCl is $M_{NaCl} = M_{Na} + M_{Cl} = 23~\\text{g} + 35.5~\\text{g} = 58.5~\\text{g/mol}$. Consequently, 0.6 mol of NaCl is equivalent to $0.6~\\text{mol} \\times 58.5~\\text{g/mol} \\approx 35~\\text{g}$.\n",
    "\n",
    "The density of sea water is about 1.02 g/mL, so 1 L of sea water has a mass of 1020 g. Of these, we found that 35 g come from the NaCl, so the remaining 985 g come from the water. Water has a density of 1 g/mL, so the water occupies 985 mL (assuming no free volume of mixing). The remaining 15 mL must therefore come from the presence of salt. This makes sense because the density of NaCl is 2.16 g/mL, and 35 g / 15 mL = 2.3 g/mL, indicating that there is negligible volume of mixing.\n",
    "\n",
    "The salt used by Ali et al., KBr, has a density of 2.75 g/mL, so we (hopefully reasonably) assume that its density does not change dramatically upon dissolving in water. The molar mass of KBr is $M_{KBr} = M_{K} + M_{Br} = 39.1~\\text{g} + 79.9~\\text{g} = 119~\\text{g/mol}$."
   ]
  },
  {
   "cell_type": "code",
   "execution_count": 3,
   "metadata": {},
   "outputs": [
    {
     "name": "stderr",
     "output_type": "stream",
     "text": [
      "C:\\Users\\andyl\\OneDrive - California Institute of Technology\\Documents\\Research\\Wang\\complex_coacervate\\salt.py:191: SettingWithCopyWarning:\n",
      "\n",
      "\n",
      "A value is trying to be set on a copy of a slice from a DataFrame.\n",
      "Try using .loc[row_indexer,col_indexer] = value instead\n",
      "\n",
      "See the caveats in the documentation: https://pandas.pydata.org/pandas-docs/stable/user_guide/indexing.html#returning-a-view-versus-a-copy\n",
      "\n",
      "C:\\Users\\andyl\\OneDrive - California Institute of Technology\\Documents\\Research\\Wang\\complex_coacervate\\salt.py:192: SettingWithCopyWarning:\n",
      "\n",
      "\n",
      "A value is trying to be set on a copy of a slice from a DataFrame.\n",
      "Try using .loc[row_indexer,col_indexer] = value instead\n",
      "\n",
      "See the caveats in the documentation: https://pandas.pydata.org/pandas-docs/stable/user_guide/indexing.html#returning-a-view-versus-a-copy\n",
      "\n",
      "C:\\Users\\andyl\\OneDrive - California Institute of Technology\\Documents\\Research\\Wang\\complex_coacervate\\salt.py:194: SettingWithCopyWarning:\n",
      "\n",
      "\n",
      "A value is trying to be set on a copy of a slice from a DataFrame.\n",
      "Try using .loc[row_indexer,col_indexer] = value instead\n",
      "\n",
      "See the caveats in the documentation: https://pandas.pydata.org/pandas-docs/stable/user_guide/indexing.html#returning-a-view-versus-a-copy\n",
      "\n",
      "C:\\Users\\andyl\\OneDrive - California Institute of Technology\\Documents\\Research\\Wang\\complex_coacervate\\salt.py:195: SettingWithCopyWarning:\n",
      "\n",
      "\n",
      "A value is trying to be set on a copy of a slice from a DataFrame.\n",
      "Try using .loc[row_indexer,col_indexer] = value instead\n",
      "\n",
      "See the caveats in the documentation: https://pandas.pydata.org/pandas-docs/stable/user_guide/indexing.html#returning-a-view-versus-a-copy\n",
      "\n"
     ]
    },
    {
     "data": {
      "text/html": [
       "<div>\n",
       "<style scoped>\n",
       "    .dataframe tbody tr th:only-of-type {\n",
       "        vertical-align: middle;\n",
       "    }\n",
       "\n",
       "    .dataframe tbody tr th {\n",
       "        vertical-align: top;\n",
       "    }\n",
       "\n",
       "    .dataframe thead th {\n",
       "        text-align: right;\n",
       "    }\n",
       "</style>\n",
       "<table border=\"1\" class=\"dataframe\">\n",
       "  <thead>\n",
       "    <tr style=\"text-align: right;\">\n",
       "      <th></th>\n",
       "      <th>rho_p [M]</th>\n",
       "      <th>rho_s [M]</th>\n",
       "      <th>T [C]</th>\n",
       "      <th>rho_p^sup [M]</th>\n",
       "      <th>sigma_p^sup [M]</th>\n",
       "      <th>rho_p^co [M]</th>\n",
       "      <th>sigma_p^co [M]</th>\n",
       "      <th>first author</th>\n",
       "      <th>rho_p (conv) [M]</th>\n",
       "      <th>rho_s (conv) [M]</th>\n",
       "    </tr>\n",
       "  </thead>\n",
       "  <tbody>\n",
       "    <tr>\n",
       "      <th>0</th>\n",
       "      <td>0.3</td>\n",
       "      <td>1.75</td>\n",
       "      <td>5</td>\n",
       "      <td>0.0172</td>\n",
       "      <td>0.0004</td>\n",
       "      <td>1.04</td>\n",
       "      <td>0.04</td>\n",
       "      <td>ali</td>\n",
       "      <td>0.27</td>\n",
       "      <td>1.575</td>\n",
       "    </tr>\n",
       "    <tr>\n",
       "      <th>1</th>\n",
       "      <td>0.3</td>\n",
       "      <td>1.75</td>\n",
       "      <td>10</td>\n",
       "      <td>0.0168</td>\n",
       "      <td>0.0004</td>\n",
       "      <td>1.16</td>\n",
       "      <td>0.04</td>\n",
       "      <td>ali</td>\n",
       "      <td>0.27</td>\n",
       "      <td>1.575</td>\n",
       "    </tr>\n",
       "    <tr>\n",
       "      <th>2</th>\n",
       "      <td>0.3</td>\n",
       "      <td>1.75</td>\n",
       "      <td>15</td>\n",
       "      <td>0.0140</td>\n",
       "      <td>0.0004</td>\n",
       "      <td>1.18</td>\n",
       "      <td>0.04</td>\n",
       "      <td>ali</td>\n",
       "      <td>0.27</td>\n",
       "      <td>1.575</td>\n",
       "    </tr>\n",
       "    <tr>\n",
       "      <th>3</th>\n",
       "      <td>0.3</td>\n",
       "      <td>1.75</td>\n",
       "      <td>20</td>\n",
       "      <td>0.0136</td>\n",
       "      <td>0.0004</td>\n",
       "      <td>1.18</td>\n",
       "      <td>0.04</td>\n",
       "      <td>ali</td>\n",
       "      <td>0.27</td>\n",
       "      <td>1.575</td>\n",
       "    </tr>\n",
       "    <tr>\n",
       "      <th>4</th>\n",
       "      <td>0.3</td>\n",
       "      <td>1.75</td>\n",
       "      <td>25</td>\n",
       "      <td>0.0130</td>\n",
       "      <td>0.0004</td>\n",
       "      <td>1.30</td>\n",
       "      <td>0.04</td>\n",
       "      <td>ali</td>\n",
       "      <td>0.27</td>\n",
       "      <td>1.575</td>\n",
       "    </tr>\n",
       "  </tbody>\n",
       "</table>\n",
       "</div>"
      ],
      "text/plain": [
       "   rho_p [M]  rho_s [M]  T [C]  rho_p^sup [M]  sigma_p^sup [M]  rho_p^co [M]  \\\n",
       "0        0.3       1.75      5         0.0172           0.0004          1.04   \n",
       "1        0.3       1.75     10         0.0168           0.0004          1.16   \n",
       "2        0.3       1.75     15         0.0140           0.0004          1.18   \n",
       "3        0.3       1.75     20         0.0136           0.0004          1.18   \n",
       "4        0.3       1.75     25         0.0130           0.0004          1.30   \n",
       "\n",
       "   sigma_p^co [M] first author  rho_p (conv) [M]  rho_s (conv) [M]  \n",
       "0            0.04          ali              0.27             1.575  \n",
       "1            0.04          ali              0.27             1.575  \n",
       "2            0.04          ali              0.27             1.575  \n",
       "3            0.04          ali              0.27             1.575  \n",
       "4            0.04          ali              0.27             1.575  "
      ]
     },
     "execution_count": 3,
     "metadata": {},
     "output_type": "execute_result"
    }
   ],
   "source": [
    "simple_red = 0.9 # bypass complex estimation, simply reduce experimental values by 10%\n",
    "df_exp = salt.df_conv_ali_conc(df_exp, simple_red=simple_red)\n",
    "df_exp.head()"
   ]
  },
  {
   "cell_type": "markdown",
   "metadata": {},
   "source": [
    "## Load Predicted Compositions"
   ]
  },
  {
   "cell_type": "code",
   "execution_count": 4,
   "metadata": {},
   "outputs": [],
   "source": [
    "data_pred = salt.load_data(pred_filepath, naming_structure=naming_structure, ext=ext)"
   ]
  },
  {
   "cell_type": "markdown",
   "metadata": {},
   "source": [
    "## Compute Residual Squared Error for Range of Bead Sizes"
   ]
  },
  {
   "cell_type": "code",
   "execution_count": 7,
   "metadata": {},
   "outputs": [],
   "source": [
    "# include error from supernatant even though all models drastically underestimate its polymer composition?\n",
    "include_sup = True\n",
    "# corrects values from Ali et al. 2019 by accounting for added volume of solute\n",
    "conv_vals = True\n",
    "# fit to a specific author's data? Options are 'ali', 'ma', or list both\n",
    "fit_to = ['ali', 'ma']\n",
    "\n",
    "\n",
    "\n",
    "# restricts fit to only requested datasets\n",
    "fit_condition = None\n",
    "for i, author in enumerate(fit_to):\n",
    "    # initializes condition with first option\n",
    "    if i == 0:\n",
    "        fit_condition = df_exp['first author'] == author\n",
    "    # applies element-wise 'or' (parentheses important!) to combine new and old conditions\n",
    "    else:\n",
    "        fit_condition = (fit_condition) | (df_exp['first author'] == author)\n",
    "        \n",
    "# creates dataframe to use for fit\n",
    "df_fit = df_exp.loc[fit_condition]\n",
    "\n",
    "# initializes dictionary to store residuals\n",
    "res_dict = {}\n",
    "# collects Bjerrum lengths for which there are predictions\n",
    "lB_arr = np.asarray([lB for lB in data_pred.keys()])\n",
    "\n",
    "for sigma in sigma_range:\n",
    "    \n",
    "    # gets conversion factor for mol/L (M)\n",
    "    beads_2_M = pe.get_beads_2_M(sigma)\n",
    "    \n",
    "    res = []\n",
    "    for i in range(len(df_fit)):\n",
    "        rho_p, rho_s, T_exp, rho_p_sup, rho_p_co, err_sup, err_co = salt.read_df_exp(df_fit, i, \n",
    "                                                                     read_sigma=True, conv_vals=conv_vals)\n",
    "        \n",
    "        # computes Bjerrum length for the given temperature\n",
    "        lB = pe.lB_fn(T_exp + 273.15, sigma=sigma*A_2_m)\n",
    "        # finds the closest Bjerrum length in the numerical dataset\n",
    "        i_lB = np.argmin( (lB - lB_arr)**2 )\n",
    "        lB = lB_arr[i_lB]\n",
    "      \n",
    "        # computes the concentrations of supernatant and coacervate phases at given overall composition\n",
    "        # \"pc\" = \"polycation\"\n",
    "        rho_pc_sup_pred, rho_pc_co_pred, _, _, lB_check, _ = salt.fixed_rho_total({lB : data_pred[lB]}, \n",
    "                                                                                rho_p, rho_s, beads_2_M)\n",
    "        # if no prediction available under the given conditions, ignores that data point\n",
    "        if len(lB_check) == 0:\n",
    "            continue\n",
    "        else:\n",
    "            # approximates polyelectrolyte concentration as 2 x polycation concentration\n",
    "            rho_p_sup_pred = 2*rho_pc_sup_pred[0]\n",
    "            rho_p_co_pred = 2*rho_pc_co_pred[0]\n",
    "            lB_check = lB_check[0]\n",
    "           \n",
    "        \n",
    "        assert lB_check == lB, 'Bjerrum lengths do not match'\n",
    "        \n",
    "        # compares prediction with experimental measure to compute residual\n",
    "        res += [include_sup*np.abs( (rho_p_sup_pred - rho_p_sup) / err_sup ) + \\\n",
    "               np.abs( (rho_p_co_pred - rho_p_co) / err_co )]\n",
    "        \n",
    "    # stores residual for the present sigma value\n",
    "    res_dict[sigma] = np.mean(res)    "
   ]
  },
  {
   "cell_type": "markdown",
   "metadata": {},
   "source": [
    "## Select Bead Size with Lowest Residual"
   ]
  },
  {
   "cell_type": "code",
   "execution_count": 8,
   "metadata": {},
   "outputs": [
    {
     "name": "stdout",
     "output_type": "stream",
     "text": [
      "Optimal sigma = 4.310 A, with a residual of 24.14\n"
     ]
    }
   ],
   "source": [
    "res_min = 1E10\n",
    "sigma_opt = 0\n",
    "for sigma, res in res_dict.items():\n",
    "    if res < res_min:\n",
    "        res_min = res\n",
    "        sigma_opt = sigma*A_2_m # converts to [m] from [A]\n",
    "        \n",
    "print('Optimal sigma = {0:.3f} A, with a residual of {1:.2f}'.format(sigma_opt/A_2_m, res_min))\n",
    "\n",
    "# computes conversion based on optimal sigma\n",
    "beads_2_M_opt = pe.get_beads_2_M(sigma_opt, SI=True)"
   ]
  },
  {
   "cell_type": "markdown",
   "metadata": {},
   "source": [
    "## Plot Predictions Alongside Measurements for Validation\n",
    "\n",
    "We first plot the results from Ali et al. 2019 for the effect of salt concentration on the binodal."
   ]
  },
  {
   "cell_type": "code",
   "execution_count": 9,
   "metadata": {},
   "outputs": [
    {
     "name": "stderr",
     "output_type": "stream",
     "text": [
      "C:\\Users\\andyl\\anaconda3\\envs\\py36\\lib\\site-packages\\scipy\\optimize\\minpack.py:175: RuntimeWarning:\n",
      "\n",
      "The iteration is not making good progress, as measured by the \n",
      "  improvement from the last ten iterations.\n",
      "\n",
      "C:\\Users\\andyl\\anaconda3\\envs\\py36\\lib\\site-packages\\scipy\\optimize\\minpack.py:175: RuntimeWarning:\n",
      "\n",
      "The iteration is not making good progress, as measured by the \n",
      "  improvement from the last five Jacobian evaluations.\n",
      "\n"
     ]
    },
    {
     "data": {
      "image/png": "[encoded data removed]",
      "text/plain": [
       "<Figure size 432x288 with 1 Axes>"
      ]
     },
     "metadata": {
      "needs_background": "light"
     },
     "output_type": "display_data"
    }
   ],
   "source": [
    "from importlib import reload\n",
    "reload(plot)\n",
    "\n",
    "# VARY SALT CONCENTRATION (ALI ET AL. 2019 DATA)\n",
    "ch_var = 's' # varies salt\n",
    "rho_s_plot = [1.75, 2, 2.05] #[1.57, 1.78, 1.82]\n",
    "rho_p_plot = 0.3#0.27\n",
    "T_range = [273, 333] # [K]\n",
    "\n",
    "# plot parameters\n",
    "lw=3 # line width for binodals\n",
    "colors = ['#3333ff', '#ff9900', '#e60000']\n",
    "\n",
    "\n",
    "plot.validate_fit(data_pred, df_exp, ch_var, rho_s_plot, rho_p_plot, colors, \n",
    "             beads_2_M_opt, sigma=sigma_opt, T_range=T_range, lw=lw, conv_vals=conv_vals)"
   ]
  },
  {
   "cell_type": "markdown",
   "metadata": {},
   "source": [
    "Now we plot the results from Ma et al. (2021)"
   ]
  },
  {
   "cell_type": "code",
   "execution_count": 10,
   "metadata": {},
   "outputs": [
    {
     "name": "stderr",
     "output_type": "stream",
     "text": [
      "C:\\Users\\andyl\\anaconda3\\envs\\py36\\lib\\site-packages\\scipy\\optimize\\minpack.py:175: RuntimeWarning:\n",
      "\n",
      "The iteration is not making good progress, as measured by the \n",
      "  improvement from the last ten iterations.\n",
      "\n"
     ]
    },
    {
     "data": {
      "image/png": "[encoded data removed]",
      "text/plain": [
       "<Figure size 432x288 with 1 Axes>"
      ]
     },
     "metadata": {
      "needs_background": "light"
     },
     "output_type": "display_data"
    }
   ],
   "source": [
    "ch_var = 'p' # varies polyelectrolyte\n",
    "rho_s_plot = 1.8\n",
    "rho_p_plot = [0.1, 0.2, 0.3]\n",
    "\n",
    "plot.validate_fit(data_pred, df_exp, ch_var, rho_p_plot, rho_s_plot, colors, \n",
    "             beads_2_M_opt, sigma=sigma_opt, T_range=T_range, lw=lw, conv_vals=False)"
   ]
  },
  {
   "cell_type": "code",
   "execution_count": null,
   "metadata": {},
   "outputs": [],
   "source": []
  }
 ],
 "metadata": {
  "kernelspec": {
   "display_name": "Python 3",
   "language": "python",
   "name": "python3"
  },
  "language_info": {
   "codemirror_mode": {
    "name": "ipython",
    "version": 3
   },
   "file_extension": ".py",
   "mimetype": "text/x-python",
   "name": "python",
   "nbconvert_exporter": "python",
   "pygments_lexer": "ipython3",
   "version": "3.6.10"
  }
 },
 "nbformat": 4,
 "nbformat_minor": 4
}

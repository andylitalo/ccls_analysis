{
 "cells": [
  {
   "cell_type": "markdown",
   "metadata": {},
   "source": [
    "# Reformat Voorn-Overbeek Theory Phase Behavior Data from Chris's Wetting-Polymer-Films Package"
   ]
  },
  {
   "cell_type": "code",
   "execution_count": 1,
   "metadata": {},
   "outputs": [],
   "source": [
    "import salt\n",
    "import glob\n",
    "\n",
    "# template for data folders\n",
    "data_folder_template = 'vo/vo_chris/NA(100)NB(100)lB(*)/'\n",
    "\n",
    "# collects list of all data folders following template\n",
    "data_folder_list = glob.glob(data_folder_template)\n",
    "# reformats data to match format of data for Liquid State Theory code (CCLS by Dr. Pengfei Zhang)\n",
    "for data_folder in data_folder_list:\n",
    "    _ = salt.reformat_vo_data(data_folder)"
   ]
  },
  {
   "cell_type": "code",
   "execution_count": null,
   "metadata": {},
   "outputs": [],
   "source": []
  }
 ],
 "metadata": {
  "kernelspec": {
   "display_name": "Python 3",
   "language": "python",
   "name": "python3"
  },
  "language_info": {
   "codemirror_mode": {
    "name": "ipython",
    "version": 3
   },
   "file_extension": ".py",
   "mimetype": "text/x-python",
   "name": "python",
   "nbconvert_exporter": "python",
   "pygments_lexer": "ipython3",
   "version": "3.6.10"
  }
 },
 "nbformat": 4,
 "nbformat_minor": 4
}
